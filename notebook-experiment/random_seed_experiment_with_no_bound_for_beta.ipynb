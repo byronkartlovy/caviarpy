{
 "cells": [
  {
   "cell_type": "markdown",
   "metadata": {},
   "source": [
    "Notice that:\n",
    "- set bounds in optimize() in _quantreg.py"
   ]
  },
  {
   "cell_type": "code",
   "execution_count": 1,
   "metadata": {},
   "outputs": [],
   "source": [
    "import sys\n",
    "sys.path.insert(0, '..')"
   ]
  },
  {
   "cell_type": "code",
   "execution_count": 2,
   "metadata": {},
   "outputs": [],
   "source": [
    "import numpy as np\n",
    "import pandas as pd\n",
    "import yfinance as yf\n",
    "from caviar import CaviarModel\n",
    "from var_tests import binomial_test, kupiec_pof_test, christoffersen_test, traffic_light_test"
   ]
  },
  {
   "cell_type": "code",
   "execution_count": 3,
   "metadata": {},
   "outputs": [
    {
     "name": "stdout",
     "output_type": "stream",
     "text": [
      "[*********************100%***********************]  1 of 1 completed\n"
     ]
    }
   ],
   "source": [
    "while True:\n",
    "    data = yf.download('SPY', start='2001-01-01')\n",
    "    if data.shape[0] > 0:\n",
    "        break"
   ]
  },
  {
   "cell_type": "code",
   "execution_count": 4,
   "metadata": {},
   "outputs": [],
   "source": [
    "log_returns = (data['Close'].apply(np.log).diff() * 100).dropna()\n",
    "in_samples = log_returns[:'2015']\n",
    "out_samples = log_returns['2016':]"
   ]
  },
  {
   "cell_type": "code",
   "execution_count": 5,
   "metadata": {},
   "outputs": [],
   "source": [
    "hit_rate = lambda ret, var: np.mean(ret < var)"
   ]
  },
  {
   "cell_type": "code",
   "execution_count": 6,
   "metadata": {},
   "outputs": [],
   "source": [
    "quantiles = [.05, .01]\n",
    "methods = ['RQ']\n",
    "models = ['adaptive', 'symmetric', 'asymmetric', 'igarch']"
   ]
  },
  {
   "cell_type": "code",
   "execution_count": 7,
   "metadata": {
    "scrolled": true
   },
   "outputs": [
    {
     "name": "stdout",
     "output_type": "stream",
     "text": [
      "Runing quantile: 0.05, model: adaptive, method: numeric\n",
      "Generating 5 best initial betas out of 1000...\n",
      "Optimizing...\n",
      "when m = 1\n",
      "Update 0: 0.15497729458814452\n",
      "Update 1: 0.1281736370861738\n",
      "Update 2: 0.1281736370861738\n",
      "when m = 2\n",
      "Update 0: 0.15504139315438248\n",
      "Update 1: 0.1281736372485638\n",
      "Update 2: 0.1281736372485638\n",
      "when m = 3\n",
      "Update 0: 0.15507238064866646\n",
      "Update 1: 0.12817363710223426\n",
      "Update 2: 0.12817363710223426\n",
      "when m = 4\n",
      "Update 0: 0.15511859920853313\n",
      "Update 1: 0.12817363731535505\n",
      "Update 2: 0.12817363731535505\n",
      "when m = 5\n",
      "Update 0: 0.15529127617223296\n",
      "Update 1: 0.12817363709952684\n",
      "Update 2: 0.12817363709952684\n",
      "Final loss: 0.1281736370861738\n",
      "Time taken(s): 13.57\n",
      "Generating 5 best initial betas out of 1000...\n",
      "Optimizing...\n",
      "when m = 1\n",
      "Update 0: 0.15049673485138362\n",
      "Update 1: 0.14811025582264084\n",
      "Update 2: 0.12817363708969767\n",
      "Update 3: 0.12817363708969767\n",
      "when m = 2\n",
      "Update 0: 0.15184059832294564\n",
      "Update 1: 0.14811025490232707\n",
      "Update 2: 0.1281736370976032\n",
      "Update 3: 0.1281736370976032\n",
      "when m = 3\n",
      "Update 0: 0.15496643545271302\n",
      "Update 1: 0.12817363708775822\n",
      "Update 2: 0.12817363708775822\n",
      "when m = 4\n",
      "Update 0: 0.1552596823341778\n",
      "Update 1: 0.12817363714273716\n",
      "Update 2: 0.12817363714273716\n",
      "when m = 5\n",
      "Update 0: 0.15528884453206437\n",
      "Update 1: 0.1281736370968316\n",
      "Update 2: 0.1281736370968316\n",
      "Final loss: 0.12817363708775822\n",
      "Time taken(s): 15.34\n",
      "Generating 5 best initial betas out of 1000...\n",
      "Optimizing...\n",
      "when m = 1\n",
      "Update 0: 0.15486423704177618\n",
      "Update 1: 0.12817363709368132\n",
      "Update 2: 0.12817363709368132\n",
      "when m = 2\n",
      "Update 0: 0.1549358811665662\n",
      "Update 1: 0.12817363708720655\n",
      "Update 2: 0.12817363708720655\n",
      "when m = 3\n",
      "Update 0: 0.15530162183052576\n",
      "Update 1: 0.12817363711082866\n",
      "Update 2: 0.12817363711082866\n",
      "when m = 4\n",
      "Update 0: 0.15562316873967086\n",
      "Update 1: 0.1281736371303163\n",
      "Update 2: 0.1281736371303163\n",
      "when m = 5\n",
      "Update 0: 0.15567329253095488\n",
      "Update 1: 0.12817363708643856\n",
      "Update 2: 0.12817363708643856\n",
      "Final loss: 0.12817363708643856\n",
      "Time taken(s): 13.29\n",
      "Generating 5 best initial betas out of 1000...\n",
      "Optimizing...\n",
      "when m = 1\n",
      "Update 0: 0.1537265362005848\n",
      "Update 1: 0.14811025742123232\n",
      "Update 2: 0.14811025677473746\n",
      "Update 3: 0.14811025677473746\n",
      "when m = 2\n",
      "Update 0: 0.15488571171065632\n",
      "Update 1: 0.12817363708616467\n",
      "Update 2: 0.12817363708616467\n",
      "when m = 3\n",
      "Update 0: 0.15494378429673986\n",
      "Update 1: 0.1281736370955905\n",
      "Update 2: 0.1281736370955905\n",
      "when m = 4\n",
      "Update 0: 0.1551117790037922\n",
      "Update 1: 0.1281736373710267\n",
      "Update 2: 0.1281736373710267\n",
      "when m = 5\n",
      "Update 0: 0.15514695753877114\n",
      "Update 1: 0.1281736372929636\n",
      "Update 2: 0.1281736372929636\n",
      "Final loss: 0.12817363708616467\n",
      "Time taken(s): 13.69\n",
      "Generating 5 best initial betas out of 1000...\n",
      "Optimizing...\n",
      "when m = 1\n",
      "Update 0: 0.15487262762415385\n",
      "Update 1: 0.128173637086373\n",
      "Update 2: 0.128173637086373\n",
      "when m = 2\n",
      "Update 0: 0.1548849747669936\n",
      "Update 1: 0.12817363708616467\n",
      "Update 2: 0.12817363708616467\n",
      "when m = 3\n",
      "Update 0: 0.15556653213849506\n",
      "Update 1: 0.12817363708632623\n",
      "Update 2: 0.12817363708632623\n",
      "when m = 4\n",
      "Update 0: 0.15568197730007513\n",
      "Update 1: 0.1281736370865187\n",
      "Update 2: 0.1281736370865187\n",
      "when m = 5\n",
      "Update 0: 0.15582431755730106\n",
      "Update 1: 0.12817363715324703\n",
      "Update 2: 0.12817363715324703\n",
      "Final loss: 0.12817363708616467\n",
      "Time taken(s): 13.92\n",
      "Generating 5 best initial betas out of 1000...\n",
      "Optimizing...\n",
      "when m = 1\n",
      "Update 0: 0.15489546117602565\n",
      "Update 1: 0.12817363708701413\n",
      "Update 2: 0.12817363708701413\n",
      "when m = 2\n",
      "Update 0: 0.15499566256216246\n",
      "Update 1: 0.12817363708617388\n",
      "Update 2: 0.12817363708617388\n",
      "when m = 3\n",
      "Update 0: 0.154998389198334\n",
      "Update 1: 0.1281736370863615\n",
      "Update 2: 0.1281736370863615\n",
      "when m = 4\n",
      "Update 0: 0.15499989459834607\n",
      "Update 1: 0.12817363725087103\n",
      "Update 2: 0.12817363725087103\n",
      "when m = 5\n",
      "Update 0: 0.15504684717096992\n",
      "Update 1: 0.12817363725968797\n",
      "Update 2: 0.12817363725968797\n",
      "Final loss: 0.12817363708617388\n",
      "Time taken(s): 14.39\n",
      "Generating 5 best initial betas out of 1000...\n",
      "Optimizing...\n",
      "when m = 1\n",
      "Update 0: 0.14888477053916097\n",
      "Update 1: 0.12817363708844176\n",
      "Update 2: 0.12817363708844176\n",
      "when m = 2\n",
      "Update 0: 0.14927169352818384\n",
      "Update 1: 0.14811025677476639\n",
      "Update 2: 0.14811025677471898\n",
      "when m = 3\n",
      "Update 0: 0.15531858133703708\n",
      "Update 1: 0.12817363709260637\n",
      "Update 2: 0.12817363709260637\n",
      "when m = 4\n",
      "Update 0: 0.15547260479223252\n",
      "Update 1: 0.12817363713062682\n",
      "Update 2: 0.12817363713062682\n",
      "when m = 5\n",
      "Update 0: 0.1555608706814541\n",
      "Update 1: 0.1281736370862624\n",
      "Update 2: 0.1281736370862624\n",
      "Final loss: 0.1281736370862624\n",
      "Time taken(s): 14.37\n",
      "Generating 5 best initial betas out of 1000...\n",
      "Optimizing...\n",
      "when m = 1\n",
      "Update 0: 0.14990711237851007\n",
      "Update 1: 0.1481102532184606\n",
      "Update 2: 0.12817363717507327\n",
      "Update 3: 0.12817363717507327\n",
      "when m = 2\n",
      "Update 0: 0.1534385859514552\n",
      "Update 1: 0.1481102533464692\n",
      "Update 2: 0.12817363708661064\n",
      "Update 3: 0.12817363708661064\n",
      "when m = 3\n",
      "Update 0: 0.15350079688779306\n",
      "Update 1: 0.12817363715274072\n",
      "Update 2: 0.12817363715274072\n",
      "when m = 4\n",
      "Update 0: 0.15516086023688494\n",
      "Update 1: 0.1281736371984386\n",
      "Update 2: 0.1281736371984386\n",
      "when m = 5\n",
      "Update 0: 0.15523249100316058\n",
      "Update 1: 0.12817363710913912\n",
      "Update 2: 0.12817363710913912\n",
      "Final loss: 0.12817363708661064\n",
      "Time taken(s): 15.76\n",
      "Generating 5 best initial betas out of 1000...\n",
      "Optimizing...\n",
      "when m = 1\n",
      "Update 0: 0.1550313763565153\n",
      "Update 1: 0.12817363718658353\n",
      "Update 2: 0.12817363718658353\n",
      "when m = 2\n",
      "Update 0: 0.1552738531748585\n",
      "Update 1: 0.12817363718190475\n",
      "Update 2: 0.12817363718190475\n",
      "when m = 3\n",
      "Update 0: 0.1553576801176831\n",
      "Update 1: 0.12817363709182952\n",
      "Update 2: 0.12817363709182952\n",
      "when m = 4\n",
      "Update 0: 0.15566919454519124\n",
      "Update 1: 0.12817363708640025\n",
      "Update 2: 0.12817363708640025\n",
      "when m = 5\n",
      "Update 0: 0.15709662037598013\n",
      "Update 1: 0.12817363869154375\n",
      "Update 2: 0.12817363755715228\n",
      "Update 3: 0.1281736371086955\n",
      "Update 4: 0.1281736371086955\n",
      "Final loss: 0.12817363708640025\n",
      "Time taken(s): 13.36\n",
      "Generating 5 best initial betas out of 1000...\n",
      "Optimizing...\n",
      "when m = 1\n",
      "Update 0: 0.14852242969748133\n",
      "Update 1: 0.1481102531858122\n",
      "Update 2: 0.12817363733550077\n",
      "Update 3: 0.12817363733550077\n",
      "when m = 2\n",
      "Update 0: 0.15414222236829545\n",
      "Update 1: 0.14811025328347874\n",
      "Update 2: 0.12817363708633864\n",
      "Update 3: 0.12817363708633864\n",
      "when m = 3\n",
      "Update 0: 0.15487815759325535\n",
      "Update 1: 0.1281736370861659\n",
      "Update 2: 0.1281736370861659\n",
      "when m = 4\n",
      "Update 0: 0.15490175028938885\n",
      "Update 1: 0.128173637086945\n",
      "Update 2: 0.128173637086945\n",
      "when m = 5\n",
      "Update 0: 0.15554742997201465\n",
      "Update 1: 0.12817363708621457\n",
      "Update 2: 0.12817363708621457\n",
      "Final loss: 0.1281736370861659\n",
      "Time taken(s): 14.67\n",
      "Generating 5 best initial betas out of 1000...\n",
      "Optimizing...\n",
      "when m = 1\n",
      "Update 0: 0.1551177837544972\n",
      "Update 1: 0.12817363733427317\n",
      "Update 2: 0.12817363733427317\n",
      "when m = 2\n",
      "Update 0: 0.1555050920137676\n",
      "Update 1: 0.12817363723977754\n",
      "Update 2: 0.12817363723977754\n",
      "when m = 3\n",
      "Update 0: 0.1556601616459384\n",
      "Update 1: 0.12817363708635438\n",
      "Update 2: 0.12817363708635438\n",
      "when m = 4\n",
      "Update 0: 0.15582648345516184\n",
      "Update 1: 0.12817363719366048\n",
      "Update 2: 0.12817363719366048\n",
      "when m = 5\n",
      "Update 0: 0.15589107117472162\n",
      "Update 1: 0.12817363717986385\n",
      "Update 2: 0.12817363717986385\n",
      "Final loss: 0.12817363708635438\n",
      "Time taken(s): 13.33\n",
      "Generating 5 best initial betas out of 1000...\n",
      "Optimizing...\n",
      "when m = 1\n",
      "Update 0: 0.15252354737317092\n",
      "Update 1: 0.12817363708832843\n",
      "Update 2: 0.12817363708832843\n",
      "when m = 2\n",
      "Update 0: 0.15508756490917283\n",
      "Update 1: 0.12817363709774232\n",
      "Update 2: 0.12817363709774232\n",
      "when m = 3\n",
      "Update 0: 0.15518258765819595\n",
      "Update 1: 0.12817363708656995\n",
      "Update 2: 0.12817363708656995\n",
      "when m = 4\n",
      "Update 0: 0.1557655038214043\n",
      "Update 1: 0.12817363708620502\n",
      "Update 2: 0.12817363708620502\n",
      "when m = 5\n",
      "Update 0: 0.15647249762766113\n",
      "Update 1: 0.12817363708905838\n",
      "Update 2: 0.12817363708905838\n",
      "Final loss: 0.12817363708620502\n",
      "Time taken(s): 13.95\n",
      "Generating 5 best initial betas out of 1000...\n",
      "Optimizing...\n",
      "when m = 1\n",
      "Update 0: 0.14845840757653728\n",
      "Update 1: 0.12817363708847712\n",
      "Update 2: 0.12817363708847712\n",
      "when m = 2\n",
      "Update 0: 0.15489158341580672\n",
      "Update 1: 0.12817363708723392\n",
      "Update 2: 0.12817363708723392\n",
      "when m = 3\n",
      "Update 0: 0.15508414256002423\n",
      "Update 1: 0.12817363710559337\n",
      "Update 2: 0.12817363710559337\n",
      "when m = 4\n",
      "Update 0: 0.15535869931477853\n",
      "Update 1: 0.12817363709236027\n",
      "Update 2: 0.12817363709236027\n",
      "when m = 5\n",
      "Update 0: 0.15574086538825815\n"
     ]
    },
    {
     "name": "stdout",
     "output_type": "stream",
     "text": [
      "Update 1: 0.1281736373190099\n",
      "Update 2: 0.1281736373190099\n",
      "Final loss: 0.12817363708723392\n",
      "Time taken(s): 13.49\n",
      "Generating 5 best initial betas out of 1000...\n",
      "Optimizing...\n",
      "when m = 1\n",
      "Update 0: 0.1485635838565007\n",
      "Update 1: 0.1281736370861775\n",
      "Update 2: 0.1281736370861775\n",
      "when m = 2\n",
      "Update 0: 0.15345958134320084\n",
      "Update 1: 0.12817363722208902\n",
      "Update 2: 0.12817363722208902\n",
      "when m = 3\n",
      "Update 0: 0.15356027043706008\n",
      "Update 1: 0.14811025677472567\n",
      "Update 2: 0.14811025677472567\n",
      "when m = 4\n",
      "Update 0: 0.15510934048391872\n",
      "Update 1: 0.1281736374504467\n",
      "Update 2: 0.1281736374504467\n",
      "when m = 5\n",
      "Update 0: 0.1555495641365088\n",
      "Update 1: 0.12817363708622392\n",
      "Update 2: 0.12817363708622392\n",
      "Final loss: 0.1281736370861775\n",
      "Time taken(s): 15.50\n",
      "Generating 5 best initial betas out of 1000...\n",
      "Optimizing...\n",
      "when m = 1\n",
      "Update 0: 0.14972300946969472\n",
      "Update 1: 0.1481102567747338\n",
      "Update 2: 0.1481102567747338\n",
      "when m = 2\n",
      "Update 0: 0.15486798207152402\n",
      "Update 1: 0.12817363708743637\n",
      "Update 2: 0.12817363708743637\n",
      "when m = 3\n",
      "Update 0: 0.15502872107451932\n",
      "Update 1: 0.1281736371391536\n",
      "Update 2: 0.1281736371391536\n",
      "when m = 4\n",
      "Update 0: 0.1559823756868671\n",
      "Update 1: 0.1281736370886296\n",
      "Update 2: 0.1281736370886296\n",
      "when m = 5\n",
      "Update 0: 0.15673096091715627\n",
      "Update 1: 0.1281736373821994\n",
      "Update 2: 0.1281736373821994\n",
      "Final loss: 0.12817363708743637\n",
      "Time taken(s): 13.53\n",
      "Generating 5 best initial betas out of 1000...\n",
      "Optimizing...\n",
      "when m = 1\n",
      "Update 0: 0.15050183132300676\n",
      "Update 1: 0.14811025677472323\n",
      "Update 2: 0.14811025677472323\n",
      "when m = 2\n",
      "Update 0: 0.1549306190114013\n",
      "Update 1: 0.1281736370874751\n",
      "Update 2: 0.1281736370874751\n",
      "when m = 3\n",
      "Update 0: 0.15527102745204713\n",
      "Update 1: 0.12817363717243405\n",
      "Update 2: 0.12817363717243405\n",
      "when m = 4\n",
      "Update 0: 0.1554828161393736\n",
      "Update 1: 0.12817363713009908\n",
      "Update 2: 0.12817363713009908\n",
      "when m = 5\n",
      "Update 0: 0.1557501201820867\n",
      "Update 1: 0.12817363708621804\n",
      "Update 2: 0.12817363708621804\n",
      "Final loss: 0.12817363708621804\n",
      "Time taken(s): 13.66\n",
      "Generating 5 best initial betas out of 1000...\n",
      "Optimizing...\n",
      "when m = 1\n",
      "Update 0: 0.15535742940986624\n",
      "Update 1: 0.12817363709160345\n",
      "Update 2: 0.12817363709160345\n",
      "when m = 2\n",
      "Update 0: 0.15540166876709144\n",
      "Update 1: 0.12817363713886382\n",
      "Update 2: 0.12817363713886382\n",
      "when m = 3\n",
      "Update 0: 0.15569036645104406\n",
      "Update 1: 0.12817363708661456\n",
      "Update 2: 0.12817363708661456\n",
      "when m = 4\n",
      "Update 0: 0.1559817349124274\n",
      "Update 1: 0.1281736373489225\n",
      "Update 2: 0.1281736373489225\n",
      "when m = 5\n",
      "Update 0: 0.15598479583945787\n",
      "Update 1: 0.12817363709214585\n",
      "Update 2: 0.12817363709214585\n",
      "Final loss: 0.12817363708661456\n",
      "Time taken(s): 13.30\n",
      "Generating 5 best initial betas out of 1000...\n",
      "Optimizing...\n",
      "when m = 1\n",
      "Update 0: 0.15279426637151172\n",
      "Update 1: 0.14811025309689216\n",
      "Update 2: 0.12817363708898802\n",
      "Update 3: 0.12817363708898802\n",
      "when m = 2\n",
      "Update 0: 0.15367691373341785\n",
      "Update 1: 0.14811025677472128\n",
      "Update 2: 0.14811025677472128\n",
      "when m = 3\n",
      "Update 0: 0.15489842801023998\n",
      "Update 1: 0.12817363708692806\n",
      "Update 2: 0.12817363708692806\n",
      "when m = 4\n",
      "Update 0: 0.1556853717496043\n",
      "Update 1: 0.12817363708654902\n",
      "Update 2: 0.12817363708654902\n",
      "when m = 5\n",
      "Update 0: 0.15582959074151304\n",
      "Update 1: 0.12817363727381167\n",
      "Update 2: 0.12817363727381167\n",
      "Final loss: 0.12817363708654902\n",
      "Time taken(s): 14.35\n",
      "Generating 5 best initial betas out of 1000...\n",
      "Optimizing...\n",
      "when m = 1\n",
      "Update 0: 0.14947028848811147\n",
      "Update 1: 0.14811025412127002\n",
      "Update 2: 0.12817363710111562\n",
      "Update 3: 0.12817363710111562\n",
      "when m = 2\n",
      "Update 0: 0.15534640692507848\n",
      "Update 1: 0.1481102560005631\n",
      "Update 2: 0.12817363725153563\n",
      "Update 3: 0.12817363725153563\n",
      "when m = 3\n",
      "Update 0: 0.15564582955342374\n",
      "Update 1: 0.1281736371923392\n",
      "Update 2: 0.1281736371923392\n",
      "when m = 4\n",
      "Update 0: 0.1564373810422621\n",
      "Update 1: 0.12817363716883112\n",
      "Update 2: 0.12817363716883112\n",
      "when m = 5\n",
      "Update 0: 0.1566573250359301\n",
      "Update 1: 0.1281736373898953\n",
      "Update 2: 0.1281736373898953\n",
      "Final loss: 0.12817363710111562\n",
      "Time taken(s): 14.83\n",
      "Generating 5 best initial betas out of 1000...\n",
      "Optimizing...\n",
      "when m = 1\n",
      "Update 0: 0.15483696156286517\n",
      "Update 1: 0.1281736370944445\n",
      "Update 2: 0.1281736370944445\n",
      "when m = 2\n",
      "Update 0: 0.15496662848493414\n",
      "Update 1: 0.12817363708755558\n",
      "Update 2: 0.12817363708755558\n",
      "when m = 3\n",
      "Update 0: 0.1550779678605451\n",
      "Update 1: 0.1281736370919112\n",
      "Update 2: 0.1281736370919112\n",
      "when m = 4\n",
      "Update 0: 0.1551107290046631\n",
      "Update 1: 0.1481102567747403\n",
      "Update 2: 0.1481102567747403\n",
      "when m = 5\n",
      "Update 0: 0.15549299307859168\n",
      "Update 1: 0.12817363715795635\n",
      "Update 2: 0.12817363715795635\n",
      "Final loss: 0.12817363708755558\n",
      "Time taken(s): 14.46\n",
      "Generating 5 best initial betas out of 1000...\n",
      "Optimizing...\n",
      "when m = 1\n",
      "Update 0: 0.15499414928571068\n",
      "Update 1: 0.1281736370861654\n",
      "Update 2: 0.1281736370861654\n",
      "when m = 2\n",
      "Update 0: 0.1553461179084408\n",
      "Update 1: 0.1281736370876361\n",
      "Update 2: 0.1281736370876361\n",
      "when m = 3\n",
      "Update 0: 0.15541055125931552\n",
      "Update 1: 0.12817363713708693\n",
      "Update 2: 0.12817363713708693\n",
      "when m = 4\n",
      "Update 0: 0.15570834074051568\n",
      "Update 1: 0.12817363708821475\n",
      "Update 2: 0.12817363708821475\n",
      "when m = 5\n",
      "Update 0: 0.15616968240030832\n",
      "Update 1: 0.1481102567747505\n",
      "Update 2: 0.14811025677471887\n",
      "Final loss: 0.1281736370861654\n",
      "Time taken(s): 13.40\n",
      "Generating 5 best initial betas out of 1000...\n",
      "Optimizing...\n",
      "when m = 1\n",
      "Update 0: 0.15519943092906963\n",
      "Update 1: 0.12817363737564189\n",
      "Update 2: 0.12817363737564189\n",
      "when m = 2\n",
      "Update 0: 0.15526880170402543\n",
      "Update 1: 0.1281736371654754\n",
      "Update 2: 0.1281736371654754\n",
      "when m = 3\n",
      "Update 0: 0.15529904642496048\n",
      "Update 1: 0.1281736371072526\n",
      "Update 2: 0.1281736371072526\n",
      "when m = 4\n",
      "Update 0: 0.1553354661463857\n",
      "Update 1: 0.12817363722756653\n",
      "Update 2: 0.12817363722756653\n",
      "when m = 5\n",
      "Update 0: 0.1555525090250566\n",
      "Update 1: 0.12817363708620766\n",
      "Update 2: 0.12817363708620766\n",
      "Final loss: 0.12817363708620766\n",
      "Time taken(s): 12.96\n",
      "Generating 5 best initial betas out of 1000...\n",
      "Optimizing...\n",
      "when m = 1\n",
      "Update 0: 0.15503766232334035\n",
      "Update 1: 0.12817363723359684\n",
      "Update 2: 0.12817363723359684\n",
      "when m = 2\n",
      "Update 0: 0.15530845529733278\n",
      "Update 1: 0.14811025673112702\n",
      "Update 2: 0.12817363709294566\n",
      "Update 3: 0.12817363709294566\n",
      "when m = 3\n",
      "Update 0: 0.15538249302470228\n",
      "Update 1: 0.12817363748628305\n",
      "Update 2: 0.12817363709614074\n",
      "Update 3: 0.12817363709614074\n",
      "when m = 4\n",
      "Update 0: 0.15574167198763406\n",
      "Update 1: 0.12817363731758646\n",
      "Update 2: 0.12817363731758646\n",
      "when m = 5\n",
      "Update 0: 0.15638499752509638\n",
      "Update 1: 0.12817363708800983\n",
      "Update 2: 0.12817363708800983\n",
      "Final loss: 0.12817363708800983\n",
      "Time taken(s): 13.84\n",
      "Generating 5 best initial betas out of 1000...\n",
      "Optimizing...\n",
      "when m = 1\n",
      "Update 0: 0.15490249529734648\n",
      "Update 1: 0.12817363708689378\n",
      "Update 2: 0.12817363708689378\n",
      "when m = 2\n",
      "Update 0: 0.1549107653648032\n",
      "Update 1: 0.1281736370870808\n",
      "Update 2: 0.1281736370870808\n",
      "when m = 3\n",
      "Update 0: 0.15541574379781867\n",
      "Update 1: 0.12817363713623703\n",
      "Update 2: 0.12817363713623703\n",
      "when m = 4\n",
      "Update 0: 0.15553670781144407\n",
      "Update 1: 0.12817363732190015\n",
      "Update 2: 0.12817363732190015\n",
      "when m = 5\n",
      "Update 0: 0.1556024651475993\n",
      "Update 1: 0.12817363713224256\n",
      "Update 2: 0.12817363713224256\n",
      "Final loss: 0.12817363708689378\n",
      "Time taken(s): 13.59\n",
      "Generating 5 best initial betas out of 1000...\n",
      "Optimizing...\n",
      "when m = 1\n",
      "Update 0: 0.14814064292491053\n",
      "Update 1: 0.12817363712569468\n",
      "Update 2: 0.12817363712569468\n",
      "when m = 2\n",
      "Update 0: 0.1552949194695062\n",
      "Update 1: 0.12817363709997778\n",
      "Update 2: 0.12817363709997778\n",
      "when m = 3\n",
      "Update 0: 0.15562166436084357\n",
      "Update 1: 0.12817363713003088\n",
      "Update 2: 0.12817363713003088\n",
      "when m = 4\n",
      "Update 0: 0.1560700058793591\n",
      "Update 1: 0.1281736373419576\n",
      "Update 2: 0.1281736373419576\n",
      "when m = 5\n",
      "Update 0: 0.1562480883598927\n",
      "Update 1: 0.1281736370865611\n",
      "Update 2: 0.1281736370865611\n",
      "Final loss: 0.1281736370865611\n",
      "Time taken(s): 13.42\n",
      "Generating 5 best initial betas out of 1000...\n",
      "Optimizing...\n",
      "when m = 1\n",
      "Update 0: 0.15205829375627503\n",
      "Update 1: 0.14811025521453716\n",
      "Update 2: 0.12817363709916788\n",
      "Update 3: 0.12817363709916788\n",
      "when m = 2\n",
      "Update 0: 0.15497917237159967\n",
      "Update 1: 0.12817363708693194\n",
      "Update 2: 0.12817363708693194\n",
      "when m = 3\n",
      "Update 0: 0.15610599163106276\n",
      "Update 1: 0.1281736371346098\n",
      "Update 2: 0.1281736371346098\n",
      "when m = 4\n",
      "Update 0: 0.1561329969823141\n",
      "Update 1: 0.12817363708702184\n",
      "Update 2: 0.12817363708702184\n",
      "when m = 5\n",
      "Update 0: 0.15621663365307276\n",
      "Update 1: 0.12817363711657695\n",
      "Update 2: 0.12817363711657695\n",
      "Final loss: 0.12817363708693194\n"
     ]
    },
    {
     "name": "stdout",
     "output_type": "stream",
     "text": [
      "Time taken(s): 14.11\n",
      "Generating 5 best initial betas out of 1000...\n",
      "Optimizing...\n",
      "when m = 1\n",
      "Update 0: 0.150372134916996\n",
      "Update 1: 0.14811025595549204\n",
      "Update 2: 0.12817363708626137\n",
      "Update 3: 0.12817363708626137\n",
      "when m = 2\n",
      "Update 0: 0.1547854625018508\n",
      "Update 1: 0.14811025677473505\n",
      "Update 2: 0.14811025677473505\n",
      "when m = 3\n",
      "Update 0: 0.1548571819513718\n",
      "Update 1: 0.1281736370952194\n",
      "Update 2: 0.1281736370952194\n",
      "when m = 4\n",
      "Update 0: 0.154863189812211\n",
      "Update 1: 0.12817363709678078\n",
      "Update 2: 0.12817363709678078\n",
      "when m = 5\n",
      "Update 0: 0.15507671181976307\n",
      "Update 1: 0.1281736370936338\n",
      "Update 2: 0.1281736370936338\n",
      "Final loss: 0.12817363708626137\n",
      "Time taken(s): 13.94\n",
      "Generating 5 best initial betas out of 1000...\n",
      "Optimizing...\n",
      "when m = 1\n",
      "Update 0: 0.15260424901027864\n",
      "Update 1: 0.1481102565370056\n",
      "Update 2: 0.12817363708677548\n",
      "Update 3: 0.12817363708677548\n",
      "when m = 2\n",
      "Update 0: 0.15343561559459515\n",
      "Update 1: 0.14811025573817588\n",
      "Update 2: 0.1281736370864248\n",
      "Update 3: 0.1281736370864248\n",
      "when m = 3\n",
      "Update 0: 0.15514622356674912\n",
      "Update 1: 0.12817363731367531\n",
      "Update 2: 0.12817363731367531\n",
      "when m = 4\n",
      "Update 0: 0.15515355289011665\n",
      "Update 1: 0.12817363733315082\n",
      "Update 2: 0.12817363733315082\n",
      "when m = 5\n",
      "Update 0: 0.15574544791690764\n",
      "Update 1: 0.12817363708622118\n",
      "Update 2: 0.12817363708622118\n",
      "Final loss: 0.12817363708622118\n",
      "Time taken(s): 14.54\n",
      "Generating 5 best initial betas out of 1000...\n",
      "Optimizing...\n",
      "when m = 1\n",
      "Update 0: 0.15425257984135957\n",
      "Update 1: 0.14811025365055472\n",
      "Update 2: 0.12817363708633325\n",
      "Update 3: 0.12817363708633325\n",
      "when m = 2\n",
      "Update 0: 0.15550911196635742\n",
      "Update 1: 0.12817363727697825\n",
      "Update 2: 0.12817363727697825\n",
      "when m = 3\n",
      "Update 0: 0.15562287797576912\n",
      "Update 1: 0.1281736371300039\n",
      "Update 2: 0.1281736371300039\n",
      "when m = 4\n",
      "Update 0: 0.15708667424387732\n",
      "Update 1: 0.12817363709509388\n",
      "Update 2: 0.12817363709509388\n",
      "when m = 5\n",
      "Update 0: 0.15739827881848983\n",
      "Update 1: 0.1281736371105776\n",
      "Update 2: 0.1281736371105776\n",
      "Final loss: 0.12817363708633325\n",
      "Time taken(s): 13.83\n",
      "Generating 5 best initial betas out of 1000...\n",
      "Optimizing...\n",
      "when m = 1\n",
      "Update 0: 0.15038772833063263\n",
      "Update 1: 0.14811025293944327\n",
      "Update 2: 0.12817363709521984\n",
      "Update 3: 0.12817363709521984\n",
      "when m = 2\n",
      "Update 0: 0.15491930417145602\n",
      "Update 1: 0.12817363708776208\n",
      "Update 2: 0.12817363708776208\n",
      "when m = 3\n",
      "Update 0: 0.15539933814308843\n",
      "Update 1: 0.12817363713872257\n",
      "Update 2: 0.12817363713872257\n",
      "when m = 4\n",
      "Update 0: 0.1563727575439914\n",
      "Update 1: 0.128173637086525\n",
      "Update 2: 0.128173637086525\n",
      "when m = 5\n",
      "Update 0: 0.15685871015289476\n",
      "Update 1: 0.1281736370864264\n",
      "Update 2: 0.1281736370864264\n",
      "Final loss: 0.1281736370864264\n",
      "Time taken(s): 13.96\n",
      "Runing quantile: 0.05, model: symmetric, method: numeric\n",
      "Generating 5 best initial betas out of 1000...\n",
      "Optimizing...\n",
      "when m = 1\n",
      "Update 0: 0.4426341877591397\n",
      "Update 1: 0.12672693537853658\n",
      "Update 2: 0.12672693537853658\n",
      "when m = 2\n",
      "Update 0: 0.44550941595612514\n"
     ]
    },
    {
     "name": "stderr",
     "output_type": "stream",
     "text": [
      "D:\\CAViaR-Project\\test\\..\\caviar\\_caviar_function.py:44: RuntimeWarning: overflow encountered in double_scalars\n",
      "  VaRs[t + 1] = b1 + b2 * VaRs[t] + b3 * abs(returns[t])\n",
      "C:\\Users\\Jasper\\anaconda3\\lib\\site-packages\\scipy\\optimize\\_numdiff.py:576: RuntimeWarning: invalid value encountered in subtract\n",
      "  df = fun(x) - f0\n"
     ]
    },
    {
     "name": "stdout",
     "output_type": "stream",
     "text": [
      "Update 1: 0.13748002220634606\n",
      "Update 2: 0.12672693575578098\n",
      "Update 3: 0.12672693575578098\n",
      "when m = 3\n",
      "Update 0: 0.4475087918364353\n",
      "Update 1: 0.14023776715276068\n",
      "Update 2: 0.1267270513284276\n",
      "Update 3: 0.12672705132777376\n",
      "when m = 4\n",
      "Update 0: 0.4549803426051563\n",
      "Update 1: 0.13499667902311616\n",
      "Update 2: 0.13499667902311616\n",
      "when m = 5\n",
      "Update 0: 0.4557633837140782\n",
      "Update 1: 0.13610705751538874\n",
      "Update 2: 0.1267269734313023\n",
      "Update 3: 0.12672697317082668\n",
      "Update 4: 0.12672697316521836\n",
      "Final loss: 0.12672693537853658\n",
      "Time taken(s): 6.80\n"
     ]
    },
    {
     "name": "stderr",
     "output_type": "stream",
     "text": [
      "D:\\CAViaR-Project\\test\\..\\var_tests\\_test.py:76: RuntimeWarning: invalid value encountered in double_scalars\n",
      "  LR_POF = -2 * np.log(numerator / denominator)\n",
      "D:\\CAViaR-Project\\test\\..\\var_tests\\_test.py:111: RuntimeWarning: invalid value encountered in double_scalars\n",
      "  LR_CCI = -2 * np.log(numerator / denominator)\n"
     ]
    },
    {
     "name": "stdout",
     "output_type": "stream",
     "text": [
      "Generating 5 best initial betas out of 1000...\n",
      "Optimizing...\n",
      "when m = 1\n",
      "Update 0: 0.4374538008249836\n",
      "Update 1: 0.13587298428340977\n",
      "Update 2: 0.13587298428340977\n",
      "when m = 2\n",
      "Update 0: 0.448652040814667\n"
     ]
    },
    {
     "name": "stderr",
     "output_type": "stream",
     "text": [
      "D:\\CAViaR-Project\\test\\..\\caviar\\_caviar_function.py:44: RuntimeWarning: overflow encountered in double_scalars\n",
      "  VaRs[t + 1] = b1 + b2 * VaRs[t] + b3 * abs(returns[t])\n",
      "C:\\Users\\Jasper\\anaconda3\\lib\\site-packages\\scipy\\optimize\\_numdiff.py:576: RuntimeWarning: invalid value encountered in subtract\n",
      "  df = fun(x) - f0\n"
     ]
    },
    {
     "name": "stdout",
     "output_type": "stream",
     "text": [
      "Update 1: 0.12672697514579756\n",
      "Update 2: 0.12672697514579756\n",
      "when m = 3\n",
      "Update 0: 0.4758308256817144\n",
      "Update 1: 0.134381009972221\n",
      "Update 2: 0.12672696874866984\n",
      "Update 3: 0.12672696874866984\n",
      "when m = 4\n",
      "Update 0: 0.4840249547585474\n",
      "Update 1: 0.13350290275636847\n",
      "Update 2: 0.12672693435114432\n",
      "Update 3: 0.12672693288673767\n",
      "Update 4: 0.12672693288673767\n",
      "when m = 5\n",
      "Update 0: 0.48740357768171805\n",
      "Update 1: 0.1350765253695319\n",
      "Update 2: 0.1350765253695319\n",
      "Final loss: 0.12672693288673767\n",
      "Time taken(s): 5.85\n",
      "Generating 5 best initial betas out of 1000...\n"
     ]
    },
    {
     "name": "stderr",
     "output_type": "stream",
     "text": [
      "D:\\CAViaR-Project\\test\\..\\var_tests\\_test.py:76: RuntimeWarning: invalid value encountered in double_scalars\n",
      "  LR_POF = -2 * np.log(numerator / denominator)\n",
      "D:\\CAViaR-Project\\test\\..\\var_tests\\_test.py:111: RuntimeWarning: invalid value encountered in double_scalars\n",
      "  LR_CCI = -2 * np.log(numerator / denominator)\n"
     ]
    },
    {
     "name": "stdout",
     "output_type": "stream",
     "text": [
      "Optimizing...\n",
      "when m = 1\n",
      "Update 0: 0.4247926568396069\n",
      "Update 1: 0.13731365178410884\n",
      "Update 2: 0.13731365178410884\n",
      "when m = 2\n",
      "Update 0: 0.42840929565101377\n"
     ]
    },
    {
     "name": "stderr",
     "output_type": "stream",
     "text": [
      "D:\\CAViaR-Project\\test\\..\\caviar\\_caviar_function.py:44: RuntimeWarning: overflow encountered in double_scalars\n",
      "  VaRs[t + 1] = b1 + b2 * VaRs[t] + b3 * abs(returns[t])\n",
      "C:\\Users\\Jasper\\anaconda3\\lib\\site-packages\\scipy\\optimize\\_numdiff.py:576: RuntimeWarning: invalid value encountered in subtract\n",
      "  df = fun(x) - f0\n"
     ]
    },
    {
     "name": "stdout",
     "output_type": "stream",
     "text": [
      "Update 1: 0.12672697801834648\n",
      "Update 2: 0.12672697801834648\n",
      "when m = 3\n",
      "Update 0: 0.4365083604978923\n",
      "Update 1: 0.13416630492526085\n",
      "Update 2: 0.13416630492526085\n",
      "when m = 4\n",
      "Update 0: 0.4504244706884989\n",
      "Update 1: 0.13491306863352168\n",
      "Update 2: 0.13491306863352168\n",
      "when m = 5\n",
      "Update 0: 0.45097629441169645\n",
      "Update 1: 0.13614869960268108\n",
      "Update 2: 0.12672699549403535\n",
      "Update 3: 0.12672699549403535\n",
      "Final loss: 0.12672697801834648\n",
      "Time taken(s): 5.28\n"
     ]
    },
    {
     "name": "stderr",
     "output_type": "stream",
     "text": [
      "D:\\CAViaR-Project\\test\\..\\var_tests\\_test.py:76: RuntimeWarning: invalid value encountered in double_scalars\n",
      "  LR_POF = -2 * np.log(numerator / denominator)\n",
      "D:\\CAViaR-Project\\test\\..\\var_tests\\_test.py:111: RuntimeWarning: invalid value encountered in double_scalars\n",
      "  LR_CCI = -2 * np.log(numerator / denominator)\n"
     ]
    },
    {
     "name": "stdout",
     "output_type": "stream",
     "text": [
      "Generating 5 best initial betas out of 1000...\n",
      "Optimizing...\n",
      "when m = 1\n",
      "Update 0: 0.4798252872222265\n",
      "Update 1: 0.1351200568012821\n"
     ]
    },
    {
     "name": "stderr",
     "output_type": "stream",
     "text": [
      "D:\\CAViaR-Project\\test\\..\\caviar\\_caviar_function.py:44: RuntimeWarning: overflow encountered in double_scalars\n",
      "  VaRs[t + 1] = b1 + b2 * VaRs[t] + b3 * abs(returns[t])\n",
      "C:\\Users\\Jasper\\anaconda3\\lib\\site-packages\\scipy\\optimize\\_numdiff.py:576: RuntimeWarning: invalid value encountered in subtract\n",
      "  df = fun(x) - f0\n"
     ]
    },
    {
     "name": "stdout",
     "output_type": "stream",
     "text": [
      "Update 2: 0.12672698192956922\n",
      "Update 3: 0.12672698192806722\n",
      "when m = 2\n",
      "Update 0: 0.5005837666513787\n",
      "Update 1: 0.13253487992655358\n",
      "Update 2: 0.13253487992655358\n",
      "when m = 3\n",
      "Update 0: 0.5029983533322577\n",
      "Update 1: 0.13111967311000866\n",
      "Update 2: 0.1267269511456614\n",
      "Update 3: 0.12672695100335019\n",
      "Update 4: 0.12672695094148587\n",
      "when m = 4\n",
      "Update 0: 0.5108754253641471\n",
      "Update 1: 0.1267269658559547\n",
      "Update 2: 0.1267269658559547\n",
      "when m = 5\n",
      "Update 0: 0.5335133715882908\n",
      "Update 1: 0.13175386024976435\n",
      "Update 2: 0.13175386024976435\n",
      "Final loss: 0.12672695094148587\n",
      "Time taken(s): 6.37\n",
      "Generating 5 best initial betas out of 1000...\n"
     ]
    },
    {
     "name": "stderr",
     "output_type": "stream",
     "text": [
      "D:\\CAViaR-Project\\test\\..\\var_tests\\_test.py:76: RuntimeWarning: invalid value encountered in double_scalars\n",
      "  LR_POF = -2 * np.log(numerator / denominator)\n",
      "D:\\CAViaR-Project\\test\\..\\var_tests\\_test.py:111: RuntimeWarning: invalid value encountered in double_scalars\n",
      "  LR_CCI = -2 * np.log(numerator / denominator)\n"
     ]
    },
    {
     "name": "stdout",
     "output_type": "stream",
     "text": [
      "Optimizing...\n",
      "when m = 1\n",
      "Update 0: 0.48824716178592026\n",
      "Update 1: 0.13312020554822862\n",
      "Update 2: 0.13312020554822862\n",
      "when m = 2"
     ]
    },
    {
     "name": "stderr",
     "output_type": "stream",
     "text": [
      "D:\\CAViaR-Project\\test\\..\\caviar\\_caviar_function.py:44: RuntimeWarning: overflow encountered in double_scalars\n",
      "  VaRs[t + 1] = b1 + b2 * VaRs[t] + b3 * abs(returns[t])\n",
      "C:\\Users\\Jasper\\anaconda3\\lib\\site-packages\\scipy\\optimize\\_numdiff.py:576: RuntimeWarning: invalid value encountered in subtract\n",
      "  df = fun(x) - f0\n"
     ]
    },
    {
     "name": "stdout",
     "output_type": "stream",
     "text": [
      "\n",
      "Update 0: 0.4989567252738043\n",
      "Update 1: 0.12672693488672582\n",
      "Update 2: 0.12672693488672582\n",
      "when m = 3\n",
      "Update 0: 0.5052654692892293\n",
      "Update 1: 0.1281720790570908\n",
      "Update 2: 0.12672696064340858\n",
      "Update 3: 0.12672696064340858\n",
      "when m = 4\n",
      "Update 0: 0.5077086994348685\n",
      "Update 1: 0.1356326800089833\n",
      "Update 2: 0.1356326800089833\n",
      "when m = 5\n",
      "Update 0: 0.5084515250547343\n",
      "Update 1: 0.13241177013147348\n",
      "Update 2: 0.13241177013147348\n",
      "Final loss: 0.12672693488672582\n",
      "Time taken(s): 5.05\n"
     ]
    },
    {
     "name": "stderr",
     "output_type": "stream",
     "text": [
      "D:\\CAViaR-Project\\test\\..\\var_tests\\_test.py:76: RuntimeWarning: invalid value encountered in double_scalars\n",
      "  LR_POF = -2 * np.log(numerator / denominator)\n",
      "D:\\CAViaR-Project\\test\\..\\var_tests\\_test.py:111: RuntimeWarning: invalid value encountered in double_scalars\n",
      "  LR_CCI = -2 * np.log(numerator / denominator)\n"
     ]
    },
    {
     "name": "stdout",
     "output_type": "stream",
     "text": [
      "Generating 5 best initial betas out of 1000...\n",
      "Optimizing...\n",
      "when m = 1\n",
      "Update 0: 0.44304761674881943\n",
      "Update 1: 0.12672697176466688\n"
     ]
    },
    {
     "name": "stderr",
     "output_type": "stream",
     "text": [
      "D:\\CAViaR-Project\\test\\..\\caviar\\_caviar_function.py:44: RuntimeWarning: overflow encountered in double_scalars\n",
      "  VaRs[t + 1] = b1 + b2 * VaRs[t] + b3 * abs(returns[t])\n",
      "C:\\Users\\Jasper\\anaconda3\\lib\\site-packages\\scipy\\optimize\\_numdiff.py:576: RuntimeWarning: invalid value encountered in subtract\n",
      "  df = fun(x) - f0\n"
     ]
    },
    {
     "name": "stdout",
     "output_type": "stream",
     "text": [
      "Update 2: 0.12672697176466688\n",
      "when m = 2\n",
      "Update 0: 0.46908892324978874\n",
      "Update 1: 0.1407872571969291\n",
      "Update 2: 0.13583975794159178\n",
      "Update 3: 0.1267269386847131\n",
      "Update 4: 0.12672693319882714\n",
      "Update 5: 0.12672693319882714\n",
      "when m = 3\n",
      "Update 0: 0.4741761342052495\n",
      "Update 1: 0.12672705819272043\n",
      "Update 2: 0.12672705819272043\n",
      "when m = 4\n",
      "Update 0: 0.4806979260695186\n",
      "Update 1: 0.13856735606616252\n",
      "Update 2: 0.12672701810539572\n",
      "Update 3: 0.12672701308573353\n",
      "Update 4: 0.12672701307852877\n",
      "when m = 5\n",
      "Update 0: 0.4858994808423791\n",
      "Update 1: 0.1328376861305355\n",
      "Update 2: 0.12672700682465118\n",
      "Update 3: 0.12672700682465118\n",
      "Final loss: 0.12672693319882714\n",
      "Time taken(s): 6.81\n"
     ]
    },
    {
     "name": "stderr",
     "output_type": "stream",
     "text": [
      "D:\\CAViaR-Project\\test\\..\\var_tests\\_test.py:76: RuntimeWarning: invalid value encountered in double_scalars\n",
      "  LR_POF = -2 * np.log(numerator / denominator)\n",
      "D:\\CAViaR-Project\\test\\..\\var_tests\\_test.py:111: RuntimeWarning: invalid value encountered in double_scalars\n",
      "  LR_CCI = -2 * np.log(numerator / denominator)\n"
     ]
    },
    {
     "name": "stdout",
     "output_type": "stream",
     "text": [
      "Generating 5 best initial betas out of 1000...\n",
      "Optimizing...\n",
      "when m = 1\n",
      "Update 0: 0.4617527534267235\n",
      "Update 1: 0.1267270325888508\n",
      "Update 2: 0.1267270318637687\n",
      "Update 3: 0.1267270318637687\n",
      "when m = 2\n",
      "Update 0: 0.4735458102430467\n"
     ]
    },
    {
     "name": "stderr",
     "output_type": "stream",
     "text": [
      "D:\\CAViaR-Project\\test\\..\\caviar\\_caviar_function.py:44: RuntimeWarning: overflow encountered in double_scalars\n",
      "  VaRs[t + 1] = b1 + b2 * VaRs[t] + b3 * abs(returns[t])\n",
      "C:\\Users\\Jasper\\anaconda3\\lib\\site-packages\\scipy\\optimize\\_numdiff.py:576: RuntimeWarning: invalid value encountered in subtract\n",
      "  df = fun(x) - f0\n"
     ]
    },
    {
     "name": "stdout",
     "output_type": "stream",
     "text": [
      "Update 1: 0.12672696427703328\n",
      "Update 2: 0.12672696427703328\n",
      "when m = 3\n",
      "Update 0: 0.4759728895418314\n",
      "Update 1: 0.13535461229453846\n",
      "Update 2: 0.12672698389482726\n",
      "Update 3: 0.12672698389482726\n",
      "when m = 4\n",
      "Update 0: 0.4762131063238967\n",
      "Update 1: 0.12750861493622093\n",
      "Update 2: 0.1267269945957175\n",
      "Update 3: 0.1267269945957175\n",
      "when m = 5\n",
      "Update 0: 0.4766132909263446\n",
      "Update 1: 0.1343242402325067\n",
      "Update 2: 0.1267269966731083\n",
      "Update 3: 0.1267269966731083\n",
      "Final loss: 0.12672696427703328\n",
      "Time taken(s): 6.39\n",
      "Generating 5 best initial betas out of 1000...\n"
     ]
    },
    {
     "name": "stderr",
     "output_type": "stream",
     "text": [
      "D:\\CAViaR-Project\\test\\..\\var_tests\\_test.py:76: RuntimeWarning: invalid value encountered in double_scalars\n",
      "  LR_POF = -2 * np.log(numerator / denominator)\n",
      "D:\\CAViaR-Project\\test\\..\\var_tests\\_test.py:111: RuntimeWarning: invalid value encountered in double_scalars\n",
      "  LR_CCI = -2 * np.log(numerator / denominator)\n"
     ]
    },
    {
     "name": "stdout",
     "output_type": "stream",
     "text": [
      "Optimizing...\n",
      "when m = 1\n",
      "Update 0: 0.43420675005633896\n",
      "Update 1: 0.12672698905774654\n",
      "Update 2: 0.12672698905774657\n",
      "when m = 2\n",
      "Update 0: 0.435949192224382\n",
      "Update 1: 0.1317324526744664\n"
     ]
    },
    {
     "name": "stderr",
     "output_type": "stream",
     "text": [
      "D:\\CAViaR-Project\\test\\..\\caviar\\_caviar_function.py:44: RuntimeWarning: overflow encountered in double_scalars\n",
      "  VaRs[t + 1] = b1 + b2 * VaRs[t] + b3 * abs(returns[t])\n",
      "C:\\Users\\Jasper\\anaconda3\\lib\\site-packages\\scipy\\optimize\\_numdiff.py:576: RuntimeWarning: invalid value encountered in subtract\n",
      "  df = fun(x) - f0\n"
     ]
    },
    {
     "name": "stdout",
     "output_type": "stream",
     "text": [
      "Update 2: 0.1317324526744664\n",
      "when m = 3\n",
      "Update 0: 0.4496699728789536\n",
      "Update 1: 0.12672698813331967\n",
      "Update 2: 0.12672698813331967\n",
      "when m = 4\n",
      "Update 0: 0.46831595928544634\n",
      "Update 1: 0.1318664152344883\n",
      "Update 2: 0.1318664152344883\n",
      "when m = 5\n",
      "Update 0: 0.47261661512500175\n",
      "Update 1: 0.13559487594057718\n",
      "Update 2: 0.13559487594057718\n",
      "Final loss: 0.12672698813331967\n",
      "Time taken(s): 5.20\n",
      "Generating 5 best initial betas out of 1000...\n"
     ]
    },
    {
     "name": "stderr",
     "output_type": "stream",
     "text": [
      "D:\\CAViaR-Project\\test\\..\\var_tests\\_test.py:76: RuntimeWarning: invalid value encountered in double_scalars\n",
      "  LR_POF = -2 * np.log(numerator / denominator)\n",
      "D:\\CAViaR-Project\\test\\..\\var_tests\\_test.py:111: RuntimeWarning: invalid value encountered in double_scalars\n",
      "  LR_CCI = -2 * np.log(numerator / denominator)\n"
     ]
    },
    {
     "name": "stdout",
     "output_type": "stream",
     "text": [
      "Optimizing...\n",
      "when m = 1\n",
      "Update 0: 0.4392305681567101\n",
      "Update 1: 0.13699988379503641\n",
      "Update 2: 0.13699988379503641\n",
      "when m = 2\n",
      "Update 0: 0.4428730803613195\n"
     ]
    },
    {
     "name": "stderr",
     "output_type": "stream",
     "text": [
      "D:\\CAViaR-Project\\test\\..\\caviar\\_caviar_function.py:44: RuntimeWarning: overflow encountered in double_scalars\n",
      "  VaRs[t + 1] = b1 + b2 * VaRs[t] + b3 * abs(returns[t])\n",
      "C:\\Users\\Jasper\\anaconda3\\lib\\site-packages\\scipy\\optimize\\_numdiff.py:576: RuntimeWarning: invalid value encountered in subtract\n",
      "  df = fun(x) - f0\n"
     ]
    },
    {
     "name": "stdout",
     "output_type": "stream",
     "text": [
      "Update 1: 0.12672699294033518\n",
      "Update 2: 0.12672699280607871\n",
      "Update 3: 0.12672699274001495\n",
      "when m = 3\n",
      "Update 0: 0.4430967496160202\n",
      "Update 1: 0.12672694006383176\n",
      "Update 2: 0.12672694006098786\n",
      "when m = 4\n",
      "Update 0: 0.4433811508189407\n",
      "Update 1: 0.13252548813345333\n",
      "Update 2: 0.12672700064807635\n",
      "Update 3: 0.12672700064807635\n",
      "when m = 5\n",
      "Update 0: 0.44552604190090167\n",
      "Update 1: 0.13291153399121\n",
      "Update 2: 0.12672693586085965\n",
      "Update 3: 0.12672693586085965\n",
      "Final loss: 0.12672693586085965\n",
      "Time taken(s): 5.80\n"
     ]
    },
    {
     "name": "stderr",
     "output_type": "stream",
     "text": [
      "D:\\CAViaR-Project\\test\\..\\var_tests\\_test.py:76: RuntimeWarning: invalid value encountered in double_scalars\n",
      "  LR_POF = -2 * np.log(numerator / denominator)\n",
      "D:\\CAViaR-Project\\test\\..\\var_tests\\_test.py:111: RuntimeWarning: invalid value encountered in double_scalars\n",
      "  LR_CCI = -2 * np.log(numerator / denominator)\n"
     ]
    },
    {
     "name": "stdout",
     "output_type": "stream",
     "text": [
      "Generating 5 best initial betas out of 1000...\n",
      "Optimizing...\n",
      "when m = 1\n",
      "Update 0: 0.43836800155083605\n",
      "Update 1: 0.1334176537221773\n",
      "Update 2: 0.1334176537221773\n",
      "when m = 2\n",
      "Update 0: 0.44647138190240854\n"
     ]
    },
    {
     "name": "stderr",
     "output_type": "stream",
     "text": [
      "D:\\CAViaR-Project\\test\\..\\caviar\\_caviar_function.py:44: RuntimeWarning: overflow encountered in double_scalars\n",
      "  VaRs[t + 1] = b1 + b2 * VaRs[t] + b3 * abs(returns[t])\n",
      "C:\\Users\\Jasper\\anaconda3\\lib\\site-packages\\scipy\\optimize\\_numdiff.py:576: RuntimeWarning: invalid value encountered in subtract\n",
      "  df = fun(x) - f0\n"
     ]
    },
    {
     "name": "stdout",
     "output_type": "stream",
     "text": [
      "Update 1: 0.1377779054230362\n",
      "Update 2: 0.1267269360336382\n",
      "Update 3: 0.1267269360336382\n",
      "when m = 3\n",
      "Update 0: 0.46857276775714973\n",
      "Update 1: 0.13494879111712255\n",
      "Update 2: 0.13494879111712255\n",
      "when m = 4\n",
      "Update 0: 0.4740026771261114\n",
      "Update 1: 0.12672697121743495\n",
      "Update 2: 0.12672697121743492\n",
      "when m = 5\n",
      "Update 0: 0.47473606832555815\n",
      "Update 1: 0.13598525386699903\n",
      "Update 2: 0.1276996008427864\n",
      "Update 3: 0.1276996008427864\n",
      "Final loss: 0.1267269360336382\n",
      "Time taken(s): 5.47\n",
      "Generating 5 best initial betas out of 1000...\n"
     ]
    },
    {
     "name": "stderr",
     "output_type": "stream",
     "text": [
      "D:\\CAViaR-Project\\test\\..\\var_tests\\_test.py:76: RuntimeWarning: invalid value encountered in double_scalars\n",
      "  LR_POF = -2 * np.log(numerator / denominator)\n",
      "D:\\CAViaR-Project\\test\\..\\var_tests\\_test.py:111: RuntimeWarning: invalid value encountered in double_scalars\n",
      "  LR_CCI = -2 * np.log(numerator / denominator)\n"
     ]
    },
    {
     "name": "stdout",
     "output_type": "stream",
     "text": [
      "Optimizing...\n",
      "when m = 1\n",
      "Update 0: 0.4304184400499101\n",
      "Update 1: 0.134878692155562\n",
      "Update 2: 0.134878692155562"
     ]
    },
    {
     "name": "stderr",
     "output_type": "stream",
     "text": [
      "D:\\CAViaR-Project\\test\\..\\caviar\\_caviar_function.py:44: RuntimeWarning: overflow encountered in double_scalars\n",
      "  VaRs[t + 1] = b1 + b2 * VaRs[t] + b3 * abs(returns[t])\n",
      "C:\\Users\\Jasper\\anaconda3\\lib\\site-packages\\scipy\\optimize\\_numdiff.py:576: RuntimeWarning: invalid value encountered in subtract\n",
      "  df = fun(x) - f0\n"
     ]
    },
    {
     "name": "stdout",
     "output_type": "stream",
     "text": [
      "\n",
      "when m = 2\n",
      "Update 0: 0.4325422107008512\n",
      "Update 1: 0.13287477769794748\n",
      "Update 2: 0.13287477769794748\n",
      "when m = 3\n",
      "Update 0: 0.45559457242421086\n",
      "Update 1: 0.1409553716221958\n",
      "Update 2: 0.1287409317982502\n",
      "Update 3: 0.1287409317982502\n",
      "when m = 4\n",
      "Update 0: 0.46017278256934296\n",
      "Update 1: 0.12854573901694646\n",
      "Update 2: 0.12854573901694646\n",
      "when m = 5\n",
      "Update 0: 0.472181497726212\n",
      "Update 1: 0.12910199761265753\n",
      "Update 2: 0.12910199761265753\n",
      "Final loss: 0.12854573901694646\n",
      "Time taken(s): 4.38\n",
      "Generating 5 best initial betas out of 1000...\n"
     ]
    },
    {
     "name": "stderr",
     "output_type": "stream",
     "text": [
      "D:\\CAViaR-Project\\test\\..\\var_tests\\_test.py:76: RuntimeWarning: invalid value encountered in double_scalars\n",
      "  LR_POF = -2 * np.log(numerator / denominator)\n",
      "D:\\CAViaR-Project\\test\\..\\var_tests\\_test.py:111: RuntimeWarning: invalid value encountered in double_scalars\n",
      "  LR_CCI = -2 * np.log(numerator / denominator)\n"
     ]
    },
    {
     "name": "stdout",
     "output_type": "stream",
     "text": [
      "Optimizing...\n",
      "when m = 1\n",
      "Update 0: 0.4275222924945887\n",
      "Update 1: 0.13482624485385347\n",
      "Update 2: 0.13482624485385347\n",
      "when m = 2\n",
      "Update 0: 0.4397590947696195\n"
     ]
    },
    {
     "name": "stderr",
     "output_type": "stream",
     "text": [
      "D:\\CAViaR-Project\\test\\..\\caviar\\_caviar_function.py:44: RuntimeWarning: overflow encountered in double_scalars\n",
      "  VaRs[t + 1] = b1 + b2 * VaRs[t] + b3 * abs(returns[t])\n",
      "C:\\Users\\Jasper\\anaconda3\\lib\\site-packages\\scipy\\optimize\\_numdiff.py:576: RuntimeWarning: invalid value encountered in subtract\n",
      "  df = fun(x) - f0\n"
     ]
    },
    {
     "name": "stdout",
     "output_type": "stream",
     "text": [
      "Update 1: 0.12672698179434708\n",
      "Update 2: 0.12672698179434708\n",
      "when m = 3\n",
      "Update 0: 0.44059752440585404\n",
      "Update 1: 0.13670838055309573\n",
      "Update 2: 0.13670838055309573\n",
      "when m = 4\n",
      "Update 0: 0.44114402652904555\n",
      "Update 1: 0.1394635453466769\n",
      "Update 2: 0.1394635453466769\n",
      "when m = 5\n",
      "Update 0: 0.4479222448889759\n",
      "Update 1: 0.12672697516174272\n",
      "Update 2: 0.12672697516174275\n",
      "Final loss: 0.12672697516174272\n",
      "Time taken(s): 5.12\n"
     ]
    },
    {
     "name": "stderr",
     "output_type": "stream",
     "text": [
      "D:\\CAViaR-Project\\test\\..\\var_tests\\_test.py:76: RuntimeWarning: invalid value encountered in double_scalars\n",
      "  LR_POF = -2 * np.log(numerator / denominator)\n",
      "D:\\CAViaR-Project\\test\\..\\var_tests\\_test.py:111: RuntimeWarning: invalid value encountered in double_scalars\n",
      "  LR_CCI = -2 * np.log(numerator / denominator)\n"
     ]
    },
    {
     "name": "stdout",
     "output_type": "stream",
     "text": [
      "Generating 5 best initial betas out of 1000...\n",
      "Optimizing...\n",
      "when m = 1\n",
      "Update 0: 0.44969441146856975\n",
      "Update 1: 0.13559447969603447\n"
     ]
    },
    {
     "name": "stderr",
     "output_type": "stream",
     "text": [
      "D:\\CAViaR-Project\\test\\..\\caviar\\_caviar_function.py:44: RuntimeWarning: overflow encountered in double_scalars\n",
      "  VaRs[t + 1] = b1 + b2 * VaRs[t] + b3 * abs(returns[t])\n",
      "C:\\Users\\Jasper\\anaconda3\\lib\\site-packages\\scipy\\optimize\\_numdiff.py:576: RuntimeWarning: invalid value encountered in subtract\n",
      "  df = fun(x) - f0\n"
     ]
    },
    {
     "name": "stdout",
     "output_type": "stream",
     "text": [
      "Update 2: 0.12672699589398645\n",
      "Update 3: 0.12672699589398645\n",
      "when m = 2\n",
      "Update 0: 0.45220907672352606\n",
      "Update 1: 0.13135339819531605\n",
      "Update 2: 0.13135339819531605\n",
      "when m = 3\n",
      "Update 0: 0.45550722858508635\n",
      "Update 1: 0.12672693562441661\n",
      "Update 2: 0.1267269355990666\n",
      "when m = 4\n",
      "Update 0: 0.45746232697766886\n",
      "Update 1: 0.13567262712204908\n",
      "Update 2: 0.13567262712204908\n",
      "when m = 5\n",
      "Update 0: 0.463766408012164\n",
      "Update 1: 0.12672699613798097\n",
      "Update 2: 0.12672699613798097\n",
      "Final loss: 0.1267269355990666\n",
      "Time taken(s): 5.63\n",
      "Generating 5 best initial betas out of 1000...\n"
     ]
    },
    {
     "name": "stderr",
     "output_type": "stream",
     "text": [
      "D:\\CAViaR-Project\\test\\..\\var_tests\\_test.py:76: RuntimeWarning: invalid value encountered in double_scalars\n",
      "  LR_POF = -2 * np.log(numerator / denominator)\n",
      "D:\\CAViaR-Project\\test\\..\\var_tests\\_test.py:111: RuntimeWarning: invalid value encountered in double_scalars\n",
      "  LR_CCI = -2 * np.log(numerator / denominator)\n"
     ]
    },
    {
     "name": "stdout",
     "output_type": "stream",
     "text": [
      "Optimizing...\n",
      "when m = 1\n",
      "Update 0: 0.4450526478377322\n",
      "Update 1: 0.13576819262388073\n",
      "Update 2: 0.13576819262388073\n",
      "when m = 2\n",
      "Update 0: 0.44885619081805483\n",
      "Update 1: 0.13791435570668728\n"
     ]
    },
    {
     "name": "stderr",
     "output_type": "stream",
     "text": [
      "D:\\CAViaR-Project\\test\\..\\caviar\\_caviar_function.py:44: RuntimeWarning: overflow encountered in double_scalars\n",
      "  VaRs[t + 1] = b1 + b2 * VaRs[t] + b3 * abs(returns[t])\n",
      "C:\\Users\\Jasper\\anaconda3\\lib\\site-packages\\scipy\\optimize\\_numdiff.py:576: RuntimeWarning: invalid value encountered in subtract\n",
      "  df = fun(x) - f0\n"
     ]
    },
    {
     "name": "stdout",
     "output_type": "stream",
     "text": [
      "Update 2: 0.13295652476936723\n",
      "Update 3: 0.12672694273071022\n",
      "Update 4: 0.12672694273071022\n",
      "when m = 3\n",
      "Update 0: 0.44900167802335733\n",
      "Update 1: 0.13711218297059777\n",
      "Update 2: 0.12672697558753243\n",
      "Update 3: 0.12672697558753243\n",
      "when m = 4\n",
      "Update 0: 0.4610931547735259\n",
      "Update 1: 0.13343824294241455\n",
      "Update 2: 0.13343824294241455\n",
      "when m = 5\n",
      "Update 0: 0.4772085524697253\n",
      "Update 1: 0.1357784550263321\n",
      "Update 2: 0.1357784550263321\n",
      "Final loss: 0.12672694273071022\n",
      "Time taken(s): 5.18\n",
      "Generating 5 best initial betas out of 1000...\n"
     ]
    },
    {
     "name": "stderr",
     "output_type": "stream",
     "text": [
      "D:\\CAViaR-Project\\test\\..\\var_tests\\_test.py:76: RuntimeWarning: invalid value encountered in double_scalars\n",
      "  LR_POF = -2 * np.log(numerator / denominator)\n",
      "D:\\CAViaR-Project\\test\\..\\var_tests\\_test.py:111: RuntimeWarning: invalid value encountered in double_scalars\n",
      "  LR_CCI = -2 * np.log(numerator / denominator)\n"
     ]
    },
    {
     "name": "stdout",
     "output_type": "stream",
     "text": [
      "Optimizing...\n",
      "when m = 1\n",
      "Update 0: 0.4377288355590438\n",
      "Update 1: 0.13787292320109215\n",
      "Update 2: 0.13787292320109215\n",
      "when m = 2\n",
      "Update 0: 0.4481389090347204\n"
     ]
    },
    {
     "name": "stderr",
     "output_type": "stream",
     "text": [
      "D:\\CAViaR-Project\\test\\..\\caviar\\_caviar_function.py:44: RuntimeWarning: overflow encountered in double_scalars\n",
      "  VaRs[t + 1] = b1 + b2 * VaRs[t] + b3 * abs(returns[t])\n",
      "D:\\CAViaR-Project\\test\\..\\caviar\\_caviar_model.py:97: RuntimeWarning: overflow encountered in matmul\n",
      "  return residuals @ hit / T\n",
      "C:\\Users\\Jasper\\anaconda3\\lib\\site-packages\\scipy\\optimize\\_numdiff.py:576: RuntimeWarning: invalid value encountered in subtract\n",
      "  df = fun(x) - f0\n"
     ]
    },
    {
     "name": "stdout",
     "output_type": "stream",
     "text": [
      "Update 1: 0.12672698051154385\n",
      "Update 2: 0.12672698051154385\n",
      "when m = 3\n",
      "Update 0: 0.45233321869622134\n",
      "Update 1: 0.12672696893220217\n",
      "Update 2: 0.12672696893097687\n",
      "when m = 4\n",
      "Update 0: 0.4762377262531558\n",
      "Update 1: 0.12672698131615678\n",
      "Update 2: 0.12672698131615678\n",
      "when m = 5\n",
      "Update 0: 0.48057603025328205\n",
      "Update 1: 0.13045944055100434\n",
      "Update 2: 0.12672702317618686\n",
      "Update 3: 0.12672702317618686\n",
      "Final loss: 0.12672696893097687\n",
      "Time taken(s): 5.91\n",
      "Generating 5 best initial betas out of 1000...\n"
     ]
    },
    {
     "name": "stderr",
     "output_type": "stream",
     "text": [
      "D:\\CAViaR-Project\\test\\..\\var_tests\\_test.py:76: RuntimeWarning: invalid value encountered in double_scalars\n",
      "  LR_POF = -2 * np.log(numerator / denominator)\n",
      "D:\\CAViaR-Project\\test\\..\\var_tests\\_test.py:111: RuntimeWarning: invalid value encountered in double_scalars\n",
      "  LR_CCI = -2 * np.log(numerator / denominator)\n"
     ]
    },
    {
     "name": "stdout",
     "output_type": "stream",
     "text": [
      "Optimizing...\n",
      "when m = 1\n",
      "Update 0: 0.44069222585803575\n",
      "Update 1: 0.13174792354235654\n",
      "Update 2: 0.13174792354235654\n",
      "when m = 2\n",
      "Update 0: 0.4666451296715908\n"
     ]
    },
    {
     "name": "stderr",
     "output_type": "stream",
     "text": [
      "D:\\CAViaR-Project\\test\\..\\caviar\\_caviar_function.py:44: RuntimeWarning: overflow encountered in double_scalars\n",
      "  VaRs[t + 1] = b1 + b2 * VaRs[t] + b3 * abs(returns[t])\n",
      "C:\\Users\\Jasper\\anaconda3\\lib\\site-packages\\scipy\\optimize\\_numdiff.py:576: RuntimeWarning: invalid value encountered in subtract\n",
      "  df = fun(x) - f0\n"
     ]
    },
    {
     "name": "stdout",
     "output_type": "stream",
     "text": [
      "Update 1: 0.13235536654578176\n",
      "Update 2: 0.13235536654578176\n",
      "when m = 3\n",
      "Update 0: 0.47115455845628673\n",
      "Update 1: 0.12672696792477214\n",
      "Update 2: 0.12672696745241585\n",
      "Update 3: 0.1267269674263441\n",
      "when m = 4\n",
      "Update 0: 0.48415952193569406\n",
      "Update 1: 0.13211142661394643\n",
      "Update 2: 0.12672696754906376\n",
      "Update 3: 0.12672696754906376\n",
      "when m = 5\n",
      "Update 0: 0.4864037644234176\n",
      "Update 1: 0.1267269357942468\n",
      "Update 2: 0.1267269357942468\n",
      "Final loss: 0.1267269357942468\n",
      "Time taken(s): 5.83\n",
      "Generating 5 best initial betas out of 1000...\n"
     ]
    },
    {
     "name": "stderr",
     "output_type": "stream",
     "text": [
      "D:\\CAViaR-Project\\test\\..\\var_tests\\_test.py:76: RuntimeWarning: invalid value encountered in double_scalars\n",
      "  LR_POF = -2 * np.log(numerator / denominator)\n",
      "D:\\CAViaR-Project\\test\\..\\var_tests\\_test.py:111: RuntimeWarning: invalid value encountered in double_scalars\n",
      "  LR_CCI = -2 * np.log(numerator / denominator)\n"
     ]
    },
    {
     "name": "stdout",
     "output_type": "stream",
     "text": [
      "Optimizing...\n",
      "when m = 1\n",
      "Update 0: 0.4231880150157382\n",
      "Update 1: 0.13413230392077294\n",
      "Update 2: 0.13413230392077294\n",
      "when m = 2\n",
      "Update 0: 0.4442902541995026\n"
     ]
    },
    {
     "name": "stderr",
     "output_type": "stream",
     "text": [
      "D:\\CAViaR-Project\\test\\..\\caviar\\_caviar_function.py:44: RuntimeWarning: overflow encountered in double_scalars\n",
      "  VaRs[t + 1] = b1 + b2 * VaRs[t] + b3 * abs(returns[t])\n",
      "C:\\Users\\Jasper\\anaconda3\\lib\\site-packages\\scipy\\optimize\\_numdiff.py:576: RuntimeWarning: invalid value encountered in subtract\n",
      "  df = fun(x) - f0\n"
     ]
    },
    {
     "name": "stdout",
     "output_type": "stream",
     "text": [
      "Update 1: 0.12970154484279667\n",
      "Update 2: 0.1267270112009562\n",
      "Update 3: 0.1267270112009562\n",
      "when m = 3\n",
      "Update 0: 0.4630064621943682\n",
      "Update 1: 0.12672697290323948\n",
      "Update 2: 0.12672697290323948\n",
      "when m = 4\n",
      "Update 0: 0.47384911913766237\n",
      "Update 1: 0.128505179142817\n",
      "Update 2: 0.12672693767660925\n",
      "Update 3: 0.12672693767660925\n",
      "when m = 5\n",
      "Update 0: 0.47624109409900056\n",
      "Update 1: 0.13728524463395925\n",
      "Update 2: 0.12672698132756333\n",
      "Update 3: 0.12672698132756333\n",
      "Final loss: 0.12672693767660925\n",
      "Time taken(s): 6.17\n"
     ]
    },
    {
     "name": "stderr",
     "output_type": "stream",
     "text": [
      "D:\\CAViaR-Project\\test\\..\\var_tests\\_test.py:76: RuntimeWarning: invalid value encountered in double_scalars\n",
      "  LR_POF = -2 * np.log(numerator / denominator)\n",
      "D:\\CAViaR-Project\\test\\..\\var_tests\\_test.py:111: RuntimeWarning: invalid value encountered in double_scalars\n",
      "  LR_CCI = -2 * np.log(numerator / denominator)\n"
     ]
    },
    {
     "name": "stdout",
     "output_type": "stream",
     "text": [
      "Generating 5 best initial betas out of 1000...\n",
      "Optimizing...\n",
      "when m = 1\n",
      "Update 0: 0.4615703184581531\n",
      "Update 1: 0.13323232238865718\n"
     ]
    },
    {
     "name": "stderr",
     "output_type": "stream",
     "text": [
      "D:\\CAViaR-Project\\test\\..\\caviar\\_caviar_function.py:44: RuntimeWarning: overflow encountered in double_scalars\n",
      "  VaRs[t + 1] = b1 + b2 * VaRs[t] + b3 * abs(returns[t])\n",
      "C:\\Users\\Jasper\\anaconda3\\lib\\site-packages\\scipy\\optimize\\_numdiff.py:576: RuntimeWarning: invalid value encountered in subtract\n",
      "  df = fun(x) - f0\n"
     ]
    },
    {
     "name": "stdout",
     "output_type": "stream",
     "text": [
      "Update 2: 0.126726933704383\n",
      "Update 3: 0.126726933704383\n",
      "when m = 2\n",
      "Update 0: 0.46263498834937067\n",
      "Update 1: 0.12672693701148527\n",
      "Update 2: 0.12672693701148527\n",
      "when m = 3\n",
      "Update 0: 0.48619035777233605\n",
      "Update 1: 0.12997275900629404\n",
      "Update 2: 0.12997275900629404\n",
      "when m = 4\n",
      "Update 0: 0.49384839230580535\n",
      "Update 1: 0.13206072553407958\n",
      "Update 2: 0.12672760779069742\n",
      "Update 3: 0.12672748390809996\n",
      "Update 4: 0.1267274839081\n",
      "when m = 5\n",
      "Update 0: 0.5019874196135841\n",
      "Update 1: 0.1341570015482455\n",
      "Update 2: 0.1341570015482455\n",
      "Final loss: 0.126726933704383\n",
      "Time taken(s): 6.12\n",
      "Generating 5 best initial betas out of 1000...\n"
     ]
    },
    {
     "name": "stderr",
     "output_type": "stream",
     "text": [
      "D:\\CAViaR-Project\\test\\..\\var_tests\\_test.py:76: RuntimeWarning: invalid value encountered in double_scalars\n",
      "  LR_POF = -2 * np.log(numerator / denominator)\n",
      "D:\\CAViaR-Project\\test\\..\\var_tests\\_test.py:111: RuntimeWarning: invalid value encountered in double_scalars\n",
      "  LR_CCI = -2 * np.log(numerator / denominator)\n"
     ]
    },
    {
     "name": "stdout",
     "output_type": "stream",
     "text": [
      "Optimizing...\n",
      "when m = 1\n",
      "Update 0: 0.45184065266502477\n",
      "Update 1: 0.12895568604633934\n"
     ]
    },
    {
     "name": "stderr",
     "output_type": "stream",
     "text": [
      "D:\\CAViaR-Project\\test\\..\\caviar\\_caviar_function.py:44: RuntimeWarning: overflow encountered in double_scalars\n",
      "  VaRs[t + 1] = b1 + b2 * VaRs[t] + b3 * abs(returns[t])\n",
      "C:\\Users\\Jasper\\anaconda3\\lib\\site-packages\\scipy\\optimize\\_numdiff.py:576: RuntimeWarning: invalid value encountered in subtract\n",
      "  df = fun(x) - f0\n"
     ]
    },
    {
     "name": "stdout",
     "output_type": "stream",
     "text": [
      "Update 2: 0.1267269442421609\n",
      "Update 3: 0.1267269442421609\n",
      "when m = 2\n",
      "Update 0: 0.4543554299902665\n",
      "Update 1: 0.13655600667380877\n",
      "Update 2: 0.12672701906252273\n",
      "Update 3: 0.12672701906252273\n",
      "when m = 3\n",
      "Update 0: 0.48673916502452086\n",
      "Update 1: 0.1328835254093042\n",
      "Update 2: 0.1328835254093042\n",
      "when m = 4\n",
      "Update 0: 0.4957916948418619\n",
      "Update 1: 0.13083088067893675\n",
      "Update 2: 0.13083088067893675\n",
      "when m = 5\n",
      "Update 0: 0.4970359362188796\n",
      "Update 1: 0.1334289770465558\n",
      "Update 2: 0.1334289770465558\n",
      "Final loss: 0.1267269442421609\n",
      "Time taken(s): 5.38\n"
     ]
    },
    {
     "name": "stderr",
     "output_type": "stream",
     "text": [
      "D:\\CAViaR-Project\\test\\..\\var_tests\\_test.py:76: RuntimeWarning: invalid value encountered in double_scalars\n",
      "  LR_POF = -2 * np.log(numerator / denominator)\n",
      "D:\\CAViaR-Project\\test\\..\\var_tests\\_test.py:111: RuntimeWarning: invalid value encountered in double_scalars\n",
      "  LR_CCI = -2 * np.log(numerator / denominator)\n"
     ]
    },
    {
     "name": "stdout",
     "output_type": "stream",
     "text": [
      "Generating 5 best initial betas out of 1000...\n",
      "Optimizing...\n",
      "when m = 1\n",
      "Update 0: 0.4303877917196392\n",
      "Update 1: 0.12672694307435023\n",
      "Update 2: 0.12672694307435023\n",
      "when m = 2\n",
      "Update 0: 0.44384344187841707\n"
     ]
    },
    {
     "name": "stderr",
     "output_type": "stream",
     "text": [
      "D:\\CAViaR-Project\\test\\..\\caviar\\_caviar_function.py:44: RuntimeWarning: overflow encountered in double_scalars\n",
      "  VaRs[t + 1] = b1 + b2 * VaRs[t] + b3 * abs(returns[t])\n",
      "C:\\Users\\Jasper\\anaconda3\\lib\\site-packages\\scipy\\optimize\\_numdiff.py:576: RuntimeWarning: invalid value encountered in subtract\n",
      "  df = fun(x) - f0\n"
     ]
    },
    {
     "name": "stdout",
     "output_type": "stream",
     "text": [
      "Update 1: 0.12672697925501572\n",
      "Update 2: 0.1267269792550157\n",
      "when m = 3\n",
      "Update 0: 0.4574050900239477\n",
      "Update 1: 0.13449288061147127\n",
      "Update 2: 0.13449288061147127\n",
      "when m = 4\n",
      "Update 0: 0.458748844772394\n",
      "Update 1: 0.12672698520698697\n",
      "Update 2: 0.12672698520698697\n",
      "when m = 5\n",
      "Update 0: 0.47966412323818275\n",
      "Update 1: 0.12672700312586255\n",
      "Update 2: 0.12672700312586255\n",
      "Final loss: 0.12672694307435023\n",
      "Time taken(s): 5.94\n"
     ]
    },
    {
     "name": "stderr",
     "output_type": "stream",
     "text": [
      "D:\\CAViaR-Project\\test\\..\\var_tests\\_test.py:76: RuntimeWarning: invalid value encountered in double_scalars\n",
      "  LR_POF = -2 * np.log(numerator / denominator)\n",
      "D:\\CAViaR-Project\\test\\..\\var_tests\\_test.py:111: RuntimeWarning: invalid value encountered in double_scalars\n",
      "  LR_CCI = -2 * np.log(numerator / denominator)\n"
     ]
    },
    {
     "name": "stdout",
     "output_type": "stream",
     "text": [
      "Generating 5 best initial betas out of 1000...\n",
      "Optimizing...\n",
      "when m = 1\n",
      "Update 0: 0.422865563713787\n",
      "Update 1: 0.13536893895658517\n",
      "Update 2: 0.13536893895658517\n",
      "when m = 2\n",
      "Update 0: 0.42729373629953643\n"
     ]
    },
    {
     "name": "stderr",
     "output_type": "stream",
     "text": [
      "D:\\CAViaR-Project\\test\\..\\caviar\\_caviar_function.py:44: RuntimeWarning: overflow encountered in double_scalars\n",
      "  VaRs[t + 1] = b1 + b2 * VaRs[t] + b3 * abs(returns[t])\n",
      "C:\\Users\\Jasper\\anaconda3\\lib\\site-packages\\scipy\\optimize\\_numdiff.py:576: RuntimeWarning: invalid value encountered in subtract\n",
      "  df = fun(x) - f0\n"
     ]
    },
    {
     "name": "stdout",
     "output_type": "stream",
     "text": [
      "Update 1: 0.1368023541002634\n",
      "Update 2: 0.12672697547456002\n",
      "Update 3: 0.1267269754711142\n",
      "when m = 3\n",
      "Update 0: 0.42864484656369645\n",
      "Update 1: 0.131862002057065\n",
      "Update 2: 0.1267270083675191\n",
      "Update 3: 0.12672700836751913\n",
      "when m = 4\n",
      "Update 0: 0.4814766585724256\n",
      "Update 1: 0.13463716627917852\n",
      "Update 2: 0.12672698105881824\n",
      "Update 3: 0.12672697736364893\n",
      "Update 4: 0.1267269773571755\n",
      "when m = 5\n",
      "Update 0: 0.4818928310239468\n",
      "Update 1: 0.12672693577083122\n",
      "Update 2: 0.12672693577083122\n",
      "Final loss: 0.12672693577083122\n",
      "Time taken(s): 6.40\n"
     ]
    },
    {
     "name": "stderr",
     "output_type": "stream",
     "text": [
      "D:\\CAViaR-Project\\test\\..\\var_tests\\_test.py:76: RuntimeWarning: invalid value encountered in double_scalars\n",
      "  LR_POF = -2 * np.log(numerator / denominator)\n",
      "D:\\CAViaR-Project\\test\\..\\var_tests\\_test.py:111: RuntimeWarning: invalid value encountered in double_scalars\n",
      "  LR_CCI = -2 * np.log(numerator / denominator)\n"
     ]
    },
    {
     "name": "stdout",
     "output_type": "stream",
     "text": [
      "Generating 5 best initial betas out of 1000...\n",
      "Optimizing...\n",
      "when m = 1\n",
      "Update 0: 0.4162484515670242\n",
      "Update 1: 0.12672694172872928\n",
      "Update 2: 0.12672694172872928\n",
      "when m = 2\n",
      "Update 0: 0.4589113224398866\n",
      "Update 1: 0.13814673679189032\n",
      "Update 2: "
     ]
    },
    {
     "name": "stderr",
     "output_type": "stream",
     "text": [
      "D:\\CAViaR-Project\\test\\..\\caviar\\_caviar_function.py:44: RuntimeWarning: overflow encountered in double_scalars\n",
      "  VaRs[t + 1] = b1 + b2 * VaRs[t] + b3 * abs(returns[t])\n",
      "C:\\Users\\Jasper\\anaconda3\\lib\\site-packages\\scipy\\optimize\\_numdiff.py:576: RuntimeWarning: invalid value encountered in subtract\n",
      "  df = fun(x) - f0\n"
     ]
    },
    {
     "name": "stdout",
     "output_type": "stream",
     "text": [
      "0.13814673679189032\n",
      "when m = 3\n",
      "Update 0: 0.45921564502848156\n",
      "Update 1: 0.12672698391700393\n",
      "Update 2: 0.12672698391700393\n",
      "when m = 4\n",
      "Update 0: 0.47347584827790323\n",
      "Update 1: 0.13723996851059928\n",
      "Update 2: 0.13723996851059928\n",
      "when m = 5\n",
      "Update 0: 0.4774333311132203\n",
      "Update 1: 0.1307582300222943\n",
      "Update 2: 0.1307582300222943\n",
      "Final loss: 0.12672694172872928\n",
      "Time taken(s): 4.96\n",
      "Generating 5 best initial betas out of 1000...\n"
     ]
    },
    {
     "name": "stderr",
     "output_type": "stream",
     "text": [
      "D:\\CAViaR-Project\\test\\..\\var_tests\\_test.py:76: RuntimeWarning: invalid value encountered in double_scalars\n",
      "  LR_POF = -2 * np.log(numerator / denominator)\n",
      "D:\\CAViaR-Project\\test\\..\\var_tests\\_test.py:111: RuntimeWarning: invalid value encountered in double_scalars\n",
      "  LR_CCI = -2 * np.log(numerator / denominator)\n"
     ]
    },
    {
     "name": "stdout",
     "output_type": "stream",
     "text": [
      "Optimizing...\n",
      "when m = 1\n",
      "Update 0: 0.41757651202706536\n",
      "Update 1: 0.14025699813417977\n",
      "Update 2: 0.13243243634451712\n"
     ]
    },
    {
     "name": "stderr",
     "output_type": "stream",
     "text": [
      "D:\\CAViaR-Project\\test\\..\\caviar\\_caviar_function.py:44: RuntimeWarning: overflow encountered in double_scalars\n",
      "  VaRs[t + 1] = b1 + b2 * VaRs[t] + b3 * abs(returns[t])\n",
      "C:\\Users\\Jasper\\anaconda3\\lib\\site-packages\\scipy\\optimize\\_numdiff.py:576: RuntimeWarning: invalid value encountered in subtract\n",
      "  df = fun(x) - f0\n"
     ]
    },
    {
     "name": "stdout",
     "output_type": "stream",
     "text": [
      "Update 3: 0.1267270184183294\n",
      "Update 4: 0.1267270184183294\n",
      "when m = 2\n",
      "Update 0: 0.44734533834530077\n",
      "Update 1: 0.12933058144684254\n",
      "Update 2: 0.126726989129569\n",
      "Update 3: 0.12672698912956903\n",
      "when m = 3\n",
      "Update 0: 0.44892760453726005\n",
      "Update 1: 0.13560182632552106\n",
      "Update 2: 0.13560182632552106\n",
      "when m = 4\n",
      "Update 0: 0.4542493922269228\n",
      "Update 1: 0.12672699389330455\n",
      "Update 2: 0.12672699389330455\n",
      "when m = 5\n",
      "Update 0: 0.4585554144180047\n",
      "Update 1: 0.13379036065610397\n",
      "Update 2: 0.13379036065610397\n",
      "Final loss: 0.126726989129569\n",
      "Time taken(s): 6.11\n",
      "Generating 5 best initial betas out of 1000...\n"
     ]
    },
    {
     "name": "stderr",
     "output_type": "stream",
     "text": [
      "D:\\CAViaR-Project\\test\\..\\var_tests\\_test.py:76: RuntimeWarning: invalid value encountered in double_scalars\n",
      "  LR_POF = -2 * np.log(numerator / denominator)\n",
      "D:\\CAViaR-Project\\test\\..\\var_tests\\_test.py:111: RuntimeWarning: invalid value encountered in double_scalars\n",
      "  LR_CCI = -2 * np.log(numerator / denominator)\n"
     ]
    },
    {
     "name": "stdout",
     "output_type": "stream",
     "text": [
      "Optimizing...\n",
      "when m = 1\n",
      "Update 0: 0.44954406096720706\n",
      "Update 1: 0.126726957895165\n",
      "Update 2: 0.1267269577448141\n",
      "Update 3: 0.12672695773893924\n",
      "when m = 2\n",
      "Update 0: 0.48244760253640495\n",
      "Update 1: 0.13065010948306005\n"
     ]
    },
    {
     "name": "stderr",
     "output_type": "stream",
     "text": [
      "D:\\CAViaR-Project\\test\\..\\caviar\\_caviar_function.py:44: RuntimeWarning: overflow encountered in double_scalars\n",
      "  VaRs[t + 1] = b1 + b2 * VaRs[t] + b3 * abs(returns[t])\n",
      "C:\\Users\\Jasper\\anaconda3\\lib\\site-packages\\scipy\\optimize\\_numdiff.py:576: RuntimeWarning: invalid value encountered in subtract\n",
      "  df = fun(x) - f0\n"
     ]
    },
    {
     "name": "stdout",
     "output_type": "stream",
     "text": [
      "Update 2: 0.12672700578211815\n",
      "Update 3: 0.12672700578211815\n",
      "when m = 3\n",
      "Update 0: 0.4903863609281315\n",
      "Update 1: 0.13477656155191273\n",
      "Update 2: 0.13477656155191273\n",
      "when m = 4\n",
      "Update 0: 0.5028925753719036\n",
      "Update 1: 0.12672701547719203\n",
      "Update 2: 0.12672701547719203\n",
      "when m = 5\n",
      "Update 0: 0.505274809516423\n",
      "Update 1: 0.12672699231287754\n",
      "Update 2: 0.12672698837519367\n",
      "Update 3: 0.1267269883709706\n",
      "Final loss: 0.12672695773893924\n",
      "Time taken(s): 6.93\n",
      "Generating 5 best initial betas out of 1000...\n"
     ]
    },
    {
     "name": "stderr",
     "output_type": "stream",
     "text": [
      "D:\\CAViaR-Project\\test\\..\\var_tests\\_test.py:76: RuntimeWarning: invalid value encountered in double_scalars\n",
      "  LR_POF = -2 * np.log(numerator / denominator)\n",
      "D:\\CAViaR-Project\\test\\..\\var_tests\\_test.py:111: RuntimeWarning: invalid value encountered in double_scalars\n",
      "  LR_CCI = -2 * np.log(numerator / denominator)\n"
     ]
    },
    {
     "name": "stdout",
     "output_type": "stream",
     "text": [
      "Optimizing...\n",
      "when m = 1\n",
      "Update 0: 0.41662876871896687\n"
     ]
    },
    {
     "name": "stderr",
     "output_type": "stream",
     "text": [
      "D:\\CAViaR-Project\\test\\..\\caviar\\_caviar_function.py:44: RuntimeWarning: overflow encountered in double_scalars\n",
      "  VaRs[t + 1] = b1 + b2 * VaRs[t] + b3 * abs(returns[t])\n",
      "C:\\Users\\Jasper\\anaconda3\\lib\\site-packages\\scipy\\optimize\\_numdiff.py:576: RuntimeWarning: invalid value encountered in subtract\n",
      "  df = fun(x) - f0\n"
     ]
    },
    {
     "name": "stdout",
     "output_type": "stream",
     "text": [
      "Update 1: 0.1267269341932047\n",
      "Update 2: 0.1267269341932047\n",
      "when m = 2\n",
      "Update 0: 0.4187700927635744\n",
      "Update 1: 0.12672701401770242\n",
      "Update 2: 0.12672701401770242\n",
      "when m = 3\n",
      "Update 0: 0.4298069357335459\n",
      "Update 1: 0.12672693620159386\n",
      "Update 2: 0.12672693515885408\n",
      "Update 3: 0.12672693513087702\n",
      "when m = 4\n",
      "Update 0: 0.4459674430530767\n",
      "Update 1: 0.12980949128756453\n",
      "Update 2: 0.12980949128756453\n",
      "when m = 5\n",
      "Update 0: 0.45903024179529583\n",
      "Update 1: 0.1267269473196893\n",
      "Update 2: 0.12672694731968934\n",
      "Final loss: 0.1267269341932047\n",
      "Time taken(s): 6.63\n",
      "Generating 5 best initial betas out of 1000...\n"
     ]
    },
    {
     "name": "stderr",
     "output_type": "stream",
     "text": [
      "D:\\CAViaR-Project\\test\\..\\var_tests\\_test.py:76: RuntimeWarning: invalid value encountered in double_scalars\n",
      "  LR_POF = -2 * np.log(numerator / denominator)\n",
      "D:\\CAViaR-Project\\test\\..\\var_tests\\_test.py:111: RuntimeWarning: invalid value encountered in double_scalars\n",
      "  LR_CCI = -2 * np.log(numerator / denominator)\n"
     ]
    },
    {
     "name": "stdout",
     "output_type": "stream",
     "text": [
      "Optimizing...\n",
      "when m = 1\n",
      "Update 0: 0.42446274389259675\n",
      "Update 1: 0.13554034792919523\n",
      "Update 2: 0.13554034792919523\n",
      "when m = 2\n",
      "Update 0: 0.44665514527057215\n",
      "Update 1: 0.1342006253593163\n"
     ]
    },
    {
     "name": "stderr",
     "output_type": "stream",
     "text": [
      "D:\\CAViaR-Project\\test\\..\\caviar\\_caviar_function.py:44: RuntimeWarning: overflow encountered in double_scalars\n",
      "  VaRs[t + 1] = b1 + b2 * VaRs[t] + b3 * abs(returns[t])\n",
      "C:\\Users\\Jasper\\anaconda3\\lib\\site-packages\\scipy\\optimize\\_numdiff.py:576: RuntimeWarning: invalid value encountered in subtract\n",
      "  df = fun(x) - f0\n"
     ]
    },
    {
     "name": "stdout",
     "output_type": "stream",
     "text": [
      "Update 2: 0.1342006253593163\n",
      "when m = 3\n",
      "Update 0: 0.4677327839459522\n",
      "Update 1: 0.13511250491821816\n",
      "Update 2: 0.12672698184630565\n",
      "Update 3: 0.12672698184630565\n",
      "when m = 4\n",
      "Update 0: 0.4753960405999357\n",
      "Update 1: 0.1338395275816577\n",
      "Update 2: 0.12672693422482306\n",
      "Update 3: 0.12672693422482306\n",
      "when m = 5\n",
      "Update 0: 0.4766617590244775\n",
      "Update 1: 0.13552549446258064\n",
      "Update 2: 0.13552549446258064\n",
      "Final loss: 0.12672693422482306\n",
      "Time taken(s): 5.36\n",
      "Generating 5 best initial betas out of 1000...\n"
     ]
    },
    {
     "name": "stderr",
     "output_type": "stream",
     "text": [
      "D:\\CAViaR-Project\\test\\..\\var_tests\\_test.py:76: RuntimeWarning: invalid value encountered in double_scalars\n",
      "  LR_POF = -2 * np.log(numerator / denominator)\n",
      "D:\\CAViaR-Project\\test\\..\\var_tests\\_test.py:111: RuntimeWarning: invalid value encountered in double_scalars\n",
      "  LR_CCI = -2 * np.log(numerator / denominator)\n"
     ]
    },
    {
     "name": "stdout",
     "output_type": "stream",
     "text": [
      "Optimizing...\n",
      "when m = 1\n",
      "Update 0: 0.44378748021907827\n",
      "Update 1: 0.13416695497157002\n"
     ]
    },
    {
     "name": "stderr",
     "output_type": "stream",
     "text": [
      "D:\\CAViaR-Project\\test\\..\\caviar\\_caviar_function.py:44: RuntimeWarning: overflow encountered in double_scalars\n",
      "  VaRs[t + 1] = b1 + b2 * VaRs[t] + b3 * abs(returns[t])\n",
      "C:\\Users\\Jasper\\anaconda3\\lib\\site-packages\\scipy\\optimize\\_numdiff.py:576: RuntimeWarning: invalid value encountered in subtract\n",
      "  df = fun(x) - f0\n"
     ]
    },
    {
     "name": "stdout",
     "output_type": "stream",
     "text": [
      "Update 2: 0.12672707684759632\n",
      "Update 3: 0.12672707684759632\n",
      "when m = 2\n",
      "Update 0: 0.45427436968421064\n",
      "Update 1: 0.12672701046125243\n",
      "Update 2: 0.12672701046125243\n",
      "when m = 3\n",
      "Update 0: 0.4753499183720827\n",
      "Update 1: 0.13728949795814754\n",
      "Update 2: 0.13728949795814754\n",
      "when m = 4\n",
      "Update 0: 0.4828617042286394\n",
      "Update 1: 0.13491271447546765\n",
      "Update 2: 0.13491271447546765\n",
      "when m = 5\n",
      "Update 0: 0.4863325993868782\n",
      "Update 1: 0.12672701685765897\n",
      "Update 2: 0.12672701685765897\n",
      "Final loss: 0.12672701046125243\n",
      "Time taken(s): 5.37\n",
      "Generating 5 best initial betas out of 1000...\n"
     ]
    },
    {
     "name": "stderr",
     "output_type": "stream",
     "text": [
      "D:\\CAViaR-Project\\test\\..\\var_tests\\_test.py:76: RuntimeWarning: invalid value encountered in double_scalars\n",
      "  LR_POF = -2 * np.log(numerator / denominator)\n",
      "D:\\CAViaR-Project\\test\\..\\var_tests\\_test.py:111: RuntimeWarning: invalid value encountered in double_scalars\n",
      "  LR_CCI = -2 * np.log(numerator / denominator)\n"
     ]
    },
    {
     "name": "stdout",
     "output_type": "stream",
     "text": [
      "Optimizing...\n",
      "when m = 1\n",
      "Update 0: 0.4231787182432825\n",
      "Update 1: 0.12672698052736336\n",
      "Update 2: 0.12672698052631245\n",
      "when m = 2\n",
      "Update 0: 0.4546128670186956\n",
      "Update 1: 0.12672696500329053\n",
      "Update 2: 0.12672696500329053\n",
      "when m = 3\n",
      "Update 0: 0.45802315207913386\n"
     ]
    },
    {
     "name": "stderr",
     "output_type": "stream",
     "text": [
      "D:\\CAViaR-Project\\test\\..\\caviar\\_caviar_function.py:44: RuntimeWarning: overflow encountered in double_scalars\n",
      "  VaRs[t + 1] = b1 + b2 * VaRs[t] + b3 * abs(returns[t])\n",
      "C:\\Users\\Jasper\\anaconda3\\lib\\site-packages\\scipy\\optimize\\_numdiff.py:576: RuntimeWarning: invalid value encountered in subtract\n",
      "  df = fun(x) - f0\n"
     ]
    },
    {
     "name": "stdout",
     "output_type": "stream",
     "text": [
      "Update 1: 0.12672693937975943\n",
      "Update 2: 0.12672693937975943\n",
      "when m = 4\n",
      "Update 0: 0.46139637186683324\n",
      "Update 1: 0.13439556711473732\n",
      "Update 2: 0.13439556711473732\n",
      "when m = 5\n",
      "Update 0: 0.4781359654174359\n",
      "Update 1: 0.14021380880009765\n",
      "Update 2: 0.13786263264887327\n",
      "Update 3: 0.12672696931673197\n",
      "Update 4: 0.12672696931673197\n",
      "Final loss: 0.12672693937975943\n",
      "Time taken(s): 6.31\n"
     ]
    },
    {
     "name": "stderr",
     "output_type": "stream",
     "text": [
      "D:\\CAViaR-Project\\test\\..\\var_tests\\_test.py:76: RuntimeWarning: invalid value encountered in double_scalars\n",
      "  LR_POF = -2 * np.log(numerator / denominator)\n",
      "D:\\CAViaR-Project\\test\\..\\var_tests\\_test.py:111: RuntimeWarning: invalid value encountered in double_scalars\n",
      "  LR_CCI = -2 * np.log(numerator / denominator)\n"
     ]
    },
    {
     "name": "stdout",
     "output_type": "stream",
     "text": [
      "Generating 5 best initial betas out of 1000...\n",
      "Optimizing...\n",
      "when m = 1\n",
      "Update 0: 0.4383079345715398\n"
     ]
    },
    {
     "name": "stderr",
     "output_type": "stream",
     "text": [
      "D:\\CAViaR-Project\\test\\..\\caviar\\_caviar_function.py:44: RuntimeWarning: overflow encountered in double_scalars\n",
      "  VaRs[t + 1] = b1 + b2 * VaRs[t] + b3 * abs(returns[t])\n",
      "C:\\Users\\Jasper\\anaconda3\\lib\\site-packages\\scipy\\optimize\\_numdiff.py:576: RuntimeWarning: invalid value encountered in subtract\n",
      "  df = fun(x) - f0\n"
     ]
    },
    {
     "name": "stdout",
     "output_type": "stream",
     "text": [
      "Update 1: 0.12735904702801173\n",
      "Update 2: 0.12735904702801173\n",
      "when m = 2\n",
      "Update 0: 0.4512617745456662\n",
      "Update 1: 0.13792501259104686\n",
      "Update 2: 0.12672697924762516\n",
      "Update 3: 0.12672697924762516\n",
      "when m = 3\n",
      "Update 0: 0.49775929564505333\n",
      "Update 1: 0.12672706807963835\n",
      "Update 2: 0.12672706807963835\n",
      "when m = 4\n",
      "Update 0: 0.5044174090926716\n",
      "Update 1: 0.13554539079056116\n",
      "Update 2: 0.13554539079056116\n",
      "when m = 5\n",
      "Update 0: 0.514701616227511\n",
      "Update 1: 0.12672700565271175\n",
      "Update 2: 0.12672700565271175\n",
      "Final loss: 0.12672697924762516\n",
      "Time taken(s): 5.45\n"
     ]
    },
    {
     "name": "stderr",
     "output_type": "stream",
     "text": [
      "D:\\CAViaR-Project\\test\\..\\var_tests\\_test.py:76: RuntimeWarning: invalid value encountered in double_scalars\n",
      "  LR_POF = -2 * np.log(numerator / denominator)\n",
      "D:\\CAViaR-Project\\test\\..\\var_tests\\_test.py:111: RuntimeWarning: invalid value encountered in double_scalars\n",
      "  LR_CCI = -2 * np.log(numerator / denominator)\n"
     ]
    },
    {
     "name": "stdout",
     "output_type": "stream",
     "text": [
      "Generating 5 best initial betas out of 1000...\n",
      "Optimizing...\n",
      "when m = 1\n",
      "Update 0: 0.4579573389592413\n",
      "Update 1: 0.12672693372906607\n",
      "Update 2: 0.1267269336711628\n",
      "when m = 2\n",
      "Update 0: 0.4629677775043187\n",
      "Update 1: 0.12672694307599403\n",
      "Update 2: 0.12672694307599403\n",
      "when m = 3\n",
      "Update 0: 0.47820428147799066\n",
      "Update 1: 0.13713031532127548\n"
     ]
    },
    {
     "name": "stderr",
     "output_type": "stream",
     "text": [
      "D:\\CAViaR-Project\\test\\..\\caviar\\_caviar_function.py:44: RuntimeWarning: overflow encountered in double_scalars\n",
      "  VaRs[t + 1] = b1 + b2 * VaRs[t] + b3 * abs(returns[t])\n",
      "C:\\Users\\Jasper\\anaconda3\\lib\\site-packages\\scipy\\optimize\\_numdiff.py:576: RuntimeWarning: invalid value encountered in subtract\n",
      "  df = fun(x) - f0\n"
     ]
    },
    {
     "name": "stdout",
     "output_type": "stream",
     "text": [
      "Update 2: 0.12672693467417062\n",
      "Update 3: 0.12672693426807652\n",
      "Update 4: 0.12672693344186672\n",
      "Update 5: 0.12672693342506183\n",
      "when m = 4\n",
      "Update 0: 0.48492527424128984\n",
      "Update 1: 0.12672694428023396\n",
      "Update 2: 0.12672694428023396\n",
      "when m = 5\n",
      "Update 0: 0.49802719559149206\n",
      "Update 1: 0.1315702557494508\n",
      "Update 2: 0.1315702557494508\n",
      "Final loss: 0.12672693342506183\n",
      "Time taken(s): 6.51\n"
     ]
    },
    {
     "name": "stderr",
     "output_type": "stream",
     "text": [
      "D:\\CAViaR-Project\\test\\..\\var_tests\\_test.py:76: RuntimeWarning: invalid value encountered in double_scalars\n",
      "  LR_POF = -2 * np.log(numerator / denominator)\n",
      "D:\\CAViaR-Project\\test\\..\\var_tests\\_test.py:111: RuntimeWarning: invalid value encountered in double_scalars\n",
      "  LR_CCI = -2 * np.log(numerator / denominator)\n"
     ]
    },
    {
     "name": "stdout",
     "output_type": "stream",
     "text": [
      "Runing quantile: 0.05, model: asymmetric, method: numeric\n",
      "Generating 5 best initial betas out of 1000...\n",
      "Optimizing...\n",
      "when m = 1\n",
      "Update 0: 0.1437405363407537\n",
      "Update 1: 0.12413920942014117\n",
      "Update 2: 0.12413920942014117\n",
      "when m = 2\n",
      "Update 0: 0.18113799104320352\n",
      "Update 1: 0.12413964337940217\n",
      "Update 2: 0.12413964337940217\n",
      "when m = 3\n",
      "Update 0: 0.18231588567240406\n",
      "Update 1: 0.18231588567240406\n",
      "when m = 4\n",
      "Update 0: 0.1877757203464806\n"
     ]
    },
    {
     "name": "stderr",
     "output_type": "stream",
     "text": [
      "D:\\CAViaR-Project\\test\\..\\caviar\\_caviar_function.py:63: RuntimeWarning: overflow encountered in double_scalars\n",
      "  VaRs[t + 1] = b1 + b2 * VaRs[t] + b3 * max(returns[t], 0) + b4 * min(returns[t], 0)\n",
      "C:\\Users\\Jasper\\anaconda3\\lib\\site-packages\\scipy\\optimize\\_numdiff.py:576: RuntimeWarning: invalid value encountered in subtract\n",
      "  df = fun(x) - f0\n"
     ]
    },
    {
     "name": "stdout",
     "output_type": "stream",
     "text": [
      "Update 1: 0.1877757203464806\n",
      "when m = 5\n",
      "Update 0: 0.1943214883348847\n",
      "Update 1: 0.1943214883348847\n",
      "Final loss: 0.12413920942014117\n",
      "Time taken(s): 9.99\n",
      "Generating 5 best initial betas out of 1000...\n"
     ]
    },
    {
     "name": "stderr",
     "output_type": "stream",
     "text": [
      "D:\\CAViaR-Project\\test\\..\\var_tests\\_test.py:76: RuntimeWarning: invalid value encountered in double_scalars\n",
      "  LR_POF = -2 * np.log(numerator / denominator)\n",
      "D:\\CAViaR-Project\\test\\..\\var_tests\\_test.py:111: RuntimeWarning: invalid value encountered in double_scalars\n",
      "  LR_CCI = -2 * np.log(numerator / denominator)\n"
     ]
    },
    {
     "name": "stdout",
     "output_type": "stream",
     "text": [
      "Optimizing...\n",
      "when m = 1\n",
      "Update 0: 0.179480794076194\n",
      "Update 1: 0.179480794076194\n",
      "when m = 2\n",
      "Update 0: 0.19505771625633206\n"
     ]
    },
    {
     "name": "stderr",
     "output_type": "stream",
     "text": [
      "D:\\CAViaR-Project\\test\\..\\caviar\\_caviar_function.py:63: RuntimeWarning: overflow encountered in double_scalars\n",
      "  VaRs[t + 1] = b1 + b2 * VaRs[t] + b3 * max(returns[t], 0) + b4 * min(returns[t], 0)\n",
      "C:\\Users\\Jasper\\anaconda3\\lib\\site-packages\\scipy\\optimize\\_numdiff.py:576: RuntimeWarning: invalid value encountered in subtract\n",
      "  df = fun(x) - f0\n"
     ]
    },
    {
     "name": "stdout",
     "output_type": "stream",
     "text": [
      "Update 1: 0.12413908106586982\n",
      "Update 2: 0.12413908106290106\n",
      "when m = 3\n",
      "Update 0: 0.20850777966249695\n",
      "Update 1: 0.20850777966249695\n",
      "when m = 4\n",
      "Update 0: 0.22148368105193444\n",
      "Update 1: 0.12413949744477917\n",
      "Update 2: 0.12413949744477917\n",
      "when m = 5\n",
      "Update 0: 0.22921597950484032\n",
      "Update 1: 0.22921597950484032\n",
      "Final loss: 0.12413908106290106\n",
      "Time taken(s): 9.15\n",
      "Generating 5 best initial betas out of 1000...\n"
     ]
    },
    {
     "name": "stderr",
     "output_type": "stream",
     "text": [
      "D:\\CAViaR-Project\\test\\..\\var_tests\\_test.py:76: RuntimeWarning: invalid value encountered in double_scalars\n",
      "  LR_POF = -2 * np.log(numerator / denominator)\n",
      "D:\\CAViaR-Project\\test\\..\\var_tests\\_test.py:111: RuntimeWarning: invalid value encountered in double_scalars\n",
      "  LR_CCI = -2 * np.log(numerator / denominator)\n"
     ]
    },
    {
     "name": "stdout",
     "output_type": "stream",
     "text": [
      "Optimizing...\n",
      "when m = 1\n",
      "Update 0: 0.19170569408831079\n"
     ]
    },
    {
     "name": "stderr",
     "output_type": "stream",
     "text": [
      "D:\\CAViaR-Project\\test\\..\\caviar\\_caviar_function.py:63: RuntimeWarning: overflow encountered in double_scalars\n",
      "  VaRs[t + 1] = b1 + b2 * VaRs[t] + b3 * max(returns[t], 0) + b4 * min(returns[t], 0)\n",
      "C:\\Users\\Jasper\\anaconda3\\lib\\site-packages\\scipy\\optimize\\_numdiff.py:576: RuntimeWarning: invalid value encountered in subtract\n",
      "  df = fun(x) - f0\n"
     ]
    },
    {
     "name": "stdout",
     "output_type": "stream",
     "text": [
      "Update 1: 0.12675949972690487\n",
      "Update 2: 0.12414340560494289\n",
      "Update 3: 0.12414340560494289\n",
      "when m = 2\n",
      "Update 0: 0.21334532653275526\n",
      "Update 1: 0.1241393446958161\n",
      "Update 2: 0.12413917369818624\n",
      "Update 3: 0.1241391736664792\n",
      "when m = 3\n",
      "Update 0: 0.2716715377259012\n",
      "Update 1: 0.12413936915959976\n",
      "Update 2: 0.12413936915264472\n",
      "when m = 4\n",
      "Update 0: 0.2772922918306999\n",
      "Update 1: 0.12413906009838838\n",
      "Update 2: 0.12413905981263408\n",
      "Update 3: 0.12413905981263408\n",
      "when m = 5\n",
      "Update 0: 0.281332780657883\n",
      "Update 1: 0.12413933113289173\n",
      "Update 2: 0.12413933113289173\n",
      "Final loss: 0.12413905981263408\n",
      "Time taken(s): 16.29\n"
     ]
    },
    {
     "name": "stderr",
     "output_type": "stream",
     "text": [
      "D:\\CAViaR-Project\\test\\..\\var_tests\\_test.py:76: RuntimeWarning: invalid value encountered in double_scalars\n",
      "  LR_POF = -2 * np.log(numerator / denominator)\n",
      "D:\\CAViaR-Project\\test\\..\\var_tests\\_test.py:111: RuntimeWarning: invalid value encountered in double_scalars\n",
      "  LR_CCI = -2 * np.log(numerator / denominator)\n"
     ]
    },
    {
     "name": "stdout",
     "output_type": "stream",
     "text": [
      "Generating 5 best initial betas out of 1000...\n",
      "Optimizing...\n",
      "when m = 1\n",
      "Update 0: 0.23589958122594204\n",
      "Update 1: 0.23589958122594204\n",
      "when m = 2\n",
      "Update 0: 0.24556612718564116\n"
     ]
    },
    {
     "name": "stderr",
     "output_type": "stream",
     "text": [
      "D:\\CAViaR-Project\\test\\..\\caviar\\_caviar_function.py:63: RuntimeWarning: overflow encountered in double_scalars\n",
      "  VaRs[t + 1] = b1 + b2 * VaRs[t] + b3 * max(returns[t], 0) + b4 * min(returns[t], 0)\n",
      "C:\\Users\\Jasper\\anaconda3\\lib\\site-packages\\scipy\\optimize\\_numdiff.py:576: RuntimeWarning: invalid value encountered in subtract\n",
      "  df = fun(x) - f0\n"
     ]
    },
    {
     "name": "stdout",
     "output_type": "stream",
     "text": [
      "Update 1: 0.1241398949494682\n",
      "Update 2: 0.1241398949494682\n",
      "when m = 3\n",
      "Update 0: 0.280291816336713\n",
      "Update 1: 0.12413915711494146\n",
      "Update 2: 0.12413915711494146\n",
      "when m = 4\n",
      "Update 0: 0.28236486587593596\n",
      "Update 1: 0.124139640612982\n",
      "Update 2: 0.124139640612982\n",
      "when m = 5\n",
      "Update 0: 0.2972959593903626\n",
      "Update 1: 0.12413942170830693\n",
      "Update 2: 0.12413942170830691\n",
      "Final loss: 0.12413915711494146\n",
      "Time taken(s): 12.49\n"
     ]
    },
    {
     "name": "stderr",
     "output_type": "stream",
     "text": [
      "D:\\CAViaR-Project\\test\\..\\var_tests\\_test.py:76: RuntimeWarning: invalid value encountered in double_scalars\n",
      "  LR_POF = -2 * np.log(numerator / denominator)\n",
      "D:\\CAViaR-Project\\test\\..\\var_tests\\_test.py:111: RuntimeWarning: invalid value encountered in double_scalars\n",
      "  LR_CCI = -2 * np.log(numerator / denominator)\n"
     ]
    },
    {
     "name": "stdout",
     "output_type": "stream",
     "text": [
      "Generating 5 best initial betas out of 1000...\n",
      "Optimizing...\n",
      "when m = 1\n",
      "Update 0: 0.21193773227084228\n",
      "Update 1: 0.12413936108086492\n",
      "Update 2: 0.12413936108086492\n",
      "when m = 2\n",
      "Update 0: 0.21502774514186507\n",
      "Update 1: 0.21502774514186507\n",
      "when m = 3\n",
      "Update 0: 0.2408447849628205\n"
     ]
    },
    {
     "name": "stderr",
     "output_type": "stream",
     "text": [
      "D:\\CAViaR-Project\\test\\..\\caviar\\_caviar_function.py:63: RuntimeWarning: overflow encountered in double_scalars\n",
      "  VaRs[t + 1] = b1 + b2 * VaRs[t] + b3 * max(returns[t], 0) + b4 * min(returns[t], 0)\n",
      "C:\\Users\\Jasper\\anaconda3\\lib\\site-packages\\scipy\\optimize\\_numdiff.py:576: RuntimeWarning: invalid value encountered in subtract\n",
      "  df = fun(x) - f0\n"
     ]
    },
    {
     "name": "stdout",
     "output_type": "stream",
     "text": [
      "Update 1: 0.12414198482027448\n",
      "Update 2: 0.12414198482027448\n",
      "when m = 4\n",
      "Update 0: 0.24395306058895866\n",
      "Update 1: 0.12413909846208486\n",
      "Update 2: 0.12413909846208486\n",
      "when m = 5\n",
      "Update 0: 0.28727162515517846\n",
      "Update 1: 0.1241393274157793\n",
      "Update 2: 0.1241393274157793\n",
      "Final loss: 0.12413909846208486\n",
      "Time taken(s): 13.08\n"
     ]
    },
    {
     "name": "stderr",
     "output_type": "stream",
     "text": [
      "D:\\CAViaR-Project\\test\\..\\var_tests\\_test.py:76: RuntimeWarning: invalid value encountered in double_scalars\n",
      "  LR_POF = -2 * np.log(numerator / denominator)\n",
      "D:\\CAViaR-Project\\test\\..\\var_tests\\_test.py:111: RuntimeWarning: invalid value encountered in double_scalars\n",
      "  LR_CCI = -2 * np.log(numerator / denominator)\n"
     ]
    },
    {
     "name": "stdout",
     "output_type": "stream",
     "text": [
      "Generating 5 best initial betas out of 1000...\n",
      "Optimizing...\n",
      "when m = 1\n",
      "Update 0: 0.16437004897650562\n",
      "Update 1: 0.1241417081553155\n",
      "Update 2: 0.1241417081553155\n",
      "when m = 2\n",
      "Update 0: 0.1820869684290294\n",
      "Update 1: 0.1820869684290294\n",
      "when m = 3\n",
      "Update 0: 0.22884279800040327\n"
     ]
    },
    {
     "name": "stderr",
     "output_type": "stream",
     "text": [
      "D:\\CAViaR-Project\\test\\..\\caviar\\_caviar_function.py:63: RuntimeWarning: overflow encountered in double_scalars\n",
      "  VaRs[t + 1] = b1 + b2 * VaRs[t] + b3 * max(returns[t], 0) + b4 * min(returns[t], 0)\n",
      "C:\\Users\\Jasper\\anaconda3\\lib\\site-packages\\scipy\\optimize\\_numdiff.py:576: RuntimeWarning: invalid value encountered in subtract\n",
      "  df = fun(x) - f0\n"
     ]
    },
    {
     "name": "stdout",
     "output_type": "stream",
     "text": [
      "Update 1: 0.12413924855467902\n",
      "Update 2: 0.12413924855467903\n",
      "when m = 4\n",
      "Update 0: 0.23351752666460385\n",
      "Update 1: 0.1241391238860184\n",
      "Update 2: 0.1241391238860184\n",
      "when m = 5\n",
      "Update 0: 0.25694162769349277\n",
      "Update 1: 0.12413915912448197\n",
      "Update 2: 0.12413915912448197\n",
      "Final loss: 0.1241391238860184\n",
      "Time taken(s): 14.03\n",
      "Generating 5 best initial betas out of 1000...\n"
     ]
    },
    {
     "name": "stderr",
     "output_type": "stream",
     "text": [
      "D:\\CAViaR-Project\\test\\..\\var_tests\\_test.py:76: RuntimeWarning: invalid value encountered in double_scalars\n",
      "  LR_POF = -2 * np.log(numerator / denominator)\n",
      "D:\\CAViaR-Project\\test\\..\\var_tests\\_test.py:111: RuntimeWarning: invalid value encountered in double_scalars\n",
      "  LR_CCI = -2 * np.log(numerator / denominator)\n"
     ]
    },
    {
     "name": "stdout",
     "output_type": "stream",
     "text": [
      "Optimizing...\n",
      "when m = 1\n",
      "Update 0: 0.1438930369793439\n",
      "Update 1: 0.1438930369793439\n",
      "when m = 2\n",
      "Update 0: 0.1821188344556472\n",
      "Update 1: 0.1821188344556472\n",
      "when m = 3\n",
      "Update 0: 0.1998588696349489\n"
     ]
    },
    {
     "name": "stderr",
     "output_type": "stream",
     "text": [
      "D:\\CAViaR-Project\\test\\..\\caviar\\_caviar_function.py:63: RuntimeWarning: overflow encountered in double_scalars\n",
      "  VaRs[t + 1] = b1 + b2 * VaRs[t] + b3 * max(returns[t], 0) + b4 * min(returns[t], 0)\n",
      "C:\\Users\\Jasper\\anaconda3\\lib\\site-packages\\scipy\\optimize\\_numdiff.py:576: RuntimeWarning: invalid value encountered in subtract\n",
      "  df = fun(x) - f0\n"
     ]
    },
    {
     "name": "stdout",
     "output_type": "stream",
     "text": [
      "Update 1: 0.1998588696349489\n",
      "when m = 4\n",
      "Update 0: 0.20766573581646294\n",
      "Update 1: 0.1241393196724802\n",
      "Update 2: 0.12413931967248021\n",
      "when m = 5\n",
      "Update 0: 0.20921225140366354\n",
      "Update 1: 0.12413927740126564\n",
      "Update 2: 0.12413927740126564\n",
      "Final loss: 0.12413927740126564\n",
      "Time taken(s): 9.92\n",
      "Generating 5 best initial betas out of 1000...\n"
     ]
    },
    {
     "name": "stderr",
     "output_type": "stream",
     "text": [
      "D:\\CAViaR-Project\\test\\..\\var_tests\\_test.py:76: RuntimeWarning: invalid value encountered in double_scalars\n",
      "  LR_POF = -2 * np.log(numerator / denominator)\n",
      "D:\\CAViaR-Project\\test\\..\\var_tests\\_test.py:111: RuntimeWarning: invalid value encountered in double_scalars\n",
      "  LR_CCI = -2 * np.log(numerator / denominator)\n"
     ]
    },
    {
     "name": "stdout",
     "output_type": "stream",
     "text": [
      "Optimizing...\n",
      "when m = 1\n",
      "Update 0: 0.20276644780461386\n",
      "Update 1: 0.20276644780461386\n",
      "when m = 2\n",
      "Update 0: 0.2130886609728136\n"
     ]
    },
    {
     "name": "stderr",
     "output_type": "stream",
     "text": [
      "D:\\CAViaR-Project\\test\\..\\caviar\\_caviar_function.py:63: RuntimeWarning: overflow encountered in double_scalars\n",
      "  VaRs[t + 1] = b1 + b2 * VaRs[t] + b3 * max(returns[t], 0) + b4 * min(returns[t], 0)\n",
      "C:\\Users\\Jasper\\anaconda3\\lib\\site-packages\\scipy\\optimize\\_numdiff.py:576: RuntimeWarning: invalid value encountered in subtract\n",
      "  df = fun(x) - f0\n"
     ]
    },
    {
     "name": "stdout",
     "output_type": "stream",
     "text": [
      "Update 1: 0.12413907190230805\n",
      "Update 2: 0.12413907190230805\n",
      "when m = 3\n",
      "Update 0: 0.2355093387031026\n",
      "Update 1: 0.2355093387031026\n",
      "when m = 4\n",
      "Update 0: 0.25214400805079024\n",
      "Update 1: 0.1261708270119772\n",
      "Update 2: 0.12413933263141148\n",
      "Update 3: 0.12413933263141148\n",
      "when m = 5\n",
      "Update 0: 0.2733428685122589\n",
      "Update 1: 0.12413915335974256\n",
      "Update 2: 0.12413915335974256\n",
      "Final loss: 0.12413907190230805\n",
      "Time taken(s): 11.07\n",
      "Generating 5 best initial betas out of 1000...\n"
     ]
    },
    {
     "name": "stderr",
     "output_type": "stream",
     "text": [
      "D:\\CAViaR-Project\\test\\..\\var_tests\\_test.py:76: RuntimeWarning: invalid value encountered in double_scalars\n",
      "  LR_POF = -2 * np.log(numerator / denominator)\n",
      "D:\\CAViaR-Project\\test\\..\\var_tests\\_test.py:111: RuntimeWarning: invalid value encountered in double_scalars\n",
      "  LR_CCI = -2 * np.log(numerator / denominator)\n"
     ]
    },
    {
     "name": "stdout",
     "output_type": "stream",
     "text": [
      "Optimizing...\n",
      "when m = 1\n",
      "Update 0: 0.15871332280208622\n",
      "Update 1: 0.15871332280208622\n",
      "when m = 2\n",
      "Update 0: 0.1753555057039605\n",
      "Update 1: 0.1753555057039605\n",
      "when m = 3\n",
      "Update 0: 0.279262180809985\n"
     ]
    },
    {
     "name": "stderr",
     "output_type": "stream",
     "text": [
      "D:\\CAViaR-Project\\test\\..\\caviar\\_caviar_function.py:63: RuntimeWarning: overflow encountered in double_scalars\n",
      "  VaRs[t + 1] = b1 + b2 * VaRs[t] + b3 * max(returns[t], 0) + b4 * min(returns[t], 0)\n",
      "C:\\Users\\Jasper\\anaconda3\\lib\\site-packages\\scipy\\optimize\\_numdiff.py:576: RuntimeWarning: invalid value encountered in subtract\n",
      "  df = fun(x) - f0\n"
     ]
    },
    {
     "name": "stdout",
     "output_type": "stream",
     "text": [
      "Update 1: 0.12413934405251305\n",
      "Update 2: 0.12413934405251305\n",
      "when m = 4\n",
      "Update 0: 0.29712376168043736\n",
      "Update 1: 0.12413925810157073\n",
      "Update 2: 0.12413925810157075\n",
      "when m = 5\n",
      "Update 0: 0.29751748765043273\n",
      "Update 1: 0.13581950625648076\n",
      "Update 2: 0.13581950625648076\n",
      "Final loss: 0.12413925810157073\n",
      "Time taken(s): 10.52\n"
     ]
    },
    {
     "name": "stderr",
     "output_type": "stream",
     "text": [
      "D:\\CAViaR-Project\\test\\..\\var_tests\\_test.py:76: RuntimeWarning: invalid value encountered in double_scalars\n",
      "  LR_POF = -2 * np.log(numerator / denominator)\n",
      "D:\\CAViaR-Project\\test\\..\\var_tests\\_test.py:111: RuntimeWarning: invalid value encountered in double_scalars\n",
      "  LR_CCI = -2 * np.log(numerator / denominator)\n"
     ]
    },
    {
     "name": "stdout",
     "output_type": "stream",
     "text": [
      "Generating 5 best initial betas out of 1000...\n",
      "Optimizing...\n",
      "when m = 1\n",
      "Update 0: 0.16217194776517366\n",
      "Update 1: 0.16217194776517366\n",
      "when m = 2\n",
      "Update 0: 0.19671406485635776\n",
      "Update 1: 0.19671406485635776\n",
      "when m = 3\n",
      "Update 0: 0.2107671062262986\n"
     ]
    },
    {
     "name": "stderr",
     "output_type": "stream",
     "text": [
      "D:\\CAViaR-Project\\test\\..\\caviar\\_caviar_function.py:63: RuntimeWarning: overflow encountered in double_scalars\n",
      "  VaRs[t + 1] = b1 + b2 * VaRs[t] + b3 * max(returns[t], 0) + b4 * min(returns[t], 0)\n",
      "C:\\Users\\Jasper\\anaconda3\\lib\\site-packages\\scipy\\optimize\\_numdiff.py:576: RuntimeWarning: invalid value encountered in subtract\n",
      "  df = fun(x) - f0\n"
     ]
    },
    {
     "name": "stdout",
     "output_type": "stream",
     "text": [
      "Update 1: 0.12413906460355666\n",
      "Update 2: 0.12413906460355666\n",
      "when m = 4\n",
      "Update 0: 0.2399496495751173\n",
      "Update 1: 0.12413940633456572\n",
      "Update 2: 0.12413940633456573\n",
      "when m = 5\n",
      "Update 0: 0.24544131140678352\n",
      "Update 1: 0.12413908652498178\n",
      "Update 2: 0.12413908652498178\n",
      "Final loss: 0.12413906460355666\n",
      "Time taken(s): 12.12\n",
      "Generating 5 best initial betas out of 1000...\n"
     ]
    },
    {
     "name": "stderr",
     "output_type": "stream",
     "text": [
      "D:\\CAViaR-Project\\test\\..\\var_tests\\_test.py:76: RuntimeWarning: invalid value encountered in double_scalars\n",
      "  LR_POF = -2 * np.log(numerator / denominator)\n",
      "D:\\CAViaR-Project\\test\\..\\var_tests\\_test.py:111: RuntimeWarning: invalid value encountered in double_scalars\n",
      "  LR_CCI = -2 * np.log(numerator / denominator)\n"
     ]
    },
    {
     "name": "stdout",
     "output_type": "stream",
     "text": [
      "Optimizing...\n",
      "when m = 1\n",
      "Update 0: 0.16798769838536654\n",
      "Update 1: 0.16798769838536654\n",
      "when m = 2\n",
      "Update 0: 0.1942675731778196\n",
      "Update 1: 0.1942675731778196\n",
      "when m = 3\n",
      "Update 0: 0.23123075580973662\n"
     ]
    },
    {
     "name": "stderr",
     "output_type": "stream",
     "text": [
      "D:\\CAViaR-Project\\test\\..\\caviar\\_caviar_function.py:63: RuntimeWarning: overflow encountered in double_scalars\n",
      "  VaRs[t + 1] = b1 + b2 * VaRs[t] + b3 * max(returns[t], 0) + b4 * min(returns[t], 0)\n",
      "C:\\Users\\Jasper\\anaconda3\\lib\\site-packages\\scipy\\optimize\\_numdiff.py:576: RuntimeWarning: invalid value encountered in subtract\n",
      "  df = fun(x) - f0\n"
     ]
    },
    {
     "name": "stdout",
     "output_type": "stream",
     "text": [
      "Update 1: 0.1246656209553336\n",
      "Update 2: 0.1246656209553336\n",
      "when m = 4\n",
      "Update 0: 0.2327016375814889\n",
      "Update 1: 0.12413905740716642\n",
      "Update 2: 0.1241390569888933\n",
      "Update 3: 0.1241390569888933\n",
      "when m = 5\n",
      "Update 0: 0.26611564581796504\n",
      "Update 1: 0.12413906924498357\n",
      "Update 2: 0.12413906924498357\n",
      "Final loss: 0.1241390569888933\n",
      "Time taken(s): 10.71\n",
      "Generating 5 best initial betas out of 1000...\n"
     ]
    },
    {
     "name": "stderr",
     "output_type": "stream",
     "text": [
      "D:\\CAViaR-Project\\test\\..\\var_tests\\_test.py:76: RuntimeWarning: invalid value encountered in double_scalars\n",
      "  LR_POF = -2 * np.log(numerator / denominator)\n",
      "D:\\CAViaR-Project\\test\\..\\var_tests\\_test.py:111: RuntimeWarning: invalid value encountered in double_scalars\n",
      "  LR_CCI = -2 * np.log(numerator / denominator)\n"
     ]
    },
    {
     "name": "stdout",
     "output_type": "stream",
     "text": [
      "Optimizing...\n",
      "when m = 1\n",
      "Update 0: 0.14167421274987863\n",
      "Update 1: 0.1241391132864958\n",
      "Update 2: 0.1241390925992593\n",
      "Update 3: 0.12413909259923858\n",
      "when m = 2\n",
      "Update 0: 0.16949100500195188\n",
      "Update 1: 0.12413919050903396\n",
      "Update 2: 0.12413919050903396\n",
      "when m = 3\n",
      "Update 0: 0.1999058558287791\n",
      "Update 1: 0.1999058558287791\n",
      "when m = 4\n",
      "Update 0: 0.24870797020795943\n"
     ]
    },
    {
     "name": "stderr",
     "output_type": "stream",
     "text": [
      "D:\\CAViaR-Project\\test\\..\\caviar\\_caviar_function.py:63: RuntimeWarning: overflow encountered in double_scalars\n",
      "  VaRs[t + 1] = b1 + b2 * VaRs[t] + b3 * max(returns[t], 0) + b4 * min(returns[t], 0)\n",
      "C:\\Users\\Jasper\\anaconda3\\lib\\site-packages\\scipy\\optimize\\_numdiff.py:576: RuntimeWarning: invalid value encountered in subtract\n",
      "  df = fun(x) - f0\n"
     ]
    },
    {
     "name": "stdout",
     "output_type": "stream",
     "text": [
      "Update 1: 0.12413957426248226\n",
      "Update 2: 0.12413957426248218\n",
      "when m = 5\n",
      "Update 0: 0.25226177130991184\n",
      "Update 1: 0.25226177130991184\n",
      "Final loss: 0.12413909259923858\n",
      "Time taken(s): 12.20\n",
      "Generating 5 best initial betas out of 1000...\n"
     ]
    },
    {
     "name": "stderr",
     "output_type": "stream",
     "text": [
      "D:\\CAViaR-Project\\test\\..\\var_tests\\_test.py:76: RuntimeWarning: invalid value encountered in double_scalars\n",
      "  LR_POF = -2 * np.log(numerator / denominator)\n",
      "D:\\CAViaR-Project\\test\\..\\var_tests\\_test.py:111: RuntimeWarning: invalid value encountered in double_scalars\n",
      "  LR_CCI = -2 * np.log(numerator / denominator)\n"
     ]
    },
    {
     "name": "stdout",
     "output_type": "stream",
     "text": [
      "Optimizing...\n",
      "when m = 1\n",
      "Update 0: 0.1531205309062606\n",
      "Update 1: 0.1531205309062606\n",
      "when m = 2\n",
      "Update 0: 0.15333772571400212\n"
     ]
    },
    {
     "name": "stderr",
     "output_type": "stream",
     "text": [
      "D:\\CAViaR-Project\\test\\..\\caviar\\_caviar_function.py:63: RuntimeWarning: overflow encountered in double_scalars\n",
      "  VaRs[t + 1] = b1 + b2 * VaRs[t] + b3 * max(returns[t], 0) + b4 * min(returns[t], 0)\n",
      "C:\\Users\\Jasper\\anaconda3\\lib\\site-packages\\scipy\\optimize\\_numdiff.py:576: RuntimeWarning: invalid value encountered in subtract\n",
      "  df = fun(x) - f0\n"
     ]
    },
    {
     "name": "stdout",
     "output_type": "stream",
     "text": [
      "Update 1: 0.12413924271193837\n",
      "Update 2: 0.12413924271193838\n",
      "when m = 3\n",
      "Update 0: 0.15670177025968154\n",
      "Update 1: 0.15670177025968154\n",
      "when m = 4\n",
      "Update 0: 0.1640659822646795\n",
      "Update 1: 0.1640659822646795\n",
      "when m = 5\n",
      "Update 0: 0.19601721111021522\n",
      "Update 1: 0.19601721111021522\n",
      "Final loss: 0.12413924271193837\n",
      "Time taken(s): 8.42\n"
     ]
    },
    {
     "name": "stderr",
     "output_type": "stream",
     "text": [
      "D:\\CAViaR-Project\\test\\..\\var_tests\\_test.py:76: RuntimeWarning: invalid value encountered in double_scalars\n",
      "  LR_POF = -2 * np.log(numerator / denominator)\n",
      "D:\\CAViaR-Project\\test\\..\\var_tests\\_test.py:111: RuntimeWarning: invalid value encountered in double_scalars\n",
      "  LR_CCI = -2 * np.log(numerator / denominator)\n"
     ]
    },
    {
     "name": "stdout",
     "output_type": "stream",
     "text": [
      "Generating 5 best initial betas out of 1000...\n",
      "Optimizing...\n",
      "when m = 1\n",
      "Update 0: 0.16469169314561935\n",
      "Update 1: 0.16469169314561935\n",
      "when m = 2\n",
      "Update 0: 0.1778720984322301\n"
     ]
    },
    {
     "name": "stderr",
     "output_type": "stream",
     "text": [
      "D:\\CAViaR-Project\\test\\..\\caviar\\_caviar_function.py:63: RuntimeWarning: overflow encountered in double_scalars\n",
      "  VaRs[t + 1] = b1 + b2 * VaRs[t] + b3 * max(returns[t], 0) + b4 * min(returns[t], 0)\n",
      "C:\\Users\\Jasper\\anaconda3\\lib\\site-packages\\scipy\\optimize\\_numdiff.py:576: RuntimeWarning: invalid value encountered in subtract\n",
      "  df = fun(x) - f0\n"
     ]
    },
    {
     "name": "stdout",
     "output_type": "stream",
     "text": [
      "Update 1: 0.12413925496774582\n",
      "Update 2: 0.12413923642555985\n",
      "Update 3: 0.12413923642555985\n",
      "when m = 3\n",
      "Update 0: 0.2203196103465557\n",
      "Update 1: 0.12413913470548821\n",
      "Update 2: 0.12413907981765776\n",
      "Update 3: 0.12413907981765776\n",
      "when m = 4\n",
      "Update 0: 0.2585087688939278\n",
      "Update 1: 0.12413911723660952\n",
      "Update 2: 0.12413910097816226\n",
      "Update 3: 0.1241391009781623\n",
      "when m = 5\n",
      "Update 0: 0.2714437545690501\n",
      "Update 1: 0.12413905321279958\n",
      "Update 2: 0.12413905190704505\n",
      "Update 3: 0.12413905190704505\n",
      "Final loss: 0.12413905190704505\n",
      "Time taken(s): 17.77\n"
     ]
    },
    {
     "name": "stderr",
     "output_type": "stream",
     "text": [
      "D:\\CAViaR-Project\\test\\..\\var_tests\\_test.py:76: RuntimeWarning: invalid value encountered in double_scalars\n",
      "  LR_POF = -2 * np.log(numerator / denominator)\n",
      "D:\\CAViaR-Project\\test\\..\\var_tests\\_test.py:111: RuntimeWarning: invalid value encountered in double_scalars\n",
      "  LR_CCI = -2 * np.log(numerator / denominator)\n"
     ]
    },
    {
     "name": "stdout",
     "output_type": "stream",
     "text": [
      "Generating 5 best initial betas out of 1000...\n",
      "Optimizing...\n",
      "when m = 1\n",
      "Update 0: 0.1969914144887076\n",
      "Update 1: 0.1969914144887076\n",
      "when m = 2\n",
      "Update 0: 0.21596975556403009\n",
      "Update 1: 0.21596975556403009\n",
      "when m = 3\n",
      "Update 0: 0.26227007156179516\n"
     ]
    },
    {
     "name": "stderr",
     "output_type": "stream",
     "text": [
      "D:\\CAViaR-Project\\test\\..\\caviar\\_caviar_function.py:63: RuntimeWarning: overflow encountered in double_scalars\n",
      "  VaRs[t + 1] = b1 + b2 * VaRs[t] + b3 * max(returns[t], 0) + b4 * min(returns[t], 0)\n",
      "C:\\Users\\Jasper\\anaconda3\\lib\\site-packages\\scipy\\optimize\\_numdiff.py:576: RuntimeWarning: invalid value encountered in subtract\n",
      "  df = fun(x) - f0\n"
     ]
    },
    {
     "name": "stdout",
     "output_type": "stream",
     "text": [
      "Update 1: 0.1241392622319178\n",
      "Update 2: 0.1241392622319178\n",
      "when m = 4\n",
      "Update 0: 0.29441127646770726\n",
      "Update 1: 0.12413909877300565\n",
      "Update 2: 0.12413909877300565\n",
      "when m = 5\n",
      "Update 0: 0.3024718044021867\n",
      "Update 1: 0.12414055963913785\n",
      "Update 2: 0.12414055963913785\n",
      "Final loss: 0.12413909877300565\n",
      "Time taken(s): 11.35\n",
      "Generating 5 best initial betas out of 1000...\n"
     ]
    },
    {
     "name": "stderr",
     "output_type": "stream",
     "text": [
      "D:\\CAViaR-Project\\test\\..\\var_tests\\_test.py:76: RuntimeWarning: invalid value encountered in double_scalars\n",
      "  LR_POF = -2 * np.log(numerator / denominator)\n",
      "D:\\CAViaR-Project\\test\\..\\var_tests\\_test.py:111: RuntimeWarning: invalid value encountered in double_scalars\n",
      "  LR_CCI = -2 * np.log(numerator / denominator)\n"
     ]
    },
    {
     "name": "stdout",
     "output_type": "stream",
     "text": [
      "Optimizing...\n",
      "when m = 1\n",
      "Update 0: 0.20635394590523062\n",
      "Update 1: 0.20635394590523062\n",
      "when m = 2\n",
      "Update 0: 0.2649862694668098\n"
     ]
    },
    {
     "name": "stderr",
     "output_type": "stream",
     "text": [
      "D:\\CAViaR-Project\\test\\..\\caviar\\_caviar_function.py:63: RuntimeWarning: overflow encountered in double_scalars\n",
      "  VaRs[t + 1] = b1 + b2 * VaRs[t] + b3 * max(returns[t], 0) + b4 * min(returns[t], 0)\n",
      "C:\\Users\\Jasper\\anaconda3\\lib\\site-packages\\scipy\\optimize\\_numdiff.py:576: RuntimeWarning: invalid value encountered in subtract\n",
      "  df = fun(x) - f0\n"
     ]
    },
    {
     "name": "stdout",
     "output_type": "stream",
     "text": [
      "Update 1: 0.12498011302737226\n",
      "Update 2: 0.12414606071679443\n",
      "Update 3: 0.12414291678783808\n",
      "Update 4: 0.12414291678783808\n",
      "when m = 3\n",
      "Update 0: 0.2652200881018977\n",
      "Update 1: 0.1241392813130143\n",
      "Update 2: 0.12413920335468603\n",
      "Update 3: 0.12413920217550257\n",
      "Update 4: 0.12413920217550257\n",
      "when m = 4\n",
      "Update 0: 0.28961941277445064\n",
      "Update 1: 0.12413936879879371\n",
      "Update 2: 0.12413936879879371\n",
      "when m = 5\n",
      "Update 0: 0.3195489457059894\n",
      "Update 1: 0.12413909310078003\n",
      "Update 2: 0.12413909310078002\n",
      "Final loss: 0.12413909310078003\n",
      "Time taken(s): 17.33\n"
     ]
    },
    {
     "name": "stderr",
     "output_type": "stream",
     "text": [
      "D:\\CAViaR-Project\\test\\..\\var_tests\\_test.py:76: RuntimeWarning: invalid value encountered in double_scalars\n",
      "  LR_POF = -2 * np.log(numerator / denominator)\n",
      "D:\\CAViaR-Project\\test\\..\\var_tests\\_test.py:111: RuntimeWarning: invalid value encountered in double_scalars\n",
      "  LR_CCI = -2 * np.log(numerator / denominator)\n"
     ]
    },
    {
     "name": "stdout",
     "output_type": "stream",
     "text": [
      "Generating 5 best initial betas out of 1000...\n",
      "Optimizing...\n",
      "when m = 1\n",
      "Update 0: 0.16522523359248828\n",
      "Update 1: 0.16522523359248828\n",
      "when m = 2\n",
      "Update 0: 0.16533693736669777\n",
      "Update 1: 0.16533693736669777\n",
      "when m = 3\n",
      "Update 0: 0.16963898370503974\n"
     ]
    },
    {
     "name": "stderr",
     "output_type": "stream",
     "text": [
      "D:\\CAViaR-Project\\test\\..\\caviar\\_caviar_function.py:63: RuntimeWarning: overflow encountered in double_scalars\n",
      "  VaRs[t + 1] = b1 + b2 * VaRs[t] + b3 * max(returns[t], 0) + b4 * min(returns[t], 0)\n",
      "C:\\Users\\Jasper\\anaconda3\\lib\\site-packages\\scipy\\optimize\\_numdiff.py:576: RuntimeWarning: invalid value encountered in subtract\n",
      "  df = fun(x) - f0\n"
     ]
    },
    {
     "name": "stdout",
     "output_type": "stream",
     "text": [
      "Update 1: 0.12413960226931967\n",
      "Update 2: 0.12413909595181201\n",
      "Update 3: 0.12413909595181201\n",
      "when m = 4\n",
      "Update 0: 0.1743378781561953\n",
      "Update 1: 0.1241396781433341\n",
      "Update 2: 0.1241396781433341\n",
      "when m = 5\n",
      "Update 0: 0.1813008771763663\n",
      "Update 1: 0.12602040158413025\n",
      "Update 2: 0.12602040158413025\n",
      "Final loss: 0.12413909595181201\n",
      "Time taken(s): 11.23\n",
      "Generating 5 best initial betas out of 1000...\n"
     ]
    },
    {
     "name": "stderr",
     "output_type": "stream",
     "text": [
      "D:\\CAViaR-Project\\test\\..\\var_tests\\_test.py:76: RuntimeWarning: invalid value encountered in double_scalars\n",
      "  LR_POF = -2 * np.log(numerator / denominator)\n",
      "D:\\CAViaR-Project\\test\\..\\var_tests\\_test.py:111: RuntimeWarning: invalid value encountered in double_scalars\n",
      "  LR_CCI = -2 * np.log(numerator / denominator)\n"
     ]
    },
    {
     "name": "stdout",
     "output_type": "stream",
     "text": [
      "Optimizing...\n",
      "when m = 1\n",
      "Update 0: 0.18165105722575275\n",
      "Update 1: 0.18165105722575275\n",
      "when m = 2\n",
      "Update 0: 0.18441465996167\n",
      "Update 1: 0.18441465996167\n",
      "when m = 3\n",
      "Update 0: 0.1915449385768395\n",
      "Update 1: "
     ]
    },
    {
     "name": "stderr",
     "output_type": "stream",
     "text": [
      "D:\\CAViaR-Project\\test\\..\\caviar\\_caviar_function.py:63: RuntimeWarning: overflow encountered in double_scalars\n",
      "  VaRs[t + 1] = b1 + b2 * VaRs[t] + b3 * max(returns[t], 0) + b4 * min(returns[t], 0)\n",
      "C:\\Users\\Jasper\\anaconda3\\lib\\site-packages\\scipy\\optimize\\_numdiff.py:576: RuntimeWarning: invalid value encountered in subtract\n",
      "  df = fun(x) - f0\n"
     ]
    },
    {
     "name": "stdout",
     "output_type": "stream",
     "text": [
      "0.1915449385768395\n",
      "when m = 4\n",
      "Update 0: 0.19668184023988947\n",
      "Update 1: 0.19668184023988947\n",
      "when m = 5\n",
      "Update 0: 0.24765494034859648\n",
      "Update 1: 0.12414231301746957\n",
      "Update 2: 0.12414231301746957\n",
      "Final loss: 0.12414231301746957\n",
      "Time taken(s): 7.44\n"
     ]
    },
    {
     "name": "stderr",
     "output_type": "stream",
     "text": [
      "D:\\CAViaR-Project\\test\\..\\var_tests\\_test.py:76: RuntimeWarning: invalid value encountered in double_scalars\n",
      "  LR_POF = -2 * np.log(numerator / denominator)\n",
      "D:\\CAViaR-Project\\test\\..\\var_tests\\_test.py:111: RuntimeWarning: invalid value encountered in double_scalars\n",
      "  LR_CCI = -2 * np.log(numerator / denominator)\n"
     ]
    },
    {
     "name": "stdout",
     "output_type": "stream",
     "text": [
      "Generating 5 best initial betas out of 1000...\n",
      "Optimizing...\n",
      "when m = 1\n",
      "Update 0: 0.20367578987587065\n",
      "Update 1: 0.20367578987587065\n",
      "when m = 2\n",
      "Update 0: 0.23288177056315387\n"
     ]
    },
    {
     "name": "stderr",
     "output_type": "stream",
     "text": [
      "D:\\CAViaR-Project\\test\\..\\caviar\\_caviar_function.py:63: RuntimeWarning: overflow encountered in double_scalars\n",
      "  VaRs[t + 1] = b1 + b2 * VaRs[t] + b3 * max(returns[t], 0) + b4 * min(returns[t], 0)\n",
      "C:\\Users\\Jasper\\anaconda3\\lib\\site-packages\\scipy\\optimize\\_numdiff.py:576: RuntimeWarning: invalid value encountered in subtract\n",
      "  df = fun(x) - f0\n"
     ]
    },
    {
     "name": "stdout",
     "output_type": "stream",
     "text": [
      "Update 1: 0.12413959468477939\n",
      "Update 2: 0.1241395946847794\n",
      "when m = 3\n",
      "Update 0: 0.24626235768621824\n",
      "Update 1: 0.24626235768621824\n",
      "when m = 4\n",
      "Update 0: 0.24870072693132964\n",
      "Update 1: 0.12413912156250959\n",
      "Update 2: 0.12413912156250959\n",
      "when m = 5\n",
      "Update 0: 0.25410508201971455\n",
      "Update 1: 0.12413907342150339\n",
      "Update 2: 0.12413907342150339\n",
      "Final loss: 0.12413907342150339\n",
      "Time taken(s): 11.53\n",
      "Generating 5 best initial betas out of 1000...\n"
     ]
    },
    {
     "name": "stderr",
     "output_type": "stream",
     "text": [
      "D:\\CAViaR-Project\\test\\..\\var_tests\\_test.py:76: RuntimeWarning: invalid value encountered in double_scalars\n",
      "  LR_POF = -2 * np.log(numerator / denominator)\n",
      "D:\\CAViaR-Project\\test\\..\\var_tests\\_test.py:111: RuntimeWarning: invalid value encountered in double_scalars\n",
      "  LR_CCI = -2 * np.log(numerator / denominator)\n"
     ]
    },
    {
     "name": "stdout",
     "output_type": "stream",
     "text": [
      "Optimizing...\n",
      "when m = 1\n",
      "Update 0: 0.15039772212744162\n",
      "Update 1: 0.15039772212744162\n",
      "when m = 2\n",
      "Update 0: 0.21480579292480997\n",
      "Update 1: 0.21480579292480997\n",
      "when m = 3\n",
      "Update 0: 0.2366274997774201\n"
     ]
    },
    {
     "name": "stderr",
     "output_type": "stream",
     "text": [
      "D:\\CAViaR-Project\\test\\..\\caviar\\_caviar_function.py:63: RuntimeWarning: overflow encountered in double_scalars\n",
      "  VaRs[t + 1] = b1 + b2 * VaRs[t] + b3 * max(returns[t], 0) + b4 * min(returns[t], 0)\n",
      "C:\\Users\\Jasper\\anaconda3\\lib\\site-packages\\scipy\\optimize\\_numdiff.py:576: RuntimeWarning: invalid value encountered in subtract\n",
      "  df = fun(x) - f0\n"
     ]
    },
    {
     "name": "stdout",
     "output_type": "stream",
     "text": [
      "Update 1: 0.12413915254132925\n",
      "Update 2: 0.12413915235863861\n",
      "Update 3: 0.12413915235863861\n",
      "when m = 4\n",
      "Update 0: 0.24347611731384058\n",
      "Update 1: 0.12413945860105788\n",
      "Update 2: 0.12413945860105788\n",
      "when m = 5\n",
      "Update 0: 0.24594225060322\n",
      "Update 1: 0.12413928798120902\n",
      "Update 2: 0.12413928798120902\n",
      "Final loss: 0.12413915235863861\n",
      "Time taken(s): 12.22\n",
      "Generating 5 best initial betas out of 1000...\n"
     ]
    },
    {
     "name": "stderr",
     "output_type": "stream",
     "text": [
      "D:\\CAViaR-Project\\test\\..\\var_tests\\_test.py:76: RuntimeWarning: invalid value encountered in double_scalars\n",
      "  LR_POF = -2 * np.log(numerator / denominator)\n",
      "D:\\CAViaR-Project\\test\\..\\var_tests\\_test.py:111: RuntimeWarning: invalid value encountered in double_scalars\n",
      "  LR_CCI = -2 * np.log(numerator / denominator)\n"
     ]
    },
    {
     "name": "stdout",
     "output_type": "stream",
     "text": [
      "Optimizing...\n",
      "when m = 1\n",
      "Update 0: 0.14897894139975923\n",
      "Update 1: 0.12413906029234516\n",
      "Update 2: 0.12413906008231342\n"
     ]
    },
    {
     "name": "stderr",
     "output_type": "stream",
     "text": [
      "D:\\CAViaR-Project\\test\\..\\caviar\\_caviar_function.py:63: RuntimeWarning: overflow encountered in double_scalars\n",
      "  VaRs[t + 1] = b1 + b2 * VaRs[t] + b3 * max(returns[t], 0) + b4 * min(returns[t], 0)\n",
      "C:\\Users\\Jasper\\anaconda3\\lib\\site-packages\\scipy\\optimize\\_numdiff.py:576: RuntimeWarning: invalid value encountered in subtract\n",
      "  df = fun(x) - f0\n"
     ]
    },
    {
     "name": "stdout",
     "output_type": "stream",
     "text": [
      "Update 3: 0.12413906008231342\n",
      "when m = 2\n",
      "Update 0: 0.19799321779857557\n",
      "Update 1: 0.12414059717533801\n",
      "Update 2: 0.12414059717533801\n",
      "when m = 3\n",
      "Update 0: 0.21746424435595912\n",
      "Update 1: 0.21746424435595912\n",
      "when m = 4\n",
      "Update 0: 0.2336580060980191\n",
      "Update 1: 0.12413946862370442\n",
      "Update 2: 0.12413946683999613\n",
      "Update 3: 0.12413946683999613\n",
      "when m = 5\n",
      "Update 0: 0.28677572557166586\n",
      "Update 1: 0.12414016233379116\n",
      "Update 2: 0.12414016233379116\n",
      "Final loss: 0.12413906008231342\n",
      "Time taken(s): 12.39\n",
      "Generating 5 best initial betas out of 1000...\n"
     ]
    },
    {
     "name": "stderr",
     "output_type": "stream",
     "text": [
      "D:\\CAViaR-Project\\test\\..\\var_tests\\_test.py:76: RuntimeWarning: invalid value encountered in double_scalars\n",
      "  LR_POF = -2 * np.log(numerator / denominator)\n",
      "D:\\CAViaR-Project\\test\\..\\var_tests\\_test.py:111: RuntimeWarning: invalid value encountered in double_scalars\n",
      "  LR_CCI = -2 * np.log(numerator / denominator)\n"
     ]
    },
    {
     "name": "stdout",
     "output_type": "stream",
     "text": [
      "Optimizing...\n",
      "when m = 1\n",
      "Update 0: 0.1534814061136771\n",
      "Update 1: 0.1534814061136771\n",
      "when m = 2\n",
      "Update 0: 0.18803820330478865\n",
      "Update 1: 0.18803820330478865\n",
      "when m = 3\n",
      "Update 0: 0.24013394916477554\n"
     ]
    },
    {
     "name": "stderr",
     "output_type": "stream",
     "text": [
      "D:\\CAViaR-Project\\test\\..\\caviar\\_caviar_function.py:63: RuntimeWarning: overflow encountered in double_scalars\n",
      "  VaRs[t + 1] = b1 + b2 * VaRs[t] + b3 * max(returns[t], 0) + b4 * min(returns[t], 0)\n",
      "C:\\Users\\Jasper\\anaconda3\\lib\\site-packages\\scipy\\optimize\\_numdiff.py:576: RuntimeWarning: invalid value encountered in subtract\n",
      "  df = fun(x) - f0\n"
     ]
    },
    {
     "name": "stdout",
     "output_type": "stream",
     "text": [
      "Update 1: 0.12413939089876476\n",
      "Update 2: 0.12413936630054379\n",
      "Update 3: 0.12413936630054379\n",
      "when m = 4\n",
      "Update 0: 0.24714273306913329\n",
      "Update 1: 0.24714273306913329\n",
      "when m = 5\n",
      "Update 0: 0.28591689102007745\n",
      "Update 1: 0.1241390972531552\n",
      "Update 2: 0.12413909725315521\n",
      "Final loss: 0.1241390972531552\n",
      "Time taken(s): 12.66\n"
     ]
    },
    {
     "name": "stderr",
     "output_type": "stream",
     "text": [
      "D:\\CAViaR-Project\\test\\..\\var_tests\\_test.py:76: RuntimeWarning: invalid value encountered in double_scalars\n",
      "  LR_POF = -2 * np.log(numerator / denominator)\n",
      "D:\\CAViaR-Project\\test\\..\\var_tests\\_test.py:111: RuntimeWarning: invalid value encountered in double_scalars\n",
      "  LR_CCI = -2 * np.log(numerator / denominator)\n"
     ]
    },
    {
     "name": "stdout",
     "output_type": "stream",
     "text": [
      "Generating 5 best initial betas out of 1000...\n",
      "Optimizing...\n",
      "when m = 1\n",
      "Update 0: 0.17883090741722124\n",
      "Update 1: 0.124140141728455\n",
      "Update 2: 0.12413950606702698\n",
      "Update 3: 0.12413950606702698\n",
      "when m = 2\n",
      "Update 0: 0.21580699914081733\n"
     ]
    },
    {
     "name": "stderr",
     "output_type": "stream",
     "text": [
      "D:\\CAViaR-Project\\test\\..\\caviar\\_caviar_function.py:63: RuntimeWarning: overflow encountered in double_scalars\n",
      "  VaRs[t + 1] = b1 + b2 * VaRs[t] + b3 * max(returns[t], 0) + b4 * min(returns[t], 0)\n",
      "C:\\Users\\Jasper\\anaconda3\\lib\\site-packages\\scipy\\optimize\\_numdiff.py:576: RuntimeWarning: invalid value encountered in subtract\n",
      "  df = fun(x) - f0\n"
     ]
    },
    {
     "name": "stdout",
     "output_type": "stream",
     "text": [
      "Update 1: 0.1241390791678467\n",
      "Update 2: 0.1241390791678467\n",
      "when m = 3\n",
      "Update 0: 0.22325720893263945\n",
      "Update 1: 0.22325720893263945\n",
      "when m = 4\n",
      "Update 0: 0.26160518627945784\n",
      "Update 1: 0.12414006794396709\n",
      "Update 2: 0.12414006794396709\n",
      "when m = 5\n",
      "Update 0: 0.2650588494413035\n",
      "Update 1: 0.12413910402239431\n",
      "Update 2: 0.12413910237948583\n",
      "Update 3: 0.12413910237948583\n",
      "Final loss: 0.1241390791678467\n",
      "Time taken(s): 14.47\n",
      "Generating 5 best initial betas out of 1000...\n"
     ]
    },
    {
     "name": "stderr",
     "output_type": "stream",
     "text": [
      "D:\\CAViaR-Project\\test\\..\\var_tests\\_test.py:76: RuntimeWarning: invalid value encountered in double_scalars\n",
      "  LR_POF = -2 * np.log(numerator / denominator)\n",
      "D:\\CAViaR-Project\\test\\..\\var_tests\\_test.py:111: RuntimeWarning: invalid value encountered in double_scalars\n",
      "  LR_CCI = -2 * np.log(numerator / denominator)\n"
     ]
    },
    {
     "name": "stdout",
     "output_type": "stream",
     "text": [
      "Optimizing...\n",
      "when m = 1\n",
      "Update 0: 0.22645233951682464\n",
      "Update 1: 0.22645233951682464\n",
      "when m = 2\n",
      "Update 0: 0.23117426961165377\n"
     ]
    },
    {
     "name": "stderr",
     "output_type": "stream",
     "text": [
      "D:\\CAViaR-Project\\test\\..\\caviar\\_caviar_function.py:63: RuntimeWarning: overflow encountered in double_scalars\n",
      "  VaRs[t + 1] = b1 + b2 * VaRs[t] + b3 * max(returns[t], 0) + b4 * min(returns[t], 0)\n",
      "C:\\Users\\Jasper\\anaconda3\\lib\\site-packages\\scipy\\optimize\\_numdiff.py:576: RuntimeWarning: invalid value encountered in subtract\n",
      "  df = fun(x) - f0\n"
     ]
    },
    {
     "name": "stdout",
     "output_type": "stream",
     "text": [
      "Update 1: 0.12413917801413364\n",
      "Update 2: 0.12413917801413364\n",
      "when m = 3\n",
      "Update 0: 0.29691769372249016\n",
      "Update 1: 0.12413911691078229\n",
      "Update 2: 0.12413909907222573\n",
      "Update 3: 0.12413909895649058\n",
      "Update 4: 0.1241390989564906\n",
      "when m = 4\n",
      "Update 0: 0.3132442553737691\n",
      "Update 1: 0.12413909963084963\n",
      "Update 2: 0.12413909820514489\n",
      "Update 3: 0.1241390982051449\n",
      "when m = 5\n",
      "Update 0: 0.3159998939554007\n",
      "Update 1: 0.12413912236725795\n",
      "Update 2: 0.12413912236725795\n",
      "Final loss: 0.12413909820514489\n",
      "Time taken(s): 16.66\n",
      "Generating 5 best initial betas out of 1000...\n"
     ]
    },
    {
     "name": "stderr",
     "output_type": "stream",
     "text": [
      "D:\\CAViaR-Project\\test\\..\\var_tests\\_test.py:76: RuntimeWarning: invalid value encountered in double_scalars\n",
      "  LR_POF = -2 * np.log(numerator / denominator)\n",
      "D:\\CAViaR-Project\\test\\..\\var_tests\\_test.py:111: RuntimeWarning: invalid value encountered in double_scalars\n",
      "  LR_CCI = -2 * np.log(numerator / denominator)\n"
     ]
    },
    {
     "name": "stdout",
     "output_type": "stream",
     "text": [
      "Optimizing...\n",
      "when m = 1\n",
      "Update 0: 0.1708599757697129\n",
      "Update 1: 0.1708599757697129\n",
      "when m = 2\n",
      "Update 0: 0.19851485726208515\n"
     ]
    },
    {
     "name": "stderr",
     "output_type": "stream",
     "text": [
      "D:\\CAViaR-Project\\test\\..\\caviar\\_caviar_function.py:63: RuntimeWarning: overflow encountered in double_scalars\n",
      "  VaRs[t + 1] = b1 + b2 * VaRs[t] + b3 * max(returns[t], 0) + b4 * min(returns[t], 0)\n",
      "C:\\Users\\Jasper\\anaconda3\\lib\\site-packages\\scipy\\optimize\\_numdiff.py:576: RuntimeWarning: invalid value encountered in subtract\n",
      "  df = fun(x) - f0\n"
     ]
    },
    {
     "name": "stdout",
     "output_type": "stream",
     "text": [
      "Update 1: 0.1241391286590414\n",
      "Update 2: 0.1241391286590414\n",
      "when m = 3\n",
      "Update 0: 0.20873683496473783\n",
      "Update 1: 0.1241394282705003\n",
      "Update 2: 0.1241394282705003\n",
      "when m = 4\n",
      "Update 0: 0.2262538481620159\n",
      "Update 1: 0.12413909202669926\n",
      "Update 2: 0.12413909202669925\n",
      "when m = 5\n",
      "Update 0: 0.2807836160264709\n",
      "Update 1: 0.12413917637989821\n",
      "Update 2: 0.12413913098273496\n",
      "Update 3: 0.12413913095964954\n",
      "Final loss: 0.12413909202669926\n",
      "Time taken(s): 13.85\n"
     ]
    },
    {
     "name": "stderr",
     "output_type": "stream",
     "text": [
      "D:\\CAViaR-Project\\test\\..\\var_tests\\_test.py:76: RuntimeWarning: invalid value encountered in double_scalars\n",
      "  LR_POF = -2 * np.log(numerator / denominator)\n",
      "D:\\CAViaR-Project\\test\\..\\var_tests\\_test.py:111: RuntimeWarning: invalid value encountered in double_scalars\n",
      "  LR_CCI = -2 * np.log(numerator / denominator)\n"
     ]
    },
    {
     "name": "stdout",
     "output_type": "stream",
     "text": [
      "Generating 5 best initial betas out of 1000...\n",
      "Optimizing...\n",
      "when m = 1\n",
      "Update 0: 0.16524214015222874\n",
      "Update 1: 0.16524214015222874\n",
      "when m = 2\n",
      "Update 0: 0.1848554461443575\n",
      "Update 1: 0.1848554461443575\n",
      "when m = 3\n",
      "Update 0: 0.24464180936464588\n"
     ]
    },
    {
     "name": "stderr",
     "output_type": "stream",
     "text": [
      "D:\\CAViaR-Project\\test\\..\\caviar\\_caviar_function.py:63: RuntimeWarning: overflow encountered in double_scalars\n",
      "  VaRs[t + 1] = b1 + b2 * VaRs[t] + b3 * max(returns[t], 0) + b4 * min(returns[t], 0)\n",
      "C:\\Users\\Jasper\\anaconda3\\lib\\site-packages\\scipy\\optimize\\_numdiff.py:576: RuntimeWarning: invalid value encountered in subtract\n",
      "  df = fun(x) - f0\n"
     ]
    },
    {
     "name": "stdout",
     "output_type": "stream",
     "text": [
      "Update 1: 0.12413907371540493\n",
      "Update 2: 0.12413907004763503\n",
      "Update 3: 0.12413907004763501\n",
      "when m = 4\n",
      "Update 0: 0.25781015136848856\n",
      "Update 1: 0.12413952415812968\n",
      "Update 2: 0.12413952415812968\n",
      "when m = 5\n",
      "Update 0: 0.28346106613264516\n",
      "Update 1: 0.1241398358195718\n",
      "Update 2: 0.1241398358195718\n",
      "Final loss: 0.12413907004763503\n",
      "Time taken(s): 11.81\n",
      "Generating 5 best initial betas out of 1000...\n"
     ]
    },
    {
     "name": "stderr",
     "output_type": "stream",
     "text": [
      "D:\\CAViaR-Project\\test\\..\\var_tests\\_test.py:76: RuntimeWarning: invalid value encountered in double_scalars\n",
      "  LR_POF = -2 * np.log(numerator / denominator)\n",
      "D:\\CAViaR-Project\\test\\..\\var_tests\\_test.py:111: RuntimeWarning: invalid value encountered in double_scalars\n",
      "  LR_CCI = -2 * np.log(numerator / denominator)\n"
     ]
    },
    {
     "name": "stdout",
     "output_type": "stream",
     "text": [
      "Optimizing...\n",
      "when m = 1\n",
      "Update 0: 0.1938986251373503\n",
      "Update 1: 0.1938986251373503\n",
      "when m = 2\n",
      "Update 0: 0.20254467033775744\n",
      "Update 1: 0.20254467033775744\n",
      "when m = 3\n",
      "Update 0: 0.2075952838632201\n"
     ]
    },
    {
     "name": "stderr",
     "output_type": "stream",
     "text": [
      "D:\\CAViaR-Project\\test\\..\\caviar\\_caviar_function.py:63: RuntimeWarning: overflow encountered in double_scalars\n",
      "  VaRs[t + 1] = b1 + b2 * VaRs[t] + b3 * max(returns[t], 0) + b4 * min(returns[t], 0)\n",
      "C:\\Users\\Jasper\\anaconda3\\lib\\site-packages\\scipy\\optimize\\_numdiff.py:576: RuntimeWarning: invalid value encountered in subtract\n",
      "  df = fun(x) - f0\n"
     ]
    },
    {
     "name": "stdout",
     "output_type": "stream",
     "text": [
      "Update 1: 0.12413986923547862\n",
      "Update 2: 0.12413986923547862\n",
      "when m = 4\n",
      "Update 0: 0.25936807904948983\n",
      "Update 1: 0.12413911556045805\n",
      "Update 2: 0.12413911555665942\n",
      "when m = 5\n",
      "Update 0: 0.2830641915161945\n",
      "Update 1: 0.12414332456427876\n",
      "Update 2: 0.12414332456427876\n",
      "Final loss: 0.12413911555665942\n",
      "Time taken(s): 11.87\n",
      "Generating 5 best initial betas out of 1000...\n"
     ]
    },
    {
     "name": "stderr",
     "output_type": "stream",
     "text": [
      "D:\\CAViaR-Project\\test\\..\\var_tests\\_test.py:76: RuntimeWarning: invalid value encountered in double_scalars\n",
      "  LR_POF = -2 * np.log(numerator / denominator)\n",
      "D:\\CAViaR-Project\\test\\..\\var_tests\\_test.py:111: RuntimeWarning: invalid value encountered in double_scalars\n",
      "  LR_CCI = -2 * np.log(numerator / denominator)\n"
     ]
    },
    {
     "name": "stdout",
     "output_type": "stream",
     "text": [
      "Optimizing...\n",
      "when m = 1\n",
      "Update 0: 0.16308280934798114\n",
      "Update 1: 0.12413910341186728\n",
      "Update 2: 0.12413910341186728\n",
      "when m = 2\n",
      "Update 0: 0.17694872076218487\n"
     ]
    },
    {
     "name": "stderr",
     "output_type": "stream",
     "text": [
      "D:\\CAViaR-Project\\test\\..\\caviar\\_caviar_function.py:63: RuntimeWarning: overflow encountered in double_scalars\n",
      "  VaRs[t + 1] = b1 + b2 * VaRs[t] + b3 * max(returns[t], 0) + b4 * min(returns[t], 0)\n",
      "C:\\Users\\Jasper\\anaconda3\\lib\\site-packages\\scipy\\optimize\\_numdiff.py:576: RuntimeWarning: invalid value encountered in subtract\n",
      "  df = fun(x) - f0\n"
     ]
    },
    {
     "name": "stdout",
     "output_type": "stream",
     "text": [
      "Update 1: 0.12414009679364676\n",
      "Update 2: 0.12414009679364676\n",
      "when m = 3\n",
      "Update 0: 0.20343753534114073\n",
      "Update 1: 0.12413936903371853\n",
      "Update 2: 0.12413936903371853\n",
      "when m = 4\n",
      "Update 0: 0.248131657340119\n",
      "Update 1: 0.12413911167430194\n",
      "Update 2: 0.12413911167430194\n",
      "when m = 5\n",
      "Update 0: 0.2610461546280116\n",
      "Update 1: 0.2610461546280116\n",
      "Final loss: 0.12413910341186728\n",
      "Time taken(s): 14.35\n",
      "Generating 5 best initial betas out of 1000...\n"
     ]
    },
    {
     "name": "stderr",
     "output_type": "stream",
     "text": [
      "D:\\CAViaR-Project\\test\\..\\var_tests\\_test.py:76: RuntimeWarning: invalid value encountered in double_scalars\n",
      "  LR_POF = -2 * np.log(numerator / denominator)\n",
      "D:\\CAViaR-Project\\test\\..\\var_tests\\_test.py:111: RuntimeWarning: invalid value encountered in double_scalars\n",
      "  LR_CCI = -2 * np.log(numerator / denominator)\n"
     ]
    },
    {
     "name": "stdout",
     "output_type": "stream",
     "text": [
      "Optimizing...\n",
      "when m = 1\n",
      "Update 0: 0.17510949144649643\n",
      "Update 1: 0.12413910839465811\n",
      "Update 2: 0.12413907237989615\n",
      "Update 3: 0.12413907237989615\n",
      "when m = 2\n",
      "Update 0: 0.1982667601234423\n"
     ]
    },
    {
     "name": "stderr",
     "output_type": "stream",
     "text": [
      "D:\\CAViaR-Project\\test\\..\\caviar\\_caviar_function.py:63: RuntimeWarning: overflow encountered in double_scalars\n",
      "  VaRs[t + 1] = b1 + b2 * VaRs[t] + b3 * max(returns[t], 0) + b4 * min(returns[t], 0)\n",
      "C:\\Users\\Jasper\\anaconda3\\lib\\site-packages\\scipy\\optimize\\_numdiff.py:576: RuntimeWarning: invalid value encountered in subtract\n",
      "  df = fun(x) - f0\n"
     ]
    },
    {
     "name": "stdout",
     "output_type": "stream",
     "text": [
      "Update 1: 0.12414098646378013\n",
      "Update 2: 0.12414098646378013\n",
      "when m = 3\n",
      "Update 0: 0.28713394540920106\n",
      "Update 1: 0.12413930094439107\n",
      "Update 2: 0.12413930094439107\n",
      "when m = 4\n",
      "Update 0: 0.29392210265354896\n",
      "Update 1: 0.13218063931412055\n",
      "Update 2: 0.1241396166565997\n",
      "Update 3: 0.1241396166565997\n",
      "when m = 5\n",
      "Update 0: 0.30509585005400597\n",
      "Update 1: 0.12413913560320389\n",
      "Update 2: 0.1241391292067638\n",
      "Update 3: 0.12413912920676377\n",
      "Final loss: 0.12413907237989615\n",
      "Time taken(s): 18.05\n"
     ]
    },
    {
     "name": "stderr",
     "output_type": "stream",
     "text": [
      "D:\\CAViaR-Project\\test\\..\\var_tests\\_test.py:76: RuntimeWarning: invalid value encountered in double_scalars\n",
      "  LR_POF = -2 * np.log(numerator / denominator)\n",
      "D:\\CAViaR-Project\\test\\..\\var_tests\\_test.py:111: RuntimeWarning: invalid value encountered in double_scalars\n",
      "  LR_CCI = -2 * np.log(numerator / denominator)\n"
     ]
    },
    {
     "name": "stdout",
     "output_type": "stream",
     "text": [
      "Generating 5 best initial betas out of 1000...\n",
      "Optimizing...\n",
      "when m = 1\n",
      "Update 0: 0.1727137508957105\n"
     ]
    },
    {
     "name": "stderr",
     "output_type": "stream",
     "text": [
      "D:\\CAViaR-Project\\test\\..\\caviar\\_caviar_function.py:63: RuntimeWarning: overflow encountered in double_scalars\n",
      "  VaRs[t + 1] = b1 + b2 * VaRs[t] + b3 * max(returns[t], 0) + b4 * min(returns[t], 0)\n",
      "C:\\Users\\Jasper\\anaconda3\\lib\\site-packages\\scipy\\optimize\\_numdiff.py:576: RuntimeWarning: invalid value encountered in subtract\n",
      "  df = fun(x) - f0\n"
     ]
    },
    {
     "name": "stdout",
     "output_type": "stream",
     "text": [
      "Update 1: 0.12413946681655184\n",
      "Update 2: 0.12413946681655184\n",
      "when m = 2\n",
      "Update 0: 0.22832434640989685\n",
      "Update 1: 0.12413908855986484\n",
      "Update 2: 0.12413908855986484\n",
      "when m = 3\n",
      "Update 0: 0.2510292471994719\n",
      "Update 1: 0.12413949170322265\n",
      "Update 2: 0.12413949162936203\n",
      "when m = 4\n",
      "Update 0: 0.2594705323961221\n",
      "Update 1: 0.12413942336811933\n",
      "Update 2: 0.12413942336811933\n",
      "when m = 5\n",
      "Update 0: 0.26481325669313616\n",
      "Update 1: 0.12414230253539094\n",
      "Update 2: 0.12414230253539094\n",
      "Final loss: 0.12413908855986484\n",
      "Time taken(s): 14.66\n"
     ]
    },
    {
     "name": "stderr",
     "output_type": "stream",
     "text": [
      "D:\\CAViaR-Project\\test\\..\\var_tests\\_test.py:76: RuntimeWarning: invalid value encountered in double_scalars\n",
      "  LR_POF = -2 * np.log(numerator / denominator)\n",
      "D:\\CAViaR-Project\\test\\..\\var_tests\\_test.py:111: RuntimeWarning: invalid value encountered in double_scalars\n",
      "  LR_CCI = -2 * np.log(numerator / denominator)\n"
     ]
    },
    {
     "name": "stdout",
     "output_type": "stream",
     "text": [
      "Runing quantile: 0.05, model: igarch, method: numeric\n",
      "Generating 5 best initial betas out of 1000...\n",
      "Optimizing...\n",
      "when m = 1\n",
      "Update 0: 0.1281879604670063\n",
      "Update 1: 0.1281879604670063\n",
      "when m = 2\n",
      "Update 0: 0.12827625956246816\n"
     ]
    },
    {
     "name": "stderr",
     "output_type": "stream",
     "text": [
      "D:\\CAViaR-Project\\test\\..\\caviar\\_caviar_function.py:84: RuntimeWarning: overflow encountered in double_scalars\n",
      "  VaRs[t + 1] = (b1 + b2 * VaRs[t] ** 2 + b3 * returns[t] ** 2) ** 0.5\n",
      "C:\\Users\\Jasper\\anaconda3\\lib\\site-packages\\scipy\\optimize\\_numdiff.py:576: RuntimeWarning: invalid value encountered in subtract\n",
      "  df = fun(x) - f0\n",
      "D:\\CAViaR-Project\\test\\..\\caviar\\_caviar_function.py:84: RuntimeWarning: invalid value encountered in double_scalars\n",
      "  VaRs[t + 1] = (b1 + b2 * VaRs[t] ** 2 + b3 * returns[t] ** 2) ** 0.5\n"
     ]
    },
    {
     "name": "stdout",
     "output_type": "stream",
     "text": [
      "Update 1: nan\n",
      "Update 2: nan\n",
      "Update 3: nan\n",
      "Update 4: nan\n",
      "Update 5: nan\n",
      "when m = 3\n",
      "Update 0: 0.1284814502240697\n",
      "Update 1: 0.1284814502240697\n",
      "when m = 4\n",
      "Update 0: 0.12861375548031945\n",
      "Update 1: 0.12861375548031945\n",
      "when m = 5\n",
      "Update 0: 0.12872412734815306\n",
      "Update 1: nan\n",
      "Update 2: nan\n",
      "Update 3: nan\n",
      "Update 4: nan\n",
      "Update 5: nan\n",
      "Final loss: 0.1281879604670063\n",
      "Time taken(s): 6.96\n",
      "Generating 5 best initial betas out of 1000...\n",
      "Optimizing...\n",
      "when m = 1\n",
      "Update 0: 0.12752430315739371\n"
     ]
    },
    {
     "name": "stderr",
     "output_type": "stream",
     "text": [
      "D:\\CAViaR-Project\\test\\..\\caviar\\_caviar_function.py:84: RuntimeWarning: invalid value encountered in double_scalars\n",
      "  VaRs[t + 1] = (b1 + b2 * VaRs[t] ** 2 + b3 * returns[t] ** 2) ** 0.5\n"
     ]
    },
    {
     "name": "stdout",
     "output_type": "stream",
     "text": [
      "Update 1: nan\n",
      "Update 2: nan\n",
      "Update 3: nan\n",
      "Update 4: nan\n",
      "Update 5: nan\n",
      "when m = 2\n",
      "Update 0: 0.12806723181621335\n",
      "Update 1: 0.12624942896689498\n",
      "Update 2: nan\n",
      "Update 3: nan\n",
      "Update 4: nan\n",
      "Update 5: nan\n",
      "when m = 3\n",
      "Update 0: 0.12821257349404766\n",
      "Update 1: 0.12821257349404766\n",
      "when m = 4\n",
      "Update 0: 0.12821996077883124\n",
      "Update 1: 0.12821996077883124\n",
      "when m = 5\n",
      "Update 0: 0.12844271748151287\n",
      "Update 1: 0.12844271748151287\n"
     ]
    },
    {
     "name": "stderr",
     "output_type": "stream",
     "text": [
      "D:\\CAViaR-Project\\test\\..\\caviar\\_caviar_function.py:84: RuntimeWarning: overflow encountered in double_scalars\n",
      "  VaRs[t + 1] = (b1 + b2 * VaRs[t] ** 2 + b3 * returns[t] ** 2) ** 0.5\n",
      "C:\\Users\\Jasper\\anaconda3\\lib\\site-packages\\scipy\\optimize\\_numdiff.py:576: RuntimeWarning: invalid value encountered in subtract\n",
      "  df = fun(x) - f0\n"
     ]
    },
    {
     "name": "stdout",
     "output_type": "stream",
     "text": [
      "Final loss: 0.12752430315739371\n",
      "Time taken(s): 8.18\n",
      "Generating 5 best initial betas out of 1000...\n",
      "Optimizing...\n",
      "when m = 1\n",
      "Update 0: 0.12667999370852173\n",
      "Update 1: 0.12667999370852173\n",
      "when m = 2\n",
      "Update 0: 0.12699019731883918\n",
      "Update 1: 0.12699019731883918\n",
      "when m = 3\n",
      "Update 0: 0.12759283624019482\n"
     ]
    },
    {
     "name": "stderr",
     "output_type": "stream",
     "text": [
      "D:\\CAViaR-Project\\test\\..\\caviar\\_caviar_function.py:84: RuntimeWarning: overflow encountered in double_scalars\n",
      "  VaRs[t + 1] = (b1 + b2 * VaRs[t] ** 2 + b3 * returns[t] ** 2) ** 0.5\n",
      "C:\\Users\\Jasper\\anaconda3\\lib\\site-packages\\scipy\\optimize\\_numdiff.py:576: RuntimeWarning: invalid value encountered in subtract\n",
      "  df = fun(x) - f0\n",
      "D:\\CAViaR-Project\\test\\..\\caviar\\_caviar_function.py:84: RuntimeWarning: invalid value encountered in double_scalars\n",
      "  VaRs[t + 1] = (b1 + b2 * VaRs[t] ** 2 + b3 * returns[t] ** 2) ** 0.5\n"
     ]
    },
    {
     "name": "stdout",
     "output_type": "stream",
     "text": [
      "Update 1: nan\n",
      "Update 2: nan\n",
      "Update 3: nan\n",
      "Update 4: nan\n",
      "Update 5: nan\n",
      "when m = 4\n",
      "Update 0: 0.12763389673053202\n",
      "Update 1: 0.12763389673053202\n",
      "when m = 5\n",
      "Update 0: 0.12773486055383435\n",
      "Update 1: 0.12773486055383435\n",
      "Final loss: 0.12667999370852173\n",
      "Time taken(s): 6.05\n",
      "Generating 5 best initial betas out of 1000...\n",
      "Optimizing...\n",
      "when m = 1\n",
      "Update 0: 0.12758016913574374\n",
      "Update 1: 0.12758016913574374\n",
      "when m = 2\n",
      "Update 0: 0.1276268344425051\n"
     ]
    },
    {
     "name": "stderr",
     "output_type": "stream",
     "text": [
      "D:\\CAViaR-Project\\test\\..\\caviar\\_caviar_function.py:84: RuntimeWarning: overflow encountered in double_scalars\n",
      "  VaRs[t + 1] = (b1 + b2 * VaRs[t] ** 2 + b3 * returns[t] ** 2) ** 0.5\n",
      "C:\\Users\\Jasper\\anaconda3\\lib\\site-packages\\scipy\\optimize\\_numdiff.py:576: RuntimeWarning: invalid value encountered in subtract\n",
      "  df = fun(x) - f0\n",
      "D:\\CAViaR-Project\\test\\..\\caviar\\_caviar_function.py:84: RuntimeWarning: invalid value encountered in double_scalars\n",
      "  VaRs[t + 1] = (b1 + b2 * VaRs[t] ** 2 + b3 * returns[t] ** 2) ** 0.5\n"
     ]
    },
    {
     "name": "stdout",
     "output_type": "stream",
     "text": [
      "Update 1: nan\n",
      "Update 2: nan\n",
      "Update 3: nan\n",
      "Update 4: nan\n",
      "Update 5: nan\n",
      "when m = 3\n",
      "Update 0: 0.12771379282586678\n",
      "Update 1: nan\n",
      "Update 2: nan\n",
      "Update 3: nan\n",
      "Update 4: nan\n",
      "Update 5: nan\n",
      "when m = 4\n",
      "Update 0: 0.1277263698304878\n",
      "Update 1: 0.1277263698304878\n",
      "when m = 5\n",
      "Update 0: 0.12795087935224075\n",
      "Update 1: 0.12795087935224075\n",
      "Final loss: 0.12758016913574374\n",
      "Time taken(s): 7.59\n",
      "Generating 5 best initial betas out of 1000...\n",
      "Optimizing...\n",
      "when m = 1\n",
      "Update 0: 0.12648522194168096\n",
      "Update 1: 0.12648522194168096\n",
      "when m = 2\n",
      "Update 0: 0.12723458192365364\n"
     ]
    },
    {
     "name": "stderr",
     "output_type": "stream",
     "text": [
      "D:\\CAViaR-Project\\test\\..\\caviar\\_caviar_function.py:84: RuntimeWarning: overflow encountered in double_scalars\n",
      "  VaRs[t + 1] = (b1 + b2 * VaRs[t] ** 2 + b3 * returns[t] ** 2) ** 0.5\n",
      "C:\\Users\\Jasper\\anaconda3\\lib\\site-packages\\scipy\\optimize\\_numdiff.py:576: RuntimeWarning: invalid value encountered in subtract\n",
      "  df = fun(x) - f0\n"
     ]
    },
    {
     "name": "stdout",
     "output_type": "stream",
     "text": [
      "Update 1: 0.12624946582647995\n",
      "Update 2: 0.12624946582647992\n",
      "when m = 3\n",
      "Update 0: 0.12762617896405243\n"
     ]
    },
    {
     "name": "stderr",
     "output_type": "stream",
     "text": [
      "D:\\CAViaR-Project\\test\\..\\caviar\\_caviar_function.py:84: RuntimeWarning: invalid value encountered in double_scalars\n",
      "  VaRs[t + 1] = (b1 + b2 * VaRs[t] ** 2 + b3 * returns[t] ** 2) ** 0.5\n"
     ]
    },
    {
     "name": "stdout",
     "output_type": "stream",
     "text": [
      "Update 1: nan\n",
      "Update 2: nan\n",
      "Update 3: nan\n",
      "Update 4: nan\n",
      "Update 5: nan\n",
      "when m = 4\n",
      "Update 0: 0.1277165833417812\n",
      "Update 1: nan\n",
      "Update 2: nan\n",
      "Update 3: nan\n",
      "Update 4: nan\n",
      "Update 5: nan\n",
      "when m = 5\n",
      "Update 0: 0.12778670633867711\n",
      "Update 1: 0.12778670633867711\n",
      "Final loss: 0.12624946582647995\n",
      "Time taken(s): 8.15\n",
      "Generating 5 best initial betas out of 1000...\n"
     ]
    },
    {
     "name": "stderr",
     "output_type": "stream",
     "text": [
      "D:\\CAViaR-Project\\test\\..\\var_tests\\_test.py:76: RuntimeWarning: invalid value encountered in double_scalars\n",
      "  LR_POF = -2 * np.log(numerator / denominator)\n",
      "D:\\CAViaR-Project\\test\\..\\var_tests\\_test.py:111: RuntimeWarning: invalid value encountered in double_scalars\n",
      "  LR_CCI = -2 * np.log(numerator / denominator)\n"
     ]
    },
    {
     "name": "stdout",
     "output_type": "stream",
     "text": [
      "Optimizing...\n",
      "when m = 1\n",
      "Update 0: 0.12648005071969318\n"
     ]
    },
    {
     "name": "stderr",
     "output_type": "stream",
     "text": [
      "D:\\CAViaR-Project\\test\\..\\caviar\\_caviar_function.py:84: RuntimeWarning: invalid value encountered in double_scalars\n",
      "  VaRs[t + 1] = (b1 + b2 * VaRs[t] ** 2 + b3 * returns[t] ** 2) ** 0.5\n"
     ]
    },
    {
     "name": "stdout",
     "output_type": "stream",
     "text": [
      "Update 1: nan\n",
      "Update 2: nan\n",
      "Update 3: nan\n",
      "Update 4: nan\n",
      "Update 5: nan\n",
      "when m = 2\n",
      "Update 0: 0.12651125278495548\n",
      "Update 1: nan\n",
      "Update 2: nan\n",
      "Update 3: nan\n",
      "Update 4: nan\n",
      "Update 5: nan\n",
      "when m = 3\n",
      "Update 0: 0.1266415838148376\n",
      "Update 1: nan\n",
      "Update 2: nan\n",
      "Update 3: nan\n",
      "Update 4: nan\n",
      "Update 5: nan\n",
      "when m = 4\n",
      "Update 0: 0.1281245020677493\n",
      "Update 1: 0.1281245020677493\n",
      "when m = 5\n",
      "Update 0: 0.12818445248397156\n"
     ]
    },
    {
     "name": "stderr",
     "output_type": "stream",
     "text": [
      "D:\\CAViaR-Project\\test\\..\\caviar\\_caviar_function.py:84: RuntimeWarning: overflow encountered in double_scalars\n",
      "  VaRs[t + 1] = (b1 + b2 * VaRs[t] ** 2 + b3 * returns[t] ** 2) ** 0.5\n",
      "C:\\Users\\Jasper\\anaconda3\\lib\\site-packages\\scipy\\optimize\\_numdiff.py:576: RuntimeWarning: invalid value encountered in subtract\n",
      "  df = fun(x) - f0\n"
     ]
    },
    {
     "name": "stdout",
     "output_type": "stream",
     "text": [
      "Update 1: 0.12625009228796671\n",
      "Update 2: 0.12625009228796671\n",
      "Final loss: 0.12648005071969318\n",
      "Time taken(s): 8.97\n",
      "Generating 5 best initial betas out of 1000...\n",
      "Optimizing...\n",
      "when m = 1\n",
      "Update 0: 0.12685556526293804\n",
      "Update 1: 0.12685556526293804\n",
      "when m = 2\n",
      "Update 0: 0.1269601124820133\n",
      "Update 1: 0.1269601124820133\n",
      "when m = 3\n",
      "Update 0: 0.12702703807369525\n",
      "Update 1: 0.12702703807369525\n",
      "when m = 4\n",
      "Update 0: 0.12716973272014376\n",
      "Update 1: 0.12716973272014376\n",
      "when m = 5\n",
      "Update 0: 0.12760477730705164\n"
     ]
    },
    {
     "name": "stderr",
     "output_type": "stream",
     "text": [
      "D:\\CAViaR-Project\\test\\..\\caviar\\_caviar_function.py:84: RuntimeWarning: overflow encountered in double_scalars\n",
      "  VaRs[t + 1] = (b1 + b2 * VaRs[t] ** 2 + b3 * returns[t] ** 2) ** 0.5\n",
      "C:\\Users\\Jasper\\anaconda3\\lib\\site-packages\\scipy\\optimize\\_numdiff.py:576: RuntimeWarning: invalid value encountered in subtract\n",
      "  df = fun(x) - f0\n"
     ]
    },
    {
     "name": "stdout",
     "output_type": "stream",
     "text": [
      "Update 1: 0.12760477730705164\n",
      "Final loss: 0.12685556526293804\n",
      "Time taken(s): 4.75\n"
     ]
    },
    {
     "name": "stderr",
     "output_type": "stream",
     "text": [
      "D:\\CAViaR-Project\\test\\..\\var_tests\\_test.py:76: RuntimeWarning: invalid value encountered in double_scalars\n",
      "  LR_POF = -2 * np.log(numerator / denominator)\n",
      "D:\\CAViaR-Project\\test\\..\\var_tests\\_test.py:111: RuntimeWarning: invalid value encountered in double_scalars\n",
      "  LR_CCI = -2 * np.log(numerator / denominator)\n"
     ]
    },
    {
     "name": "stdout",
     "output_type": "stream",
     "text": [
      "Generating 5 best initial betas out of 1000...\n",
      "Optimizing...\n",
      "when m = 1\n",
      "Update 0: 0.12784677806281755\n"
     ]
    },
    {
     "name": "stderr",
     "output_type": "stream",
     "text": [
      "D:\\CAViaR-Project\\test\\..\\caviar\\_caviar_function.py:84: RuntimeWarning: invalid value encountered in double_scalars\n",
      "  VaRs[t + 1] = (b1 + b2 * VaRs[t] ** 2 + b3 * returns[t] ** 2) ** 0.5\n"
     ]
    },
    {
     "name": "stdout",
     "output_type": "stream",
     "text": [
      "Update 1: nan\n",
      "Update 2: nan\n",
      "Update 3: nan\n",
      "Update 4: nan\n",
      "Update 5: nan\n",
      "when m = 2\n",
      "Update 0: 0.1278814207439069\n",
      "Update 1: 0.1278814207439069\n",
      "when m = 3\n",
      "Update 0: 0.1279652501658515\n",
      "Update 1: 0.1279652501658515\n",
      "when m = 4\n",
      "Update 0: 0.12817678102551042\n",
      "Update 1: 0.12817678102551042\n",
      "when m = 5\n",
      "Update 0: 0.12830504244729052\n",
      "Update 1: 0.12830504244729052\n",
      "Final loss: 0.12784677806281755\n"
     ]
    },
    {
     "name": "stderr",
     "output_type": "stream",
     "text": [
      "D:\\CAViaR-Project\\test\\..\\caviar\\_caviar_function.py:84: RuntimeWarning: overflow encountered in double_scalars\n",
      "  VaRs[t + 1] = (b1 + b2 * VaRs[t] ** 2 + b3 * returns[t] ** 2) ** 0.5\n",
      "C:\\Users\\Jasper\\anaconda3\\lib\\site-packages\\scipy\\optimize\\_numdiff.py:576: RuntimeWarning: invalid value encountered in subtract\n",
      "  df = fun(x) - f0\n"
     ]
    },
    {
     "name": "stdout",
     "output_type": "stream",
     "text": [
      "Time taken(s): 6.06\n",
      "Generating 5 best initial betas out of 1000...\n",
      "Optimizing...\n",
      "when m = 1\n",
      "Update 0: 0.12687135306840766\n"
     ]
    },
    {
     "name": "stderr",
     "output_type": "stream",
     "text": [
      "D:\\CAViaR-Project\\test\\..\\caviar\\_caviar_function.py:84: RuntimeWarning: invalid value encountered in double_scalars\n",
      "  VaRs[t + 1] = (b1 + b2 * VaRs[t] ** 2 + b3 * returns[t] ** 2) ** 0.5\n"
     ]
    },
    {
     "name": "stdout",
     "output_type": "stream",
     "text": [
      "Update 1: nan\n",
      "Update 2: nan\n",
      "Update 3: nan\n",
      "Update 4: nan\n",
      "Update 5: nan\n",
      "when m = 2\n",
      "Update 0: 0.12696854806019556\n"
     ]
    },
    {
     "name": "stderr",
     "output_type": "stream",
     "text": [
      "D:\\CAViaR-Project\\test\\..\\caviar\\_caviar_function.py:84: RuntimeWarning: overflow encountered in double_scalars\n",
      "  VaRs[t + 1] = (b1 + b2 * VaRs[t] ** 2 + b3 * returns[t] ** 2) ** 0.5\n",
      "C:\\Users\\Jasper\\anaconda3\\lib\\site-packages\\scipy\\optimize\\_numdiff.py:576: RuntimeWarning: invalid value encountered in subtract\n",
      "  df = fun(x) - f0\n"
     ]
    },
    {
     "name": "stdout",
     "output_type": "stream",
     "text": [
      "Update 1: 0.12696854806019556\n",
      "when m = 3\n",
      "Update 0: 0.12746479717994372\n",
      "Update 1: nan\n",
      "Update 2: nan\n",
      "Update 3: nan\n",
      "Update 4: nan\n",
      "Update 5: nan\n",
      "when m = 4\n",
      "Update 0: 0.12782787424733544\n",
      "Update 1: nan\n",
      "Update 2: nan\n",
      "Update 3: nan\n",
      "Update 4: nan\n",
      "Update 5: nan\n",
      "when m = 5\n",
      "Update 0: 0.12850412809120895\n",
      "Update 1: 0.12850412809120895\n",
      "Final loss: 0.12687135306840766\n",
      "Time taken(s): 8.51\n",
      "Generating 5 best initial betas out of 1000...\n",
      "Optimizing...\n",
      "when m = 1\n",
      "Update 0: 0.1287582205179077\n",
      "Update 1: 0.1287582205179077\n",
      "when m = 2\n",
      "Update 0: 0.1289275168215668\n",
      "Update 1: 0.1289275168215668\n",
      "when m = 3\n",
      "Update 0: 0.12896952616092977\n"
     ]
    },
    {
     "name": "stderr",
     "output_type": "stream",
     "text": [
      "D:\\CAViaR-Project\\test\\..\\caviar\\_caviar_function.py:84: RuntimeWarning: overflow encountered in double_scalars\n",
      "  VaRs[t + 1] = (b1 + b2 * VaRs[t] ** 2 + b3 * returns[t] ** 2) ** 0.5\n",
      "C:\\Users\\Jasper\\anaconda3\\lib\\site-packages\\scipy\\optimize\\_numdiff.py:576: RuntimeWarning: invalid value encountered in subtract\n",
      "  df = fun(x) - f0\n",
      "D:\\CAViaR-Project\\test\\..\\caviar\\_caviar_function.py:84: RuntimeWarning: invalid value encountered in double_scalars\n",
      "  VaRs[t + 1] = (b1 + b2 * VaRs[t] ** 2 + b3 * returns[t] ** 2) ** 0.5\n"
     ]
    },
    {
     "name": "stdout",
     "output_type": "stream",
     "text": [
      "Update 1: nan\n",
      "Update 2: nan\n",
      "Update 3: nan\n",
      "Update 4: nan\n",
      "Update 5: nan\n",
      "when m = 4\n",
      "Update 0: 0.1294342469031714\n",
      "Update 1: 0.1294342469031714\n",
      "when m = 5\n",
      "Update 0: 0.12970442434466278\n",
      "Update 1: nan\n",
      "Update 2: nan\n",
      "Update 3: nan\n",
      "Update 4: nan\n",
      "Update 5: nan\n",
      "Final loss: 0.1287582205179077\n",
      "Time taken(s): 7.27\n"
     ]
    },
    {
     "name": "stderr",
     "output_type": "stream",
     "text": [
      "D:\\CAViaR-Project\\test\\..\\var_tests\\_test.py:76: RuntimeWarning: invalid value encountered in double_scalars\n",
      "  LR_POF = -2 * np.log(numerator / denominator)\n",
      "D:\\CAViaR-Project\\test\\..\\var_tests\\_test.py:111: RuntimeWarning: invalid value encountered in double_scalars\n",
      "  LR_CCI = -2 * np.log(numerator / denominator)\n"
     ]
    },
    {
     "name": "stdout",
     "output_type": "stream",
     "text": [
      "Generating 5 best initial betas out of 1000...\n",
      "Optimizing...\n",
      "when m = 1\n",
      "Update 0: 0.12686292600686844\n",
      "Update 1: 0.12686292600686844\n",
      "when m = 2\n",
      "Update 0: 0.12737629392699754\n"
     ]
    },
    {
     "name": "stderr",
     "output_type": "stream",
     "text": [
      "D:\\CAViaR-Project\\test\\..\\caviar\\_caviar_function.py:84: RuntimeWarning: overflow encountered in double_scalars\n",
      "  VaRs[t + 1] = (b1 + b2 * VaRs[t] ** 2 + b3 * returns[t] ** 2) ** 0.5\n",
      "C:\\Users\\Jasper\\anaconda3\\lib\\site-packages\\scipy\\optimize\\_numdiff.py:576: RuntimeWarning: invalid value encountered in subtract\n",
      "  df = fun(x) - f0\n",
      "D:\\CAViaR-Project\\test\\..\\caviar\\_caviar_function.py:84: RuntimeWarning: invalid value encountered in double_scalars\n",
      "  VaRs[t + 1] = (b1 + b2 * VaRs[t] ** 2 + b3 * returns[t] ** 2) ** 0.5\n"
     ]
    },
    {
     "name": "stdout",
     "output_type": "stream",
     "text": [
      "Update 1: nan\n",
      "Update 2: nan\n",
      "Update 3: nan\n",
      "Update 4: nan\n",
      "Update 5: nan\n",
      "when m = 3\n",
      "Update 0: 0.12742228026565178\n",
      "Update 1: 0.12742228026565178\n",
      "when m = 4\n",
      "Update 0: 0.12748193547972309\n",
      "Update 1: nan\n",
      "Update 2: nan\n",
      "Update 3: nan\n",
      "Update 4: nan\n",
      "Update 5: nan\n",
      "when m = 5\n",
      "Update 0: 0.12819714799211898\n",
      "Update 1: nan\n",
      "Update 2: nan\n",
      "Update 3: nan\n",
      "Update 4: nan\n",
      "Update 5: nan\n",
      "Final loss: 0.12686292600686844\n",
      "Time taken(s): 8.18\n"
     ]
    },
    {
     "name": "stderr",
     "output_type": "stream",
     "text": [
      "D:\\CAViaR-Project\\test\\..\\var_tests\\_test.py:76: RuntimeWarning: invalid value encountered in double_scalars\n",
      "  LR_POF = -2 * np.log(numerator / denominator)\n",
      "D:\\CAViaR-Project\\test\\..\\var_tests\\_test.py:111: RuntimeWarning: invalid value encountered in double_scalars\n",
      "  LR_CCI = -2 * np.log(numerator / denominator)\n"
     ]
    },
    {
     "name": "stdout",
     "output_type": "stream",
     "text": [
      "Generating 5 best initial betas out of 1000...\n",
      "Optimizing...\n",
      "when m = 1\n",
      "Update 0: 0.12780045723635625\n",
      "Update 1: 0.12780045723635625\n",
      "when m = 2\n",
      "Update 0: 0.12793595392627344\n",
      "Update 1: 0.12793595392627344\n",
      "when m = 3\n",
      "Update 0: 0.1282494206710533\n",
      "Update 1: 0.1282494206710533\n",
      "when m = 4\n",
      "Update 0: 0.1285857015801916\n"
     ]
    },
    {
     "name": "stderr",
     "output_type": "stream",
     "text": [
      "D:\\CAViaR-Project\\test\\..\\caviar\\_caviar_function.py:84: RuntimeWarning: overflow encountered in double_scalars\n",
      "  VaRs[t + 1] = (b1 + b2 * VaRs[t] ** 2 + b3 * returns[t] ** 2) ** 0.5\n",
      "C:\\Users\\Jasper\\anaconda3\\lib\\site-packages\\scipy\\optimize\\_numdiff.py:576: RuntimeWarning: invalid value encountered in subtract\n",
      "  df = fun(x) - f0\n",
      "D:\\CAViaR-Project\\test\\..\\caviar\\_caviar_function.py:84: RuntimeWarning: invalid value encountered in double_scalars\n",
      "  VaRs[t + 1] = (b1 + b2 * VaRs[t] ** 2 + b3 * returns[t] ** 2) ** 0.5\n"
     ]
    },
    {
     "name": "stdout",
     "output_type": "stream",
     "text": [
      "Update 1: nan\n",
      "Update 2: nan\n",
      "Update 3: nan\n",
      "Update 4: nan\n",
      "Update 5: nan\n",
      "when m = 5\n",
      "Update 0: 0.1289985324641703\n",
      "Update 1: nan\n",
      "Update 2: nan\n",
      "Update 3: nan\n",
      "Update 4: nan\n",
      "Update 5: nan\n",
      "Final loss: 0.12780045723635625\n",
      "Time taken(s): 7.50\n",
      "Generating 5 best initial betas out of 1000...\n",
      "Optimizing...\n",
      "when m = 1\n",
      "Update 0: 0.12772999864479506\n",
      "Update 1: 0.12772999864479506\n",
      "when m = 2\n",
      "Update 0: 0.12775963490348888\n",
      "Update 1: 0.12775963490348888\n",
      "when m = 3\n",
      "Update 0: 0.12809902072396587\n",
      "Update 1: 0.12809902072396587\n",
      "when m = 4\n",
      "Update 0: 0.1281182173590101\n"
     ]
    },
    {
     "name": "stderr",
     "output_type": "stream",
     "text": [
      "D:\\CAViaR-Project\\test\\..\\caviar\\_caviar_function.py:84: RuntimeWarning: overflow encountered in double_scalars\n",
      "  VaRs[t + 1] = (b1 + b2 * VaRs[t] ** 2 + b3 * returns[t] ** 2) ** 0.5\n",
      "C:\\Users\\Jasper\\anaconda3\\lib\\site-packages\\scipy\\optimize\\_numdiff.py:576: RuntimeWarning: invalid value encountered in subtract\n",
      "  df = fun(x) - f0\n"
     ]
    },
    {
     "name": "stdout",
     "output_type": "stream",
     "text": [
      "Update 1: 0.1281182173590101\n",
      "when m = 5\n",
      "Update 0: 0.12818286231055503\n",
      "Update 1: 0.12818286231055503\n",
      "Final loss: 0.12772999864479506\n",
      "Time taken(s): 4.80\n",
      "Generating 5 best initial betas out of 1000...\n"
     ]
    },
    {
     "name": "stderr",
     "output_type": "stream",
     "text": [
      "D:\\CAViaR-Project\\test\\..\\var_tests\\_test.py:76: RuntimeWarning: invalid value encountered in double_scalars\n",
      "  LR_POF = -2 * np.log(numerator / denominator)\n",
      "D:\\CAViaR-Project\\test\\..\\var_tests\\_test.py:111: RuntimeWarning: invalid value encountered in double_scalars\n",
      "  LR_CCI = -2 * np.log(numerator / denominator)\n"
     ]
    },
    {
     "name": "stdout",
     "output_type": "stream",
     "text": [
      "Optimizing...\n",
      "when m = 1\n",
      "Update 0: 0.12710905609778228\n"
     ]
    },
    {
     "name": "stderr",
     "output_type": "stream",
     "text": [
      "D:\\CAViaR-Project\\test\\..\\caviar\\_caviar_function.py:84: RuntimeWarning: invalid value encountered in double_scalars\n",
      "  VaRs[t + 1] = (b1 + b2 * VaRs[t] ** 2 + b3 * returns[t] ** 2) ** 0.5\n"
     ]
    },
    {
     "name": "stdout",
     "output_type": "stream",
     "text": [
      "Update 1: nan\n",
      "Update 2: nan\n",
      "Update 3: nan\n",
      "Update 4: nan\n",
      "Update 5: nan\n",
      "when m = 2\n",
      "Update 0: 0.12769777400017043\n",
      "Update 1: 0.12769777400017043\n",
      "when m = 3\n",
      "Update 0: 0.12784629848900486\n"
     ]
    },
    {
     "name": "stderr",
     "output_type": "stream",
     "text": [
      "D:\\CAViaR-Project\\test\\..\\caviar\\_caviar_function.py:84: RuntimeWarning: overflow encountered in double_scalars\n",
      "  VaRs[t + 1] = (b1 + b2 * VaRs[t] ** 2 + b3 * returns[t] ** 2) ** 0.5\n",
      "C:\\Users\\Jasper\\anaconda3\\lib\\site-packages\\scipy\\optimize\\_numdiff.py:576: RuntimeWarning: invalid value encountered in subtract\n",
      "  df = fun(x) - f0\n"
     ]
    },
    {
     "name": "stdout",
     "output_type": "stream",
     "text": [
      "Update 1: nan\n",
      "Update 2: nan\n",
      "Update 3: nan\n",
      "Update 4: nan\n",
      "Update 5: nan\n",
      "when m = 4\n",
      "Update 0: 0.1280388049623112\n",
      "Update 1: 0.1280388049623112\n",
      "when m = 5\n",
      "Update 0: 0.1280427325378074\n",
      "Update 1: 0.1280427325378074\n",
      "Final loss: 0.12710905609778228\n",
      "Time taken(s): 7.44\n",
      "Generating 5 best initial betas out of 1000...\n",
      "Optimizing...\n",
      "when m = 1\n",
      "Update 0: 0.12687989477956702\n"
     ]
    },
    {
     "name": "stderr",
     "output_type": "stream",
     "text": [
      "D:\\CAViaR-Project\\test\\..\\caviar\\_caviar_function.py:84: RuntimeWarning: invalid value encountered in double_scalars\n",
      "  VaRs[t + 1] = (b1 + b2 * VaRs[t] ** 2 + b3 * returns[t] ** 2) ** 0.5\n"
     ]
    },
    {
     "name": "stdout",
     "output_type": "stream",
     "text": [
      "Update 1: nan\n",
      "Update 2: nan\n",
      "Update 3: nan\n",
      "Update 4: nan\n",
      "Update 5: nan\n",
      "when m = 2\n",
      "Update 0: 0.1271058567918732\n",
      "Update 1: 0.1271058567918732\n",
      "when m = 3\n",
      "Update 0: 0.12757384860920096\n",
      "Update 1: 0.12757384860920096\n",
      "when m = 4\n",
      "Update 0: 0.12846951319389038\n",
      "Update 1: 0.12846951319389038\n",
      "when m = 5\n",
      "Update 0: 0.12856058490304823\n",
      "Update 1: 0.12856058490304823\n",
      "Final loss: 0.12687989477956702\n"
     ]
    },
    {
     "name": "stderr",
     "output_type": "stream",
     "text": [
      "D:\\CAViaR-Project\\test\\..\\caviar\\_caviar_function.py:84: RuntimeWarning: overflow encountered in double_scalars\n",
      "  VaRs[t + 1] = (b1 + b2 * VaRs[t] ** 2 + b3 * returns[t] ** 2) ** 0.5\n",
      "C:\\Users\\Jasper\\anaconda3\\lib\\site-packages\\scipy\\optimize\\_numdiff.py:576: RuntimeWarning: invalid value encountered in subtract\n",
      "  df = fun(x) - f0\n"
     ]
    },
    {
     "name": "stdout",
     "output_type": "stream",
     "text": [
      "Time taken(s): 5.79\n",
      "Generating 5 best initial betas out of 1000...\n",
      "Optimizing...\n",
      "when m = 1\n",
      "Update 0: 0.12689894329093038\n"
     ]
    },
    {
     "name": "stderr",
     "output_type": "stream",
     "text": [
      "D:\\CAViaR-Project\\test\\..\\caviar\\_caviar_function.py:84: RuntimeWarning: invalid value encountered in double_scalars\n",
      "  VaRs[t + 1] = (b1 + b2 * VaRs[t] ** 2 + b3 * returns[t] ** 2) ** 0.5\n"
     ]
    },
    {
     "name": "stdout",
     "output_type": "stream",
     "text": [
      "Update 1: nan\n",
      "Update 2: nan\n",
      "Update 3: nan\n",
      "Update 4: nan\n",
      "Update 5: nan\n",
      "when m = 2\n",
      "Update 0: 0.12722537527380384\n",
      "Update 1: 0.12722537527380384\n",
      "when m = 3\n",
      "Update 0: 0.12727920893055114\n"
     ]
    },
    {
     "name": "stderr",
     "output_type": "stream",
     "text": [
      "D:\\CAViaR-Project\\test\\..\\caviar\\_caviar_function.py:84: RuntimeWarning: overflow encountered in double_scalars\n",
      "  VaRs[t + 1] = (b1 + b2 * VaRs[t] ** 2 + b3 * returns[t] ** 2) ** 0.5\n",
      "C:\\Users\\Jasper\\anaconda3\\lib\\site-packages\\scipy\\optimize\\_numdiff.py:576: RuntimeWarning: invalid value encountered in subtract\n",
      "  df = fun(x) - f0\n"
     ]
    },
    {
     "name": "stdout",
     "output_type": "stream",
     "text": [
      "Update 1: nan\n",
      "Update 2: nan\n",
      "Update 3: nan\n",
      "Update 4: nan\n",
      "Update 5: nan\n",
      "when m = 4\n",
      "Update 0: 0.127671103469305\n",
      "Update 1: 0.127671103469305\n",
      "when m = 5\n",
      "Update 0: 0.1284080498766304\n",
      "Update 1: 0.1284080498766304\n",
      "Final loss: 0.12689894329093038\n",
      "Time taken(s): 7.21\n",
      "Generating 5 best initial betas out of 1000...\n",
      "Optimizing...\n",
      "when m = 1\n",
      "Update 0: 0.12676511112446245\n",
      "Update 1: 0.12676511112446245\n",
      "when m = 2\n",
      "Update 0: 0.12705387186402523\n"
     ]
    },
    {
     "name": "stderr",
     "output_type": "stream",
     "text": [
      "D:\\CAViaR-Project\\test\\..\\caviar\\_caviar_function.py:84: RuntimeWarning: overflow encountered in double_scalars\n",
      "  VaRs[t + 1] = (b1 + b2 * VaRs[t] ** 2 + b3 * returns[t] ** 2) ** 0.5\n",
      "C:\\Users\\Jasper\\anaconda3\\lib\\site-packages\\scipy\\optimize\\_numdiff.py:576: RuntimeWarning: invalid value encountered in subtract\n",
      "  df = fun(x) - f0\n",
      "D:\\CAViaR-Project\\test\\..\\caviar\\_caviar_function.py:84: RuntimeWarning: invalid value encountered in double_scalars\n",
      "  VaRs[t + 1] = (b1 + b2 * VaRs[t] ** 2 + b3 * returns[t] ** 2) ** 0.5\n"
     ]
    },
    {
     "name": "stdout",
     "output_type": "stream",
     "text": [
      "Update 1: nan\n",
      "Update 2: nan\n",
      "Update 3: nan\n",
      "Update 4: nan\n",
      "Update 5: nan\n",
      "when m = 3\n",
      "Update 0: 0.12754674644897673\n",
      "Update 1: 0.12754674644897673\n",
      "when m = 4\n",
      "Update 0: 0.12814731559343365\n",
      "Update 1: nan\n",
      "Update 2: nan\n",
      "Update 3: nan\n",
      "Update 4: nan\n",
      "Update 5: nan\n",
      "when m = 5\n",
      "Update 0: 0.12842702270251222\n",
      "Update 1: nan\n",
      "Update 2: nan\n",
      "Update 3: nan\n",
      "Update 4: nan\n",
      "Update 5: nan\n",
      "Final loss: 0.12676511112446245\n",
      "Time taken(s): 8.07\n",
      "Generating 5 best initial betas out of 1000...\n"
     ]
    },
    {
     "name": "stderr",
     "output_type": "stream",
     "text": [
      "D:\\CAViaR-Project\\test\\..\\var_tests\\_test.py:76: RuntimeWarning: invalid value encountered in double_scalars\n",
      "  LR_POF = -2 * np.log(numerator / denominator)\n",
      "D:\\CAViaR-Project\\test\\..\\var_tests\\_test.py:111: RuntimeWarning: invalid value encountered in double_scalars\n",
      "  LR_CCI = -2 * np.log(numerator / denominator)\n"
     ]
    },
    {
     "name": "stdout",
     "output_type": "stream",
     "text": [
      "Optimizing...\n",
      "when m = 1\n",
      "Update 0: 0.12673120061789397\n",
      "Update 1: 0.12673120061789397\n",
      "when m = 2\n",
      "Update 0: 0.12729817741389188\n"
     ]
    },
    {
     "name": "stderr",
     "output_type": "stream",
     "text": [
      "D:\\CAViaR-Project\\test\\..\\caviar\\_caviar_function.py:84: RuntimeWarning: overflow encountered in double_scalars\n",
      "  VaRs[t + 1] = (b1 + b2 * VaRs[t] ** 2 + b3 * returns[t] ** 2) ** 0.5\n",
      "C:\\Users\\Jasper\\anaconda3\\lib\\site-packages\\scipy\\optimize\\_numdiff.py:576: RuntimeWarning: invalid value encountered in subtract\n",
      "  df = fun(x) - f0\n",
      "D:\\CAViaR-Project\\test\\..\\caviar\\_caviar_function.py:84: RuntimeWarning: invalid value encountered in double_scalars\n",
      "  VaRs[t + 1] = (b1 + b2 * VaRs[t] ** 2 + b3 * returns[t] ** 2) ** 0.5\n"
     ]
    },
    {
     "name": "stdout",
     "output_type": "stream",
     "text": [
      "Update 1: nan\n",
      "Update 2: nan\n",
      "Update 3: nan\n",
      "Update 4: nan\n",
      "Update 5: nan\n",
      "when m = 3\n",
      "Update 0: 0.128310549742813\n",
      "Update 1: 0.128310549742813\n",
      "when m = 4\n",
      "Update 0: 0.128502160952607\n",
      "Update 1: 0.128502160952607\n",
      "when m = 5\n",
      "Update 0: 0.1285548577938568\n",
      "Update 1: nan\n",
      "Update 2: nan\n",
      "Update 3: nan\n",
      "Update 4: nan\n",
      "Update 5: nan\n",
      "Final loss: 0.12673120061789397\n",
      "Time taken(s): 7.05\n"
     ]
    },
    {
     "name": "stderr",
     "output_type": "stream",
     "text": [
      "D:\\CAViaR-Project\\test\\..\\var_tests\\_test.py:76: RuntimeWarning: invalid value encountered in double_scalars\n",
      "  LR_POF = -2 * np.log(numerator / denominator)\n",
      "D:\\CAViaR-Project\\test\\..\\var_tests\\_test.py:111: RuntimeWarning: invalid value encountered in double_scalars\n",
      "  LR_CCI = -2 * np.log(numerator / denominator)\n"
     ]
    },
    {
     "name": "stdout",
     "output_type": "stream",
     "text": [
      "Generating 5 best initial betas out of 1000...\n",
      "Optimizing...\n",
      "when m = 1\n",
      "Update 0: 0.12658202724070544\n",
      "Update 1: 0.12658202724070544\n",
      "when m = 2\n",
      "Update 0: 0.12704755077236973\n"
     ]
    },
    {
     "name": "stderr",
     "output_type": "stream",
     "text": [
      "D:\\CAViaR-Project\\test\\..\\caviar\\_caviar_function.py:84: RuntimeWarning: overflow encountered in double_scalars\n",
      "  VaRs[t + 1] = (b1 + b2 * VaRs[t] ** 2 + b3 * returns[t] ** 2) ** 0.5\n",
      "C:\\Users\\Jasper\\anaconda3\\lib\\site-packages\\scipy\\optimize\\_numdiff.py:576: RuntimeWarning: invalid value encountered in subtract\n",
      "  df = fun(x) - f0\n",
      "D:\\CAViaR-Project\\test\\..\\caviar\\_caviar_function.py:84: RuntimeWarning: invalid value encountered in double_scalars\n",
      "  VaRs[t + 1] = (b1 + b2 * VaRs[t] ** 2 + b3 * returns[t] ** 2) ** 0.5\n"
     ]
    },
    {
     "name": "stdout",
     "output_type": "stream",
     "text": [
      "Update 1: nan\n",
      "Update 2: nan\n",
      "Update 3: nan\n",
      "Update 4: nan\n",
      "Update 5: nan\n",
      "when m = 3\n",
      "Update 0: 0.12714740722141865\n",
      "Update 1: 0.12714740722141865\n",
      "when m = 4\n",
      "Update 0: 0.12781391559478766\n",
      "Update 1: nan\n",
      "Update 2: nan\n",
      "Update 3: nan\n",
      "Update 4: nan\n",
      "Update 5: nan\n",
      "when m = 5\n",
      "Update 0: 0.12788746490398842\n",
      "Update 1: 0.12788746490398842\n",
      "Final loss: 0.12658202724070544\n",
      "Time taken(s): 6.91\n"
     ]
    },
    {
     "name": "stderr",
     "output_type": "stream",
     "text": [
      "D:\\CAViaR-Project\\test\\..\\var_tests\\_test.py:76: RuntimeWarning: invalid value encountered in double_scalars\n",
      "  LR_POF = -2 * np.log(numerator / denominator)\n",
      "D:\\CAViaR-Project\\test\\..\\var_tests\\_test.py:111: RuntimeWarning: invalid value encountered in double_scalars\n",
      "  LR_CCI = -2 * np.log(numerator / denominator)\n"
     ]
    },
    {
     "name": "stdout",
     "output_type": "stream",
     "text": [
      "Generating 5 best initial betas out of 1000...\n",
      "Optimizing...\n",
      "when m = 1\n",
      "Update 0: 0.12687388403271144\n"
     ]
    },
    {
     "name": "stderr",
     "output_type": "stream",
     "text": [
      "D:\\CAViaR-Project\\test\\..\\caviar\\_caviar_function.py:84: RuntimeWarning: invalid value encountered in double_scalars\n",
      "  VaRs[t + 1] = (b1 + b2 * VaRs[t] ** 2 + b3 * returns[t] ** 2) ** 0.5\n"
     ]
    },
    {
     "name": "stdout",
     "output_type": "stream",
     "text": [
      "Update 1: nan\n",
      "Update 2: nan\n",
      "Update 3: nan\n",
      "Update 4: nan\n",
      "Update 5: nan\n",
      "when m = 2\n",
      "Update 0: 0.1270884729992352\n",
      "Update 1: 0.1270884729992352\n",
      "when m = 3\n",
      "Update 0: 0.1279110050635528\n"
     ]
    },
    {
     "name": "stderr",
     "output_type": "stream",
     "text": [
      "D:\\CAViaR-Project\\test\\..\\caviar\\_caviar_function.py:84: RuntimeWarning: overflow encountered in double_scalars\n",
      "  VaRs[t + 1] = (b1 + b2 * VaRs[t] ** 2 + b3 * returns[t] ** 2) ** 0.5\n",
      "C:\\Users\\Jasper\\anaconda3\\lib\\site-packages\\scipy\\optimize\\_numdiff.py:576: RuntimeWarning: invalid value encountered in subtract\n",
      "  df = fun(x) - f0\n"
     ]
    },
    {
     "name": "stdout",
     "output_type": "stream",
     "text": [
      "Update 1: 0.1279110050635528\n",
      "when m = 4\n",
      "Update 0: 0.12792094021856548\n",
      "Update 1: nan\n",
      "Update 2: nan\n",
      "Update 3: nan\n",
      "Update 4: nan\n",
      "Update 5: nan\n",
      "when m = 5\n",
      "Update 0: 0.12794536171966173\n",
      "Update 1: nan\n",
      "Update 2: nan\n",
      "Update 3: nan\n",
      "Update 4: nan\n",
      "Update 5: nan\n",
      "Final loss: 0.12687388403271144\n",
      "Time taken(s): 8.24\n",
      "Generating 5 best initial betas out of 1000...\n",
      "Optimizing...\n",
      "when m = 1\n",
      "Update 0: 0.12666416720235973\n"
     ]
    },
    {
     "name": "stderr",
     "output_type": "stream",
     "text": [
      "D:\\CAViaR-Project\\test\\..\\caviar\\_caviar_function.py:84: RuntimeWarning: invalid value encountered in double_scalars\n",
      "  VaRs[t + 1] = (b1 + b2 * VaRs[t] ** 2 + b3 * returns[t] ** 2) ** 0.5\n"
     ]
    },
    {
     "name": "stdout",
     "output_type": "stream",
     "text": [
      "Update 1: nan\n",
      "Update 2: nan\n",
      "Update 3: nan\n",
      "Update 4: nan\n",
      "Update 5: nan\n",
      "when m = 2\n",
      "Update 0: 0.12708111405846473\n"
     ]
    },
    {
     "name": "stderr",
     "output_type": "stream",
     "text": [
      "D:\\CAViaR-Project\\test\\..\\caviar\\_caviar_function.py:84: RuntimeWarning: overflow encountered in double_scalars\n",
      "  VaRs[t + 1] = (b1 + b2 * VaRs[t] ** 2 + b3 * returns[t] ** 2) ** 0.5\n",
      "C:\\Users\\Jasper\\anaconda3\\lib\\site-packages\\scipy\\optimize\\_numdiff.py:576: RuntimeWarning: invalid value encountered in subtract\n",
      "  df = fun(x) - f0\n"
     ]
    },
    {
     "name": "stdout",
     "output_type": "stream",
     "text": [
      "Update 1: 0.12708111405846473\n",
      "when m = 3\n",
      "Update 0: 0.12737202853110216\n",
      "Update 1: nan\n",
      "Update 2: nan\n",
      "Update 3: nan\n",
      "Update 4: nan\n",
      "Update 5: nan\n",
      "when m = 4\n",
      "Update 0: 0.1277063434103257\n",
      "Update 1: 0.1277063434103257\n",
      "when m = 5\n",
      "Update 0: 0.12791978720790187\n",
      "Update 1: 0.12791978720790187\n",
      "Final loss: 0.12666416720235973\n",
      "Time taken(s): 6.94\n",
      "Generating 5 best initial betas out of 1000...\n",
      "Optimizing...\n",
      "when m = 1\n",
      "Update 0: 0.1263000379090352\n",
      "Update 1: nan\n"
     ]
    },
    {
     "name": "stderr",
     "output_type": "stream",
     "text": [
      "D:\\CAViaR-Project\\test\\..\\caviar\\_caviar_function.py:84: RuntimeWarning: invalid value encountered in double_scalars\n",
      "  VaRs[t + 1] = (b1 + b2 * VaRs[t] ** 2 + b3 * returns[t] ** 2) ** 0.5\n"
     ]
    },
    {
     "name": "stdout",
     "output_type": "stream",
     "text": [
      "Update 2: nan\n",
      "Update 3: nan\n",
      "Update 4: nan\n",
      "Update 5: nan\n",
      "when m = 2\n",
      "Update 0: 0.12684530279761647\n"
     ]
    },
    {
     "name": "stderr",
     "output_type": "stream",
     "text": [
      "D:\\CAViaR-Project\\test\\..\\caviar\\_caviar_function.py:84: RuntimeWarning: overflow encountered in double_scalars\n",
      "  VaRs[t + 1] = (b1 + b2 * VaRs[t] ** 2 + b3 * returns[t] ** 2) ** 0.5\n",
      "C:\\Users\\Jasper\\anaconda3\\lib\\site-packages\\scipy\\optimize\\_numdiff.py:576: RuntimeWarning: invalid value encountered in subtract\n",
      "  df = fun(x) - f0\n"
     ]
    },
    {
     "name": "stdout",
     "output_type": "stream",
     "text": [
      "Update 1: 0.12684530279761647\n",
      "when m = 3\n",
      "Update 0: 0.12727606300648195\n",
      "Update 1: 0.12727606300648195\n",
      "when m = 4\n",
      "Update 0: 0.12739914152814627\n",
      "Update 1: 0.12739914152814627\n",
      "when m = 5\n",
      "Update 0: 0.12756515151919906\n",
      "Update 1: nan\n",
      "Update 2: nan\n",
      "Update 3: nan\n",
      "Update 4: nan\n",
      "Update 5: nan\n",
      "Final loss: 0.1263000379090352\n",
      "Time taken(s): 6.99\n",
      "Generating 5 best initial betas out of 1000...\n",
      "Optimizing...\n",
      "when m = 1\n",
      "Update 0: 0.12727693629003103\n",
      "Update 1: 0.12727693629003103\n",
      "when m = 2\n",
      "Update 0: 0.1276106081791628\n",
      "Update 1: 0.1276106081791628\n",
      "when m = 3\n",
      "Update 0: 0.12765697748441165\n",
      "Update 1: 0.12765697748441165\n",
      "when m = 4\n",
      "Update 0: 0.12775538196124503\n",
      "Update 1: 0.12775538196124503\n",
      "when m = 5\n",
      "Update 0: 0.12795537942569168"
     ]
    },
    {
     "name": "stderr",
     "output_type": "stream",
     "text": [
      "D:\\CAViaR-Project\\test\\..\\caviar\\_caviar_function.py:84: RuntimeWarning: overflow encountered in double_scalars\n",
      "  VaRs[t + 1] = (b1 + b2 * VaRs[t] ** 2 + b3 * returns[t] ** 2) ** 0.5\n",
      "C:\\Users\\Jasper\\anaconda3\\lib\\site-packages\\scipy\\optimize\\_numdiff.py:576: RuntimeWarning: invalid value encountered in subtract\n",
      "  df = fun(x) - f0\n"
     ]
    },
    {
     "name": "stdout",
     "output_type": "stream",
     "text": [
      "\n",
      "Update 1: 0.12795537942569168\n",
      "Final loss: 0.12727693629003103\n",
      "Time taken(s): 4.58\n",
      "Generating 5 best initial betas out of 1000...\n"
     ]
    },
    {
     "name": "stderr",
     "output_type": "stream",
     "text": [
      "D:\\CAViaR-Project\\test\\..\\var_tests\\_test.py:76: RuntimeWarning: invalid value encountered in double_scalars\n",
      "  LR_POF = -2 * np.log(numerator / denominator)\n",
      "D:\\CAViaR-Project\\test\\..\\var_tests\\_test.py:111: RuntimeWarning: invalid value encountered in double_scalars\n",
      "  LR_CCI = -2 * np.log(numerator / denominator)\n"
     ]
    },
    {
     "name": "stdout",
     "output_type": "stream",
     "text": [
      "Optimizing...\n",
      "when m = 1\n",
      "Update 0: 0.1272150155741481\n",
      "Update 1: 0.1272150155741481\n",
      "when m = 2\n",
      "Update 0: 0.12770785993788103\n",
      "Update 1: 0.12770785993788103\n",
      "when m = 3\n",
      "Update 0: 0.12791652605594794\n"
     ]
    },
    {
     "name": "stderr",
     "output_type": "stream",
     "text": [
      "D:\\CAViaR-Project\\test\\..\\caviar\\_caviar_function.py:84: RuntimeWarning: overflow encountered in double_scalars\n",
      "  VaRs[t + 1] = (b1 + b2 * VaRs[t] ** 2 + b3 * returns[t] ** 2) ** 0.5\n",
      "C:\\Users\\Jasper\\anaconda3\\lib\\site-packages\\scipy\\optimize\\_numdiff.py:576: RuntimeWarning: invalid value encountered in subtract\n",
      "  df = fun(x) - f0\n",
      "D:\\CAViaR-Project\\test\\..\\caviar\\_caviar_function.py:84: RuntimeWarning: invalid value encountered in double_scalars\n",
      "  VaRs[t + 1] = (b1 + b2 * VaRs[t] ** 2 + b3 * returns[t] ** 2) ** 0.5\n"
     ]
    },
    {
     "name": "stdout",
     "output_type": "stream",
     "text": [
      "Update 1: 0.12624976537234467\n",
      "Update 2: nan\n",
      "Update 3: nan\n",
      "Update 4: nan\n",
      "Update 5: nan\n",
      "when m = 4\n",
      "Update 0: 0.1280408690745985\n",
      "Update 1: nan\n",
      "Update 2: nan\n",
      "Update 3: nan\n",
      "Update 4: nan\n",
      "Update 5: nan\n",
      "when m = 5\n",
      "Update 0: 0.12816366739461774\n",
      "Update 1: 0.12816366739461774\n",
      "Final loss: 0.1272150155741481\n",
      "Time taken(s): 7.69\n"
     ]
    },
    {
     "name": "stderr",
     "output_type": "stream",
     "text": [
      "D:\\CAViaR-Project\\test\\..\\var_tests\\_test.py:76: RuntimeWarning: invalid value encountered in double_scalars\n",
      "  LR_POF = -2 * np.log(numerator / denominator)\n",
      "D:\\CAViaR-Project\\test\\..\\var_tests\\_test.py:111: RuntimeWarning: invalid value encountered in double_scalars\n",
      "  LR_CCI = -2 * np.log(numerator / denominator)\n"
     ]
    },
    {
     "name": "stdout",
     "output_type": "stream",
     "text": [
      "Generating 5 best initial betas out of 1000...\n",
      "Optimizing...\n",
      "when m = 1\n",
      "Update 0: 0.12728757003168334\n",
      "Update 1: 0.12728757003168334\n",
      "when m = 2\n",
      "Update 0: 0.1276824416088407\n",
      "Update 1: 0.1276824416088407\n",
      "when m = 3\n",
      "Update 0: 0.12794089282007037\n",
      "Update 1: 0.12794089282007037\n",
      "when m = 4\n",
      "Update 0: 0.12799485701638968\n"
     ]
    },
    {
     "name": "stderr",
     "output_type": "stream",
     "text": [
      "D:\\CAViaR-Project\\test\\..\\caviar\\_caviar_function.py:84: RuntimeWarning: overflow encountered in double_scalars\n",
      "  VaRs[t + 1] = (b1 + b2 * VaRs[t] ** 2 + b3 * returns[t] ** 2) ** 0.5\n",
      "C:\\Users\\Jasper\\anaconda3\\lib\\site-packages\\scipy\\optimize\\_numdiff.py:576: RuntimeWarning: invalid value encountered in subtract\n",
      "  df = fun(x) - f0\n",
      "D:\\CAViaR-Project\\test\\..\\caviar\\_caviar_function.py:84: RuntimeWarning: invalid value encountered in double_scalars\n",
      "  VaRs[t + 1] = (b1 + b2 * VaRs[t] ** 2 + b3 * returns[t] ** 2) ** 0.5\n"
     ]
    },
    {
     "name": "stdout",
     "output_type": "stream",
     "text": [
      "Update 1: nan\n",
      "Update 2: nan\n",
      "Update 3: nan\n",
      "Update 4: nan\n",
      "Update 5: nan\n",
      "when m = 5\n",
      "Update 0: 0.1280302823349019\n",
      "Update 1: nan\n",
      "Update 2: nan\n",
      "Update 3: nan\n",
      "Update 4: nan\n",
      "Update 5: nan\n",
      "Final loss: 0.12728757003168334\n",
      "Time taken(s): 7.11\n"
     ]
    },
    {
     "name": "stderr",
     "output_type": "stream",
     "text": [
      "D:\\CAViaR-Project\\test\\..\\var_tests\\_test.py:76: RuntimeWarning: invalid value encountered in double_scalars\n",
      "  LR_POF = -2 * np.log(numerator / denominator)\n",
      "D:\\CAViaR-Project\\test\\..\\var_tests\\_test.py:111: RuntimeWarning: invalid value encountered in double_scalars\n",
      "  LR_CCI = -2 * np.log(numerator / denominator)\n"
     ]
    },
    {
     "name": "stdout",
     "output_type": "stream",
     "text": [
      "Generating 5 best initial betas out of 1000...\n",
      "Optimizing...\n",
      "when m = 1\n",
      "Update 0: 0.1265979041353666\n",
      "Update 1: 0.1265979041353666\n",
      "when m = 2\n",
      "Update 0: 0.12678101185236132\n"
     ]
    },
    {
     "name": "stderr",
     "output_type": "stream",
     "text": [
      "D:\\CAViaR-Project\\test\\..\\caviar\\_caviar_function.py:84: RuntimeWarning: overflow encountered in double_scalars\n",
      "  VaRs[t + 1] = (b1 + b2 * VaRs[t] ** 2 + b3 * returns[t] ** 2) ** 0.5\n",
      "C:\\Users\\Jasper\\anaconda3\\lib\\site-packages\\scipy\\optimize\\_numdiff.py:576: RuntimeWarning: invalid value encountered in subtract\n",
      "  df = fun(x) - f0\n",
      "D:\\CAViaR-Project\\test\\..\\caviar\\_caviar_function.py:84: RuntimeWarning: invalid value encountered in double_scalars\n",
      "  VaRs[t + 1] = (b1 + b2 * VaRs[t] ** 2 + b3 * returns[t] ** 2) ** 0.5\n"
     ]
    },
    {
     "name": "stdout",
     "output_type": "stream",
     "text": [
      "Update 1: nan\n",
      "Update 2: nan\n",
      "Update 3: nan\n",
      "Update 4: nan\n",
      "Update 5: nan\n",
      "when m = 3\n",
      "Update 0: 0.12694068474261036\n",
      "Update 1: 0.12694068474261036\n",
      "when m = 4\n",
      "Update 0: 0.12727689180062834\n",
      "Update 1: nan\n",
      "Update 2: nan\n",
      "Update 3: nan\n",
      "Update 4: nan\n",
      "Update 5: nan\n",
      "when m = 5\n",
      "Update 0: 0.12737921937228072\n",
      "Update 1: nan\n",
      "Update 2: nan\n",
      "Update 3: nan\n",
      "Update 4: nan\n",
      "Update 5: nan\n",
      "Final loss: 0.1265979041353666\n",
      "Time taken(s): 8.30\n"
     ]
    },
    {
     "name": "stderr",
     "output_type": "stream",
     "text": [
      "D:\\CAViaR-Project\\test\\..\\var_tests\\_test.py:76: RuntimeWarning: invalid value encountered in double_scalars\n",
      "  LR_POF = -2 * np.log(numerator / denominator)\n",
      "D:\\CAViaR-Project\\test\\..\\var_tests\\_test.py:111: RuntimeWarning: invalid value encountered in double_scalars\n",
      "  LR_CCI = -2 * np.log(numerator / denominator)\n"
     ]
    },
    {
     "name": "stdout",
     "output_type": "stream",
     "text": [
      "Generating 5 best initial betas out of 1000...\n",
      "Optimizing...\n",
      "when m = 1\n",
      "Update 0: 0.12678726682498256\n",
      "Update 1: 0.12678726682498256\n",
      "when m = 2\n",
      "Update 0: 0.12728949546941135\n",
      "Update 1: 0.12728949546941135\n",
      "when m = 3\n",
      "Update 0: 0.1276742999683493\n",
      "Update 1: 0.1276742999683493\n",
      "when m = 4\n",
      "Update 0: 0.12774835570386472\n"
     ]
    },
    {
     "name": "stderr",
     "output_type": "stream",
     "text": [
      "D:\\CAViaR-Project\\test\\..\\caviar\\_caviar_function.py:84: RuntimeWarning: overflow encountered in double_scalars\n",
      "  VaRs[t + 1] = (b1 + b2 * VaRs[t] ** 2 + b3 * returns[t] ** 2) ** 0.5\n",
      "C:\\Users\\Jasper\\anaconda3\\lib\\site-packages\\scipy\\optimize\\_numdiff.py:576: RuntimeWarning: invalid value encountered in subtract\n",
      "  df = fun(x) - f0\n",
      "D:\\CAViaR-Project\\test\\..\\caviar\\_caviar_function.py:84: RuntimeWarning: invalid value encountered in double_scalars\n",
      "  VaRs[t + 1] = (b1 + b2 * VaRs[t] ** 2 + b3 * returns[t] ** 2) ** 0.5\n"
     ]
    },
    {
     "name": "stdout",
     "output_type": "stream",
     "text": [
      "Update 1: nan\n",
      "Update 2: nan\n",
      "Update 3: nan\n",
      "Update 4: nan\n",
      "Update 5: nan\n",
      "when m = 5\n",
      "Update 0: 0.1278159150357127\n",
      "Update 1: 0.1278159150357127\n",
      "Final loss: 0.12678726682498256\n",
      "Time taken(s): 5.78\n",
      "Generating 5 best initial betas out of 1000...\n"
     ]
    },
    {
     "name": "stderr",
     "output_type": "stream",
     "text": [
      "D:\\CAViaR-Project\\test\\..\\var_tests\\_test.py:76: RuntimeWarning: invalid value encountered in double_scalars\n",
      "  LR_POF = -2 * np.log(numerator / denominator)\n",
      "D:\\CAViaR-Project\\test\\..\\var_tests\\_test.py:111: RuntimeWarning: invalid value encountered in double_scalars\n",
      "  LR_CCI = -2 * np.log(numerator / denominator)\n"
     ]
    },
    {
     "name": "stdout",
     "output_type": "stream",
     "text": [
      "Optimizing...\n",
      "when m = 1\n",
      "Update 0: 0.12691187212409538\n",
      "Update 1: 0.12691187212409538\n",
      "when m = 2\n",
      "Update 0: 0.1272978007128416\n",
      "Update 1: 0.1272978007128416\n",
      "when m = 3\n",
      "Update 0: 0.12800499202006801\n",
      "Update 1: 0.12800499202006801\n",
      "when m = 4\n",
      "Update 0: 0.12803761654847715\n"
     ]
    },
    {
     "name": "stderr",
     "output_type": "stream",
     "text": [
      "D:\\CAViaR-Project\\test\\..\\caviar\\_caviar_function.py:84: RuntimeWarning: overflow encountered in double_scalars\n",
      "  VaRs[t + 1] = (b1 + b2 * VaRs[t] ** 2 + b3 * returns[t] ** 2) ** 0.5\n",
      "C:\\Users\\Jasper\\anaconda3\\lib\\site-packages\\scipy\\optimize\\_numdiff.py:576: RuntimeWarning: invalid value encountered in subtract\n",
      "  df = fun(x) - f0\n"
     ]
    },
    {
     "name": "stdout",
     "output_type": "stream",
     "text": [
      "Update 1: 0.12803761654847715\n",
      "when m = 5\n",
      "Update 0: 0.12836704513889166\n"
     ]
    },
    {
     "name": "stderr",
     "output_type": "stream",
     "text": [
      "D:\\CAViaR-Project\\test\\..\\caviar\\_caviar_function.py:84: RuntimeWarning: invalid value encountered in double_scalars\n",
      "  VaRs[t + 1] = (b1 + b2 * VaRs[t] ** 2 + b3 * returns[t] ** 2) ** 0.5\n"
     ]
    },
    {
     "name": "stdout",
     "output_type": "stream",
     "text": [
      "Update 1: nan\n",
      "Update 2: nan\n",
      "Update 3: nan\n",
      "Update 4: nan\n",
      "Update 5: nan\n",
      "Final loss: 0.12691187212409538\n",
      "Time taken(s): 5.80\n",
      "Generating 5 best initial betas out of 1000...\n",
      "Optimizing...\n",
      "when m = 1\n",
      "Update 0: 0.1274034169652944\n",
      "Update 1: 0.1274034169652944\n",
      "when m = 2\n",
      "Update 0: 0.1274290225354734\n",
      "Update 1: 0.1274290225354734\n",
      "when m = 3\n",
      "Update 0: 0.1275579254593167\n",
      "Update 1: 0.1275579254593167\n",
      "when m = 4\n",
      "Update 0: 0.12814753912119056\n"
     ]
    },
    {
     "name": "stderr",
     "output_type": "stream",
     "text": [
      "D:\\CAViaR-Project\\test\\..\\caviar\\_caviar_function.py:84: RuntimeWarning: overflow encountered in double_scalars\n",
      "  VaRs[t + 1] = (b1 + b2 * VaRs[t] ** 2 + b3 * returns[t] ** 2) ** 0.5\n",
      "C:\\Users\\Jasper\\anaconda3\\lib\\site-packages\\scipy\\optimize\\_numdiff.py:576: RuntimeWarning: invalid value encountered in subtract\n",
      "  df = fun(x) - f0\n"
     ]
    },
    {
     "name": "stdout",
     "output_type": "stream",
     "text": [
      "Update 1: 0.12814753912119056\n",
      "when m = 5\n",
      "Update 0: 0.12844599093428402\n"
     ]
    },
    {
     "name": "stderr",
     "output_type": "stream",
     "text": [
      "D:\\CAViaR-Project\\test\\..\\caviar\\_caviar_function.py:84: RuntimeWarning: invalid value encountered in double_scalars\n",
      "  VaRs[t + 1] = (b1 + b2 * VaRs[t] ** 2 + b3 * returns[t] ** 2) ** 0.5\n"
     ]
    },
    {
     "name": "stdout",
     "output_type": "stream",
     "text": [
      "Update 1: nan\n",
      "Update 2: nan\n",
      "Update 3: nan\n",
      "Update 4: nan\n",
      "Update 5: nan\n",
      "Final loss: 0.1274034169652944\n",
      "Time taken(s): 6.15\n"
     ]
    },
    {
     "name": "stderr",
     "output_type": "stream",
     "text": [
      "D:\\CAViaR-Project\\test\\..\\var_tests\\_test.py:76: RuntimeWarning: invalid value encountered in double_scalars\n",
      "  LR_POF = -2 * np.log(numerator / denominator)\n",
      "D:\\CAViaR-Project\\test\\..\\var_tests\\_test.py:111: RuntimeWarning: invalid value encountered in double_scalars\n",
      "  LR_CCI = -2 * np.log(numerator / denominator)\n"
     ]
    },
    {
     "name": "stdout",
     "output_type": "stream",
     "text": [
      "Generating 5 best initial betas out of 1000...\n",
      "Optimizing...\n",
      "when m = 1\n",
      "Update 0: 0.12747652630204623\n",
      "Update 1: 0.12747652630204623\n",
      "when m = 2\n",
      "Update 0: 0.12765133104122192\n",
      "Update 1: 0.12765133104122192\n",
      "when m = 3\n",
      "Update 0: 0.12786063843322695\n",
      "Update 1: 0.12786063843322695\n",
      "when m = 4\n",
      "Update 0: 0.12804102477013\n"
     ]
    },
    {
     "name": "stderr",
     "output_type": "stream",
     "text": [
      "D:\\CAViaR-Project\\test\\..\\caviar\\_caviar_function.py:84: RuntimeWarning: overflow encountered in double_scalars\n",
      "  VaRs[t + 1] = (b1 + b2 * VaRs[t] ** 2 + b3 * returns[t] ** 2) ** 0.5\n",
      "C:\\Users\\Jasper\\anaconda3\\lib\\site-packages\\scipy\\optimize\\_numdiff.py:576: RuntimeWarning: invalid value encountered in subtract\n",
      "  df = fun(x) - f0\n",
      "D:\\CAViaR-Project\\test\\..\\caviar\\_caviar_function.py:84: RuntimeWarning: invalid value encountered in double_scalars\n",
      "  VaRs[t + 1] = (b1 + b2 * VaRs[t] ** 2 + b3 * returns[t] ** 2) ** 0.5\n"
     ]
    },
    {
     "name": "stdout",
     "output_type": "stream",
     "text": [
      "Update 1: nan\n",
      "Update 2: nan\n",
      "Update 3: nan\n",
      "Update 4: nan\n",
      "Update 5: nan\n",
      "when m = 5\n",
      "Update 0: 0.12805261870928664\n",
      "Update 1: nan\n",
      "Update 2: nan\n",
      "Update 3: nan\n",
      "Update 4: nan\n",
      "Update 5: nan\n",
      "Final loss: 0.12747652630204623\n",
      "Time taken(s): 7.58\n"
     ]
    },
    {
     "name": "stderr",
     "output_type": "stream",
     "text": [
      "D:\\CAViaR-Project\\test\\..\\var_tests\\_test.py:76: RuntimeWarning: invalid value encountered in double_scalars\n",
      "  LR_POF = -2 * np.log(numerator / denominator)\n",
      "D:\\CAViaR-Project\\test\\..\\var_tests\\_test.py:111: RuntimeWarning: invalid value encountered in double_scalars\n",
      "  LR_CCI = -2 * np.log(numerator / denominator)\n"
     ]
    },
    {
     "name": "stdout",
     "output_type": "stream",
     "text": [
      "Runing quantile: 0.01, model: adaptive, method: numeric\n",
      "Generating 5 best initial betas out of 1000...\n",
      "Optimizing...\n",
      "when m = 1\n",
      "Update 0: 0.0518209482249624\n",
      "Update 1: 0.040028728691000416\n",
      "Update 2: 0.040028728691000416\n",
      "when m = 2\n",
      "Update 0: 0.05182183186374972\n",
      "Update 1: 0.04002872935278241\n",
      "Update 2: 0.04002872935278241\n",
      "when m = 3\n",
      "Update 0: 0.05182196780969083\n"
     ]
    },
    {
     "name": "stderr",
     "output_type": "stream",
     "text": [
      "D:\\CAViaR-Project\\test\\..\\caviar\\_caviar_function.py:22: RuntimeWarning: overflow encountered in exp\n",
      "  1 / (1 + np.exp(G * (returns[t] - VaRs[t]))) - quantile\n"
     ]
    },
    {
     "name": "stdout",
     "output_type": "stream",
     "text": [
      "Update 1: 0.0392098281078736\n",
      "Update 2: 0.0392098281078705\n",
      "when m = 4\n",
      "Update 0: 0.051841948732510454\n",
      "Update 1: 0.039468497761910096\n",
      "Update 2: 0.039468497761910096\n",
      "when m = 5\n",
      "Update 0: 0.051848864923543056\n",
      "Update 1: 0.0390837840151522\n",
      "Update 2: 0.0390837840151522\n",
      "Final loss: 0.0390837840151522\n",
      "Time taken(s): 14.84\n",
      "Generating 5 best initial betas out of 1000...\n",
      "Optimizing...\n",
      "when m = 1\n",
      "Update 0: 0.051820431288437226\n",
      "Update 1: 0.04002872869151318\n",
      "Update 2: 0.04002872869151318\n",
      "when m = 2\n",
      "Update 0: 0.05182612495933112\n",
      "Update 1: 0.03864377355159966\n",
      "Update 2: 0.03864377354890743\n",
      "when m = 3\n",
      "Update 0: 0.05184945767679391\n",
      "Update 1: 0.038939702446744766\n",
      "Update 2: 0.038939702446744766\n",
      "when m = 4\n",
      "Update 0: 0.05185628496733195\n"
     ]
    },
    {
     "name": "stderr",
     "output_type": "stream",
     "text": [
      "D:\\CAViaR-Project\\test\\..\\caviar\\_caviar_function.py:22: RuntimeWarning: overflow encountered in exp\n",
      "  1 / (1 + np.exp(G * (returns[t] - VaRs[t]))) - quantile\n"
     ]
    },
    {
     "name": "stdout",
     "output_type": "stream",
     "text": [
      "Update 1: 0.0390487386516881\n",
      "Update 2: 0.03899636148662516\n",
      "Update 3: 0.03899636148807722\n",
      "when m = 5\n",
      "Update 0: 0.051861948774772945\n",
      "Update 1: 0.03882695778025327\n",
      "Update 2: 0.03882695778025327\n",
      "Final loss: 0.03864377354890743\n",
      "Time taken(s): 16.99\n",
      "Generating 5 best initial betas out of 1000...\n",
      "Optimizing...\n",
      "when m = 1\n",
      "Update 0: 0.05182675316553227\n"
     ]
    },
    {
     "name": "stderr",
     "output_type": "stream",
     "text": [
      "D:\\CAViaR-Project\\test\\..\\caviar\\_caviar_function.py:22: RuntimeWarning: overflow encountered in exp\n",
      "  1 / (1 + np.exp(G * (returns[t] - VaRs[t]))) - quantile\n"
     ]
    },
    {
     "name": "stdout",
     "output_type": "stream",
     "text": [
      "Update 1: 0.038939702447061686\n",
      "Update 2: 0.038939702447061686\n",
      "when m = 2\n",
      "Update 0: 0.05183997809341412\n",
      "Update 1: 0.03850010895432542\n",
      "Update 2: 0.03850010895431608\n",
      "when m = 3\n",
      "Update 0: 0.051840101404664364\n",
      "Update 1: 0.038643773549646265\n",
      "Update 2: 0.03864377354890767\n",
      "when m = 4\n",
      "Update 0: 0.051843902435940774\n",
      "Update 1: 0.03923288347621098\n",
      "Update 2: 0.03923288347621087\n",
      "when m = 5\n",
      "Update 0: 0.05184559844717273\n",
      "Update 1: 0.038826957778737584\n",
      "Update 2: 0.038826957778737584\n",
      "Final loss: 0.03850010895431608\n",
      "Time taken(s): 15.11\n",
      "Generating 5 best initial betas out of 1000...\n",
      "Optimizing...\n",
      "when m = 1\n",
      "Update 0: 0.05182213370547346\n",
      "Update 1: 0.03867432762200328\n",
      "Update 2: 0.03867432762200328\n",
      "when m = 2\n",
      "Update 0: 0.05182260752870704\n"
     ]
    },
    {
     "name": "stderr",
     "output_type": "stream",
     "text": [
      "D:\\CAViaR-Project\\test\\..\\caviar\\_caviar_function.py:22: RuntimeWarning: overflow encountered in exp\n",
      "  1 / (1 + np.exp(G * (returns[t] - VaRs[t]))) - quantile\n"
     ]
    },
    {
     "name": "stdout",
     "output_type": "stream",
     "text": [
      "Update 1: 0.03850175324116326\n",
      "Update 2: 0.038501753241118514\n",
      "when m = 3\n",
      "Update 0: 0.05182757658345347\n",
      "Update 1: 0.038826957992566156\n",
      "Update 2: 0.03882695779149855\n",
      "Update 3: 0.03882695779149855\n",
      "when m = 4\n",
      "Update 0: 0.05182980402028733\n",
      "Update 1: 0.038674327646361445\n",
      "Update 2: 0.038674327646361445\n",
      "when m = 5\n",
      "Update 0: 0.051839784779257006\n",
      "Update 1: 0.038699141151880674\n",
      "Update 2: 0.0384106686176781\n",
      "Update 3: 0.0384106686176781\n",
      "Final loss: 0.0384106686176781\n",
      "Time taken(s): 15.99\n",
      "Generating 5 best initial betas out of 1000...\n",
      "Optimizing...\n",
      "when m = 1\n",
      "Update 0: 0.05182574431552715\n",
      "Update 1: 0.03882695777699545\n",
      "Update 2: 0.03882695777699545\n",
      "when m = 2\n",
      "Update 0: 0.05184213878147699\n",
      "Update 1: 0.03946849776179815\n",
      "Update 2: 0.03946849776179815\n",
      "when m = 3\n",
      "Update 0: 0.05184551935679336\n",
      "Update 1: 0.039001556825877304\n",
      "Update 2: 0.03900155682007353\n",
      "when m = 4\n",
      "Update 0: 0.05186236066031691\n"
     ]
    },
    {
     "name": "stderr",
     "output_type": "stream",
     "text": [
      "D:\\CAViaR-Project\\test\\..\\caviar\\_caviar_function.py:22: RuntimeWarning: overflow encountered in exp\n",
      "  1 / (1 + np.exp(G * (returns[t] - VaRs[t]))) - quantile\n"
     ]
    },
    {
     "name": "stdout",
     "output_type": "stream",
     "text": [
      "Update 1: 0.039408330095813314\n",
      "Update 2: 0.039408330095813314\n",
      "when m = 5\n",
      "Update 0: 0.05186477331536274\n",
      "Update 1: 0.04002872983192215\n",
      "Update 2: 0.04002872983192215\n",
      "Final loss: 0.03882695777699545\n",
      "Time taken(s): 14.26\n",
      "Generating 5 best initial betas out of 1000...\n",
      "Optimizing...\n",
      "when m = 1\n",
      "Update 0: 0.05182058630804494\n",
      "Update 1: 0.04002872869080244\n",
      "Update 2: 0.04002872869080244\n",
      "when m = 2\n",
      "Update 0: 0.05182137682633801\n",
      "Update 1: 0.040028729119946926\n",
      "Update 2: 0.040028729119946926\n",
      "when m = 3\n",
      "Update 0: 0.05182426794343997\n",
      "Update 1: 0.03860537856673764\n",
      "Update 2: 0.03860537856673764\n",
      "when m = 4\n",
      "Update 0: 0.05183118011225773\n",
      "Update 1: 0.038674327621917505\n",
      "Update 2: 0.038674327621917505\n",
      "when m = 5\n",
      "Update 0: 0.05183440317337711\n"
     ]
    },
    {
     "name": "stderr",
     "output_type": "stream",
     "text": [
      "D:\\CAViaR-Project\\test\\..\\caviar\\_caviar_function.py:22: RuntimeWarning: overflow encountered in exp\n",
      "  1 / (1 + np.exp(G * (returns[t] - VaRs[t]))) - quantile\n"
     ]
    },
    {
     "name": "stdout",
     "output_type": "stream",
     "text": [
      "Update 1: 0.038674327621860724\n",
      "Update 2: 0.038674327621860724\n",
      "Final loss: 0.03860537856673764\n",
      "Time taken(s): 13.82\n",
      "Generating 5 best initial betas out of 1000...\n",
      "Optimizing...\n",
      "when m = 1\n",
      "Update 0: 0.05182321545021858\n",
      "Update 1: 0.03872260303554547\n",
      "Update 2: 0.03872260303554547\n",
      "when m = 2\n",
      "Update 0: 0.05183243417395929\n",
      "Update 1: 0.039072627100471116\n",
      "Update 2: 0.03907262709443\n",
      "when m = 3\n",
      "Update 0: 0.051833662331244895\n"
     ]
    },
    {
     "name": "stderr",
     "output_type": "stream",
     "text": [
      "D:\\CAViaR-Project\\test\\..\\caviar\\_caviar_function.py:22: RuntimeWarning: overflow encountered in exp\n",
      "  1 / (1 + np.exp(G * (returns[t] - VaRs[t]))) - quantile\n"
     ]
    },
    {
     "name": "stdout",
     "output_type": "stream",
     "text": [
      "Update 1: 0.038347800199509514\n",
      "Update 2: 0.0383478001995095\n",
      "when m = 4\n",
      "Update 0: 0.05183471072071662\n",
      "Update 1: 0.038347799219884\n",
      "Update 2: 0.038347799219884\n",
      "when m = 5\n",
      "Update 0: 0.05184040974777144\n",
      "Update 1: 0.038722420341073246\n",
      "Update 2: 0.03872242034106534\n",
      "Final loss: 0.038347799219884\n",
      "Time taken(s): 18.04\n",
      "Generating 5 best initial betas out of 1000...\n",
      "Optimizing...\n",
      "when m = 1\n",
      "Update 0: 0.05182152856565235\n",
      "Update 1: 0.03942386211213699\n",
      "Update 2: 0.03942386209679481\n",
      "when m = 2\n",
      "Update 0: 0.051822957693013975\n",
      "Update 1: 0.03927498932013825\n",
      "Update 2: 0.03927498932013825\n",
      "when m = 3\n",
      "Update 0: 0.05183103188689895\n",
      "Update 1: 0.03895905511201026\n",
      "Update 2: 0.03895905511201026\n",
      "when m = 4\n",
      "Update 0: 0.05184210414341353\n",
      "Update 1: 0.03882695777674076\n",
      "Update 2: 0.03882695777674076\n",
      "when m = 5\n",
      "Update 0: 0.0518459956235026\n",
      "Update 1: 0.03864153730557598\n",
      "Update 2: 0.03864153724394621\n",
      "Final loss: 0.03864153724394621\n",
      "Time taken(s): 14.95\n",
      "Generating 5 best initial betas out of 1000...\n",
      "Optimizing...\n",
      "when m = 1\n",
      "Update 0: 0.05184222689689651\n",
      "Update 1: 0.03903330671994764\n",
      "Update 2: 0.03903330671994763\n",
      "when m = 2\n",
      "Update 0: 0.0518432425665646\n",
      "Update 1: 0.038826957776872936\n",
      "Update 2: 0.038826957776872936\n",
      "when m = 3\n",
      "Update 0: 0.05184688436945022\n",
      "Update 1: 0.03864377354988774\n",
      "Update 2: 0.038643773548907454\n",
      "when m = 4\n",
      "Update 0: 0.051866313148607665\n",
      "Update 1: 0.040028728690134185\n",
      "Update 2: 0.040028728690134185\n",
      "when m = 5\n",
      "Update 0: 0.051868197158360184\n",
      "Update 1: 0.038347800916729\n",
      "Update 2: 0.038347800916729\n",
      "Final loss: 0.038347800916729\n",
      "Time taken(s): 15.43\n",
      "Generating 5 best initial betas out of 1000...\n",
      "Optimizing...\n",
      "when m = 1\n",
      "Update 0: 0.0518312665767846\n"
     ]
    },
    {
     "name": "stderr",
     "output_type": "stream",
     "text": [
      "D:\\CAViaR-Project\\test\\..\\caviar\\_caviar_function.py:22: RuntimeWarning: overflow encountered in exp\n",
      "  1 / (1 + np.exp(G * (returns[t] - VaRs[t]))) - quantile\n"
     ]
    },
    {
     "name": "stdout",
     "output_type": "stream",
     "text": [
      "Update 1: 0.03834779902141007\n",
      "Update 2: 0.038347799021412006\n",
      "when m = 2\n",
      "Update 0: 0.05183543147507791\n",
      "Update 1: 0.039295139445269474\n",
      "Update 2: 0.039295139445269474\n",
      "when m = 3\n",
      "Update 0: 0.051837986673995584\n",
      "Update 1: 0.038826957776832496\n",
      "Update 2: 0.038826957776832496\n",
      "when m = 4\n",
      "Update 0: 0.05183961474415622\n",
      "Update 1: 0.03838084924902696\n",
      "Update 2: 0.03838084914656124\n",
      "Update 3: 0.03835123196730947\n",
      "Update 4: 0.03835123196730947\n",
      "when m = 5\n",
      "Update 0: 0.051842638973200614\n",
      "Update 1: 0.03864377354943865\n",
      "Update 2: 0.03864377354943865\n",
      "Final loss: 0.03834779902141007\n",
      "Time taken(s): 16.41\n",
      "Generating 5 best initial betas out of 1000...\n",
      "Optimizing...\n",
      "when m = 1\n",
      "Update 0: 0.05183467212175823\n",
      "Update 1: 0.03872260303448221\n",
      "Update 2: 0.03872260303448221\n",
      "when m = 2\n",
      "Update 0: 0.05183510906908023\n",
      "Update 1: 0.03930426406783448\n",
      "Update 2: 0.03930426406783448\n",
      "when m = 3\n",
      "Update 0: 0.05186475678901441\n",
      "Update 1: 0.04002872912175304\n",
      "Update 2: 0.04002872912175304\n",
      "when m = 4\n",
      "Update 0: 0.05186693887375364\n",
      "Update 1: 0.03882695781008284\n",
      "Update 2: 0.03882695781008284\n",
      "when m = 5\n",
      "Update 0: 0.05186861825840529\n",
      "Update 1: 0.039317057257388495\n",
      "Update 2: 0.039317057257388495\n",
      "Final loss: 0.03872260303448221\n",
      "Time taken(s): 13.85\n",
      "Generating 5 best initial betas out of 1000...\n",
      "Optimizing...\n",
      "when m = 1\n",
      "Update 0: 0.05182117357937814\n",
      "Update 1: 0.038826957974796995\n",
      "Update 2: 0.038826957776717505\n",
      "Update 3: 0.038826957776717505\n",
      "when m = 2\n",
      "Update 0: 0.05183879836998012\n",
      "Update 1: 0.03893970245396891\n",
      "Update 2: 0.03893970244674231\n",
      "when m = 3\n",
      "Update 0: 0.051848855676810135\n",
      "Update 1: 0.039358374547084254\n",
      "Update 2: 0.039358374547084254\n",
      "when m = 4\n",
      "Update 0: 0.051852406742254206\n",
      "Update 1: 0.0389590551119989\n",
      "Update 2: 0.0389590551119989\n",
      "when m = 5\n",
      "Update 0: 0.051856651480544476\n",
      "Update 1: 0.0393040108440186\n",
      "Update 2: 0.0393040108440186\n",
      "Final loss: 0.038826957776717505\n",
      "Time taken(s): 14.15\n",
      "Generating 5 best initial betas out of 1000...\n",
      "Optimizing...\n",
      "when m = 1\n",
      "Update 0: 0.05182276807652092\n"
     ]
    },
    {
     "name": "stderr",
     "output_type": "stream",
     "text": [
      "D:\\CAViaR-Project\\test\\..\\caviar\\_caviar_function.py:22: RuntimeWarning: overflow encountered in exp\n",
      "  1 / (1 + np.exp(G * (returns[t] - VaRs[t]))) - quantile\n"
     ]
    },
    {
     "name": "stdout",
     "output_type": "stream",
     "text": [
      "Update 1: 0.03921386191916358\n",
      "Update 2: 0.03921386191674405\n",
      "when m = 2\n",
      "Update 0: 0.05182385376107197\n",
      "Update 1: 0.038722603034502485\n",
      "Update 2: 0.038722603034502485\n",
      "when m = 3\n",
      "Update 0: 0.05182447241915983\n",
      "Update 1: 0.038641537282289216\n",
      "Update 2: 0.038641537244187514\n",
      "when m = 4\n",
      "Update 0: 0.051824635617846226\n",
      "Update 1: 0.03867432762738289\n",
      "Update 2: 0.03867432762738289\n",
      "when m = 5\n",
      "Update 0: 0.05183614529391142\n",
      "Update 1: 0.03867432763906843\n",
      "Update 2: 0.03867432763906843\n",
      "Final loss: 0.038641537244187514\n",
      "Time taken(s): 14.55\n",
      "Generating 5 best initial betas out of 1000...\n",
      "Optimizing...\n",
      "when m = 1\n",
      "Update 0: 0.051820127293286486\n",
      "Update 1: 0.039703294710664756\n",
      "Update 2: 0.03970329471066527\n",
      "when m = 2\n",
      "Update 0: 0.05182193923269601\n"
     ]
    },
    {
     "name": "stderr",
     "output_type": "stream",
     "text": [
      "D:\\CAViaR-Project\\test\\..\\caviar\\_caviar_function.py:22: RuntimeWarning: overflow encountered in exp\n",
      "  1 / (1 + np.exp(G * (returns[t] - VaRs[t]))) - quantile\n"
     ]
    },
    {
     "name": "stdout",
     "output_type": "stream",
     "text": [
      "Update 1: 0.038380849152549606\n",
      "Update 2: 0.038380849147478004\n",
      "when m = 3\n",
      "Update 0: 0.05183071672044659\n",
      "Update 1: 0.038569175074980304\n",
      "Update 2: 0.038569175074980304\n",
      "when m = 4\n",
      "Update 0: 0.05184083695230721\n",
      "Update 1: 0.03834779901718105\n",
      "Update 2: 0.03834779901564998\n",
      "when m = 5\n",
      "Update 0: 0.051846679752947634\n",
      "Update 1: 0.0383478009070769\n",
      "Update 2: 0.0383478009070769\n",
      "Final loss: 0.03834779901718105\n",
      "Time taken(s): 19.62\n",
      "Generating 5 best initial betas out of 1000...\n",
      "Optimizing...\n",
      "when m = 1\n",
      "Update 0: 0.05182306916132961\n",
      "Update 1: 0.038826957776816384\n",
      "Update 2: 0.038826957776816384\n",
      "when m = 2\n",
      "Update 0: 0.05182413983283378\n",
      "Update 1: 0.03867432762965112\n",
      "Update 2: 0.03867432762965112\n",
      "when m = 3\n",
      "Update 0: 0.05182476604966471\n"
     ]
    },
    {
     "name": "stderr",
     "output_type": "stream",
     "text": [
      "D:\\CAViaR-Project\\test\\..\\caviar\\_caviar_function.py:22: RuntimeWarning: overflow encountered in exp\n",
      "  1 / (1 + np.exp(G * (returns[t] - VaRs[t]))) - quantile\n"
     ]
    },
    {
     "name": "stdout",
     "output_type": "stream",
     "text": [
      "Update 1: 0.03838084964503109\n",
      "Update 2: 0.03838084921358917\n",
      "Update 3: 0.038380849177422995\n",
      "when m = 4\n",
      "Update 0: 0.051826107635533664\n",
      "Update 1: 0.038803648481114755\n",
      "Update 2: 0.03880364848091516\n",
      "when m = 5\n",
      "Update 0: 0.0518316255439591\n",
      "Update 1: 0.038343689074048566\n",
      "Update 2: 0.0383436890740467\n",
      "Final loss: 0.038343689074048566\n",
      "Time taken(s): 17.34\n",
      "Generating 5 best initial betas out of 1000...\n",
      "Optimizing...\n",
      "when m = 1\n",
      "Update 0: 0.05183193859911458\n",
      "Update 1: 0.03864153724492521\n",
      "Update 2: 0.03864153724404087\n",
      "when m = 2\n",
      "Update 0: 0.051832737435083036\n",
      "Update 1: 0.03882695777679055\n",
      "Update 2: 0.03882695777679055\n",
      "when m = 3\n",
      "Update 0: 0.051836173202127675\n",
      "Update 1: 0.03874122978571321\n",
      "Update 2: 0.038741229783970564\n",
      "when m = 4\n",
      "Update 0: 0.05185610016043143\n",
      "Update 1: 0.038826957777222115\n",
      "Update 2: 0.038826957777222115\n",
      "when m = 5\n",
      "Update 0: 0.05186123733009212\n",
      "Update 1: 0.038802243241022855\n",
      "Update 2: 0.038802243241022855\n",
      "Final loss: 0.03864153724404087\n",
      "Time taken(s): 16.07\n",
      "Generating 5 best initial betas out of 1000...\n",
      "Optimizing...\n",
      "when m = 1\n",
      "Update 0: 0.05182031820424926\n",
      "Update 1: 0.040028728733470166\n",
      "Update 2: 0.040028728733470166\n",
      "when m = 2\n",
      "Update 0: 0.05182452239453441\n",
      "Update 1: 0.03867407500877136\n",
      "Update 2: 0.03867407455694947\n",
      "Update 3: 0.038605378566777204\n",
      "Update 4: 0.038605378566777204\n",
      "when m = 3\n",
      "Update 0: 0.051826932499423425\n",
      "Update 1: 0.03895905511202324\n",
      "Update 2: 0.03895905511202324\n",
      "when m = 4\n",
      "Update 0: 0.05185080265915017\n",
      "Update 1: 0.03895905511199845\n",
      "Update 2: 0.03895905511199845\n",
      "when m = 5\n",
      "Update 0: 0.05186275135428027\n",
      "Update 1: 0.04002872868996137\n",
      "Update 2: 0.04002872868996137\n",
      "Final loss: 0.038605378566777204\n",
      "Time taken(s): 14.25\n",
      "Generating 5 best initial betas out of 1000...\n",
      "Optimizing...\n",
      "when m = 1\n",
      "Update 0: 0.05182186161092821\n",
      "Update 1: 0.0400803707955312\n",
      "Update 2: 0.0400803707955312\n",
      "when m = 2\n",
      "Update 0: 0.051826082566967434\n",
      "Update 1: 0.04002872954804244\n",
      "Update 2: 0.04002872954804244\n",
      "when m = 3\n",
      "Update 0: 0.05182716025676022\n",
      "Update 1: 0.038347800855090514\n",
      "Update 2: 0.038347800855090514\n",
      "when m = 4\n",
      "Update 0: 0.051832008342512136\n",
      "Update 1: 0.03854049375530329\n",
      "Update 2: 0.03854049375298279\n",
      "when m = 5\n",
      "Update 0: 0.05184344427111963\n",
      "Update 1: 0.039396389221487915\n",
      "Update 2: 0.039396389221487915\n",
      "Final loss: 0.038347800855090514\n",
      "Time taken(s): 15.16\n",
      "Generating 5 best initial betas out of 1000...\n",
      "Optimizing...\n",
      "when m = 1\n",
      "Update 0: 0.05182464305501375\n",
      "Update 1: 0.038380849167099565\n",
      "Update 2: 0.038347800970613924\n",
      "Update 3: 0.038347800960095865\n",
      "when m = 2\n",
      "Update 0: 0.05182600219642588\n",
      "Update 1: 0.038826957778778586\n",
      "Update 2: 0.038826957778778586\n",
      "when m = 3\n",
      "Update 0: 0.051838695953515375\n",
      "Update 1: 0.038347800960006104\n",
      "Update 2: 0.03834780096000635\n",
      "when m = 4\n",
      "Update 0: 0.05185135832495022\n",
      "Update 1: 0.03882695777842606\n",
      "Update 2: 0.03882695777842606\n",
      "when m = 5\n",
      "Update 0: 0.05185347315813796\n",
      "Update 1: 0.03882695777770184\n",
      "Update 2: 0.03882695777770184\n",
      "Final loss: 0.038347800960006104\n",
      "Time taken(s): 15.47\n",
      "Generating 5 best initial betas out of 1000...\n",
      "Optimizing...\n",
      "when m = 1\n",
      "Update 0: 0.05182279932055511\n",
      "Update 1: 0.038826957776939466\n",
      "Update 2: 0.038826957776939466\n",
      "when m = 2\n",
      "Update 0: 0.05182460367107044\n",
      "Update 1: 0.03838084924362262\n",
      "Update 2: 0.03838084914656126\n",
      "when m = 3\n",
      "Update 0: 0.05182941799752769\n",
      "Update 1: 0.03872260303481686\n",
      "Update 2: 0.03872260303481686\n",
      "when m = 4\n",
      "Update 0: 0.05183773480507906\n",
      "Update 1: 0.03927834107414372\n",
      "Update 2: 0.03927834107414372\n",
      "when m = 5\n",
      "Update 0: 0.051838290350130684\n",
      "Update 1: 0.039383443645426904\n",
      "Update 2: 0.039383443645426904\n",
      "Final loss: 0.03838084914656126\n",
      "Time taken(s): 15.11\n",
      "Generating 5 best initial betas out of 1000...\n",
      "Optimizing...\n",
      "when m = 1\n",
      "Update 0: 0.05182179007940844\n",
      "Update 1: 0.040028729081395556\n",
      "Update 2: 0.040028729081395556\n",
      "when m = 2\n",
      "Update 0: 0.051822622700642196\n",
      "Update 1: 0.03882695778065917\n",
      "Update 2: 0.03882695778065917\n",
      "when m = 3\n",
      "Update 0: 0.05183254352762779\n",
      "Update 1: 0.038959996017209994\n",
      "Update 2: 0.03895999601715114\n",
      "when m = 4\n",
      "Update 0: 0.05184306319515835\n",
      "Update 1: 0.03939991648140613\n",
      "Update 2: 0.039399916463560745\n",
      "when m = 5\n",
      "Update 0: 0.0518455089510879\n",
      "Update 1: 0.03867432762244288\n",
      "Update 2: 0.03867432762244288\n",
      "Final loss: 0.03867432762244288\n",
      "Time taken(s): 14.39\n",
      "Generating 5 best initial betas out of 1000...\n",
      "Optimizing...\n",
      "when m = 1\n",
      "Update 0: 0.05182320967525781\n",
      "Update 1: 0.03854879960129502\n",
      "Update 2: 0.038347799015749605\n",
      "Update 3: 0.038347799015644966\n",
      "when m = 2\n",
      "Update 0: 0.051826635806720145\n",
      "Update 1: 0.0393053670181138\n",
      "Update 2: 0.0393053670181138\n",
      "when m = 3\n",
      "Update 0: 0.05183025430142487\n",
      "Update 1: 0.039024475014897184\n",
      "Update 2: 0.03883456808962347\n",
      "Update 3: 0.03883456808962391\n",
      "when m = 4\n",
      "Update 0: 0.05185525922200673\n",
      "Update 1: 0.0388269577767082\n",
      "Update 2: 0.0388269577767082\n",
      "when m = 5\n",
      "Update 0: 0.05187170253945447\n",
      "Update 1: 0.038347799036390726\n",
      "Update 2: 0.03834779903639077\n",
      "Final loss: 0.038347799015749605\n",
      "Time taken(s): 18.36\n",
      "Generating 5 best initial betas out of 1000...\n",
      "Optimizing...\n",
      "when m = 1\n",
      "Update 0: 0.051820134533026196\n",
      "Update 1: 0.03864153724416741\n",
      "Update 2: 0.03864153724399589\n",
      "when m = 2\n",
      "Update 0: 0.05183694518968132\n",
      "Update 1: 0.038643773605960816\n",
      "Update 2: 0.03864377355002326\n",
      "when m = 3\n",
      "Update 0: 0.0518541756853841\n",
      "Update 1: 0.03882695777674006\n",
      "Update 2: 0.03882695777674006\n",
      "when m = 4\n",
      "Update 0: 0.05186463332075051\n",
      "Update 1: 0.0400287292723783\n",
      "Update 2: 0.0400287292723783\n",
      "when m = 5\n",
      "Update 0: 0.051870595251910165\n",
      "Update 1: 0.03864153724917411\n",
      "Update 2: 0.03864153724412403\n",
      "Final loss: 0.03864153724399589\n",
      "Time taken(s): 16.21\n",
      "Generating 5 best initial betas out of 1000...\n",
      "Optimizing...\n",
      "when m = 1\n",
      "Update 0: 0.05183555927573006\n",
      "Update 1: 0.03882695777873958\n",
      "Update 2: 0.03882695777873958\n",
      "when m = 2\n",
      "Update 0: 0.05183580690346162\n",
      "Update 1: 0.039068315903162835\n",
      "Update 2: 0.03867432763926457\n",
      "Update 3: 0.03867432763926457\n",
      "when m = 3\n",
      "Update 0: 0.05183699535361668\n",
      "Update 1: 0.03895905511203907\n",
      "Update 2: 0.03895905511203907\n",
      "when m = 4\n",
      "Update 0: 0.05184925152305414\n"
     ]
    },
    {
     "name": "stderr",
     "output_type": "stream",
     "text": [
      "D:\\CAViaR-Project\\test\\..\\caviar\\_caviar_function.py:22: RuntimeWarning: overflow encountered in exp\n",
      "  1 / (1 + np.exp(G * (returns[t] - VaRs[t]))) - quantile\n"
     ]
    },
    {
     "name": "stdout",
     "output_type": "stream",
     "text": [
      "Update 1: 0.03895999601741166\n",
      "Update 2: 0.03895999601741168\n",
      "when m = 5\n",
      "Update 0: 0.051865065377047534\n",
      "Update 1: 0.03864153724404314\n",
      "Update 2: 0.03864153724404314\n",
      "Final loss: 0.03864153724404314\n",
      "Time taken(s): 16.66\n",
      "Generating 5 best initial betas out of 1000...\n",
      "Optimizing...\n",
      "when m = 1\n",
      "Update 0: 0.051820248903089894\n",
      "Update 1: 0.04002872890190173\n",
      "Update 2: 0.04002872890190173\n",
      "when m = 2\n",
      "Update 0: 0.051821629111316714\n",
      "Update 1: 0.040028729376393214\n",
      "Update 2: 0.040028729376393214\n",
      "when m = 3\n",
      "Update 0: 0.05182402277202272\n",
      "Update 1: 0.038641537262642835\n",
      "Update 2: 0.038641537244049735\n",
      "when m = 4\n",
      "Update 0: 0.05183433886746519\n",
      "Update 1: 0.03834779902952508\n",
      "Update 2: 0.03834779902240417\n",
      "when m = 5\n",
      "Update 0: 0.05185255959626358\n",
      "Update 1: 0.03882695777839421\n",
      "Update 2: 0.03882695777839421\n",
      "Final loss: 0.03834779902240417\n",
      "Time taken(s): 15.71\n",
      "Generating 5 best initial betas out of 1000...\n",
      "Optimizing...\n",
      "when m = 1\n",
      "Update 0: 0.05182463250050953\n",
      "Update 1: 0.03864377354982785\n",
      "Update 2: 0.03864377354890756\n",
      "when m = 2\n",
      "Update 0: 0.05182537118110401\n",
      "Update 1: 0.038826957778606355\n",
      "Update 2: 0.038826957778606355\n",
      "when m = 3\n",
      "Update 0: 0.05183237359263674\n",
      "Update 1: 0.038674327655435936\n",
      "Update 2: 0.038674327655435936\n",
      "when m = 4\n",
      "Update 0: 0.051836606996528825\n",
      "Update 1: 0.03930426409871815\n",
      "Update 2: 0.03930426409871815\n",
      "when m = 5\n",
      "Update 0: 0.05184364674935905\n",
      "Update 1: 0.0386743276220245\n",
      "Update 2: 0.0386743276220245\n",
      "Final loss: 0.03864377354890756\n",
      "Time taken(s): 16.06\n",
      "Generating 5 best initial betas out of 1000...\n",
      "Optimizing...\n",
      "when m = 1\n",
      "Update 0: 0.05182069333625305\n",
      "Update 1: 0.040028728820842546\n",
      "Update 2: 0.040028728820842546\n",
      "when m = 2\n",
      "Update 0: 0.05182125750072284\n",
      "Update 1: 0.038826957778796016\n",
      "Update 2: 0.038826957778796016\n",
      "when m = 3\n",
      "Update 0: 0.051824714435339654\n"
     ]
    },
    {
     "name": "stderr",
     "output_type": "stream",
     "text": [
      "D:\\CAViaR-Project\\test\\..\\caviar\\_caviar_function.py:22: RuntimeWarning: overflow encountered in exp\n",
      "  1 / (1 + np.exp(G * (returns[t] - VaRs[t]))) - quantile\n"
     ]
    },
    {
     "name": "stdout",
     "output_type": "stream",
     "text": [
      "Update 1: 0.03879383999707053\n",
      "Update 2: 0.038343689116602866\n",
      "Update 3: 0.038343689116602866\n",
      "when m = 4\n",
      "Update 0: 0.05183190646787242\n",
      "Update 1: 0.03882695779282458\n",
      "Update 2: 0.03882695779282458\n",
      "when m = 5\n",
      "Update 0: 0.0518325307068799\n",
      "Update 1: 0.03867432762321245\n",
      "Update 2: 0.03867432762321245\n",
      "Final loss: 0.038343689116602866\n",
      "Time taken(s): 16.17\n",
      "Generating 5 best initial betas out of 1000...\n",
      "Optimizing...\n",
      "when m = 1\n",
      "Update 0: 0.05182022695463921\n",
      "Update 1: 0.03882695778315682\n",
      "Update 2: 0.03882695778315682\n",
      "when m = 2\n",
      "Update 0: 0.05182205366312617\n",
      "Update 1: 0.03882695777676784\n",
      "Update 2: 0.03882695777676784\n",
      "when m = 3\n",
      "Update 0: 0.051822316411872\n",
      "Update 1: 0.03903330672181096\n",
      "Update 2: 0.03903330672152606\n",
      "when m = 4\n",
      "Update 0: 0.051832920255005126\n",
      "Update 1: 0.03872260303470225\n",
      "Update 2: 0.03872260303470225\n",
      "when m = 5\n",
      "Update 0: 0.05184129106529841\n",
      "Update 1: 0.040028728690274205\n",
      "Update 2: 0.040028728690274205\n",
      "Final loss: 0.03872260303470225\n",
      "Time taken(s): 15.05\n",
      "Generating 5 best initial betas out of 1000...\n",
      "Optimizing...\n",
      "when m = 1\n",
      "Update 0: 0.051823252777473704\n",
      "Update 1: 0.03878226955473742\n",
      "Update 2: 0.038782269551384994\n",
      "when m = 2\n",
      "Update 0: 0.05182837078371076\n",
      "Update 1: 0.03864153724421468\n",
      "Update 2: 0.03864153724399816\n",
      "when m = 3\n",
      "Update 0: 0.05182997338191191\n",
      "Update 1: 0.04002872869066063\n",
      "Update 2: 0.04002872869066063\n",
      "when m = 4\n",
      "Update 0: 0.051849871190919224\n",
      "Update 1: 0.03882695777693368\n",
      "Update 2: 0.03882695777693368\n",
      "when m = 5\n",
      "Update 0: 0.05185983468166547\n",
      "Update 1: 0.03882695778072783\n",
      "Update 2: 0.03882695778072783\n",
      "Final loss: 0.03864153724399816\n",
      "Time taken(s): 14.74\n",
      "Generating 5 best initial betas out of 1000...\n",
      "Optimizing...\n",
      "when m = 1\n",
      "Update 0: 0.05185229053385819\n",
      "Update 1: 0.038959055111990534\n",
      "Update 2: 0.038959055111990534\n",
      "when m = 2\n",
      "Update 0: 0.05185270308499604\n",
      "Update 1: 0.038826957798490686\n",
      "Update 2: 0.038826957798490686\n",
      "when m = 3\n",
      "Update 0: 0.05185382812313212\n",
      "Update 1: 0.03882695777724878\n",
      "Update 2: 0.03882695777724878\n",
      "when m = 4\n",
      "Update 0: 0.051854849246851714\n",
      "Update 1: 0.03882695777673221\n",
      "Update 2: 0.03882695777673221\n",
      "when m = 5\n",
      "Update 0: 0.05185617859477253\n",
      "Update 1: 0.03882695777672522\n",
      "Update 2: 0.03882695777672522\n",
      "Final loss: 0.03882695777672522\n",
      "Time taken(s): 14.25\n",
      "Runing quantile: 0.01, model: symmetric, method: numeric\n",
      "Generating 5 best initial betas out of 1000...\n",
      "Optimizing...\n",
      "when m = 1\n",
      "Update 0: 0.45317328849289656\n"
     ]
    },
    {
     "name": "stderr",
     "output_type": "stream",
     "text": [
      "D:\\CAViaR-Project\\test\\..\\caviar\\_caviar_function.py:44: RuntimeWarning: overflow encountered in double_scalars\n",
      "  VaRs[t + 1] = b1 + b2 * VaRs[t] + b3 * abs(returns[t])\n",
      "C:\\Users\\Jasper\\anaconda3\\lib\\site-packages\\scipy\\optimize\\_numdiff.py:576: RuntimeWarning: invalid value encountered in subtract\n",
      "  df = fun(x) - f0\n"
     ]
    },
    {
     "name": "stdout",
     "output_type": "stream",
     "text": [
      "Update 1: 0.034978343347250626\n",
      "Update 2: 0.034447874253240675\n",
      "Update 3: 0.034447866488763454\n",
      "Update 4: 0.034447866487003424\n",
      "when m = 2\n",
      "Update 0: 0.4632446808273551\n",
      "Update 1: 0.03444834640743386\n",
      "Update 2: 0.034448294796500856\n",
      "Update 3: 0.034448294777234274\n",
      "when m = 3\n",
      "Update 0: 0.4691059613967994\n",
      "Update 1: 0.03444899036854256\n",
      "Update 2: 0.03444899036854256\n",
      "when m = 4\n",
      "Update 0: 0.4747492428875052\n",
      "Update 1: 0.03671292041244402\n",
      "Update 2: 0.03671292041244402\n",
      "when m = 5\n",
      "Update 0: 0.4835669618329875\n",
      "Update 1: 0.03444814742592493\n",
      "Update 2: 0.03444812147058803\n",
      "Update 3: 0.0344481214662722\n",
      "Final loss: 0.034447866487003424\n",
      "Time taken(s): 8.15\n",
      "Generating 5 best initial betas out of 1000...\n",
      "Optimizing...\n",
      "when m = 1\n",
      "Update 0: 0.4323521484033181\n",
      "Update 1: 0.036428156026615595\n",
      "Update 2: 0.036428156026615595\n",
      "when m = 2\n",
      "Update 0: 0.43446140017971907\n"
     ]
    },
    {
     "name": "stderr",
     "output_type": "stream",
     "text": [
      "D:\\CAViaR-Project\\test\\..\\caviar\\_caviar_function.py:44: RuntimeWarning: overflow encountered in double_scalars\n",
      "  VaRs[t + 1] = b1 + b2 * VaRs[t] + b3 * abs(returns[t])\n",
      "C:\\Users\\Jasper\\anaconda3\\lib\\site-packages\\scipy\\optimize\\_numdiff.py:576: RuntimeWarning: invalid value encountered in subtract\n",
      "  df = fun(x) - f0\n"
     ]
    },
    {
     "name": "stdout",
     "output_type": "stream",
     "text": [
      "Update 1: 0.03477882790038913\n",
      "Update 2: 0.03477882790038913\n",
      "when m = 3\n",
      "Update 0: 0.43600959261855243\n",
      "Update 1: 0.034448501654766754\n",
      "Update 2: 0.03444850165004896\n",
      "when m = 4\n",
      "Update 0: 0.4438564031818168\n",
      "Update 1: 0.034448621384559494\n",
      "Update 2: 0.034448621358074846\n",
      "when m = 5\n",
      "Update 0: 0.4439957982263137\n",
      "Update 1: 0.03444781873721929\n",
      "Update 2: 0.034447818737219325\n",
      "Final loss: 0.03444781873721929\n",
      "Time taken(s): 6.50\n",
      "Generating 5 best initial betas out of 1000...\n",
      "Optimizing...\n",
      "when m = 1\n",
      "Update 0: 0.4455733481937692\n",
      "Update 1: 0.03444830397968035\n",
      "Update 2: 0.034448270894501365\n",
      "Update 3: 0.034448270715195024\n",
      "Update 4: 0.03444827071196927\n",
      "when m = 2\n",
      "Update 0: 0.44943274059284877\n",
      "Update 1: 0.03444835419265273\n",
      "Update 2: 0.03444835419008845\n",
      "when m = 3\n",
      "Update 0: 0.4499417404662758\n",
      "Update 1: 0.03444832691005058\n",
      "Update 2: 0.03444832629480237\n",
      "Update 3: 0.034448324984367625\n",
      "Update 4: 0.03444832492472968\n",
      "when m = 4\n",
      "Update 0: 0.4522742825216643\n",
      "Update 1: 0.03679434206055403\n"
     ]
    },
    {
     "name": "stderr",
     "output_type": "stream",
     "text": [
      "D:\\CAViaR-Project\\test\\..\\caviar\\_caviar_function.py:44: RuntimeWarning: overflow encountered in double_scalars\n",
      "  VaRs[t + 1] = b1 + b2 * VaRs[t] + b3 * abs(returns[t])\n",
      "C:\\Users\\Jasper\\anaconda3\\lib\\site-packages\\scipy\\optimize\\_numdiff.py:576: RuntimeWarning: invalid value encountered in subtract\n",
      "  df = fun(x) - f0\n"
     ]
    },
    {
     "name": "stdout",
     "output_type": "stream",
     "text": [
      "Update 2: 0.034448263023820966\n",
      "Update 3: 0.034448263009427126\n",
      "when m = 5\n",
      "Update 0: 0.45394682383480534\n",
      "Update 1: 0.037037390367953414\n",
      "Update 2: 0.037037390367953414\n",
      "Final loss: 0.034448263009427126\n",
      "Time taken(s): 7.56\n",
      "Generating 5 best initial betas out of 1000...\n",
      "Optimizing...\n",
      "when m = 1\n",
      "Update 0: 0.4441746909691758\n",
      "Update 1: 0.03446168787941921\n",
      "Update 2: 0.0344609978072234\n",
      "Update 3: 0.03446099713679299\n",
      "Update 4: 0.03446099693355797\n",
      "Update 5: 0.03446099693355797\n",
      "when m = 2\n",
      "Update 0: 0.46726300401622195\n"
     ]
    },
    {
     "name": "stderr",
     "output_type": "stream",
     "text": [
      "D:\\CAViaR-Project\\test\\..\\caviar\\_caviar_function.py:44: RuntimeWarning: overflow encountered in double_scalars\n",
      "  VaRs[t + 1] = b1 + b2 * VaRs[t] + b3 * abs(returns[t])\n",
      "C:\\Users\\Jasper\\anaconda3\\lib\\site-packages\\scipy\\optimize\\_numdiff.py:576: RuntimeWarning: invalid value encountered in subtract\n",
      "  df = fun(x) - f0\n"
     ]
    },
    {
     "name": "stdout",
     "output_type": "stream",
     "text": [
      "Update 1: 0.03895693025235077\n",
      "Update 2: 0.03550413521958443\n",
      "Update 3: 0.03550413521958443\n",
      "when m = 3\n",
      "Update 0: 0.4787875762951275\n",
      "Update 1: 0.034450726607390306\n",
      "Update 2: 0.03445072660368721\n",
      "when m = 4\n",
      "Update 0: 0.48055709908947875\n",
      "Update 1: 0.03444826734203341\n",
      "Update 2: 0.03444826731075086\n",
      "when m = 5\n",
      "Update 0: 0.48317010533919913\n",
      "Update 1: 0.034448925702892264\n",
      "Update 2: 0.034448925702782185\n",
      "Final loss: 0.03444826731075086\n",
      "Time taken(s): 7.44\n",
      "Generating 5 best initial betas out of 1000...\n",
      "Optimizing...\n",
      "when m = 1\n",
      "Update 0: 0.41537846052336996\n",
      "Update 1: 0.03444809485741674\n",
      "Update 2: 0.03444807910069685\n",
      "Update 3: 0.034448079095240544\n",
      "when m = 2\n",
      "Update 0: 0.4237282383583477\n",
      "Update 1: 0.03444797590930322\n",
      "Update 2: 0.034447940466543245\n",
      "Update 3: 0.03444794024162006\n",
      "Update 4: 0.03444794023951122\n",
      "when m = 3\n",
      "Update 0: 0.4488439898463568\n",
      "Update 1: 0.034448138366735506\n",
      "Update 2: 0.03444813834127272\n",
      "when m = 4\n",
      "Update 0: 0.45762458682720447\n"
     ]
    },
    {
     "name": "stderr",
     "output_type": "stream",
     "text": [
      "D:\\CAViaR-Project\\test\\..\\caviar\\_caviar_function.py:44: RuntimeWarning: overflow encountered in double_scalars\n",
      "  VaRs[t + 1] = b1 + b2 * VaRs[t] + b3 * abs(returns[t])\n",
      "C:\\Users\\Jasper\\anaconda3\\lib\\site-packages\\scipy\\optimize\\_numdiff.py:576: RuntimeWarning: invalid value encountered in subtract\n",
      "  df = fun(x) - f0\n"
     ]
    },
    {
     "name": "stdout",
     "output_type": "stream",
     "text": [
      "Update 1: 0.03444899622845443\n",
      "Update 2: 0.03444899622845443\n",
      "when m = 5\n",
      "Update 0: 0.46207840638649167\n",
      "Update 1: 0.03444865332931173\n",
      "Update 2: 0.03444865332239264\n",
      "Final loss: 0.03444794023951122\n",
      "Time taken(s): 8.34\n",
      "Generating 5 best initial betas out of 1000...\n",
      "Optimizing...\n",
      "when m = 1\n",
      "Update 0: 0.42858578940155445\n",
      "Update 1: 0.03634846888377566\n"
     ]
    },
    {
     "name": "stderr",
     "output_type": "stream",
     "text": [
      "D:\\CAViaR-Project\\test\\..\\caviar\\_caviar_function.py:44: RuntimeWarning: overflow encountered in double_scalars\n",
      "  VaRs[t + 1] = b1 + b2 * VaRs[t] + b3 * abs(returns[t])\n",
      "C:\\Users\\Jasper\\anaconda3\\lib\\site-packages\\scipy\\optimize\\_numdiff.py:576: RuntimeWarning: invalid value encountered in subtract\n",
      "  df = fun(x) - f0\n"
     ]
    },
    {
     "name": "stdout",
     "output_type": "stream",
     "text": [
      "Update 2: 0.03444879901710435\n",
      "Update 3: 0.034448796007015794\n",
      "Update 4: 0.03444879600701581\n",
      "when m = 2\n",
      "Update 0: 0.4308172017803738\n",
      "Update 1: 0.03588790669761488\n",
      "Update 2: 0.03588790669761488\n",
      "when m = 3\n",
      "Update 0: 0.45704487057900156\n",
      "Update 1: 0.034448249382276176\n",
      "Update 2: 0.034448249382276176\n",
      "when m = 4\n",
      "Update 0: 0.4767213772995241\n",
      "Update 1: 0.03444849130810338\n",
      "Update 2: 0.034448491303609725\n",
      "when m = 5\n",
      "Update 0: 0.48711099888649645\n",
      "Update 1: 0.03444799538141537\n",
      "Update 2: 0.034447985843676504\n",
      "Update 3: 0.03444798583141182\n",
      "Final loss: 0.03444798583141182\n",
      "Time taken(s): 7.69\n",
      "Generating 5 best initial betas out of 1000...\n",
      "Optimizing...\n",
      "when m = 1\n",
      "Update 0: 0.4646798916546018\n",
      "Update 1: 0.034447693312772615\n",
      "Update 2: 0.034447693098346645\n",
      "Update 3: 0.03444768331407951\n",
      "Update 4: 0.034447683314079526\n",
      "when m = 2\n",
      "Update 0: 0.4720070432113994\n"
     ]
    },
    {
     "name": "stderr",
     "output_type": "stream",
     "text": [
      "D:\\CAViaR-Project\\test\\..\\caviar\\_caviar_function.py:44: RuntimeWarning: overflow encountered in double_scalars\n",
      "  VaRs[t + 1] = b1 + b2 * VaRs[t] + b3 * abs(returns[t])\n",
      "C:\\Users\\Jasper\\anaconda3\\lib\\site-packages\\scipy\\optimize\\_numdiff.py:576: RuntimeWarning: invalid value encountered in subtract\n",
      "  df = fun(x) - f0\n"
     ]
    },
    {
     "name": "stdout",
     "output_type": "stream",
     "text": [
      "Update 1: 0.034447988439368575\n",
      "Update 2: 0.03444798839985417\n",
      "when m = 3\n",
      "Update 0: 0.47411715369034996\n",
      "Update 1: 0.0349340850197647\n",
      "Update 2: 0.0344478353578706\n",
      "Update 3: 0.0344478353578706\n",
      "when m = 4\n",
      "Update 0: 0.4770316203060492\n",
      "Update 1: 0.034448533949090365\n",
      "Update 2: 0.0344485339403511\n",
      "when m = 5\n",
      "Update 0: 0.4839117784131368\n",
      "Update 1: 0.03444818519844598\n",
      "Update 2: 0.03444818245865502\n",
      "Update 3: 0.034448182456205526\n",
      "Final loss: 0.03444768331407951\n",
      "Time taken(s): 8.46\n",
      "Generating 5 best initial betas out of 1000...\n",
      "Optimizing...\n",
      "when m = 1\n",
      "Update 0: 0.41551644574950075\n",
      "Update 1: 0.0344482208465121\n",
      "Update 2: 0.03444822083435892\n",
      "when m = 2\n",
      "Update 0: 0.45757393442997407\n",
      "Update 1: 0.03444829308322509\n",
      "Update 2: 0.034448283018808264\n",
      "Update 3: 0.034448283018808264\n",
      "when m = 3\n",
      "Update 0: 0.4577020566020826\n",
      "Update 1: 0.03444840837218556\n",
      "Update 2: 0.034448408367890045\n",
      "when m = 4\n",
      "Update 0: 0.50345667522464\n",
      "Update 1: 0.034447731068516486\n",
      "Update 2: 0.03444773106808381\n",
      "when m = 5\n",
      "Update 0: 0.5204949445318455\n",
      "Update 1: 0.03444809950132011\n",
      "Update 2: 0.03444809950060988\n",
      "Final loss: 0.03444773106808381\n",
      "Time taken(s): 8.27\n",
      "Generating 5 best initial betas out of 1000...\n",
      "Optimizing...\n",
      "when m = 1\n",
      "Update 0: 0.44583879387688313\n",
      "Update 1: 0.03444845198777251\n",
      "Update 2: 0.03444845198777251\n",
      "when m = 2\n",
      "Update 0: 0.4522906513319178\n",
      "Update 1: 0.03643743903399466\n",
      "Update 2: 0.03643743903399466\n",
      "when m = 3\n",
      "Update 0: 0.47873372986558643\n"
     ]
    },
    {
     "name": "stderr",
     "output_type": "stream",
     "text": [
      "D:\\CAViaR-Project\\test\\..\\caviar\\_caviar_function.py:44: RuntimeWarning: overflow encountered in double_scalars\n",
      "  VaRs[t + 1] = b1 + b2 * VaRs[t] + b3 * abs(returns[t])\n",
      "C:\\Users\\Jasper\\anaconda3\\lib\\site-packages\\scipy\\optimize\\_numdiff.py:576: RuntimeWarning: invalid value encountered in subtract\n",
      "  df = fun(x) - f0\n"
     ]
    },
    {
     "name": "stdout",
     "output_type": "stream",
     "text": [
      "Update 1: 0.03444792569127718\n",
      "Update 2: 0.03444792569127718\n",
      "when m = 4\n",
      "Update 0: 0.4815083061224628\n",
      "Update 1: 0.03573103522137776\n",
      "Update 2: 0.034447825853985384\n",
      "Update 3: 0.0344478253134676\n",
      "Update 4: 0.03444780997111417\n",
      "Update 5: 0.034447809962850774\n",
      "when m = 5\n",
      "Update 0: 0.49064080554525136\n",
      "Update 1: 0.034447787619360376\n",
      "Update 2: 0.034447787619360376\n",
      "Final loss: 0.034447787619360376\n",
      "Time taken(s): 7.29\n",
      "Generating 5 best initial betas out of 1000...\n",
      "Optimizing...\n",
      "when m = 1\n",
      "Update 0: 0.4279333793897897\n",
      "Update 1: 0.03730001280969748\n",
      "Update 2: 0.03730001280969748\n",
      "when m = 2\n",
      "Update 0: 0.4663220912842077\n"
     ]
    },
    {
     "name": "stderr",
     "output_type": "stream",
     "text": [
      "D:\\CAViaR-Project\\test\\..\\caviar\\_caviar_function.py:44: RuntimeWarning: overflow encountered in double_scalars\n",
      "  VaRs[t + 1] = b1 + b2 * VaRs[t] + b3 * abs(returns[t])\n",
      "C:\\Users\\Jasper\\anaconda3\\lib\\site-packages\\scipy\\optimize\\_numdiff.py:576: RuntimeWarning: invalid value encountered in subtract\n",
      "  df = fun(x) - f0\n"
     ]
    },
    {
     "name": "stdout",
     "output_type": "stream",
     "text": [
      "Update 1: 0.034651714391814706\n",
      "Update 2: 0.034651714391814706\n",
      "when m = 3\n",
      "Update 0: 0.4697245124304303\n",
      "Update 1: 0.03703524707776725\n",
      "Update 2: 0.03703524707776725\n",
      "when m = 4\n",
      "Update 0: 0.47225194189351327\n",
      "Update 1: 0.034448042425950454\n",
      "Update 2: 0.034448042425950454\n",
      "when m = 5\n",
      "Update 0: 0.5038839098631331\n",
      "Update 1: 0.034448454275966246\n",
      "Update 2: 0.034448454275966246\n",
      "Final loss: 0.034448042425950454\n",
      "Time taken(s): 5.84\n",
      "Generating 5 best initial betas out of 1000...\n",
      "Optimizing...\n",
      "when m = 1\n",
      "Update 0: 0.43507043348296154\n",
      "Update 1: 0.034448396142078605\n",
      "Update 2: 0.03444839610648723\n",
      "when m = 2\n",
      "Update 0: 0.45050357143812103\n",
      "Update 1: 0.034447888680630964\n",
      "Update 2: 0.034447888680631034\n",
      "when m = 3\n",
      "Update 0: 0.45427817172099005\n",
      "Update 1: 0.03445443339443783\n",
      "Update 2: 0.034448548816677825\n",
      "Update 3: 0.03444854645732992\n",
      "Update 4: 0.0344485464488953\n",
      "when m = 4\n",
      "Update 0: 0.46492640381416556\n",
      "Update 1: 0.03444823712921965\n",
      "Update 2: 0.034448237129219655\n",
      "when m = 5\n",
      "Update 0: 0.4684143199795167\n",
      "Update 1: 0.03849394213817372\n"
     ]
    },
    {
     "name": "stderr",
     "output_type": "stream",
     "text": [
      "D:\\CAViaR-Project\\test\\..\\caviar\\_caviar_function.py:44: RuntimeWarning: overflow encountered in double_scalars\n",
      "  VaRs[t + 1] = b1 + b2 * VaRs[t] + b3 * abs(returns[t])\n",
      "C:\\Users\\Jasper\\anaconda3\\lib\\site-packages\\scipy\\optimize\\_numdiff.py:576: RuntimeWarning: invalid value encountered in subtract\n",
      "  df = fun(x) - f0\n"
     ]
    },
    {
     "name": "stdout",
     "output_type": "stream",
     "text": [
      "Update 2: 0.03498853393899737\n",
      "Update 3: 0.03498853393899737\n",
      "Final loss: 0.034447888680630964\n",
      "Time taken(s): 7.33\n",
      "Generating 5 best initial betas out of 1000...\n",
      "Optimizing...\n",
      "when m = 1\n",
      "Update 0: 0.4237840898378857\n",
      "Update 1: 0.03622689561889704\n"
     ]
    },
    {
     "name": "stderr",
     "output_type": "stream",
     "text": [
      "D:\\CAViaR-Project\\test\\..\\caviar\\_caviar_function.py:44: RuntimeWarning: overflow encountered in double_scalars\n",
      "  VaRs[t + 1] = b1 + b2 * VaRs[t] + b3 * abs(returns[t])\n",
      "C:\\Users\\Jasper\\anaconda3\\lib\\site-packages\\scipy\\optimize\\_numdiff.py:576: RuntimeWarning: invalid value encountered in subtract\n",
      "  df = fun(x) - f0\n"
     ]
    },
    {
     "name": "stdout",
     "output_type": "stream",
     "text": [
      "Update 2: 0.03444802546910251\n",
      "Update 3: 0.03444802515819241\n",
      "Update 4: 0.03444802515819241\n",
      "when m = 2\n",
      "Update 0: 0.428268312591219\n",
      "Update 1: 0.03444943490587755\n",
      "Update 2: 0.034449434888944114\n",
      "when m = 3\n",
      "Update 0: 0.4592909945796022\n",
      "Update 1: 0.034447965210217195\n",
      "Update 2: 0.034447965210217195\n",
      "when m = 4\n",
      "Update 0: 0.4715161992747356\n",
      "Update 1: 0.034447738492647116\n",
      "Update 2: 0.034447738492647116\n",
      "when m = 5\n",
      "Update 0: 0.4749716016941175\n",
      "Update 1: 0.03444805429203677\n",
      "Update 2: 0.03444803492476902\n",
      "Update 3: 0.03444803490764948\n",
      "Final loss: 0.034447738492647116\n",
      "Time taken(s): 7.46\n",
      "Generating 5 best initial betas out of 1000...\n",
      "Optimizing...\n",
      "when m = 1\n",
      "Update 0: 0.42858706145018505\n",
      "Update 1: 0.03444774097710962\n",
      "Update 2: 0.0344477409752923\n",
      "when m = 2\n",
      "Update 0: 0.4380428537643962\n",
      "Update 1: 0.03445026375723716\n",
      "Update 2: 0.03445026375685339\n",
      "when m = 3\n",
      "Update 0: 0.4586224813262168\n",
      "Update 1: 0.03625152035915142\n"
     ]
    },
    {
     "name": "stderr",
     "output_type": "stream",
     "text": [
      "D:\\CAViaR-Project\\test\\..\\caviar\\_caviar_function.py:44: RuntimeWarning: overflow encountered in double_scalars\n",
      "  VaRs[t + 1] = b1 + b2 * VaRs[t] + b3 * abs(returns[t])\n",
      "C:\\Users\\Jasper\\anaconda3\\lib\\site-packages\\scipy\\optimize\\_numdiff.py:576: RuntimeWarning: invalid value encountered in subtract\n",
      "  df = fun(x) - f0\n"
     ]
    },
    {
     "name": "stdout",
     "output_type": "stream",
     "text": [
      "Update 2: 0.03625152035915142\n",
      "when m = 4\n",
      "Update 0: 0.4640119471041892\n",
      "Update 1: 0.037194769953661014\n",
      "Update 2: 0.037194769953661014\n",
      "when m = 5\n",
      "Update 0: 0.49284143858785817\n",
      "Update 1: 0.03871651931633564\n",
      "Update 2: 0.03871651931633564\n",
      "Final loss: 0.0344477409752923\n",
      "Time taken(s): 5.96\n",
      "Generating 5 best initial betas out of 1000...\n",
      "Optimizing...\n",
      "when m = 1\n",
      "Update 0: 0.4569961123163422\n",
      "Update 1: 0.036078815009096245\n",
      "Update 2: 0.036078815009096245\n",
      "when m = 2\n",
      "Update 0: 0.4605752505335208\n"
     ]
    },
    {
     "name": "stderr",
     "output_type": "stream",
     "text": [
      "D:\\CAViaR-Project\\test\\..\\caviar\\_caviar_function.py:44: RuntimeWarning: overflow encountered in double_scalars\n",
      "  VaRs[t + 1] = b1 + b2 * VaRs[t] + b3 * abs(returns[t])\n",
      "C:\\Users\\Jasper\\anaconda3\\lib\\site-packages\\scipy\\optimize\\_numdiff.py:576: RuntimeWarning: invalid value encountered in subtract\n",
      "  df = fun(x) - f0\n"
     ]
    },
    {
     "name": "stdout",
     "output_type": "stream",
     "text": [
      "Update 1: 0.03444806560549338\n",
      "Update 2: 0.03444806557800088\n",
      "when m = 3\n",
      "Update 0: 0.49669371866231604\n",
      "Update 1: 0.03447508892476618\n",
      "Update 2: 0.0344750888848276\n",
      "when m = 4\n",
      "Update 0: 0.5053274531628079\n",
      "Update 1: 0.03799744222648807\n",
      "Update 2: 0.03799744222648807\n",
      "when m = 5\n",
      "Update 0: 0.5119975083126618\n",
      "Update 1: 0.03678174798851825\n",
      "Update 2: 0.03678174798851825\n",
      "Final loss: 0.03444806557800088\n",
      "Time taken(s): 5.40\n",
      "Generating 5 best initial betas out of 1000...\n",
      "Optimizing...\n",
      "when m = 1\n",
      "Update 0: 0.4296396109384844\n",
      "Update 1: 0.03444847159378518\n",
      "Update 2: 0.03444847159378518\n",
      "when m = 2\n",
      "Update 0: 0.4428423716414573\n"
     ]
    },
    {
     "name": "stderr",
     "output_type": "stream",
     "text": [
      "D:\\CAViaR-Project\\test\\..\\caviar\\_caviar_function.py:44: RuntimeWarning: overflow encountered in double_scalars\n",
      "  VaRs[t + 1] = b1 + b2 * VaRs[t] + b3 * abs(returns[t])\n",
      "C:\\Users\\Jasper\\anaconda3\\lib\\site-packages\\scipy\\optimize\\_numdiff.py:576: RuntimeWarning: invalid value encountered in subtract\n",
      "  df = fun(x) - f0\n"
     ]
    },
    {
     "name": "stdout",
     "output_type": "stream",
     "text": [
      "Update 1: 0.03444918425025695\n",
      "Update 2: 0.03444918425010965\n",
      "when m = 3\n",
      "Update 0: 0.45292460962480724\n",
      "Update 1: 0.03444850097118284\n",
      "Update 2: 0.034448500971182856\n",
      "when m = 4\n",
      "Update 0: 0.4530232246641615\n",
      "Update 1: 0.037725293753756474\n",
      "Update 2: 0.03444815880478133\n",
      "Update 3: 0.03444815329964056\n",
      "Update 4: 0.03444815329964062\n",
      "when m = 5\n",
      "Update 0: 0.4705672093041462\n",
      "Update 1: 0.03798806676494871\n",
      "Update 2: 0.03798806676494871\n",
      "Final loss: 0.03444815329964056\n",
      "Time taken(s): 7.03\n",
      "Generating 5 best initial betas out of 1000...\n",
      "Optimizing...\n",
      "when m = 1\n",
      "Update 0: 0.43663694469586284\n",
      "Update 1: 0.03444835397340196\n",
      "Update 2: 0.03444831264924529\n",
      "Update 3: 0.0344483126396023\n",
      "when m = 2\n",
      "Update 0: 0.4669142219012046\n"
     ]
    },
    {
     "name": "stderr",
     "output_type": "stream",
     "text": [
      "D:\\CAViaR-Project\\test\\..\\caviar\\_caviar_function.py:44: RuntimeWarning: overflow encountered in double_scalars\n",
      "  VaRs[t + 1] = b1 + b2 * VaRs[t] + b3 * abs(returns[t])\n",
      "C:\\Users\\Jasper\\anaconda3\\lib\\site-packages\\scipy\\optimize\\_numdiff.py:576: RuntimeWarning: invalid value encountered in subtract\n",
      "  df = fun(x) - f0\n"
     ]
    },
    {
     "name": "stdout",
     "output_type": "stream",
     "text": [
      "Update 1: 0.03676439544465035\n",
      "Update 2: 0.03676439544465035\n",
      "when m = 3\n",
      "Update 0: 0.47402886207042366\n",
      "Update 1: 0.03445757185192555\n",
      "Update 2: 0.03445757185192555\n",
      "when m = 4\n",
      "Update 0: 0.4811863015359667\n",
      "Update 1: 0.03444768640392554\n",
      "Update 2: 0.03444768640392554\n",
      "when m = 5\n",
      "Update 0: 0.48758885425769144\n",
      "Update 1: 0.034449597659755346\n",
      "Update 2: 0.034449597606844566\n",
      "Final loss: 0.03444768640392554\n",
      "Time taken(s): 7.48\n",
      "Generating 5 best initial betas out of 1000...\n",
      "Optimizing...\n",
      "when m = 1\n",
      "Update 0: 0.4439591329573787\n"
     ]
    },
    {
     "name": "stderr",
     "output_type": "stream",
     "text": [
      "D:\\CAViaR-Project\\test\\..\\caviar\\_caviar_function.py:44: RuntimeWarning: overflow encountered in double_scalars\n",
      "  VaRs[t + 1] = b1 + b2 * VaRs[t] + b3 * abs(returns[t])\n",
      "C:\\Users\\Jasper\\anaconda3\\lib\\site-packages\\scipy\\optimize\\_numdiff.py:576: RuntimeWarning: invalid value encountered in subtract\n",
      "  df = fun(x) - f0\n"
     ]
    },
    {
     "name": "stdout",
     "output_type": "stream",
     "text": [
      "Update 1: 0.03473444768568523\n",
      "Update 2: 0.03473444768568523\n",
      "when m = 2\n",
      "Update 0: 0.4577078305343192\n",
      "Update 1: 0.03444841859033647\n",
      "Update 2: 0.03444841859033647\n",
      "when m = 3\n",
      "Update 0: 0.4606709653351808\n",
      "Update 1: 0.03654048109695542\n",
      "Update 2: 0.03654048109695542\n",
      "when m = 4\n",
      "Update 0: 0.47695543817148056\n",
      "Update 1: 0.03770891713087968\n",
      "Update 2: 0.03770891713087968\n",
      "when m = 5\n",
      "Update 0: 0.49150945529092205\n",
      "Update 1: 0.03444927484650539\n",
      "Update 2: 0.03444919044653505\n",
      "Update 3: 0.03444919044386865\n",
      "Final loss: 0.03444841859033647\n",
      "Time taken(s): 6.17\n",
      "Generating 5 best initial betas out of 1000...\n",
      "Optimizing...\n",
      "when m = 1\n",
      "Update 0: 0.4420063909075019\n",
      "Update 1: 0.03444846533676345\n",
      "Update 2: 0.03444843224672363\n",
      "Update 3: 0.03444843224316449\n",
      "when m = 2\n",
      "Update 0: 0.4426111096183957\n",
      "Update 1: 0.03852425696520801\n"
     ]
    },
    {
     "name": "stderr",
     "output_type": "stream",
     "text": [
      "D:\\CAViaR-Project\\test\\..\\caviar\\_caviar_function.py:44: RuntimeWarning: overflow encountered in double_scalars\n",
      "  VaRs[t + 1] = b1 + b2 * VaRs[t] + b3 * abs(returns[t])\n",
      "C:\\Users\\Jasper\\anaconda3\\lib\\site-packages\\scipy\\optimize\\_numdiff.py:576: RuntimeWarning: invalid value encountered in subtract\n",
      "  df = fun(x) - f0\n"
     ]
    },
    {
     "name": "stdout",
     "output_type": "stream",
     "text": [
      "Update 2: 0.03661814503693941\n",
      "Update 3: 0.03598035722578988\n",
      "Update 4: 0.03598035722578988\n",
      "when m = 3\n",
      "Update 0: 0.4557513850446004\n",
      "Update 1: 0.03444768133048507\n",
      "Update 2: 0.03444768132850857\n",
      "when m = 4\n",
      "Update 0: 0.4736041881103803\n",
      "Update 1: 0.03651481069716178\n",
      "Update 2: 0.03651481069716178\n",
      "when m = 5\n",
      "Update 0: 0.5000616432339721\n",
      "Update 1: 0.03708151023441319\n",
      "Update 2: 0.03708151023441319\n",
      "Final loss: 0.03444768132850857\n",
      "Time taken(s): 7.06\n",
      "Generating 5 best initial betas out of 1000...\n",
      "Optimizing...\n",
      "when m = 1\n",
      "Update 0: 0.42928758129382966\n",
      "Update 1: 0.03444783840542735\n",
      "Update 2: 0.03444783840542735\n",
      "when m = 2\n",
      "Update 0: 0.45823311827522906\n",
      "Update 1: 0.034447775835165194\n",
      "Update 2: 0.03444777435441418\n",
      "Update 3: 0.03444777435441418\n",
      "when m = 3\n",
      "Update 0: 0.4768358710090954\n"
     ]
    },
    {
     "name": "stderr",
     "output_type": "stream",
     "text": [
      "D:\\CAViaR-Project\\test\\..\\caviar\\_caviar_function.py:44: RuntimeWarning: overflow encountered in double_scalars\n",
      "  VaRs[t + 1] = b1 + b2 * VaRs[t] + b3 * abs(returns[t])\n",
      "C:\\Users\\Jasper\\anaconda3\\lib\\site-packages\\scipy\\optimize\\_numdiff.py:576: RuntimeWarning: invalid value encountered in subtract\n",
      "  df = fun(x) - f0\n"
     ]
    },
    {
     "name": "stdout",
     "output_type": "stream",
     "text": [
      "Update 1: 0.03444795692152739\n",
      "Update 2: 0.03444795689194365\n",
      "when m = 4\n",
      "Update 0: 0.48798909054064976\n",
      "Update 1: 0.03444788154460312\n",
      "Update 2: 0.03444788154460312\n",
      "when m = 5\n",
      "Update 0: 0.5054249114252433\n",
      "Update 1: 0.03444819215222262\n",
      "Update 2: 0.03444819179862566\n",
      "Update 3: 0.034448190989229355\n",
      "Update 4: 0.034448190989229355\n",
      "Final loss: 0.03444777435441418\n",
      "Time taken(s): 8.77\n",
      "Generating 5 best initial betas out of 1000...\n",
      "Optimizing...\n",
      "when m = 1\n",
      "Update 0: 0.4455680682017787\n",
      "Update 1: 0.034448948016045096\n",
      "Update 2: 0.034448948016045096\n",
      "when m = 2\n",
      "Update 0: 0.4471756818523777\n",
      "Update 1: 0.03444817996760639\n",
      "Update 2: 0.03444817996760644\n",
      "when m = 3\n",
      "Update 0: 0.45018063653759255\n",
      "Update 1: 0.03444770455157893\n",
      "Update 2: 0.03444770455157893\n",
      "when m = 4\n",
      "Update 0: 0.4676730444503282\n"
     ]
    },
    {
     "name": "stderr",
     "output_type": "stream",
     "text": [
      "D:\\CAViaR-Project\\test\\..\\caviar\\_caviar_function.py:44: RuntimeWarning: overflow encountered in double_scalars\n",
      "  VaRs[t + 1] = b1 + b2 * VaRs[t] + b3 * abs(returns[t])\n",
      "C:\\Users\\Jasper\\anaconda3\\lib\\site-packages\\scipy\\optimize\\_numdiff.py:576: RuntimeWarning: invalid value encountered in subtract\n",
      "  df = fun(x) - f0\n"
     ]
    },
    {
     "name": "stdout",
     "output_type": "stream",
     "text": [
      "Update 1: 0.034448734427180286\n",
      "Update 2: 0.03444873441852788\n",
      "when m = 5\n",
      "Update 0: 0.4967695253914189\n",
      "Update 1: 0.03444785542275138\n",
      "Update 2: 0.03444785542275138\n",
      "Final loss: 0.03444770455157893\n",
      "Time taken(s): 7.75\n",
      "Generating 5 best initial betas out of 1000...\n",
      "Optimizing...\n",
      "when m = 1\n",
      "Update 0: 0.43518154446513835\n"
     ]
    },
    {
     "name": "stderr",
     "output_type": "stream",
     "text": [
      "D:\\CAViaR-Project\\test\\..\\caviar\\_caviar_function.py:44: RuntimeWarning: overflow encountered in double_scalars\n",
      "  VaRs[t + 1] = b1 + b2 * VaRs[t] + b3 * abs(returns[t])\n",
      "C:\\Users\\Jasper\\anaconda3\\lib\\site-packages\\scipy\\optimize\\_numdiff.py:576: RuntimeWarning: invalid value encountered in subtract\n",
      "  df = fun(x) - f0\n"
     ]
    },
    {
     "name": "stdout",
     "output_type": "stream",
     "text": [
      "Update 1: 0.03559141417341417\n",
      "Update 2: 0.03444896242343172\n",
      "Update 3: 0.03444891490419041\n",
      "Update 4: 0.03444891429615989\n",
      "Update 5: 0.034448914270416534\n",
      "when m = 2\n",
      "Update 0: 0.4372725655032913\n",
      "Update 1: 0.03444769893583499\n",
      "Update 2: 0.03444769893583499\n",
      "when m = 3\n",
      "Update 0: 0.4677778819470661\n",
      "Update 1: 0.034448429541573344\n",
      "Update 2: 0.03444810028523652\n",
      "Update 3: 0.03444810027351025\n",
      "when m = 4\n",
      "Update 0: 0.46847202039174407\n",
      "Update 1: 0.03444828608147497\n",
      "Update 2: 0.03444825673210616\n",
      "Update 3: 0.03444825673210618\n",
      "when m = 5\n",
      "Update 0: 0.47858337523569155\n",
      "Update 1: 0.03444845910578321\n",
      "Update 2: 0.03444845910404855\n",
      "Final loss: 0.03444769893583499\n",
      "Time taken(s): 9.05\n",
      "Generating 5 best initial betas out of 1000...\n",
      "Optimizing...\n",
      "when m = 1\n",
      "Update 0: 0.4221802732661318\n",
      "Update 1: 0.03778508028349789\n"
     ]
    },
    {
     "name": "stderr",
     "output_type": "stream",
     "text": [
      "D:\\CAViaR-Project\\test\\..\\caviar\\_caviar_function.py:44: RuntimeWarning: overflow encountered in double_scalars\n",
      "  VaRs[t + 1] = b1 + b2 * VaRs[t] + b3 * abs(returns[t])\n",
      "C:\\Users\\Jasper\\anaconda3\\lib\\site-packages\\scipy\\optimize\\_numdiff.py:576: RuntimeWarning: invalid value encountered in subtract\n",
      "  df = fun(x) - f0\n"
     ]
    },
    {
     "name": "stdout",
     "output_type": "stream",
     "text": [
      "Update 2: 0.03444847323516433\n",
      "Update 3: 0.03444847323440476\n",
      "when m = 2\n",
      "Update 0: 0.4611999699766863\n",
      "Update 1: 0.039463862282410674\n",
      "Update 2: 0.035603679179698755\n",
      "Update 3: 0.035603679179698755\n",
      "when m = 3\n",
      "Update 0: 0.46562850117252924\n",
      "Update 1: 0.037130966172702055\n",
      "Update 2: 0.037130966172702055\n",
      "when m = 4\n",
      "Update 0: 0.4706214325010375\n",
      "Update 1: 0.034447679780135784\n",
      "Update 2: 0.03444767971074056\n",
      "when m = 5\n",
      "Update 0: 0.4832525580157656\n",
      "Update 1: 0.03444837281528166\n",
      "Update 2: 0.03444835780445639\n",
      "Update 3: 0.03444835779044682\n",
      "Final loss: 0.03444767971074056\n",
      "Time taken(s): 6.75\n",
      "Generating 5 best initial betas out of 1000...\n",
      "Optimizing...\n",
      "when m = 1\n",
      "Update 0: 0.44048524245641063\n"
     ]
    },
    {
     "name": "stderr",
     "output_type": "stream",
     "text": [
      "D:\\CAViaR-Project\\test\\..\\caviar\\_caviar_function.py:44: RuntimeWarning: overflow encountered in double_scalars\n",
      "  VaRs[t + 1] = b1 + b2 * VaRs[t] + b3 * abs(returns[t])\n",
      "C:\\Users\\Jasper\\anaconda3\\lib\\site-packages\\scipy\\optimize\\_numdiff.py:576: RuntimeWarning: invalid value encountered in subtract\n",
      "  df = fun(x) - f0\n"
     ]
    },
    {
     "name": "stdout",
     "output_type": "stream",
     "text": [
      "Update 1: 0.03652933016582691\n",
      "Update 2: 0.03652933016582691\n",
      "when m = 2\n",
      "Update 0: 0.44896091175592\n",
      "Update 1: 0.03619793604691216\n",
      "Update 2: 0.03619793604691216\n",
      "when m = 3\n",
      "Update 0: 0.4497723513442806\n",
      "Update 1: 0.039818320732858375\n",
      "Update 2: 0.039818320732858375\n",
      "when m = 4\n",
      "Update 0: 0.48875980265347047\n",
      "Update 1: 0.03780746832745556\n",
      "Update 2: 0.0344482511630237\n",
      "Update 3: 0.0344482511630237\n",
      "when m = 5\n",
      "Update 0: 0.4902742763834868\n",
      "Update 1: 0.03444859491051192\n",
      "Update 2: 0.0344485948491694\n",
      "Final loss: 0.0344482511630237\n",
      "Time taken(s): 5.36\n",
      "Generating 5 best initial betas out of 1000...\n",
      "Optimizing...\n",
      "when m = 1\n",
      "Update 0: 0.4346594081114509\n",
      "Update 1: 0.03444849805285737\n",
      "Update 2: 0.03444849802584952\n",
      "when m = 2\n",
      "Update 0: 0.47168230476850304\n",
      "Update 1: 0.03444836581192448\n",
      "Update 2: 0.03444836581192449\n",
      "when m = 3\n",
      "Update 0: 0.475579926062043\n",
      "Update 1: 0.03673885713710591\n",
      "Update 2: 0.03673885713710591\n"
     ]
    },
    {
     "name": "stderr",
     "output_type": "stream",
     "text": [
      "D:\\CAViaR-Project\\test\\..\\caviar\\_caviar_function.py:44: RuntimeWarning: overflow encountered in double_scalars\n",
      "  VaRs[t + 1] = b1 + b2 * VaRs[t] + b3 * abs(returns[t])\n",
      "C:\\Users\\Jasper\\anaconda3\\lib\\site-packages\\scipy\\optimize\\_numdiff.py:576: RuntimeWarning: invalid value encountered in subtract\n",
      "  df = fun(x) - f0\n"
     ]
    },
    {
     "name": "stdout",
     "output_type": "stream",
     "text": [
      "when m = 4\n",
      "Update 0: 0.4767143396129233\n",
      "Update 1: 0.03444828269720171\n",
      "Update 2: 0.03444828268846025\n",
      "when m = 5\n",
      "Update 0: 0.4829279414015485\n",
      "Update 1: 0.034448669954233284\n",
      "Update 2: 0.03444866995423334\n",
      "Final loss: 0.03444828268846025\n",
      "Time taken(s): 6.87\n",
      "Generating 5 best initial betas out of 1000...\n",
      "Optimizing...\n",
      "when m = 1\n",
      "Update 0: 0.4303414486888563\n",
      "Update 1: 0.03444857891522365\n",
      "Update 2: 0.03444857891522365\n",
      "when m = 2\n",
      "Update 0: 0.4657050781047837\n",
      "Update 1: 0.034448152695160696\n",
      "Update 2: 0.03444815266265328\n",
      "when m = 3\n",
      "Update 0: 0.47859312651278135\n",
      "Update 1: 0.034447766009863816\n",
      "Update 2: 0.03444776600986382\n",
      "when m = 4\n",
      "Update 0: 0.48020184539230293\n",
      "Update 1: 0.03444807337488345\n",
      "Update 2: 0.03444807337488347\n",
      "when m = 5\n",
      "Update 0: 0.49072005551139547\n"
     ]
    },
    {
     "name": "stderr",
     "output_type": "stream",
     "text": [
      "D:\\CAViaR-Project\\test\\..\\caviar\\_caviar_function.py:44: RuntimeWarning: overflow encountered in double_scalars\n",
      "  VaRs[t + 1] = b1 + b2 * VaRs[t] + b3 * abs(returns[t])\n",
      "C:\\Users\\Jasper\\anaconda3\\lib\\site-packages\\scipy\\optimize\\_numdiff.py:576: RuntimeWarning: invalid value encountered in subtract\n",
      "  df = fun(x) - f0\n"
     ]
    },
    {
     "name": "stdout",
     "output_type": "stream",
     "text": [
      "Update 1: 0.035627699660172804\n",
      "Update 2: 0.035627699660172804\n",
      "Final loss: 0.034447766009863816\n",
      "Time taken(s): 7.94\n",
      "Generating 5 best initial betas out of 1000...\n",
      "Optimizing...\n",
      "when m = 1\n",
      "Update 0: 0.4360258860039361\n",
      "Update 1: 0.0344488405481642\n",
      "Update 2: 0.034448840543574055\n",
      "when m = 2\n",
      "Update 0: 0.4418210414568533\n",
      "Update 1: 0.03444787275900102\n",
      "Update 2: 0.03444787275900102\n",
      "when m = 3\n",
      "Update 0: 0.45427242153558284\n",
      "Update 1: 0.034448371573485626\n",
      "Update 2: 0.03444837155745175\n",
      "when m = 4\n",
      "Update 0: 0.5016122960551821\n",
      "Update 1: 0.034448171684613824\n",
      "Update 2: 0.03444816488350731\n",
      "Update 3: 0.03444816488350735\n",
      "when m = 5\n",
      "Update 0: 0.5052789301424009\n",
      "Update 1: 0.03444920365697993\n",
      "Update 2: 0.03444920365697993\n",
      "Final loss: 0.03444787275900102\n",
      "Time taken(s): 8.00\n",
      "Generating 5 best initial betas out of 1000...\n"
     ]
    },
    {
     "name": "stderr",
     "output_type": "stream",
     "text": [
      "D:\\CAViaR-Project\\test\\..\\caviar\\_caviar_function.py:44: RuntimeWarning: overflow encountered in double_scalars\n",
      "  VaRs[t + 1] = b1 + b2 * VaRs[t] + b3 * abs(returns[t])\n",
      "C:\\Users\\Jasper\\anaconda3\\lib\\site-packages\\scipy\\optimize\\_numdiff.py:576: RuntimeWarning: invalid value encountered in subtract\n",
      "  df = fun(x) - f0\n"
     ]
    },
    {
     "name": "stdout",
     "output_type": "stream",
     "text": [
      "Optimizing...\n",
      "when m = 1\n",
      "Update 0: 0.4419132803332611\n",
      "Update 1: 0.03733794290343671\n",
      "Update 2: 0.03733794290343671\n",
      "when m = 2\n",
      "Update 0: 0.4439483117534462\n"
     ]
    },
    {
     "name": "stderr",
     "output_type": "stream",
     "text": [
      "D:\\CAViaR-Project\\test\\..\\caviar\\_caviar_function.py:44: RuntimeWarning: overflow encountered in double_scalars\n",
      "  VaRs[t + 1] = b1 + b2 * VaRs[t] + b3 * abs(returns[t])\n",
      "C:\\Users\\Jasper\\anaconda3\\lib\\site-packages\\scipy\\optimize\\_numdiff.py:576: RuntimeWarning: invalid value encountered in subtract\n",
      "  df = fun(x) - f0\n"
     ]
    },
    {
     "name": "stdout",
     "output_type": "stream",
     "text": [
      "Update 1: 0.03936810600326612\n",
      "Update 2: 0.03444794909333394\n",
      "Update 3: 0.03444794908923201\n",
      "when m = 3\n",
      "Update 0: 0.45598111190937013\n",
      "Update 1: 0.03677169690124084\n",
      "Update 2: 0.03444819028328013\n",
      "Update 3: 0.0344481902832802\n",
      "when m = 4\n",
      "Update 0: 0.45957784008117586\n",
      "Update 1: 0.03444767768172138\n",
      "Update 2: 0.03444767662224145\n",
      "Update 3: 0.034447675732308655\n",
      "Update 4: 0.03444767569490361\n",
      "when m = 5\n",
      "Update 0: 0.46654219758211374\n",
      "Update 1: 0.0344479721793962\n",
      "Update 2: 0.034447972148505555\n",
      "Final loss: 0.03444767569490361\n",
      "Time taken(s): 7.65\n",
      "Generating 5 best initial betas out of 1000...\n",
      "Optimizing...\n",
      "when m = 1\n",
      "Update 0: 0.41473163288061704\n",
      "Update 1: 0.03715077498798428\n",
      "Update 2: 0.03715077498798428\n",
      "when m = 2\n",
      "Update 0: 0.45844623393167894\n"
     ]
    },
    {
     "name": "stderr",
     "output_type": "stream",
     "text": [
      "D:\\CAViaR-Project\\test\\..\\caviar\\_caviar_function.py:44: RuntimeWarning: overflow encountered in double_scalars\n",
      "  VaRs[t + 1] = b1 + b2 * VaRs[t] + b3 * abs(returns[t])\n",
      "C:\\Users\\Jasper\\anaconda3\\lib\\site-packages\\scipy\\optimize\\_numdiff.py:576: RuntimeWarning: invalid value encountered in subtract\n",
      "  df = fun(x) - f0\n"
     ]
    },
    {
     "name": "stdout",
     "output_type": "stream",
     "text": [
      "Update 1: 0.04023146526223035\n",
      "Update 2: 0.03621495198182455\n",
      "Update 3: 0.03621495198182455\n",
      "when m = 3\n",
      "Update 0: 0.48923375753792375\n",
      "Update 1: 0.03444866752838322\n",
      "Update 2: 0.03444866752838322\n",
      "when m = 4\n",
      "Update 0: 0.49816555790315725\n",
      "Update 1: 0.03853309326473397\n",
      "Update 2: 0.03444806199821797\n",
      "Update 3: 0.03444806199704004\n",
      "when m = 5\n",
      "Update 0: 0.5227460102612905\n",
      "Update 1: 0.03805096514966878\n",
      "Update 2: 0.03805096514966878\n",
      "Final loss: 0.03444806199704004\n",
      "Time taken(s): 5.52\n",
      "Generating 5 best initial betas out of 1000...\n",
      "Optimizing...\n",
      "when m = 1\n",
      "Update 0: 0.43421895063534816\n",
      "Update 1: 0.03444780771730743\n",
      "Update 2: 0.03444780770882412\n",
      "when m = 2\n",
      "Update 0: 0.4404202157719292\n"
     ]
    },
    {
     "name": "stderr",
     "output_type": "stream",
     "text": [
      "D:\\CAViaR-Project\\test\\..\\caviar\\_caviar_function.py:44: RuntimeWarning: overflow encountered in double_scalars\n",
      "  VaRs[t + 1] = b1 + b2 * VaRs[t] + b3 * abs(returns[t])\n",
      "C:\\Users\\Jasper\\anaconda3\\lib\\site-packages\\scipy\\optimize\\_numdiff.py:576: RuntimeWarning: invalid value encountered in subtract\n",
      "  df = fun(x) - f0\n"
     ]
    },
    {
     "name": "stdout",
     "output_type": "stream",
     "text": [
      "Update 1: 0.03444767402771324\n",
      "Update 2: 0.03444767401973962\n",
      "when m = 3\n",
      "Update 0: 0.4545826615058955\n",
      "Update 1: 0.03444863765181077\n",
      "Update 2: 0.03444863764792867\n",
      "when m = 4\n",
      "Update 0: 0.47658234485458545\n",
      "Update 1: 0.036937883240239285\n",
      "Update 2: 0.036937883240239285\n",
      "when m = 5\n",
      "Update 0: 0.48679214264080245\n",
      "Update 1: 0.03506705333974654\n",
      "Update 2: 0.03444819099131718\n",
      "Update 3: 0.034448190960146674\n",
      "Final loss: 0.03444767401973962\n",
      "Time taken(s): 7.84\n",
      "Generating 5 best initial betas out of 1000...\n",
      "Optimizing...\n",
      "when m = 1\n",
      "Update 0: 0.4305009294604838\n",
      "Update 1: 0.035931480401649805\n"
     ]
    },
    {
     "name": "stderr",
     "output_type": "stream",
     "text": [
      "D:\\CAViaR-Project\\test\\..\\caviar\\_caviar_function.py:44: RuntimeWarning: overflow encountered in double_scalars\n",
      "  VaRs[t + 1] = b1 + b2 * VaRs[t] + b3 * abs(returns[t])\n",
      "C:\\Users\\Jasper\\anaconda3\\lib\\site-packages\\scipy\\optimize\\_numdiff.py:576: RuntimeWarning: invalid value encountered in subtract\n",
      "  df = fun(x) - f0\n"
     ]
    },
    {
     "name": "stdout",
     "output_type": "stream",
     "text": [
      "Update 2: 0.034503084889737336\n",
      "Update 3: 0.034503084889737336\n",
      "when m = 2\n",
      "Update 0: 0.4331984190954857\n",
      "Update 1: 0.034447970257708155\n",
      "Update 2: 0.03444796933803307\n",
      "Update 3: 0.03444796847084986\n",
      "Update 4: 0.034447968447229825\n",
      "when m = 3\n",
      "Update 0: 0.4500516659320718\n",
      "Update 1: 0.0344480471769514\n",
      "Update 2: 0.03444804707303456\n",
      "Update 3: 0.034448047071122576\n",
      "when m = 4\n",
      "Update 0: 0.46373829121033233\n",
      "Update 1: 0.034447698114963045\n",
      "Update 2: 0.03444769788737481\n",
      "Update 3: 0.03444768689955343\n",
      "Update 4: 0.034447686784739695\n",
      "Update 5: 0.03444768541047077\n",
      "when m = 5\n",
      "Update 0: 0.4704538238630429\n",
      "Update 1: 0.034448522558889715\n",
      "Update 2: 0.03444852252412159\n",
      "Final loss: 0.03444768541047077\n",
      "Time taken(s): 9.10\n",
      "Runing quantile: 0.01, model: asymmetric, method: numeric\n",
      "Generating 5 best initial betas out of 1000...\n",
      "Optimizing...\n",
      "when m = 1\n",
      "Update 0: 0.04752644148045947\n",
      "Update 1: 0.04752644148045947\n",
      "when m = 2\n",
      "Update 0: 0.14345566581424718\n",
      "Update 1: 0.14345566581424718\n",
      "when m = 3\n",
      "Update 0: 0.16224558095585218\n",
      "Update 1: 0.16224558095585218\n",
      "when m = 4\n",
      "Update 0: 0.17009120077196443\n"
     ]
    },
    {
     "name": "stderr",
     "output_type": "stream",
     "text": [
      "D:\\CAViaR-Project\\test\\..\\caviar\\_caviar_function.py:63: RuntimeWarning: overflow encountered in double_scalars\n",
      "  VaRs[t + 1] = b1 + b2 * VaRs[t] + b3 * max(returns[t], 0) + b4 * min(returns[t], 0)\n",
      "C:\\Users\\Jasper\\anaconda3\\lib\\site-packages\\scipy\\optimize\\_numdiff.py:576: RuntimeWarning: invalid value encountered in subtract\n",
      "  df = fun(x) - f0\n"
     ]
    },
    {
     "name": "stdout",
     "output_type": "stream",
     "text": [
      "Update 1: 0.03347260436452274\n",
      "Update 2: 0.03347260434978729\n",
      "when m = 5\n",
      "Update 0: 0.24060913404098253\n",
      "Update 1: 0.03347223478862654\n",
      "Update 2: 0.03347223478862654\n",
      "Final loss: 0.03347223478862654\n",
      "Time taken(s): 10.07\n",
      "Generating 5 best initial betas out of 1000...\n",
      "Optimizing...\n",
      "when m = 1\n",
      "Update 0: 0.12434762094195398\n",
      "Update 1: 0.12434762094195398\n",
      "when m = 2\n",
      "Update 0: 0.12828578118271763\n",
      "Update 1: 0.12828578118271763\n",
      "when m = 3\n",
      "Update 0: 0.15027829978098223\n"
     ]
    },
    {
     "name": "stderr",
     "output_type": "stream",
     "text": [
      "D:\\CAViaR-Project\\test\\..\\caviar\\_caviar_function.py:63: RuntimeWarning: overflow encountered in double_scalars\n",
      "  VaRs[t + 1] = b1 + b2 * VaRs[t] + b3 * max(returns[t], 0) + b4 * min(returns[t], 0)\n",
      "C:\\Users\\Jasper\\anaconda3\\lib\\site-packages\\scipy\\optimize\\_numdiff.py:576: RuntimeWarning: invalid value encountered in subtract\n",
      "  df = fun(x) - f0\n"
     ]
    },
    {
     "name": "stdout",
     "output_type": "stream",
     "text": [
      "Update 1: 0.15027829978098223\n",
      "when m = 4\n",
      "Update 0: 0.1542109777614359\n",
      "Update 1: 0.1542109777614359\n",
      "when m = 5\n",
      "Update 0: 0.1641814335441579\n",
      "Update 1: 0.1641814335441579\n",
      "Final loss: 0.12434762094195398\n",
      "Time taken(s): 5.93\n",
      "Generating 5 best initial betas out of 1000...\n"
     ]
    },
    {
     "name": "stderr",
     "output_type": "stream",
     "text": [
      "D:\\CAViaR-Project\\test\\..\\var_tests\\_test.py:76: RuntimeWarning: invalid value encountered in double_scalars\n",
      "  LR_POF = -2 * np.log(numerator / denominator)\n",
      "D:\\CAViaR-Project\\test\\..\\var_tests\\_test.py:111: RuntimeWarning: invalid value encountered in double_scalars\n",
      "  LR_CCI = -2 * np.log(numerator / denominator)\n",
      "D:\\CAViaR-Project\\test\\..\\var_tests\\_test.py:111: RuntimeWarning: divide by zero encountered in log\n",
      "  LR_CCI = -2 * np.log(numerator / denominator)\n"
     ]
    },
    {
     "name": "stdout",
     "output_type": "stream",
     "text": [
      "Optimizing...\n",
      "when m = 1\n",
      "Update 0: 0.04431245945359674\n",
      "Update 1: 0.03351760644639742\n",
      "Update 2: 0.03351760644639742\n",
      "when m = 2\n",
      "Update 0: 0.23379013624370396\n",
      "Update 1: 0.23379013624370396\n",
      "when m = 3\n",
      "Update 0: 0.27356301690556073\n"
     ]
    },
    {
     "name": "stderr",
     "output_type": "stream",
     "text": [
      "D:\\CAViaR-Project\\test\\..\\caviar\\_caviar_function.py:63: RuntimeWarning: overflow encountered in double_scalars\n",
      "  VaRs[t + 1] = b1 + b2 * VaRs[t] + b3 * max(returns[t], 0) + b4 * min(returns[t], 0)\n",
      "C:\\Users\\Jasper\\anaconda3\\lib\\site-packages\\scipy\\optimize\\_numdiff.py:576: RuntimeWarning: invalid value encountered in subtract\n",
      "  df = fun(x) - f0\n"
     ]
    },
    {
     "name": "stdout",
     "output_type": "stream",
     "text": [
      "Update 1: 0.03347595697570773\n",
      "Update 2: 0.03347595697570773\n",
      "when m = 4\n",
      "Update 0: 0.2811602151691174\n",
      "Update 1: 0.03629056412570256\n",
      "Update 2: 0.03629056412570256\n",
      "when m = 5\n",
      "Update 0: 0.2870095397230285\n",
      "Update 1: 0.03347076054854754\n",
      "Update 2: 0.033470708523598354\n",
      "Update 3: 0.03347065987277875\n",
      "Update 4: 0.03347065987116681\n",
      "Final loss: 0.03347065987116681\n",
      "Time taken(s): 14.38\n",
      "Generating 5 best initial betas out of 1000...\n",
      "Optimizing...\n",
      "when m = 1\n",
      "Update 0: 0.09405949960558962\n",
      "Update 1: 0.09405949960558962\n",
      "when m = 2\n",
      "Update 0: 0.14847704613763338\n"
     ]
    },
    {
     "name": "stderr",
     "output_type": "stream",
     "text": [
      "D:\\CAViaR-Project\\test\\..\\caviar\\_caviar_function.py:63: RuntimeWarning: overflow encountered in double_scalars\n",
      "  VaRs[t + 1] = b1 + b2 * VaRs[t] + b3 * max(returns[t], 0) + b4 * min(returns[t], 0)\n",
      "C:\\Users\\Jasper\\anaconda3\\lib\\site-packages\\scipy\\optimize\\_numdiff.py:576: RuntimeWarning: invalid value encountered in subtract\n",
      "  df = fun(x) - f0\n"
     ]
    },
    {
     "name": "stdout",
     "output_type": "stream",
     "text": [
      "Update 1: 0.03353261378829777\n",
      "Update 2: 0.03353261378829777\n",
      "when m = 3\n",
      "Update 0: 0.20102322841199968\n",
      "Update 1: 0.033475260576642275\n",
      "Update 2: 0.03347526054973139\n",
      "when m = 4\n",
      "Update 0: 0.20960675246790647\n",
      "Update 1: 0.0334768310897376\n",
      "Update 2: 0.0334768310897376\n",
      "when m = 5\n",
      "Update 0: 0.25224521718908\n",
      "Update 1: 0.03399316493891644\n",
      "Update 2: 0.03347952245810086\n",
      "Update 3: 0.03347952245810086\n",
      "Final loss: 0.03347526054973139\n",
      "Time taken(s): 15.16\n",
      "Generating 5 best initial betas out of 1000...\n",
      "Optimizing...\n",
      "when m = 1\n",
      "Update 0: 0.04575159649494376\n",
      "Update 1: 0.04575159649494376\n",
      "when m = 2\n",
      "Update 0: 0.05185785038045418\n"
     ]
    },
    {
     "name": "stderr",
     "output_type": "stream",
     "text": [
      "D:\\CAViaR-Project\\test\\..\\caviar\\_caviar_function.py:63: RuntimeWarning: overflow encountered in double_scalars\n",
      "  VaRs[t + 1] = b1 + b2 * VaRs[t] + b3 * max(returns[t], 0) + b4 * min(returns[t], 0)\n",
      "C:\\Users\\Jasper\\anaconda3\\lib\\site-packages\\scipy\\optimize\\_numdiff.py:576: RuntimeWarning: invalid value encountered in subtract\n",
      "  df = fun(x) - f0\n"
     ]
    },
    {
     "name": "stdout",
     "output_type": "stream",
     "text": [
      "Update 1: 0.03347049596258919\n",
      "Update 2: 0.03347049474361884\n",
      "Update 3: 0.03347049474361884\n",
      "when m = 3\n",
      "Update 0: 0.05950857288011009\n",
      "Update 1: 0.033692260123135497\n",
      "Update 2: 0.03369214173795892\n",
      "Update 3: 0.033692141737958925\n",
      "when m = 4\n",
      "Update 0: 0.1412618721734299\n",
      "Update 1: 0.1412618721734299\n",
      "when m = 5\n",
      "Update 0: 0.23019731508414976\n",
      "Update 1: 0.033470891066189896\n",
      "Update 2: 0.0334705456164179\n",
      "Update 3: 0.0334705456164179\n",
      "Final loss: 0.03347049474361884\n",
      "Time taken(s): 13.97\n",
      "Generating 5 best initial betas out of 1000...\n",
      "Optimizing...\n",
      "when m = 1\n",
      "Update 0: 0.05154328354708207\n",
      "Update 1: 0.033691714924270574\n",
      "Update 2: 0.03347053398341175\n",
      "Update 3: 0.03347052747911098\n",
      "Update 4: 0.03347052747911098\n",
      "when m = 2\n",
      "Update 0: 0.10129088619873607\n",
      "Update 1: 0.10129088619873607\n",
      "when m = 3\n",
      "Update 0: 0.1401911373338625\n",
      "Update 1: 0.1401911373338625\n",
      "when m = 4\n",
      "Update 0: 0.158150571762308\n"
     ]
    },
    {
     "name": "stderr",
     "output_type": "stream",
     "text": [
      "D:\\CAViaR-Project\\test\\..\\caviar\\_caviar_function.py:63: RuntimeWarning: overflow encountered in double_scalars\n",
      "  VaRs[t + 1] = b1 + b2 * VaRs[t] + b3 * max(returns[t], 0) + b4 * min(returns[t], 0)\n",
      "C:\\Users\\Jasper\\anaconda3\\lib\\site-packages\\scipy\\optimize\\_numdiff.py:576: RuntimeWarning: invalid value encountered in subtract\n",
      "  df = fun(x) - f0\n"
     ]
    },
    {
     "name": "stdout",
     "output_type": "stream",
     "text": [
      "Update 1: 0.03347706500259254\n",
      "Update 2: 0.03347706500259254\n",
      "when m = 5\n",
      "Update 0: 0.19100525610090746\n",
      "Update 1: 0.19100525610090746\n",
      "Final loss: 0.03347052747911098\n",
      "Time taken(s): 11.59\n",
      "Generating 5 best initial betas out of 1000...\n",
      "Optimizing...\n",
      "when m = 1\n",
      "Update 0: 0.048461221982143046\n",
      "Update 1: 0.03347234654498948\n",
      "Update 2: 0.03347234654498948\n",
      "when m = 2\n",
      "Update 0: 0.055209611567110094\n"
     ]
    },
    {
     "name": "stderr",
     "output_type": "stream",
     "text": [
      "D:\\CAViaR-Project\\test\\..\\caviar\\_caviar_function.py:63: RuntimeWarning: overflow encountered in double_scalars\n",
      "  VaRs[t + 1] = b1 + b2 * VaRs[t] + b3 * max(returns[t], 0) + b4 * min(returns[t], 0)\n",
      "C:\\Users\\Jasper\\anaconda3\\lib\\site-packages\\scipy\\optimize\\_numdiff.py:576: RuntimeWarning: invalid value encountered in subtract\n",
      "  df = fun(x) - f0\n"
     ]
    },
    {
     "name": "stdout",
     "output_type": "stream",
     "text": [
      "Update 1: 0.03365322206786729\n",
      "Update 2: 0.03364724477687081\n",
      "Update 3: 0.03364724477687081\n",
      "when m = 3\n",
      "Update 0: 0.08360918409277182\n",
      "Update 1: 0.08360918409277182\n",
      "when m = 4\n",
      "Update 0: 0.11861440264906523\n",
      "Update 1: 0.11861440264906523\n",
      "when m = 5\n",
      "Update 0: 0.12241668994848137\n",
      "Update 1: 0.12241668994848137\n",
      "Final loss: 0.03347234654498948\n",
      "Time taken(s): 9.88\n",
      "Generating 5 best initial betas out of 1000...\n",
      "Optimizing...\n",
      "when m = 1\n",
      "Update 0: 0.05393582456974181\n",
      "Update 1: 0.03347588682436611\n",
      "Update 2: 0.03347588682436611\n",
      "when m = 2\n",
      "Update 0: 0.1493054585613955\n",
      "Update 1: 0.1493054585613955\n",
      "when m = 3\n",
      "Update 0: 0.1934188485428127\n"
     ]
    },
    {
     "name": "stderr",
     "output_type": "stream",
     "text": [
      "D:\\CAViaR-Project\\test\\..\\caviar\\_caviar_function.py:63: RuntimeWarning: overflow encountered in double_scalars\n",
      "  VaRs[t + 1] = b1 + b2 * VaRs[t] + b3 * max(returns[t], 0) + b4 * min(returns[t], 0)\n",
      "C:\\Users\\Jasper\\anaconda3\\lib\\site-packages\\scipy\\optimize\\_numdiff.py:576: RuntimeWarning: invalid value encountered in subtract\n",
      "  df = fun(x) - f0\n"
     ]
    },
    {
     "name": "stdout",
     "output_type": "stream",
     "text": [
      "Update 1: 0.1934188485428127\n",
      "when m = 4\n",
      "Update 0: 0.1951726221992382\n",
      "Update 1: 0.1951726221992382\n",
      "when m = 5\n",
      "Update 0: 0.20386160026569125\n",
      "Update 1: 0.03347394516989088\n",
      "Update 2: 0.033473945169876146\n",
      "Final loss: 0.033473945169876146\n",
      "Time taken(s): 10.80\n",
      "Generating 5 best initial betas out of 1000...\n",
      "Optimizing...\n",
      "when m = 1\n",
      "Update 0: 0.1026121435732626\n",
      "Update 1: 0.1026121435732626\n",
      "when m = 2\n",
      "Update 0: 0.16026199586381065\n",
      "Update 1: 0.16026199586381065\n",
      "when m = 3\n",
      "Update 0: 0.1715355122781403\n"
     ]
    },
    {
     "name": "stderr",
     "output_type": "stream",
     "text": [
      "D:\\CAViaR-Project\\test\\..\\caviar\\_caviar_function.py:63: RuntimeWarning: overflow encountered in double_scalars\n",
      "  VaRs[t + 1] = b1 + b2 * VaRs[t] + b3 * max(returns[t], 0) + b4 * min(returns[t], 0)\n",
      "C:\\Users\\Jasper\\anaconda3\\lib\\site-packages\\scipy\\optimize\\_numdiff.py:576: RuntimeWarning: invalid value encountered in subtract\n",
      "  df = fun(x) - f0\n"
     ]
    },
    {
     "name": "stdout",
     "output_type": "stream",
     "text": [
      "Update 1: 0.03347578342324085\n",
      "Update 2: 0.03347578342290998\n",
      "when m = 4\n",
      "Update 0: 0.17618376264727045\n",
      "Update 1: 0.03347056869481356\n",
      "Update 2: 0.03347056869481356\n",
      "when m = 5\n",
      "Update 0: 0.1952399985279073\n",
      "Update 1: 0.03347657653746606\n",
      "Update 2: 0.033476576537466066\n",
      "Final loss: 0.03347056869481356\n",
      "Time taken(s): 12.99\n",
      "Generating 5 best initial betas out of 1000...\n",
      "Optimizing...\n",
      "when m = 1\n",
      "Update 0: 0.04243293243346203\n",
      "Update 1: 0.04243293243346203\n",
      "when m = 2\n",
      "Update 0: 0.049039692007263914\n"
     ]
    },
    {
     "name": "stderr",
     "output_type": "stream",
     "text": [
      "D:\\CAViaR-Project\\test\\..\\caviar\\_caviar_function.py:63: RuntimeWarning: overflow encountered in double_scalars\n",
      "  VaRs[t + 1] = b1 + b2 * VaRs[t] + b3 * max(returns[t], 0) + b4 * min(returns[t], 0)\n",
      "C:\\Users\\Jasper\\anaconda3\\lib\\site-packages\\scipy\\optimize\\_numdiff.py:576: RuntimeWarning: invalid value encountered in subtract\n",
      "  df = fun(x) - f0\n"
     ]
    },
    {
     "name": "stdout",
     "output_type": "stream",
     "text": [
      "Update 1: 0.03347483114975758\n",
      "Update 2: 0.03347483114975758\n",
      "when m = 3\n",
      "Update 0: 0.07964451630300663\n",
      "Update 1: 0.07964451630300663\n",
      "when m = 4\n",
      "Update 0: 0.11978326371455673\n",
      "Update 1: 0.11978326371455673\n",
      "when m = 5\n",
      "Update 0: 0.17529212481218612\n",
      "Update 1: 0.17529212481218612\n",
      "Final loss: 0.03347483114975758\n",
      "Time taken(s): 7.82\n",
      "Generating 5 best initial betas out of 1000...\n",
      "Optimizing...\n",
      "when m = 1\n",
      "Update 0: 0.19379951990300515\n",
      "Update 1: 0.033473441492508915\n",
      "Update 2: 0.03347317933161595\n",
      "Update 3: 0.03347317933161595\n",
      "when m = 2\n",
      "Update 0: 0.207417119676259\n",
      "Update 1: 0.033471838692109714\n",
      "Update 2: 0.033471838692109714\n",
      "when m = 3\n",
      "Update 0: 0.26970624833488976\n"
     ]
    },
    {
     "name": "stderr",
     "output_type": "stream",
     "text": [
      "D:\\CAViaR-Project\\test\\..\\caviar\\_caviar_function.py:63: RuntimeWarning: overflow encountered in double_scalars\n",
      "  VaRs[t + 1] = b1 + b2 * VaRs[t] + b3 * max(returns[t], 0) + b4 * min(returns[t], 0)\n",
      "C:\\Users\\Jasper\\anaconda3\\lib\\site-packages\\scipy\\optimize\\_numdiff.py:576: RuntimeWarning: invalid value encountered in subtract\n",
      "  df = fun(x) - f0\n"
     ]
    },
    {
     "name": "stdout",
     "output_type": "stream",
     "text": [
      "Update 1: 0.033474262648960466\n",
      "Update 2: 0.033474262648960466\n",
      "when m = 4\n",
      "Update 0: 0.27178363979978515\n",
      "Update 1: 0.03348115952739226\n",
      "Update 2: 0.033481159519445435\n",
      "when m = 5\n",
      "Update 0: 0.2807382085502358\n",
      "Update 1: 0.03387308874899526\n",
      "Update 2: 0.03387308874888462\n",
      "Final loss: 0.033471838692109714\n",
      "Time taken(s): 17.35\n",
      "Generating 5 best initial betas out of 1000...\n",
      "Optimizing...\n",
      "when m = 1\n",
      "Update 0: 0.10932655596254638\n",
      "Update 1: 0.10932655596254638\n",
      "when m = 2\n",
      "Update 0: 0.11848163323358109\n",
      "Update 1: 0.11848163323358109\n",
      "when m = 3\n",
      "Update 0: 0.13996285196920538\n",
      "Update 1: 0.13996285196920538\n",
      "when m = 4\n",
      "Update 0: 0.1842198515103232\n"
     ]
    },
    {
     "name": "stderr",
     "output_type": "stream",
     "text": [
      "D:\\CAViaR-Project\\test\\..\\caviar\\_caviar_function.py:63: RuntimeWarning: overflow encountered in double_scalars\n",
      "  VaRs[t + 1] = b1 + b2 * VaRs[t] + b3 * max(returns[t], 0) + b4 * min(returns[t], 0)\n",
      "C:\\Users\\Jasper\\anaconda3\\lib\\site-packages\\scipy\\optimize\\_numdiff.py:576: RuntimeWarning: invalid value encountered in subtract\n",
      "  df = fun(x) - f0\n"
     ]
    },
    {
     "name": "stdout",
     "output_type": "stream",
     "text": [
      "Update 1: 0.1842198515103232\n",
      "when m = 5\n",
      "Update 0: 0.20265112797487508\n",
      "Update 1: 0.03347073506755412\n",
      "Update 2: 0.03347073506755412\n",
      "Final loss: 0.03347073506755412\n",
      "Time taken(s): 8.54\n",
      "Generating 5 best initial betas out of 1000...\n",
      "Optimizing...\n",
      "when m = 1\n",
      "Update 0: 0.0790693998497798\n",
      "Update 1: 0.03395063707934584\n",
      "Update 2: 0.03395063707934585\n",
      "when m = 2\n",
      "Update 0: 0.11138033559496514\n",
      "Update 1: 0.033682537816621394\n",
      "Update 2: 0.03368253781662139\n",
      "when m = 3\n",
      "Update 0: 0.1376714055140028\n",
      "Update 1: 0.1376714055140028\n",
      "when m = 4\n",
      "Update 0: 0.15492459764634509\n",
      "Update 1: 0.15492459764634509\n",
      "when m = 5\n",
      "Update 0: 0.15947661184298695\n",
      "Update 1: 0.15947661184298695\n",
      "Final loss: 0.033682537816621394\n"
     ]
    },
    {
     "name": "stderr",
     "output_type": "stream",
     "text": [
      "D:\\CAViaR-Project\\test\\..\\caviar\\_caviar_function.py:63: RuntimeWarning: overflow encountered in double_scalars\n",
      "  VaRs[t + 1] = b1 + b2 * VaRs[t] + b3 * max(returns[t], 0) + b4 * min(returns[t], 0)\n",
      "C:\\Users\\Jasper\\anaconda3\\lib\\site-packages\\scipy\\optimize\\_numdiff.py:576: RuntimeWarning: invalid value encountered in subtract\n",
      "  df = fun(x) - f0\n"
     ]
    },
    {
     "name": "stdout",
     "output_type": "stream",
     "text": [
      "Time taken(s): 10.54\n",
      "Generating 5 best initial betas out of 1000...\n",
      "Optimizing...\n",
      "when m = 1\n",
      "Update 0: 0.058812583019438536\n",
      "Update 1: 0.058812583019438536\n",
      "when m = 2\n",
      "Update 0: 0.11267073777015389\n",
      "Update 1: 0.11267073777015389\n",
      "when m = 3\n",
      "Update 0: 0.20331169197899202\n"
     ]
    },
    {
     "name": "stderr",
     "output_type": "stream",
     "text": [
      "D:\\CAViaR-Project\\test\\..\\caviar\\_caviar_function.py:63: RuntimeWarning: overflow encountered in double_scalars\n",
      "  VaRs[t + 1] = b1 + b2 * VaRs[t] + b3 * max(returns[t], 0) + b4 * min(returns[t], 0)\n",
      "C:\\Users\\Jasper\\anaconda3\\lib\\site-packages\\scipy\\optimize\\_numdiff.py:576: RuntimeWarning: invalid value encountered in subtract\n",
      "  df = fun(x) - f0\n"
     ]
    },
    {
     "name": "stdout",
     "output_type": "stream",
     "text": [
      "Update 1: 0.20331169197899202\n",
      "when m = 4\n",
      "Update 0: 0.24282281187429056\n",
      "Update 1: 0.24282281187429056\n",
      "when m = 5\n",
      "Update 0: 0.24287462462512477\n",
      "Update 1: 0.033473757875279835\n",
      "Update 2: 0.033473757875279835\n",
      "Final loss: 0.033473757875279835\n",
      "Time taken(s): 7.78\n",
      "Generating 5 best initial betas out of 1000...\n",
      "Optimizing...\n",
      "when m = 1\n",
      "Update 0: 0.11619513101058776\n",
      "Update 1: 0.11619513101058776\n",
      "when m = 2\n",
      "Update 0: 0.1962354419625809\n",
      "Update 1: 0.1962354419625809\n",
      "when m = 3\n",
      "Update 0: 0.2330099906736475\n"
     ]
    },
    {
     "name": "stderr",
     "output_type": "stream",
     "text": [
      "D:\\CAViaR-Project\\test\\..\\caviar\\_caviar_function.py:63: RuntimeWarning: overflow encountered in double_scalars\n",
      "  VaRs[t + 1] = b1 + b2 * VaRs[t] + b3 * max(returns[t], 0) + b4 * min(returns[t], 0)\n",
      "C:\\Users\\Jasper\\anaconda3\\lib\\site-packages\\scipy\\optimize\\_numdiff.py:576: RuntimeWarning: invalid value encountered in subtract\n",
      "  df = fun(x) - f0\n"
     ]
    },
    {
     "name": "stdout",
     "output_type": "stream",
     "text": [
      "Update 1: 0.03347069648484851\n",
      "Update 2: 0.033470622682332106\n",
      "Update 3: 0.033470622682332106\n",
      "when m = 4\n",
      "Update 0: 0.2347115694310428\n",
      "Update 1: 0.033471150580092\n",
      "Update 2: 0.03347115051768757\n",
      "when m = 5\n",
      "Update 0: 0.24977449042796532\n",
      "Update 1: 0.033470580844386914\n",
      "Update 2: 0.03347057060965915\n",
      "Update 3: 0.0334705674162837\n",
      "Update 4: 0.0334705674162837\n",
      "Final loss: 0.0334705674162837\n",
      "Time taken(s): 15.80\n",
      "Generating 5 best initial betas out of 1000...\n",
      "Optimizing...\n",
      "when m = 1\n",
      "Update 0: 0.08199972691955557\n",
      "Update 1: 0.08199972691955557\n",
      "when m = 2\n",
      "Update 0: 0.08207631942114263\n",
      "Update 1: 0.08207631942114263\n",
      "when m = 3\n",
      "Update 0: 0.18561164169145206\n"
     ]
    },
    {
     "name": "stderr",
     "output_type": "stream",
     "text": [
      "D:\\CAViaR-Project\\test\\..\\caviar\\_caviar_function.py:63: RuntimeWarning: overflow encountered in double_scalars\n",
      "  VaRs[t + 1] = b1 + b2 * VaRs[t] + b3 * max(returns[t], 0) + b4 * min(returns[t], 0)\n",
      "C:\\Users\\Jasper\\anaconda3\\lib\\site-packages\\scipy\\optimize\\_numdiff.py:576: RuntimeWarning: invalid value encountered in subtract\n",
      "  df = fun(x) - f0\n"
     ]
    },
    {
     "name": "stdout",
     "output_type": "stream",
     "text": [
      "Update 1: 0.03347428998900077\n",
      "Update 2: 0.03347428997602436\n",
      "when m = 4\n",
      "Update 0: 0.21053779817192791\n",
      "Update 1: 0.03348083779041024\n",
      "Update 2: 0.03348083777717758\n",
      "when m = 5\n",
      "Update 0: 0.22585712923912224\n",
      "Update 1: 0.03347132994658388\n",
      "Update 2: 0.033470769568129756\n",
      "Update 3: 0.033470769568129756\n",
      "Final loss: 0.033470769568129756\n",
      "Time taken(s): 13.37\n",
      "Generating 5 best initial betas out of 1000...\n",
      "Optimizing...\n",
      "when m = 1\n",
      "Update 0: 0.06620400345749974\n",
      "Update 1: 0.06620400345749974\n",
      "when m = 2\n",
      "Update 0: 0.13982955671531164\n",
      "Update 1: 0.13982955671531164\n",
      "when m = 3\n",
      "Update 0: 0.2116942459864353\n"
     ]
    },
    {
     "name": "stderr",
     "output_type": "stream",
     "text": [
      "D:\\CAViaR-Project\\test\\..\\caviar\\_caviar_function.py:63: RuntimeWarning: overflow encountered in double_scalars\n",
      "  VaRs[t + 1] = b1 + b2 * VaRs[t] + b3 * max(returns[t], 0) + b4 * min(returns[t], 0)\n",
      "C:\\Users\\Jasper\\anaconda3\\lib\\site-packages\\scipy\\optimize\\_numdiff.py:576: RuntimeWarning: invalid value encountered in subtract\n",
      "  df = fun(x) - f0\n"
     ]
    },
    {
     "name": "stdout",
     "output_type": "stream",
     "text": [
      "Update 1: 0.0334705697953992\n",
      "Update 2: 0.0334705697953992\n",
      "when m = 4\n",
      "Update 0: 0.2533626361990405\n",
      "Update 1: 0.03347160012623522\n",
      "Update 2: 0.03347160012623522\n",
      "when m = 5\n",
      "Update 0: 0.2605045450395867\n",
      "Update 1: 0.033475315904043894\n",
      "Update 2: 0.033475315365410444\n",
      "Update 3: 0.033475315365410444\n",
      "Final loss: 0.0334705697953992\n",
      "Time taken(s): 13.70\n",
      "Generating 5 best initial betas out of 1000...\n",
      "Optimizing...\n",
      "when m = 1\n",
      "Update 0: 0.0695709152842126\n",
      "Update 1: 0.0695709152842126\n",
      "when m = 2\n",
      "Update 0: 0.10051404692274073\n",
      "Update 1: 0.10051404692274073\n",
      "when m = 3\n",
      "Update 0: 0.1290480529047769\n",
      "Update 1: 0.1290480529047769\n",
      "when m = 4\n",
      "Update 0: 0.20804516785366095\n"
     ]
    },
    {
     "name": "stderr",
     "output_type": "stream",
     "text": [
      "D:\\CAViaR-Project\\test\\..\\caviar\\_caviar_function.py:63: RuntimeWarning: overflow encountered in double_scalars\n",
      "  VaRs[t + 1] = b1 + b2 * VaRs[t] + b3 * max(returns[t], 0) + b4 * min(returns[t], 0)\n",
      "C:\\Users\\Jasper\\anaconda3\\lib\\site-packages\\scipy\\optimize\\_numdiff.py:576: RuntimeWarning: invalid value encountered in subtract\n",
      "  df = fun(x) - f0\n"
     ]
    },
    {
     "name": "stdout",
     "output_type": "stream",
     "text": [
      "Update 1: 0.03361498039603076\n",
      "Update 2: 0.03361498039603076\n",
      "when m = 5\n",
      "Update 0: 0.21315542041807276\n",
      "Update 1: 0.21315542041807276\n",
      "Final loss: 0.03361498039603076\n",
      "Time taken(s): 6.87\n",
      "Generating 5 best initial betas out of 1000...\n",
      "Optimizing...\n",
      "when m = 1\n",
      "Update 0: 0.06431803804323707\n",
      "Update 1: 0.06431803804323707\n",
      "when m = 2\n",
      "Update 0: 0.07782700852831867\n",
      "Update 1: 0.07782700852831867\n",
      "when m = 3\n",
      "Update 0: 0.07863358453677646\n"
     ]
    },
    {
     "name": "stderr",
     "output_type": "stream",
     "text": [
      "D:\\CAViaR-Project\\test\\..\\caviar\\_caviar_function.py:63: RuntimeWarning: overflow encountered in double_scalars\n",
      "  VaRs[t + 1] = b1 + b2 * VaRs[t] + b3 * max(returns[t], 0) + b4 * min(returns[t], 0)\n",
      "C:\\Users\\Jasper\\anaconda3\\lib\\site-packages\\scipy\\optimize\\_numdiff.py:576: RuntimeWarning: invalid value encountered in subtract\n",
      "  df = fun(x) - f0\n"
     ]
    },
    {
     "name": "stdout",
     "output_type": "stream",
     "text": [
      "Update 1: 0.07863358453677646\n",
      "when m = 4\n",
      "Update 0: 0.12996565422696954\n",
      "Update 1: 0.12996565422696954\n",
      "when m = 5\n",
      "Update 0: 0.15620200669671835\n",
      "Update 1: 0.15620200669671835\n",
      "Final loss: 0.06431803804323707\n",
      "Time taken(s): 5.98\n",
      "Generating 5 best initial betas out of 1000...\n"
     ]
    },
    {
     "name": "stderr",
     "output_type": "stream",
     "text": [
      "D:\\CAViaR-Project\\test\\..\\var_tests\\_test.py:76: RuntimeWarning: invalid value encountered in double_scalars\n",
      "  LR_POF = -2 * np.log(numerator / denominator)\n",
      "D:\\CAViaR-Project\\test\\..\\var_tests\\_test.py:76: RuntimeWarning: divide by zero encountered in log\n",
      "  LR_POF = -2 * np.log(numerator / denominator)\n",
      "D:\\CAViaR-Project\\test\\..\\var_tests\\_test.py:111: RuntimeWarning: invalid value encountered in double_scalars\n",
      "  LR_CCI = -2 * np.log(numerator / denominator)\n"
     ]
    },
    {
     "name": "stdout",
     "output_type": "stream",
     "text": [
      "Optimizing...\n",
      "when m = 1\n",
      "Update 0: 0.060292309157510215\n"
     ]
    },
    {
     "name": "stderr",
     "output_type": "stream",
     "text": [
      "D:\\CAViaR-Project\\test\\..\\caviar\\_caviar_function.py:63: RuntimeWarning: overflow encountered in double_scalars\n",
      "  VaRs[t + 1] = b1 + b2 * VaRs[t] + b3 * max(returns[t], 0) + b4 * min(returns[t], 0)\n",
      "C:\\Users\\Jasper\\anaconda3\\lib\\site-packages\\scipy\\optimize\\_numdiff.py:576: RuntimeWarning: invalid value encountered in subtract\n",
      "  df = fun(x) - f0\n"
     ]
    },
    {
     "name": "stdout",
     "output_type": "stream",
     "text": [
      "Update 1: 0.03684989918464077\n",
      "Update 2: 0.033471798109774555\n",
      "Update 3: 0.03347135308473573\n",
      "Update 4: 0.03347135308473573\n",
      "when m = 2\n",
      "Update 0: 0.06462470631353873\n",
      "Update 1: 0.06462470631353873\n",
      "when m = 3\n",
      "Update 0: 0.19149447418903476\n",
      "Update 1: 0.03347077039715943\n",
      "Update 2: 0.03347077030255895\n",
      "when m = 4\n",
      "Update 0: 0.20274231547168634\n",
      "Update 1: 0.20274231547168634\n",
      "when m = 5\n",
      "Update 0: 0.21000645229136614\n",
      "Update 1: 0.03347110410421719\n",
      "Update 2: 0.03347104256167844\n",
      "Update 3: 0.03347104256167844\n",
      "Final loss: 0.03347077030255895\n",
      "Time taken(s): 15.58\n",
      "Generating 5 best initial betas out of 1000...\n",
      "Optimizing...\n",
      "when m = 1\n",
      "Update 0: 0.050245535320783075\n",
      "Update 1: 0.03347149691572788\n",
      "Update 2: 0.03347149597623224\n",
      "Update 3: 0.03347050953634297\n",
      "Update 4: 0.03347050949357269\n",
      "when m = 2\n",
      "Update 0: 0.06661596650152736\n",
      "Update 1: 0.06661596650152736\n",
      "when m = 3\n",
      "Update 0: 0.07312657896427452\n",
      "Update 1: 0.07312657896427452\n",
      "when m = 4\n",
      "Update 0: 0.10689772706895576\n"
     ]
    },
    {
     "name": "stderr",
     "output_type": "stream",
     "text": [
      "D:\\CAViaR-Project\\test\\..\\caviar\\_caviar_function.py:63: RuntimeWarning: overflow encountered in double_scalars\n",
      "  VaRs[t + 1] = b1 + b2 * VaRs[t] + b3 * max(returns[t], 0) + b4 * min(returns[t], 0)\n",
      "C:\\Users\\Jasper\\anaconda3\\lib\\site-packages\\scipy\\optimize\\_numdiff.py:576: RuntimeWarning: invalid value encountered in subtract\n",
      "  df = fun(x) - f0\n"
     ]
    },
    {
     "name": "stdout",
     "output_type": "stream",
     "text": [
      "Update 1: 0.03376640899858466\n",
      "Update 2: 0.03376640899858466\n",
      "when m = 5\n",
      "Update 0: 0.1464904087812435\n",
      "Update 1: 0.1464904087812435\n",
      "Final loss: 0.03347050949357269\n",
      "Time taken(s): 11.58\n",
      "Generating 5 best initial betas out of 1000...\n",
      "Optimizing...\n",
      "when m = 1\n",
      "Update 0: 0.04460745916506585\n",
      "Update 1: 0.03347048489125074\n",
      "Update 2: 0.03347048479323465\n",
      "when m = 2\n",
      "Update 0: 0.06433912120248284\n",
      "Update 1: 0.033470762246843574\n",
      "Update 2: 0.03347076224684358\n",
      "when m = 3\n",
      "Update 0: 0.17073577898961048\n",
      "Update 1: 0.17073577898961048\n",
      "when m = 4\n",
      "Update 0: 0.2517371303487071\n"
     ]
    },
    {
     "name": "stderr",
     "output_type": "stream",
     "text": [
      "D:\\CAViaR-Project\\test\\..\\caviar\\_caviar_function.py:63: RuntimeWarning: overflow encountered in double_scalars\n",
      "  VaRs[t + 1] = b1 + b2 * VaRs[t] + b3 * max(returns[t], 0) + b4 * min(returns[t], 0)\n",
      "C:\\Users\\Jasper\\anaconda3\\lib\\site-packages\\scipy\\optimize\\_numdiff.py:576: RuntimeWarning: invalid value encountered in subtract\n",
      "  df = fun(x) - f0\n"
     ]
    },
    {
     "name": "stdout",
     "output_type": "stream",
     "text": [
      "Update 1: 0.033470490137090275\n",
      "Update 2: 0.03347049013709027\n",
      "when m = 5\n",
      "Update 0: 0.2562099736013709\n",
      "Update 1: 0.03347213443362519\n",
      "Update 2: 0.03347213443362519\n",
      "Final loss: 0.03347048479323465\n",
      "Time taken(s): 16.51\n",
      "Generating 5 best initial betas out of 1000...\n",
      "Optimizing...\n",
      "when m = 1\n",
      "Update 0: 0.06221140484032009\n",
      "Update 1: 0.033471578459604\n",
      "Update 2: 0.03347094688131813\n",
      "Update 3: 0.03347094687653882\n",
      "when m = 2\n",
      "Update 0: 0.06833426471125573\n",
      "Update 1: 0.06833426471125573\n",
      "when m = 3\n",
      "Update 0: 0.0760933569476849\n",
      "Update 1: 0.0760933569476849\n",
      "when m = 4\n",
      "Update 0: 0.1151974837181615\n",
      "Update 1: 0.1151974837181615\n",
      "when m = 5\n",
      "Update 0: 0.128104606760234\n",
      "Update 1: 0.128104606760234\n",
      "Final loss: 0.03347094687653882\n"
     ]
    },
    {
     "name": "stderr",
     "output_type": "stream",
     "text": [
      "D:\\CAViaR-Project\\test\\..\\caviar\\_caviar_function.py:63: RuntimeWarning: overflow encountered in double_scalars\n",
      "  VaRs[t + 1] = b1 + b2 * VaRs[t] + b3 * max(returns[t], 0) + b4 * min(returns[t], 0)\n",
      "C:\\Users\\Jasper\\anaconda3\\lib\\site-packages\\scipy\\optimize\\_numdiff.py:576: RuntimeWarning: invalid value encountered in subtract\n",
      "  df = fun(x) - f0\n"
     ]
    },
    {
     "name": "stdout",
     "output_type": "stream",
     "text": [
      "Time taken(s): 9.42\n",
      "Generating 5 best initial betas out of 1000...\n",
      "Optimizing...\n",
      "when m = 1\n",
      "Update 0: 0.042334546124074314\n",
      "Update 1: 0.033475452032159216\n",
      "Update 2: 0.033475452032159216\n",
      "when m = 2\n",
      "Update 0: 0.048597587450548145\n",
      "Update 1: 0.048597587450548145\n",
      "when m = 3\n",
      "Update 0: 0.05110087264309854\n",
      "Update 1: 0.05110087264309854\n",
      "when m = 4\n",
      "Update 0: 0.07561912421210458\n"
     ]
    },
    {
     "name": "stderr",
     "output_type": "stream",
     "text": [
      "D:\\CAViaR-Project\\test\\..\\caviar\\_caviar_function.py:63: RuntimeWarning: overflow encountered in double_scalars\n",
      "  VaRs[t + 1] = b1 + b2 * VaRs[t] + b3 * max(returns[t], 0) + b4 * min(returns[t], 0)\n",
      "C:\\Users\\Jasper\\anaconda3\\lib\\site-packages\\scipy\\optimize\\_numdiff.py:576: RuntimeWarning: invalid value encountered in subtract\n",
      "  df = fun(x) - f0\n"
     ]
    },
    {
     "name": "stdout",
     "output_type": "stream",
     "text": [
      "Update 1: 0.07561912421210458\n",
      "when m = 5\n",
      "Update 0: 0.12958416952075671\n",
      "Update 1: 0.033830631790902996\n",
      "Update 2: 0.033830631790902996\n",
      "Final loss: 0.033475452032159216\n",
      "Time taken(s): 9.64\n",
      "Generating 5 best initial betas out of 1000...\n",
      "Optimizing...\n",
      "when m = 1\n",
      "Update 0: 0.04920425148587634\n",
      "Update 1: 0.04920425148587634\n",
      "when m = 2\n",
      "Update 0: 0.06277122268640233\n",
      "Update 1: 0.06277122268640233\n",
      "when m = 3\n",
      "Update 0: 0.12532035612054657\n"
     ]
    },
    {
     "name": "stderr",
     "output_type": "stream",
     "text": [
      "D:\\CAViaR-Project\\test\\..\\caviar\\_caviar_function.py:63: RuntimeWarning: overflow encountered in double_scalars\n",
      "  VaRs[t + 1] = b1 + b2 * VaRs[t] + b3 * max(returns[t], 0) + b4 * min(returns[t], 0)\n",
      "C:\\Users\\Jasper\\anaconda3\\lib\\site-packages\\scipy\\optimize\\_numdiff.py:576: RuntimeWarning: invalid value encountered in subtract\n",
      "  df = fun(x) - f0\n"
     ]
    },
    {
     "name": "stdout",
     "output_type": "stream",
     "text": [
      "Update 1: 0.03347649077412815\n",
      "Update 2: 0.03347649077412815\n",
      "when m = 4\n",
      "Update 0: 0.18042658119044636\n",
      "Update 1: 0.18042658119044636\n",
      "when m = 5\n",
      "Update 0: 0.1849565003553828\n",
      "Update 1: 0.1849565003553828\n",
      "Final loss: 0.03347649077412815\n",
      "Time taken(s): 7.41\n",
      "Generating 5 best initial betas out of 1000...\n",
      "Optimizing...\n",
      "when m = 1\n",
      "Update 0: 0.059807345171617114\n",
      "Update 1: 0.03347628724981903\n",
      "Update 2: 0.03347628724981903\n",
      "when m = 2\n",
      "Update 0: 0.07787585334067579\n",
      "Update 1: 0.07787585334067579\n",
      "when m = 3\n",
      "Update 0: 0.1505916877236716\n",
      "Update 1: 0.1505916877236716\n",
      "when m = 4\n",
      "Update 0: 0.1575991115019372\n"
     ]
    },
    {
     "name": "stderr",
     "output_type": "stream",
     "text": [
      "D:\\CAViaR-Project\\test\\..\\caviar\\_caviar_function.py:63: RuntimeWarning: overflow encountered in double_scalars\n",
      "  VaRs[t + 1] = b1 + b2 * VaRs[t] + b3 * max(returns[t], 0) + b4 * min(returns[t], 0)\n",
      "C:\\Users\\Jasper\\anaconda3\\lib\\site-packages\\scipy\\optimize\\_numdiff.py:576: RuntimeWarning: invalid value encountered in subtract\n",
      "  df = fun(x) - f0\n"
     ]
    },
    {
     "name": "stdout",
     "output_type": "stream",
     "text": [
      "Update 1: 0.03347118522237389\n",
      "Update 2: 0.03347118522237389\n",
      "when m = 5\n",
      "Update 0: 0.16791281938799826\n",
      "Update 1: 0.033475517372823484\n",
      "Update 2: 0.033475517372823484\n",
      "Final loss: 0.03347118522237389\n",
      "Time taken(s): 13.95\n",
      "Generating 5 best initial betas out of 1000...\n",
      "Optimizing...\n",
      "when m = 1\n",
      "Update 0: 0.04554117913755485\n",
      "Update 1: 0.04554117913755485\n",
      "when m = 2\n",
      "Update 0: 0.0533891487122044\n",
      "Update 1: 0.0533891487122044\n",
      "when m = 3\n",
      "Update 0: 0.11299537789526616\n"
     ]
    },
    {
     "name": "stderr",
     "output_type": "stream",
     "text": [
      "D:\\CAViaR-Project\\test\\..\\caviar\\_caviar_function.py:63: RuntimeWarning: overflow encountered in double_scalars\n",
      "  VaRs[t + 1] = b1 + b2 * VaRs[t] + b3 * max(returns[t], 0) + b4 * min(returns[t], 0)\n",
      "C:\\Users\\Jasper\\anaconda3\\lib\\site-packages\\scipy\\optimize\\_numdiff.py:576: RuntimeWarning: invalid value encountered in subtract\n",
      "  df = fun(x) - f0\n"
     ]
    },
    {
     "name": "stdout",
     "output_type": "stream",
     "text": [
      "Update 1: 0.11299537789526616\n",
      "when m = 4\n",
      "Update 0: 0.1294771496522662\n",
      "Update 1: 0.03347117792966882\n",
      "Update 2: 0.03347117792966882\n",
      "when m = 5\n",
      "Update 0: 0.17197761795686642\n",
      "Update 1: 0.03381865969774585\n",
      "Update 2: 0.03381865969774584\n",
      "Final loss: 0.03347117792966882\n",
      "Time taken(s): 10.78\n",
      "Generating 5 best initial betas out of 1000...\n",
      "Optimizing...\n",
      "when m = 1\n",
      "Update 0: 0.09384661442794032\n",
      "Update 1: 0.03347051503602542\n",
      "Update 2: 0.03347051503602542\n",
      "when m = 2\n",
      "Update 0: 0.12385049289380354\n",
      "Update 1: 0.12385049289380354\n",
      "when m = 3\n",
      "Update 0: 0.17295542771114433\n"
     ]
    },
    {
     "name": "stderr",
     "output_type": "stream",
     "text": [
      "D:\\CAViaR-Project\\test\\..\\caviar\\_caviar_function.py:63: RuntimeWarning: overflow encountered in double_scalars\n",
      "  VaRs[t + 1] = b1 + b2 * VaRs[t] + b3 * max(returns[t], 0) + b4 * min(returns[t], 0)\n",
      "C:\\Users\\Jasper\\anaconda3\\lib\\site-packages\\scipy\\optimize\\_numdiff.py:576: RuntimeWarning: invalid value encountered in subtract\n",
      "  df = fun(x) - f0\n"
     ]
    },
    {
     "name": "stdout",
     "output_type": "stream",
     "text": [
      "Update 1: 0.17295542771114433\n",
      "when m = 4\n",
      "Update 0: 0.1737688013478559\n",
      "Update 1: 0.1737688013478559\n",
      "when m = 5\n",
      "Update 0: 0.2000164341785826\n",
      "Update 1: 0.2000164341785826\n",
      "Final loss: 0.03347051503602542\n",
      "Time taken(s): 8.54\n",
      "Generating 5 best initial betas out of 1000...\n",
      "Optimizing...\n",
      "when m = 1\n",
      "Update 0: 0.04433214639787361\n",
      "Update 1: 0.04433214639787361\n",
      "when m = 2\n",
      "Update 0: 0.05501491280124414\n",
      "Update 1: 0.05501491280124414\n",
      "when m = 3\n",
      "Update 0: 0.13829723602981442\n",
      "Update 1: 0.13829723602981442\n",
      "when m = 4\n",
      "Update 0: 0.1551644309904819\n"
     ]
    },
    {
     "name": "stderr",
     "output_type": "stream",
     "text": [
      "D:\\CAViaR-Project\\test\\..\\caviar\\_caviar_function.py:63: RuntimeWarning: overflow encountered in double_scalars\n",
      "  VaRs[t + 1] = b1 + b2 * VaRs[t] + b3 * max(returns[t], 0) + b4 * min(returns[t], 0)\n",
      "C:\\Users\\Jasper\\anaconda3\\lib\\site-packages\\scipy\\optimize\\_numdiff.py:576: RuntimeWarning: invalid value encountered in subtract\n",
      "  df = fun(x) - f0\n"
     ]
    },
    {
     "name": "stdout",
     "output_type": "stream",
     "text": [
      "Update 1: 0.1551644309904819\n",
      "when m = 5\n",
      "Update 0: 0.16664253294343673\n",
      "Update 1: 0.16664253294343673\n",
      "Final loss: 0.04433214639787361\n",
      "Time taken(s): 5.99\n",
      "Generating 5 best initial betas out of 1000...\n",
      "Optimizing...\n",
      "when m = 1\n",
      "Update 0: 0.10331382814450503\n",
      "Update 1: 0.10331382814450503\n",
      "when m = 2\n",
      "Update 0: 0.11129778457577731\n",
      "Update 1: 0.11129778457577731\n",
      "when m = 3\n",
      "Update 0: 0.167700668471395\n"
     ]
    },
    {
     "name": "stderr",
     "output_type": "stream",
     "text": [
      "D:\\CAViaR-Project\\test\\..\\caviar\\_caviar_function.py:63: RuntimeWarning: overflow encountered in double_scalars\n",
      "  VaRs[t + 1] = b1 + b2 * VaRs[t] + b3 * max(returns[t], 0) + b4 * min(returns[t], 0)\n",
      "C:\\Users\\Jasper\\anaconda3\\lib\\site-packages\\scipy\\optimize\\_numdiff.py:576: RuntimeWarning: invalid value encountered in subtract\n",
      "  df = fun(x) - f0\n"
     ]
    },
    {
     "name": "stdout",
     "output_type": "stream",
     "text": [
      "Update 1: 0.167700668471395\n",
      "when m = 4\n",
      "Update 0: 0.1681705758823096\n",
      "Update 1: 0.1681705758823096\n",
      "when m = 5\n",
      "Update 0: 0.18875711201791895\n",
      "Update 1: 0.18875711201791895\n",
      "Final loss: 0.10331382814450503\n",
      "Time taken(s): 5.95\n",
      "Runing quantile: 0.01, model: igarch, method: numeric\n",
      "Generating 5 best initial betas out of 1000...\n"
     ]
    },
    {
     "name": "stderr",
     "output_type": "stream",
     "text": [
      "D:\\CAViaR-Project\\test\\..\\var_tests\\_test.py:76: RuntimeWarning: invalid value encountered in double_scalars\n",
      "  LR_POF = -2 * np.log(numerator / denominator)\n",
      "D:\\CAViaR-Project\\test\\..\\var_tests\\_test.py:111: RuntimeWarning: invalid value encountered in double_scalars\n",
      "  LR_CCI = -2 * np.log(numerator / denominator)\n"
     ]
    },
    {
     "name": "stdout",
     "output_type": "stream",
     "text": [
      "Optimizing...\n",
      "when m = 1\n",
      "Update 0: 0.03432157083948241\n",
      "Update 1: 0.03432157083948241\n",
      "when m = 2\n",
      "Update 0: 0.0344546726602141\n"
     ]
    },
    {
     "name": "stderr",
     "output_type": "stream",
     "text": [
      "D:\\CAViaR-Project\\test\\..\\caviar\\_caviar_function.py:84: RuntimeWarning: overflow encountered in double_scalars\n",
      "  VaRs[t + 1] = (b1 + b2 * VaRs[t] ** 2 + b3 * returns[t] ** 2) ** 0.5\n",
      "C:\\Users\\Jasper\\anaconda3\\lib\\site-packages\\scipy\\optimize\\_numdiff.py:576: RuntimeWarning: invalid value encountered in subtract\n",
      "  df = fun(x) - f0\n",
      "D:\\CAViaR-Project\\test\\..\\caviar\\_caviar_function.py:84: RuntimeWarning: invalid value encountered in double_scalars\n",
      "  VaRs[t + 1] = (b1 + b2 * VaRs[t] ** 2 + b3 * returns[t] ** 2) ** 0.5\n"
     ]
    },
    {
     "name": "stdout",
     "output_type": "stream",
     "text": [
      "Update 1: nan\n",
      "Update 2: nan\n",
      "Update 3: nan\n",
      "Update 4: nan\n",
      "Update 5: nan\n",
      "when m = 3\n",
      "Update 0: 0.03459071203029832\n",
      "Update 1: 0.03459071203029832\n",
      "when m = 4\n",
      "Update 0: 0.034643509194188626\n",
      "Update 1: nan\n",
      "Update 2: nan\n",
      "Update 3: nan\n",
      "Update 4: nan\n",
      "Update 5: nan\n",
      "when m = 5\n",
      "Update 0: 0.03468469990709698\n",
      "Update 1: 0.03468469990709698\n",
      "Final loss: 0.03432157083948241\n",
      "Time taken(s): 7.07\n",
      "Generating 5 best initial betas out of 1000...\n",
      "Optimizing...\n",
      "when m = 1\n",
      "Update 0: 0.034475788705356024\n"
     ]
    },
    {
     "name": "stderr",
     "output_type": "stream",
     "text": [
      "D:\\CAViaR-Project\\test\\..\\caviar\\_caviar_function.py:84: RuntimeWarning: invalid value encountered in double_scalars\n",
      "  VaRs[t + 1] = (b1 + b2 * VaRs[t] ** 2 + b3 * returns[t] ** 2) ** 0.5\n"
     ]
    },
    {
     "name": "stdout",
     "output_type": "stream",
     "text": [
      "Update 1: nan\n",
      "Update 2: nan\n",
      "Update 3: nan\n",
      "Update 4: nan\n",
      "Update 5: nan\n",
      "when m = 2\n",
      "Update 0: 0.0344851586037668\n",
      "Update 1: nan\n",
      "Update 2: nan\n",
      "Update 3: nan\n",
      "Update 4: nan\n",
      "Update 5: nan\n",
      "when m = 3\n",
      "Update 0: 0.03452088002479542\n",
      "Update 1: 0.03452088002479542\n",
      "when m = 4\n",
      "Update 0: 0.03455145531057835\n"
     ]
    },
    {
     "name": "stderr",
     "output_type": "stream",
     "text": [
      "D:\\CAViaR-Project\\test\\..\\caviar\\_caviar_function.py:84: RuntimeWarning: overflow encountered in double_scalars\n",
      "  VaRs[t + 1] = (b1 + b2 * VaRs[t] ** 2 + b3 * returns[t] ** 2) ** 0.5\n",
      "C:\\Users\\Jasper\\anaconda3\\lib\\site-packages\\scipy\\optimize\\_numdiff.py:576: RuntimeWarning: invalid value encountered in subtract\n",
      "  df = fun(x) - f0\n"
     ]
    },
    {
     "name": "stdout",
     "output_type": "stream",
     "text": [
      "Update 1: nan\n",
      "Update 2: nan\n",
      "Update 3: nan\n",
      "Update 4: nan\n",
      "Update 5: nan\n",
      "when m = 5\n",
      "Update 0: 0.03458230319031599\n",
      "Update 1: nan\n",
      "Update 2: nan\n",
      "Update 3: nan\n",
      "Update 4: nan\n",
      "Update 5: nan\n",
      "Final loss: 0.034475788705356024\n",
      "Time taken(s): 9.70\n",
      "Generating 5 best initial betas out of 1000...\n",
      "Optimizing...\n",
      "when m = 1\n",
      "Update 0: 0.03431637116231107\n",
      "Update 1: 0.03425702988036672\n"
     ]
    },
    {
     "name": "stderr",
     "output_type": "stream",
     "text": [
      "D:\\CAViaR-Project\\test\\..\\caviar\\_caviar_function.py:84: RuntimeWarning: overflow encountered in double_scalars\n",
      "  VaRs[t + 1] = (b1 + b2 * VaRs[t] ** 2 + b3 * returns[t] ** 2) ** 0.5\n",
      "C:\\Users\\Jasper\\anaconda3\\lib\\site-packages\\scipy\\optimize\\_numdiff.py:576: RuntimeWarning: invalid value encountered in subtract\n",
      "  df = fun(x) - f0\n"
     ]
    },
    {
     "name": "stdout",
     "output_type": "stream",
     "text": [
      "Update 2: 0.03425702988036671\n",
      "when m = 2\n",
      "Update 0: 0.034463595348453446\n",
      "Update 1: 0.034463595348453446\n",
      "when m = 3\n",
      "Update 0: 0.03453589712994535\n",
      "Update 1: 0.03453589712994535\n",
      "when m = 4\n",
      "Update 0: 0.03458871026736148\n",
      "Update 1: 0.03458871026736148\n",
      "when m = 5\n",
      "Update 0: 0.034635224948020654\n",
      "Update 1: 0.0342223426673112\n",
      "Update 2: nan\n"
     ]
    },
    {
     "name": "stderr",
     "output_type": "stream",
     "text": [
      "D:\\CAViaR-Project\\test\\..\\caviar\\_caviar_function.py:84: RuntimeWarning: invalid value encountered in double_scalars\n",
      "  VaRs[t + 1] = (b1 + b2 * VaRs[t] ** 2 + b3 * returns[t] ** 2) ** 0.5\n"
     ]
    },
    {
     "name": "stdout",
     "output_type": "stream",
     "text": [
      "Update 3: nan\n",
      "Update 4: nan\n",
      "Update 5: nan\n",
      "Final loss: 0.03425702988036671\n",
      "Time taken(s): 6.84\n",
      "Generating 5 best initial betas out of 1000...\n",
      "Optimizing...\n",
      "when m = 1\n",
      "Update 0: 0.03429765518727285\n"
     ]
    },
    {
     "name": "stderr",
     "output_type": "stream",
     "text": [
      "D:\\CAViaR-Project\\test\\..\\caviar\\_caviar_function.py:84: RuntimeWarning: invalid value encountered in double_scalars\n",
      "  VaRs[t + 1] = (b1 + b2 * VaRs[t] ** 2 + b3 * returns[t] ** 2) ** 0.5\n"
     ]
    },
    {
     "name": "stdout",
     "output_type": "stream",
     "text": [
      "Update 1: nan\n",
      "Update 2: nan\n",
      "Update 3: nan\n",
      "Update 4: nan\n",
      "Update 5: nan\n",
      "when m = 2\n",
      "Update 0: 0.034326016151935736\n",
      "Update 1: 0.034326016151935736\n",
      "when m = 3\n",
      "Update 0: 0.034333136375580164\n",
      "Update 1: 0.034333136375580164\n",
      "when m = 4\n",
      "Update 0: 0.0344204108193454\n"
     ]
    },
    {
     "name": "stderr",
     "output_type": "stream",
     "text": [
      "D:\\CAViaR-Project\\test\\..\\caviar\\_caviar_function.py:84: RuntimeWarning: overflow encountered in double_scalars\n",
      "  VaRs[t + 1] = (b1 + b2 * VaRs[t] ** 2 + b3 * returns[t] ** 2) ** 0.5\n",
      "C:\\Users\\Jasper\\anaconda3\\lib\\site-packages\\scipy\\optimize\\_numdiff.py:576: RuntimeWarning: invalid value encountered in subtract\n",
      "  df = fun(x) - f0\n"
     ]
    },
    {
     "name": "stdout",
     "output_type": "stream",
     "text": [
      "Update 1: nan\n",
      "Update 2: nan\n",
      "Update 3: nan\n",
      "Update 4: nan\n",
      "Update 5: nan\n",
      "when m = 5\n",
      "Update 0: 0.03447457737188132\n",
      "Update 1: 0.03423803498803019\n",
      "Update 2: 0.03423803498803019\n",
      "Final loss: 0.03429765518727285\n",
      "Time taken(s): 8.84\n",
      "Generating 5 best initial betas out of 1000...\n",
      "Optimizing...\n",
      "when m = 1\n",
      "Update 0: 0.03428594954194883\n",
      "Update 1: 0.03428594954194883\n",
      "when m = 2\n",
      "Update 0: 0.034385892574476294\n"
     ]
    },
    {
     "name": "stderr",
     "output_type": "stream",
     "text": [
      "D:\\CAViaR-Project\\test\\..\\caviar\\_caviar_function.py:84: RuntimeWarning: overflow encountered in double_scalars\n",
      "  VaRs[t + 1] = (b1 + b2 * VaRs[t] ** 2 + b3 * returns[t] ** 2) ** 0.5\n",
      "C:\\Users\\Jasper\\anaconda3\\lib\\site-packages\\scipy\\optimize\\_numdiff.py:576: RuntimeWarning: invalid value encountered in subtract\n",
      "  df = fun(x) - f0\n",
      "D:\\CAViaR-Project\\test\\..\\caviar\\_caviar_function.py:84: RuntimeWarning: invalid value encountered in double_scalars\n",
      "  VaRs[t + 1] = (b1 + b2 * VaRs[t] ** 2 + b3 * returns[t] ** 2) ** 0.5\n"
     ]
    },
    {
     "name": "stdout",
     "output_type": "stream",
     "text": [
      "Update 1: nan\n",
      "Update 2: nan\n",
      "Update 3: nan\n",
      "Update 4: nan\n",
      "Update 5: nan\n",
      "when m = 3\n",
      "Update 0: 0.03442140268446516\n",
      "Update 1: 0.03442140268446516\n",
      "when m = 4\n",
      "Update 0: 0.03453186019361224\n",
      "Update 1: 0.03453186019361224\n",
      "when m = 5\n",
      "Update 0: 0.03456923664481884\n",
      "Update 1: nan\n",
      "Update 2: nan\n",
      "Update 3: nan\n",
      "Update 4: nan\n",
      "Update 5: nan\n",
      "Final loss: 0.03428594954194883\n",
      "Time taken(s): 7.10\n",
      "Generating 5 best initial betas out of 1000...\n",
      "Optimizing...\n",
      "when m = 1\n",
      "Update 0: 0.0342715197947946\n",
      "Update 1: 0.0342715197947946\n",
      "when m = 2\n",
      "Update 0: 0.034299697374722264\n",
      "Update 1: 0.034299697374722264\n",
      "when m = 3\n",
      "Update 0: 0.034344237740366074\n"
     ]
    },
    {
     "name": "stderr",
     "output_type": "stream",
     "text": [
      "D:\\CAViaR-Project\\test\\..\\caviar\\_caviar_function.py:84: RuntimeWarning: overflow encountered in double_scalars\n",
      "  VaRs[t + 1] = (b1 + b2 * VaRs[t] ** 2 + b3 * returns[t] ** 2) ** 0.5\n",
      "C:\\Users\\Jasper\\anaconda3\\lib\\site-packages\\scipy\\optimize\\_numdiff.py:576: RuntimeWarning: invalid value encountered in subtract\n",
      "  df = fun(x) - f0\n",
      "D:\\CAViaR-Project\\test\\..\\caviar\\_caviar_function.py:84: RuntimeWarning: invalid value encountered in double_scalars\n",
      "  VaRs[t + 1] = (b1 + b2 * VaRs[t] ** 2 + b3 * returns[t] ** 2) ** 0.5\n"
     ]
    },
    {
     "name": "stdout",
     "output_type": "stream",
     "text": [
      "Update 1: nan\n",
      "Update 2: nan\n",
      "Update 3: nan\n",
      "Update 4: nan\n",
      "Update 5: nan\n",
      "when m = 4\n",
      "Update 0: 0.03435730981373471\n",
      "Update 1: 0.03435730981373471\n",
      "when m = 5\n",
      "Update 0: 0.0343577807706892\n",
      "Update 1: 0.0343577807706892\n",
      "Final loss: 0.0342715197947946\n",
      "Time taken(s): 5.62\n",
      "Generating 5 best initial betas out of 1000...\n",
      "Optimizing...\n",
      "when m = 1\n",
      "Update 0: 0.03439905552961891\n",
      "Update 1: 0.03439905552961891\n",
      "when m = 2\n",
      "Update 0: 0.034471387200082866\n",
      "Update 1: 0.034471387200082866\n",
      "when m = 3\n",
      "Update 0: 0.034592846888348606\n"
     ]
    },
    {
     "name": "stderr",
     "output_type": "stream",
     "text": [
      "D:\\CAViaR-Project\\test\\..\\caviar\\_caviar_function.py:84: RuntimeWarning: overflow encountered in double_scalars\n",
      "  VaRs[t + 1] = (b1 + b2 * VaRs[t] ** 2 + b3 * returns[t] ** 2) ** 0.5\n",
      "C:\\Users\\Jasper\\anaconda3\\lib\\site-packages\\scipy\\optimize\\_numdiff.py:576: RuntimeWarning: invalid value encountered in subtract\n",
      "  df = fun(x) - f0\n",
      "D:\\CAViaR-Project\\test\\..\\caviar\\_caviar_function.py:84: RuntimeWarning: invalid value encountered in double_scalars\n",
      "  VaRs[t + 1] = (b1 + b2 * VaRs[t] ** 2 + b3 * returns[t] ** 2) ** 0.5\n"
     ]
    },
    {
     "name": "stdout",
     "output_type": "stream",
     "text": [
      "Update 1: nan\n",
      "Update 2: nan\n",
      "Update 3: nan\n",
      "Update 4: nan\n",
      "Update 5: nan\n",
      "when m = 4\n",
      "Update 0: 0.03462409302612862\n",
      "Update 1: nan\n",
      "Update 2: nan\n",
      "Update 3: nan\n",
      "Update 4: nan\n",
      "Update 5: nan\n",
      "when m = 5\n",
      "Update 0: 0.03481149897600954\n",
      "Update 1: nan\n",
      "Update 2: nan\n",
      "Update 3: nan\n",
      "Update 4: nan\n",
      "Update 5: nan\n",
      "Final loss: 0.03439905552961891\n",
      "Time taken(s): 8.26\n",
      "Generating 5 best initial betas out of 1000...\n",
      "Optimizing...\n",
      "when m = 1\n",
      "Update 0: 0.03435705228082881\n"
     ]
    },
    {
     "name": "stderr",
     "output_type": "stream",
     "text": [
      "D:\\CAViaR-Project\\test\\..\\caviar\\_caviar_function.py:84: RuntimeWarning: invalid value encountered in double_scalars\n",
      "  VaRs[t + 1] = (b1 + b2 * VaRs[t] ** 2 + b3 * returns[t] ** 2) ** 0.5\n"
     ]
    },
    {
     "name": "stdout",
     "output_type": "stream",
     "text": [
      "Update 1: nan\n",
      "Update 2: nan\n",
      "Update 3: nan\n",
      "Update 4: nan\n",
      "Update 5: nan\n",
      "when m = 2\n",
      "Update 0: 0.03442199198733261\n",
      "Update 1: nan\n",
      "Update 2: nan\n",
      "Update 3: nan\n",
      "Update 4: nan\n",
      "Update 5: nan\n",
      "when m = 3\n",
      "Update 0: 0.034423841548015\n",
      "Update 1: 0.034423841548015\n",
      "when m = 4\n",
      "Update 0: 0.03442852777342865\n"
     ]
    },
    {
     "name": "stderr",
     "output_type": "stream",
     "text": [
      "D:\\CAViaR-Project\\test\\..\\caviar\\_caviar_function.py:84: RuntimeWarning: overflow encountered in double_scalars\n",
      "  VaRs[t + 1] = (b1 + b2 * VaRs[t] ** 2 + b3 * returns[t] ** 2) ** 0.5\n",
      "C:\\Users\\Jasper\\anaconda3\\lib\\site-packages\\scipy\\optimize\\_numdiff.py:576: RuntimeWarning: invalid value encountered in subtract\n",
      "  df = fun(x) - f0\n"
     ]
    },
    {
     "name": "stdout",
     "output_type": "stream",
     "text": [
      "Update 1: nan\n",
      "Update 2: nan\n",
      "Update 3: nan\n",
      "Update 4: nan\n",
      "Update 5: nan\n",
      "when m = 5\n",
      "Update 0: 0.03443371837794629\n",
      "Update 1: nan\n",
      "Update 2: nan\n",
      "Update 3: nan\n",
      "Update 4: nan\n",
      "Update 5: nan\n",
      "Final loss: 0.03435705228082881\n",
      "Time taken(s): 9.40\n",
      "Generating 5 best initial betas out of 1000...\n",
      "Optimizing...\n",
      "when m = 1\n",
      "Update 0: 0.03431201935452684\n"
     ]
    },
    {
     "name": "stderr",
     "output_type": "stream",
     "text": [
      "D:\\CAViaR-Project\\test\\..\\caviar\\_caviar_function.py:84: RuntimeWarning: invalid value encountered in double_scalars\n",
      "  VaRs[t + 1] = (b1 + b2 * VaRs[t] ** 2 + b3 * returns[t] ** 2) ** 0.5\n"
     ]
    },
    {
     "name": "stdout",
     "output_type": "stream",
     "text": [
      "Update 1: nan\n",
      "Update 2: nan\n",
      "Update 3: nan\n",
      "Update 4: nan\n",
      "Update 5: nan\n",
      "when m = 2\n",
      "Update 0: 0.03432346076925775\n",
      "Update 1: nan\n",
      "Update 2: nan\n",
      "Update 3: nan\n",
      "Update 4: nan\n",
      "Update 5: nan\n",
      "when m = 3\n",
      "Update 0: 0.03447268156754573\n",
      "Update 1: 0.03447268156754573\n",
      "when m = 4\n",
      "Update 0: 0.0345433580951429\n"
     ]
    },
    {
     "name": "stderr",
     "output_type": "stream",
     "text": [
      "D:\\CAViaR-Project\\test\\..\\caviar\\_caviar_function.py:84: RuntimeWarning: overflow encountered in double_scalars\n",
      "  VaRs[t + 1] = (b1 + b2 * VaRs[t] ** 2 + b3 * returns[t] ** 2) ** 0.5\n",
      "C:\\Users\\Jasper\\anaconda3\\lib\\site-packages\\scipy\\optimize\\_numdiff.py:576: RuntimeWarning: invalid value encountered in subtract\n",
      "  df = fun(x) - f0\n"
     ]
    },
    {
     "name": "stdout",
     "output_type": "stream",
     "text": [
      "Update 1: nan\n",
      "Update 2: nan\n",
      "Update 3: nan\n",
      "Update 4: nan\n",
      "Update 5: nan\n",
      "when m = 5\n",
      "Update 0: 0.03462955875062233\n",
      "Update 1: 0.03462955875062233\n",
      "Final loss: 0.03431201935452684\n",
      "Time taken(s): 8.25\n",
      "Generating 5 best initial betas out of 1000...\n",
      "Optimizing...\n",
      "when m = 1\n",
      "Update 0: 0.034498298628019376\n",
      "Update 1: nan\n"
     ]
    },
    {
     "name": "stderr",
     "output_type": "stream",
     "text": [
      "D:\\CAViaR-Project\\test\\..\\caviar\\_caviar_function.py:84: RuntimeWarning: invalid value encountered in double_scalars\n",
      "  VaRs[t + 1] = (b1 + b2 * VaRs[t] ** 2 + b3 * returns[t] ** 2) ** 0.5\n"
     ]
    },
    {
     "name": "stdout",
     "output_type": "stream",
     "text": [
      "Update 2: nan\n",
      "Update 3: nan\n",
      "Update 4: nan\n",
      "Update 5: nan\n",
      "when m = 2\n",
      "Update 0: 0.0345087383862387\n",
      "Update 1: nan\n",
      "Update 2: nan\n",
      "Update 3: nan\n",
      "Update 4: nan\n",
      "Update 5: nan\n",
      "when m = 3\n",
      "Update 0: 0.03452086974519846\n",
      "Update 1: nan\n",
      "Update 2: nan\n",
      "Update 3: nan\n",
      "Update 4: nan\n",
      "Update 5: nan\n",
      "when m = 4\n",
      "Update 0: 0.03452878651680752\n",
      "Update 1: nan\n",
      "Update 2: nan\n",
      "Update 3: nan\n",
      "Update 4: nan\n",
      "Update 5: nan\n",
      "when m = 5\n",
      "Update 0: 0.03454116384693018\n"
     ]
    },
    {
     "name": "stderr",
     "output_type": "stream",
     "text": [
      "D:\\CAViaR-Project\\test\\..\\caviar\\_caviar_function.py:84: RuntimeWarning: overflow encountered in double_scalars\n",
      "  VaRs[t + 1] = (b1 + b2 * VaRs[t] ** 2 + b3 * returns[t] ** 2) ** 0.5\n",
      "C:\\Users\\Jasper\\anaconda3\\lib\\site-packages\\scipy\\optimize\\_numdiff.py:576: RuntimeWarning: invalid value encountered in subtract\n",
      "  df = fun(x) - f0\n"
     ]
    },
    {
     "name": "stdout",
     "output_type": "stream",
     "text": [
      "Update 1: 0.03454116384693018\n",
      "Final loss: 0.034498298628019376\n",
      "Time taken(s): 9.12\n",
      "Generating 5 best initial betas out of 1000...\n",
      "Optimizing...\n",
      "when m = 1\n",
      "Update 0: 0.03427560307197501\n",
      "Update 1: 0.03427560307197501\n",
      "when m = 2\n",
      "Update 0: 0.03441989106688684\n",
      "Update 1: 0.03441989106688684\n",
      "when m = 3\n",
      "Update 0: 0.03448035913299049\n"
     ]
    },
    {
     "name": "stderr",
     "output_type": "stream",
     "text": [
      "D:\\CAViaR-Project\\test\\..\\caviar\\_caviar_function.py:84: RuntimeWarning: overflow encountered in double_scalars\n",
      "  VaRs[t + 1] = (b1 + b2 * VaRs[t] ** 2 + b3 * returns[t] ** 2) ** 0.5\n",
      "C:\\Users\\Jasper\\anaconda3\\lib\\site-packages\\scipy\\optimize\\_numdiff.py:576: RuntimeWarning: invalid value encountered in subtract\n",
      "  df = fun(x) - f0\n",
      "D:\\CAViaR-Project\\test\\..\\caviar\\_caviar_function.py:84: RuntimeWarning: invalid value encountered in double_scalars\n",
      "  VaRs[t + 1] = (b1 + b2 * VaRs[t] ** 2 + b3 * returns[t] ** 2) ** 0.5\n"
     ]
    },
    {
     "name": "stdout",
     "output_type": "stream",
     "text": [
      "Update 1: nan\n",
      "Update 2: nan\n",
      "Update 3: nan\n",
      "Update 4: nan\n",
      "Update 5: nan\n",
      "when m = 4\n",
      "Update 0: 0.03454300791752079\n",
      "Update 1: 0.03454300791752079\n",
      "when m = 5\n",
      "Update 0: 0.03455769390301563\n",
      "Update 1: nan\n",
      "Update 2: nan\n",
      "Update 3: nan\n",
      "Update 4: nan\n",
      "Update 5: nan\n",
      "Final loss: 0.03427560307197501\n",
      "Time taken(s): 6.98\n",
      "Generating 5 best initial betas out of 1000...\n",
      "Optimizing...\n",
      "when m = 1\n",
      "Update 0: 0.03455244613106226\n",
      "Update 1: 0.03455244613106226\n",
      "when m = 2\n",
      "Update 0: 0.0345847131047969\n",
      "Update 1: 0.0345847131047969\n",
      "when m = 3\n",
      "Update 0: 0.034597564423359886\n"
     ]
    },
    {
     "name": "stderr",
     "output_type": "stream",
     "text": [
      "D:\\CAViaR-Project\\test\\..\\caviar\\_caviar_function.py:84: RuntimeWarning: overflow encountered in double_scalars\n",
      "  VaRs[t + 1] = (b1 + b2 * VaRs[t] ** 2 + b3 * returns[t] ** 2) ** 0.5\n",
      "C:\\Users\\Jasper\\anaconda3\\lib\\site-packages\\scipy\\optimize\\_numdiff.py:576: RuntimeWarning: invalid value encountered in subtract\n",
      "  df = fun(x) - f0\n",
      "D:\\CAViaR-Project\\test\\..\\caviar\\_caviar_function.py:84: RuntimeWarning: invalid value encountered in double_scalars\n",
      "  VaRs[t + 1] = (b1 + b2 * VaRs[t] ** 2 + b3 * returns[t] ** 2) ** 0.5\n"
     ]
    },
    {
     "name": "stdout",
     "output_type": "stream",
     "text": [
      "Update 1: nan\n",
      "Update 2: nan\n",
      "Update 3: nan\n",
      "Update 4: nan\n",
      "Update 5: nan\n",
      "when m = 4\n",
      "Update 0: 0.034647852273372595\n",
      "Update 1: nan\n",
      "Update 2: nan\n",
      "Update 3: nan\n",
      "Update 4: nan\n",
      "Update 5: nan\n",
      "when m = 5\n",
      "Update 0: 0.03465940530294894\n",
      "Update 1: nan\n",
      "Update 2: nan\n",
      "Update 3: nan\n",
      "Update 4: nan\n",
      "Update 5: nan\n",
      "Final loss: 0.03455244613106226\n",
      "Time taken(s): 8.12\n",
      "Generating 5 best initial betas out of 1000...\n",
      "Optimizing...\n",
      "when m = 1\n",
      "Update 0: 0.03438163911871572\n"
     ]
    },
    {
     "name": "stderr",
     "output_type": "stream",
     "text": [
      "D:\\CAViaR-Project\\test\\..\\caviar\\_caviar_function.py:84: RuntimeWarning: invalid value encountered in double_scalars\n",
      "  VaRs[t + 1] = (b1 + b2 * VaRs[t] ** 2 + b3 * returns[t] ** 2) ** 0.5\n"
     ]
    },
    {
     "name": "stdout",
     "output_type": "stream",
     "text": [
      "Update 1: nan\n",
      "Update 2: nan\n",
      "Update 3: nan\n",
      "Update 4: nan\n",
      "Update 5: nan\n",
      "when m = 2\n",
      "Update 0: 0.03456830162809338\n",
      "Update 1: 0.03456830162809338\n",
      "when m = 3\n",
      "Update 0: 0.03460295392837979\n",
      "Update 1: 0.03460295392837979\n",
      "when m = 4\n",
      "Update 0: 0.034699663426806214\n",
      "Update 1: 0.034699663426806214\n",
      "when m = 5\n",
      "Update 0: 0.0347073297675064\n",
      "Update 1: 0.0347073297675064\n",
      "Final loss: 0.03438163911871572\n"
     ]
    },
    {
     "name": "stderr",
     "output_type": "stream",
     "text": [
      "D:\\CAViaR-Project\\test\\..\\caviar\\_caviar_function.py:84: RuntimeWarning: overflow encountered in double_scalars\n",
      "  VaRs[t + 1] = (b1 + b2 * VaRs[t] ** 2 + b3 * returns[t] ** 2) ** 0.5\n",
      "C:\\Users\\Jasper\\anaconda3\\lib\\site-packages\\scipy\\optimize\\_numdiff.py:576: RuntimeWarning: invalid value encountered in subtract\n",
      "  df = fun(x) - f0\n"
     ]
    },
    {
     "name": "stdout",
     "output_type": "stream",
     "text": [
      "Time taken(s): 5.85\n",
      "Generating 5 best initial betas out of 1000...\n",
      "Optimizing...\n",
      "when m = 1\n",
      "Update 0: 0.034281792023756794\n",
      "Update 1: nan\n"
     ]
    },
    {
     "name": "stderr",
     "output_type": "stream",
     "text": [
      "D:\\CAViaR-Project\\test\\..\\caviar\\_caviar_function.py:84: RuntimeWarning: invalid value encountered in double_scalars\n",
      "  VaRs[t + 1] = (b1 + b2 * VaRs[t] ** 2 + b3 * returns[t] ** 2) ** 0.5\n"
     ]
    },
    {
     "name": "stdout",
     "output_type": "stream",
     "text": [
      "Update 2: nan\n",
      "Update 3: nan\n",
      "Update 4: nan\n",
      "Update 5: nan\n",
      "when m = 2\n",
      "Update 0: 0.034282921214478276\n",
      "Update 1: nan\n",
      "Update 2: nan\n",
      "Update 3: nan\n",
      "Update 4: nan\n",
      "Update 5: nan\n",
      "when m = 3\n",
      "Update 0: 0.034286060195563656\n"
     ]
    },
    {
     "name": "stderr",
     "output_type": "stream",
     "text": [
      "D:\\CAViaR-Project\\test\\..\\caviar\\_caviar_function.py:84: RuntimeWarning: overflow encountered in double_scalars\n",
      "  VaRs[t + 1] = (b1 + b2 * VaRs[t] ** 2 + b3 * returns[t] ** 2) ** 0.5\n",
      "C:\\Users\\Jasper\\anaconda3\\lib\\site-packages\\scipy\\optimize\\_numdiff.py:576: RuntimeWarning: invalid value encountered in subtract\n",
      "  df = fun(x) - f0\n"
     ]
    },
    {
     "name": "stdout",
     "output_type": "stream",
     "text": [
      "Update 1: 0.034286060195563656\n",
      "when m = 4\n",
      "Update 0: 0.03431202652207948\n",
      "Update 1: nan\n",
      "Update 2: nan\n",
      "Update 3: nan\n",
      "Update 4: nan\n",
      "Update 5: nan\n",
      "when m = 5\n",
      "Update 0: 0.034340394099282315\n",
      "Update 1: 0.034340394099282315\n",
      "Final loss: 0.034281792023756794\n",
      "Time taken(s): 8.01\n",
      "Generating 5 best initial betas out of 1000...\n",
      "Optimizing...\n",
      "when m = 1\n",
      "Update 0: 0.03428492064494782\n"
     ]
    },
    {
     "name": "stderr",
     "output_type": "stream",
     "text": [
      "D:\\CAViaR-Project\\test\\..\\caviar\\_caviar_function.py:84: RuntimeWarning: invalid value encountered in double_scalars\n",
      "  VaRs[t + 1] = (b1 + b2 * VaRs[t] ** 2 + b3 * returns[t] ** 2) ** 0.5\n"
     ]
    },
    {
     "name": "stdout",
     "output_type": "stream",
     "text": [
      "Update 1: nan\n",
      "Update 2: nan\n",
      "Update 3: nan\n",
      "Update 4: nan\n",
      "Update 5: nan\n",
      "when m = 2\n",
      "Update 0: 0.03430131329902891\n",
      "Update 1: 0.03430131329902891\n",
      "when m = 3\n",
      "Update 0: 0.03439518171130956\n"
     ]
    },
    {
     "name": "stderr",
     "output_type": "stream",
     "text": [
      "D:\\CAViaR-Project\\test\\..\\caviar\\_caviar_function.py:84: RuntimeWarning: overflow encountered in double_scalars\n",
      "  VaRs[t + 1] = (b1 + b2 * VaRs[t] ** 2 + b3 * returns[t] ** 2) ** 0.5\n",
      "C:\\Users\\Jasper\\anaconda3\\lib\\site-packages\\scipy\\optimize\\_numdiff.py:576: RuntimeWarning: invalid value encountered in subtract\n",
      "  df = fun(x) - f0\n"
     ]
    },
    {
     "name": "stdout",
     "output_type": "stream",
     "text": [
      "Update 1: nan\n",
      "Update 2: nan\n",
      "Update 3: nan\n",
      "Update 4: nan\n",
      "Update 5: nan\n",
      "when m = 4\n",
      "Update 0: 0.03449908573267085\n",
      "Update 1: 0.03449908573267085\n",
      "when m = 5\n",
      "Update 0: 0.034541352975253736\n",
      "Update 1: nan\n",
      "Update 2: nan\n",
      "Update 3: nan\n",
      "Update 4: nan\n",
      "Update 5: nan\n",
      "Final loss: 0.03428492064494782\n",
      "Time taken(s): 8.07\n",
      "Generating 5 best initial betas out of 1000...\n",
      "Optimizing...\n",
      "when m = 1\n",
      "Update 0: 0.0344096365425239\n",
      "Update 1: 0.0344096365425239\n",
      "when m = 2\n",
      "Update 0: 0.03441193309959048\n"
     ]
    },
    {
     "name": "stderr",
     "output_type": "stream",
     "text": [
      "D:\\CAViaR-Project\\test\\..\\caviar\\_caviar_function.py:84: RuntimeWarning: overflow encountered in double_scalars\n",
      "  VaRs[t + 1] = (b1 + b2 * VaRs[t] ** 2 + b3 * returns[t] ** 2) ** 0.5\n",
      "C:\\Users\\Jasper\\anaconda3\\lib\\site-packages\\scipy\\optimize\\_numdiff.py:576: RuntimeWarning: invalid value encountered in subtract\n",
      "  df = fun(x) - f0\n",
      "D:\\CAViaR-Project\\test\\..\\caviar\\_caviar_function.py:84: RuntimeWarning: invalid value encountered in double_scalars\n",
      "  VaRs[t + 1] = (b1 + b2 * VaRs[t] ** 2 + b3 * returns[t] ** 2) ** 0.5\n"
     ]
    },
    {
     "name": "stdout",
     "output_type": "stream",
     "text": [
      "Update 1: nan\n",
      "Update 2: nan\n",
      "Update 3: nan\n",
      "Update 4: nan\n",
      "Update 5: nan\n",
      "when m = 3\n",
      "Update 0: 0.034413012156385314\n",
      "Update 1: nan\n",
      "Update 2: nan\n",
      "Update 3: nan\n",
      "Update 4: nan\n",
      "Update 5: nan\n",
      "when m = 4\n",
      "Update 0: 0.034416060653892216\n",
      "Update 1: nan\n",
      "Update 2: nan\n",
      "Update 3: nan\n",
      "Update 4: nan\n",
      "Update 5: nan\n",
      "when m = 5\n",
      "Update 0: 0.03442672002530297\n",
      "Update 1: nan\n",
      "Update 2: nan\n",
      "Update 3: nan\n",
      "Update 4: nan\n",
      "Update 5: nan\n",
      "Final loss: 0.0344096365425239\n",
      "Time taken(s): 9.49\n",
      "Generating 5 best initial betas out of 1000...\n",
      "Optimizing...\n",
      "when m = 1\n",
      "Update 0: 0.03436653075534213\n",
      "Update 1: 0.03436653075534213\n",
      "when m = 2\n",
      "Update 0: 0.034409492142911495\n"
     ]
    },
    {
     "name": "stderr",
     "output_type": "stream",
     "text": [
      "D:\\CAViaR-Project\\test\\..\\caviar\\_caviar_function.py:84: RuntimeWarning: overflow encountered in double_scalars\n",
      "  VaRs[t + 1] = (b1 + b2 * VaRs[t] ** 2 + b3 * returns[t] ** 2) ** 0.5\n",
      "C:\\Users\\Jasper\\anaconda3\\lib\\site-packages\\scipy\\optimize\\_numdiff.py:576: RuntimeWarning: invalid value encountered in subtract\n",
      "  df = fun(x) - f0\n",
      "D:\\CAViaR-Project\\test\\..\\caviar\\_caviar_function.py:84: RuntimeWarning: invalid value encountered in double_scalars\n",
      "  VaRs[t + 1] = (b1 + b2 * VaRs[t] ** 2 + b3 * returns[t] ** 2) ** 0.5\n"
     ]
    },
    {
     "name": "stdout",
     "output_type": "stream",
     "text": [
      "Update 1: nan\n",
      "Update 2: nan\n",
      "Update 3: nan\n",
      "Update 4: nan\n",
      "Update 5: nan\n",
      "when m = 3\n",
      "Update 0: 0.03445132336702621\n",
      "Update 1: nan\n",
      "Update 2: nan\n",
      "Update 3: nan\n",
      "Update 4: nan\n",
      "Update 5: nan\n",
      "when m = 4\n",
      "Update 0: 0.03445158060614336\n",
      "Update 1: nan\n",
      "Update 2: nan\n",
      "Update 3: nan\n",
      "Update 4: nan\n",
      "Update 5: nan\n",
      "when m = 5\n",
      "Update 0: 0.03448449411098889\n",
      "Update 1: 0.03448449411098889\n",
      "Final loss: 0.03436653075534213\n",
      "Time taken(s): 8.18\n",
      "Generating 5 best initial betas out of 1000...\n",
      "Optimizing...\n",
      "when m = 1\n",
      "Update 0: 0.03429626505835365\n"
     ]
    },
    {
     "name": "stderr",
     "output_type": "stream",
     "text": [
      "D:\\CAViaR-Project\\test\\..\\caviar\\_caviar_function.py:84: RuntimeWarning: invalid value encountered in double_scalars\n",
      "  VaRs[t + 1] = (b1 + b2 * VaRs[t] ** 2 + b3 * returns[t] ** 2) ** 0.5\n"
     ]
    },
    {
     "name": "stdout",
     "output_type": "stream",
     "text": [
      "Update 1: nan\n",
      "Update 2: nan\n",
      "Update 3: nan\n",
      "Update 4: nan\n",
      "Update 5: nan\n",
      "when m = 2\n",
      "Update 0: 0.034352415914848354\n",
      "Update 1: nan\n",
      "Update 2: nan\n",
      "Update 3: nan\n",
      "Update 4: nan\n",
      "Update 5: nan\n",
      "when m = 3\n",
      "Update 0: 0.03455562664649865\n",
      "Update 1: nan\n",
      "Update 2: nan\n",
      "Update 3: nan\n",
      "Update 4: nan\n",
      "Update 5: nan\n",
      "when m = 4\n",
      "Update 0: 0.03457794088303265\n",
      "Update 1: 0.03457794088303265\n",
      "when m = 5\n",
      "Update 0: 0.03467620226568841\n",
      "Update 1: 0.03467620226568841\n",
      "Final loss: 0.03429626505835365\n"
     ]
    },
    {
     "name": "stderr",
     "output_type": "stream",
     "text": [
      "D:\\CAViaR-Project\\test\\..\\caviar\\_caviar_function.py:84: RuntimeWarning: overflow encountered in double_scalars\n",
      "  VaRs[t + 1] = (b1 + b2 * VaRs[t] ** 2 + b3 * returns[t] ** 2) ** 0.5\n",
      "C:\\Users\\Jasper\\anaconda3\\lib\\site-packages\\scipy\\optimize\\_numdiff.py:576: RuntimeWarning: invalid value encountered in subtract\n",
      "  df = fun(x) - f0\n"
     ]
    },
    {
     "name": "stdout",
     "output_type": "stream",
     "text": [
      "Time taken(s): 8.19\n",
      "Generating 5 best initial betas out of 1000...\n",
      "Optimizing...\n",
      "when m = 1\n",
      "Update 0: 0.03439919876207494\n"
     ]
    },
    {
     "name": "stderr",
     "output_type": "stream",
     "text": [
      "D:\\CAViaR-Project\\test\\..\\caviar\\_caviar_function.py:84: RuntimeWarning: invalid value encountered in double_scalars\n",
      "  VaRs[t + 1] = (b1 + b2 * VaRs[t] ** 2 + b3 * returns[t] ** 2) ** 0.5\n"
     ]
    },
    {
     "name": "stdout",
     "output_type": "stream",
     "text": [
      "Update 1: nan\n",
      "Update 2: nan\n",
      "Update 3: nan\n",
      "Update 4: nan\n",
      "Update 5: nan\n",
      "when m = 2\n",
      "Update 0: 0.034455739638233854\n",
      "Update 1: nan\n",
      "Update 2: nan\n",
      "Update 3: nan\n",
      "Update 4: nan\n",
      "Update 5: nan\n",
      "when m = 3\n",
      "Update 0: 0.03446386373533775\n",
      "Update 1: 0.03446386373533775\n",
      "when m = 4\n",
      "Update 0: 0.03457087952425651\n"
     ]
    },
    {
     "name": "stderr",
     "output_type": "stream",
     "text": [
      "D:\\CAViaR-Project\\test\\..\\caviar\\_caviar_function.py:84: RuntimeWarning: overflow encountered in double_scalars\n",
      "  VaRs[t + 1] = (b1 + b2 * VaRs[t] ** 2 + b3 * returns[t] ** 2) ** 0.5\n",
      "C:\\Users\\Jasper\\anaconda3\\lib\\site-packages\\scipy\\optimize\\_numdiff.py:576: RuntimeWarning: invalid value encountered in subtract\n",
      "  df = fun(x) - f0\n"
     ]
    },
    {
     "name": "stdout",
     "output_type": "stream",
     "text": [
      "Update 1: nan\n",
      "Update 2: nan\n",
      "Update 3: nan\n",
      "Update 4: nan\n",
      "Update 5: nan\n",
      "when m = 5\n",
      "Update 0: 0.03457713341888195\n",
      "Update 1: 0.03457713341888195\n",
      "Final loss: 0.03439919876207494\n",
      "Time taken(s): 8.12\n",
      "Generating 5 best initial betas out of 1000...\n",
      "Optimizing...\n",
      "when m = 1\n",
      "Update 0: 0.03424834557767078\n",
      "Update 1: 0.03424834557767078\n",
      "when m = 2\n",
      "Update 0: 0.03426248700413715\n"
     ]
    },
    {
     "name": "stderr",
     "output_type": "stream",
     "text": [
      "D:\\CAViaR-Project\\test\\..\\caviar\\_caviar_function.py:84: RuntimeWarning: overflow encountered in double_scalars\n",
      "  VaRs[t + 1] = (b1 + b2 * VaRs[t] ** 2 + b3 * returns[t] ** 2) ** 0.5\n",
      "C:\\Users\\Jasper\\anaconda3\\lib\\site-packages\\scipy\\optimize\\_numdiff.py:576: RuntimeWarning: invalid value encountered in subtract\n",
      "  df = fun(x) - f0\n",
      "D:\\CAViaR-Project\\test\\..\\caviar\\_caviar_function.py:84: RuntimeWarning: invalid value encountered in double_scalars\n",
      "  VaRs[t + 1] = (b1 + b2 * VaRs[t] ** 2 + b3 * returns[t] ** 2) ** 0.5\n"
     ]
    },
    {
     "name": "stdout",
     "output_type": "stream",
     "text": [
      "Update 1: nan\n",
      "Update 2: nan\n",
      "Update 3: nan\n",
      "Update 4: nan\n",
      "Update 5: nan\n",
      "when m = 3\n",
      "Update 0: 0.03428545525767054\n",
      "Update 1: 0.03428545525767054\n",
      "when m = 4\n",
      "Update 0: 0.034361018692603565\n",
      "Update 1: 0.034361018692603565\n",
      "when m = 5\n",
      "Update 0: 0.03436474389908475\n",
      "Update 1: 0.03436474389908475\n",
      "Final loss: 0.03424834557767078\n",
      "Time taken(s): 5.74\n",
      "Generating 5 best initial betas out of 1000...\n",
      "Optimizing...\n",
      "when m = 1\n",
      "Update 0: 0.03441926025340745\n",
      "Update 1: 0.03441926025340745\n",
      "when m = 2\n",
      "Update 0: 0.03446939717866757\n"
     ]
    },
    {
     "name": "stderr",
     "output_type": "stream",
     "text": [
      "D:\\CAViaR-Project\\test\\..\\caviar\\_caviar_function.py:84: RuntimeWarning: overflow encountered in double_scalars\n",
      "  VaRs[t + 1] = (b1 + b2 * VaRs[t] ** 2 + b3 * returns[t] ** 2) ** 0.5\n",
      "C:\\Users\\Jasper\\anaconda3\\lib\\site-packages\\scipy\\optimize\\_numdiff.py:576: RuntimeWarning: invalid value encountered in subtract\n",
      "  df = fun(x) - f0\n",
      "D:\\CAViaR-Project\\test\\..\\caviar\\_caviar_function.py:84: RuntimeWarning: invalid value encountered in double_scalars\n",
      "  VaRs[t + 1] = (b1 + b2 * VaRs[t] ** 2 + b3 * returns[t] ** 2) ** 0.5\n"
     ]
    },
    {
     "name": "stdout",
     "output_type": "stream",
     "text": [
      "Update 1: nan\n",
      "Update 2: nan\n",
      "Update 3: nan\n",
      "Update 4: nan\n",
      "Update 5: nan\n",
      "when m = 3\n",
      "Update 0: 0.03450876551735739\n",
      "Update 1: 0.03450876551735739\n",
      "when m = 4\n",
      "Update 0: 0.0346714762181382\n",
      "Update 1: nan\n",
      "Update 2: nan\n",
      "Update 3: nan\n",
      "Update 4: nan\n",
      "Update 5: nan\n",
      "when m = 5\n",
      "Update 0: 0.03468149678162952\n",
      "Update 1: nan\n",
      "Update 2: nan\n",
      "Update 3: nan\n",
      "Update 4: nan\n",
      "Update 5: nan\n",
      "Final loss: 0.03441926025340745\n",
      "Time taken(s): 8.18\n",
      "Generating 5 best initial betas out of 1000...\n",
      "Optimizing...\n",
      "when m = 1\n",
      "Update 0: 0.034372378499654056\n"
     ]
    },
    {
     "name": "stderr",
     "output_type": "stream",
     "text": [
      "D:\\CAViaR-Project\\test\\..\\caviar\\_caviar_function.py:84: RuntimeWarning: invalid value encountered in double_scalars\n",
      "  VaRs[t + 1] = (b1 + b2 * VaRs[t] ** 2 + b3 * returns[t] ** 2) ** 0.5\n"
     ]
    },
    {
     "name": "stdout",
     "output_type": "stream",
     "text": [
      "Update 1: nan\n",
      "Update 2: nan\n",
      "Update 3: nan\n",
      "Update 4: nan\n",
      "Update 5: nan\n",
      "when m = 2\n",
      "Update 0: 0.03438507230338987\n",
      "Update 1: nan\n",
      "Update 2: nan\n",
      "Update 3: nan\n",
      "Update 4: nan\n",
      "Update 5: nan\n",
      "when m = 3\n",
      "Update 0: 0.03447691030109521\n",
      "Update 1: 0.03447691030109521\n",
      "when m = 4\n",
      "Update 0: 0.034485820724564534\n",
      "Update 1: 0.034485820724564534\n",
      "when m = 5\n",
      "Update 0: 0.03449468803184169\n",
      "Update 1: 0.03449468803184169\n",
      "Final loss: 0.034372378499654056\n"
     ]
    },
    {
     "name": "stderr",
     "output_type": "stream",
     "text": [
      "D:\\CAViaR-Project\\test\\..\\caviar\\_caviar_function.py:84: RuntimeWarning: overflow encountered in double_scalars\n",
      "  VaRs[t + 1] = (b1 + b2 * VaRs[t] ** 2 + b3 * returns[t] ** 2) ** 0.5\n",
      "C:\\Users\\Jasper\\anaconda3\\lib\\site-packages\\scipy\\optimize\\_numdiff.py:576: RuntimeWarning: invalid value encountered in subtract\n",
      "  df = fun(x) - f0\n"
     ]
    },
    {
     "name": "stdout",
     "output_type": "stream",
     "text": [
      "Time taken(s): 6.95\n",
      "Generating 5 best initial betas out of 1000...\n",
      "Optimizing...\n",
      "when m = 1\n",
      "Update 0: 0.03426165467047915\n",
      "Update 1: 0.03426165467047915\n",
      "when m = 2\n",
      "Update 0: 0.03444704235230103\n",
      "Update 1: 0.03444704235230103\n",
      "when m = 3\n",
      "Update 0: 0.034459957508226266\n",
      "Update 1: 0.034459957508226266\n",
      "when m = 4\n",
      "Update 0: 0.03451659940840269\n",
      "Update 1: 0.03451659940840269\n",
      "when m = 5\n",
      "Update 0: 0.034569860281522376\n"
     ]
    },
    {
     "name": "stderr",
     "output_type": "stream",
     "text": [
      "D:\\CAViaR-Project\\test\\..\\caviar\\_caviar_function.py:84: RuntimeWarning: overflow encountered in double_scalars\n",
      "  VaRs[t + 1] = (b1 + b2 * VaRs[t] ** 2 + b3 * returns[t] ** 2) ** 0.5\n",
      "C:\\Users\\Jasper\\anaconda3\\lib\\site-packages\\scipy\\optimize\\_numdiff.py:576: RuntimeWarning: invalid value encountered in subtract\n",
      "  df = fun(x) - f0\n"
     ]
    },
    {
     "name": "stdout",
     "output_type": "stream",
     "text": [
      "Update 1: 0.034569860281522376\n",
      "Final loss: 0.03426165467047915\n",
      "Time taken(s): 4.55\n",
      "Generating 5 best initial betas out of 1000...\n",
      "Optimizing...\n",
      "when m = 1\n",
      "Update 0: 0.03434336684231565\n",
      "Update 1: nan\n"
     ]
    },
    {
     "name": "stderr",
     "output_type": "stream",
     "text": [
      "D:\\CAViaR-Project\\test\\..\\caviar\\_caviar_function.py:84: RuntimeWarning: invalid value encountered in double_scalars\n",
      "  VaRs[t + 1] = (b1 + b2 * VaRs[t] ** 2 + b3 * returns[t] ** 2) ** 0.5\n"
     ]
    },
    {
     "name": "stdout",
     "output_type": "stream",
     "text": [
      "Update 2: nan\n",
      "Update 3: nan\n",
      "Update 4: nan\n",
      "Update 5: nan\n",
      "when m = 2\n",
      "Update 0: 0.03436193630961861\n",
      "Update 1: 0.03436193630961861\n",
      "when m = 3\n",
      "Update 0: 0.0343824253701096\n"
     ]
    },
    {
     "name": "stderr",
     "output_type": "stream",
     "text": [
      "D:\\CAViaR-Project\\test\\..\\caviar\\_caviar_function.py:84: RuntimeWarning: overflow encountered in double_scalars\n",
      "  VaRs[t + 1] = (b1 + b2 * VaRs[t] ** 2 + b3 * returns[t] ** 2) ** 0.5\n",
      "C:\\Users\\Jasper\\anaconda3\\lib\\site-packages\\scipy\\optimize\\_numdiff.py:576: RuntimeWarning: invalid value encountered in subtract\n",
      "  df = fun(x) - f0\n"
     ]
    },
    {
     "name": "stdout",
     "output_type": "stream",
     "text": [
      "Update 1: nan\n",
      "Update 2: nan\n",
      "Update 3: nan\n",
      "Update 4: nan\n",
      "Update 5: nan\n",
      "when m = 4\n",
      "Update 0: 0.03452121717409243\n",
      "Update 1: nan\n",
      "Update 2: nan\n",
      "Update 3: nan\n",
      "Update 4: nan\n",
      "Update 5: nan\n",
      "when m = 5\n",
      "Update 0: 0.034561256988930145\n",
      "Update 1: nan\n",
      "Update 2: nan\n",
      "Update 3: nan\n",
      "Update 4: nan\n",
      "Update 5: nan\n",
      "Final loss: 0.03434336684231565\n",
      "Time taken(s): 9.10\n",
      "Generating 5 best initial betas out of 1000...\n",
      "Optimizing...\n",
      "when m = 1\n",
      "Update 0: 0.034291276538672553\n",
      "Update 1: 0.034291276538672553\n",
      "when m = 2\n",
      "Update 0: 0.03430037047248401\n",
      "Update 1: 0.03430037047248401\n",
      "when m = 3\n",
      "Update 0: 0.03437101258171799\n"
     ]
    },
    {
     "name": "stderr",
     "output_type": "stream",
     "text": [
      "D:\\CAViaR-Project\\test\\..\\caviar\\_caviar_function.py:84: RuntimeWarning: overflow encountered in double_scalars\n",
      "  VaRs[t + 1] = (b1 + b2 * VaRs[t] ** 2 + b3 * returns[t] ** 2) ** 0.5\n",
      "C:\\Users\\Jasper\\anaconda3\\lib\\site-packages\\scipy\\optimize\\_numdiff.py:576: RuntimeWarning: invalid value encountered in subtract\n",
      "  df = fun(x) - f0\n",
      "D:\\CAViaR-Project\\test\\..\\caviar\\_caviar_function.py:84: RuntimeWarning: invalid value encountered in double_scalars\n",
      "  VaRs[t + 1] = (b1 + b2 * VaRs[t] ** 2 + b3 * returns[t] ** 2) ** 0.5\n"
     ]
    },
    {
     "name": "stdout",
     "output_type": "stream",
     "text": [
      "Update 1: nan\n",
      "Update 2: nan\n",
      "Update 3: nan\n",
      "Update 4: nan\n",
      "Update 5: nan\n",
      "when m = 4\n",
      "Update 0: 0.0344325283015251\n",
      "Update 1: 0.0344325283015251\n",
      "when m = 5\n",
      "Update 0: 0.03457698428570576\n",
      "Update 1: 0.03457698428570576\n",
      "Final loss: 0.034291276538672553\n",
      "Time taken(s): 5.79\n",
      "Generating 5 best initial betas out of 1000...\n",
      "Optimizing...\n",
      "when m = 1\n",
      "Update 0: 0.034222179578347334\n",
      "Update 1: 0.034222179578347334\n",
      "when m = 2\n",
      "Update 0: 0.03427054745116731\n",
      "Update 1: 0.03427054745116731\n",
      "when m = 3\n",
      "Update 0: 0.03439304614522416\n"
     ]
    },
    {
     "name": "stderr",
     "output_type": "stream",
     "text": [
      "D:\\CAViaR-Project\\test\\..\\caviar\\_caviar_function.py:84: RuntimeWarning: overflow encountered in double_scalars\n",
      "  VaRs[t + 1] = (b1 + b2 * VaRs[t] ** 2 + b3 * returns[t] ** 2) ** 0.5\n",
      "C:\\Users\\Jasper\\anaconda3\\lib\\site-packages\\scipy\\optimize\\_numdiff.py:576: RuntimeWarning: invalid value encountered in subtract\n",
      "  df = fun(x) - f0\n"
     ]
    },
    {
     "name": "stdout",
     "output_type": "stream",
     "text": [
      "Update 1: 0.034215799526387744\n",
      "Update 2: 0.034215799526387744\n",
      "when m = 4\n",
      "Update 0: 0.03446495950065893\n",
      "Update 1: 0.03446495950065893\n",
      "when m = 5\n",
      "Update 0: 0.034474576047575034\n",
      "Update 1: 0.034474576047575034\n",
      "Final loss: 0.034215799526387744\n",
      "Time taken(s): 5.23\n",
      "Generating 5 best initial betas out of 1000...\n",
      "Optimizing...\n",
      "when m = 1\n",
      "Update 0: 0.03436506456351152\n",
      "Update 1: 0.03436506456351152\n",
      "when m = 2\n",
      "Update 0: 0.03438799725749528\n"
     ]
    },
    {
     "name": "stderr",
     "output_type": "stream",
     "text": [
      "D:\\CAViaR-Project\\test\\..\\caviar\\_caviar_function.py:84: RuntimeWarning: overflow encountered in double_scalars\n",
      "  VaRs[t + 1] = (b1 + b2 * VaRs[t] ** 2 + b3 * returns[t] ** 2) ** 0.5\n",
      "C:\\Users\\Jasper\\anaconda3\\lib\\site-packages\\scipy\\optimize\\_numdiff.py:576: RuntimeWarning: invalid value encountered in subtract\n",
      "  df = fun(x) - f0\n",
      "D:\\CAViaR-Project\\test\\..\\caviar\\_caviar_function.py:84: RuntimeWarning: invalid value encountered in double_scalars\n",
      "  VaRs[t + 1] = (b1 + b2 * VaRs[t] ** 2 + b3 * returns[t] ** 2) ** 0.5\n"
     ]
    },
    {
     "name": "stdout",
     "output_type": "stream",
     "text": [
      "Update 1: nan\n",
      "Update 2: nan\n",
      "Update 3: nan\n",
      "Update 4: nan\n",
      "Update 5: nan\n",
      "when m = 3\n",
      "Update 0: 0.03444659456955521\n",
      "Update 1: nan\n",
      "Update 2: nan\n",
      "Update 3: nan\n",
      "Update 4: nan\n",
      "Update 5: nan\n",
      "when m = 4\n",
      "Update 0: 0.034478763132479905\n",
      "Update 1: nan\n",
      "Update 2: nan\n",
      "Update 3: nan\n",
      "Update 4: nan\n",
      "Update 5: nan\n",
      "when m = 5\n",
      "Update 0: 0.03448454501731796\n",
      "Update 1: nan\n",
      "Update 2: nan\n",
      "Update 3: nan\n",
      "Update 4: nan\n",
      "Update 5: nan\n",
      "Final loss: 0.03436506456351152\n",
      "Time taken(s): 9.42\n",
      "Generating 5 best initial betas out of 1000...\n",
      "Optimizing...\n",
      "when m = 1\n",
      "Update 0: 0.03426753497895394\n",
      "Update 1: 0.03426753497895394\n",
      "when m = 2\n",
      "Update 0: 0.03436090461764597\n",
      "Update 1: 0.03436090461764597\n",
      "when m = 3\n",
      "Update 0: 0.03436698787715578\n",
      "Update 1: 0.03436698787715578\n",
      "when m = 4\n",
      "Update 0: 0.034425609016542826\n",
      "Update 1: 0.034425609016542826\n",
      "when m = 5\n",
      "Update 0: 0.03442987478648884\n"
     ]
    },
    {
     "name": "stderr",
     "output_type": "stream",
     "text": [
      "D:\\CAViaR-Project\\test\\..\\caviar\\_caviar_function.py:84: RuntimeWarning: overflow encountered in double_scalars\n",
      "  VaRs[t + 1] = (b1 + b2 * VaRs[t] ** 2 + b3 * returns[t] ** 2) ** 0.5\n",
      "C:\\Users\\Jasper\\anaconda3\\lib\\site-packages\\scipy\\optimize\\_numdiff.py:576: RuntimeWarning: invalid value encountered in subtract\n",
      "  df = fun(x) - f0\n",
      "D:\\CAViaR-Project\\test\\..\\caviar\\_caviar_function.py:84: RuntimeWarning: invalid value encountered in double_scalars\n",
      "  VaRs[t + 1] = (b1 + b2 * VaRs[t] ** 2 + b3 * returns[t] ** 2) ** 0.5\n"
     ]
    },
    {
     "name": "stdout",
     "output_type": "stream",
     "text": [
      "Update 1: nan\n",
      "Update 2: nan\n",
      "Update 3: nan\n",
      "Update 4: nan\n",
      "Update 5: nan\n",
      "Final loss: 0.03426753497895394\n",
      "Time taken(s): 5.77\n",
      "Generating 5 best initial betas out of 1000...\n",
      "Optimizing...\n",
      "when m = 1\n",
      "Update 0: 0.034255233316866605\n",
      "Update 1: 0.034255233316866605\n",
      "when m = 2\n",
      "Update 0: 0.034280922680389694\n"
     ]
    },
    {
     "name": "stderr",
     "output_type": "stream",
     "text": [
      "D:\\CAViaR-Project\\test\\..\\caviar\\_caviar_function.py:84: RuntimeWarning: overflow encountered in double_scalars\n",
      "  VaRs[t + 1] = (b1 + b2 * VaRs[t] ** 2 + b3 * returns[t] ** 2) ** 0.5\n",
      "C:\\Users\\Jasper\\anaconda3\\lib\\site-packages\\scipy\\optimize\\_numdiff.py:576: RuntimeWarning: invalid value encountered in subtract\n",
      "  df = fun(x) - f0\n",
      "D:\\CAViaR-Project\\test\\..\\caviar\\_caviar_function.py:84: RuntimeWarning: invalid value encountered in double_scalars\n",
      "  VaRs[t + 1] = (b1 + b2 * VaRs[t] ** 2 + b3 * returns[t] ** 2) ** 0.5\n"
     ]
    },
    {
     "name": "stdout",
     "output_type": "stream",
     "text": [
      "Update 1: nan\n",
      "Update 2: nan\n",
      "Update 3: nan\n",
      "Update 4: nan\n",
      "Update 5: nan\n",
      "when m = 3\n",
      "Update 0: 0.03442691098357216\n",
      "Update 1: nan\n",
      "Update 2: nan\n",
      "Update 3: nan\n",
      "Update 4: nan\n",
      "Update 5: nan\n",
      "when m = 4\n",
      "Update 0: 0.03444530403434319\n",
      "Update 1: 0.03444530403434319\n",
      "when m = 5\n",
      "Update 0: 0.03457551103108998\n",
      "Update 1: nan\n",
      "Update 2: nan\n",
      "Update 3: nan\n",
      "Update 4: nan\n",
      "Update 5: nan\n",
      "Final loss: 0.034255233316866605\n",
      "Time taken(s): 8.16\n",
      "Generating 5 best initial betas out of 1000...\n",
      "Optimizing...\n",
      "when m = 1\n",
      "Update 0: 0.034353098126611255\n",
      "Update 1: 0.034353098126611255\n",
      "when m = 2\n",
      "Update 0: 0.03437169960689212\n",
      "Update 1: 0.03437169960689212\n",
      "when m = 3\n",
      "Update 0: 0.03437793958463382\n",
      "Update 1: 0.03437793958463382\n",
      "when m = 4\n",
      "Update 0: 0.03439865574971174\n"
     ]
    },
    {
     "name": "stderr",
     "output_type": "stream",
     "text": [
      "D:\\CAViaR-Project\\test\\..\\caviar\\_caviar_function.py:84: RuntimeWarning: overflow encountered in double_scalars\n",
      "  VaRs[t + 1] = (b1 + b2 * VaRs[t] ** 2 + b3 * returns[t] ** 2) ** 0.5\n",
      "C:\\Users\\Jasper\\anaconda3\\lib\\site-packages\\scipy\\optimize\\_numdiff.py:576: RuntimeWarning: invalid value encountered in subtract\n",
      "  df = fun(x) - f0\n"
     ]
    },
    {
     "name": "stdout",
     "output_type": "stream",
     "text": [
      "Update 1: 0.03439865574971174\n",
      "when m = 5\n",
      "Update 0: 0.03441463086479753\n",
      "Update 1: 0.03441463086479753\n",
      "Final loss: 0.034353098126611255\n",
      "Time taken(s): 4.67\n"
     ]
    }
   ],
   "source": [
    "stats_df = []\n",
    "beta_stats_df = []\n",
    "\n",
    "for q in quantiles:\n",
    "    for model in models:\n",
    "        for method in methods:\n",
    "            print(f'Runing quantile: {q}, model: {model}, method: {method}')\n",
    "            for i in range(30):\n",
    "                caviar_model = CaviarModel(q, model, method)\n",
    "                caviar_model.fit(in_samples)\n",
    "                \n",
    "                # as the last observation is the VaR forecast\n",
    "                in_VaR = caviar_model.predict(in_samples, 'in')[:-1]\n",
    "                out_VaR = caviar_model.predict(out_samples, 'out')[:-1]\n",
    "                \n",
    "                # statistics\n",
    "                stat = {\n",
    "                    'quantile': q,\n",
    "                    'model': model,\n",
    "                    'method': method,\n",
    "                    'trial': i,\n",
    "                    'loss': caviar_model.training_loss,\n",
    "                    'hit_rate_in': hit_rate(in_samples, in_VaR),\n",
    "                    'hit_rate_out': hit_rate(out_samples, out_VaR),\n",
    "                    'dq_in': caviar_model.dq_test(in_samples, 'in'),\n",
    "                    'dq_out': caviar_model.dq_test(out_samples, 'out'),\n",
    "                    'binom_in': binomial_test(in_samples, in_VaR, q),\n",
    "                    'binom_out': binomial_test(out_samples, out_VaR, q),\n",
    "                    'traffic_in': traffic_light_test(in_samples, in_VaR, q)[0],\n",
    "                    'traffic_out': traffic_light_test(out_samples, out_VaR, q)[0],\n",
    "                    'kupiec_in': kupiec_pof_test(in_samples, in_VaR, q),\n",
    "                    'kupiec_out': kupiec_pof_test(out_samples, out_VaR, q),\n",
    "                    'independent_in': christoffersen_test(in_samples, in_VaR),\n",
    "                    'independent_out': christoffersen_test(out_samples, out_VaR)\n",
    "                }\n",
    "                \n",
    "                beta_stat = caviar_model.beta_summary()\n",
    "                beta_stat['quantile'] = q\n",
    "                beta_stat['model'] = model\n",
    "                beta_stat['method'] = method\n",
    "                beta_stat['trial'] = i\n",
    "                \n",
    "                stats_df.append(stat)\n",
    "                beta_stats_df.append(beta_stat)"
   ]
  },
  {
   "cell_type": "code",
   "execution_count": 8,
   "metadata": {
    "scrolled": false
   },
   "outputs": [
    {
     "data": {
      "text/html": [
       "<div>\n",
       "<style scoped>\n",
       "    .dataframe tbody tr th:only-of-type {\n",
       "        vertical-align: middle;\n",
       "    }\n",
       "\n",
       "    .dataframe tbody tr th {\n",
       "        vertical-align: top;\n",
       "    }\n",
       "\n",
       "    .dataframe thead th {\n",
       "        text-align: right;\n",
       "    }\n",
       "</style>\n",
       "<table border=\"1\" class=\"dataframe\">\n",
       "  <thead>\n",
       "    <tr style=\"text-align: right;\">\n",
       "      <th></th>\n",
       "      <th>quantile</th>\n",
       "      <th>model</th>\n",
       "      <th>method</th>\n",
       "      <th>trial</th>\n",
       "      <th>loss</th>\n",
       "      <th>hit_rate_in</th>\n",
       "      <th>hit_rate_out</th>\n",
       "      <th>dq_in</th>\n",
       "      <th>dq_out</th>\n",
       "      <th>binom_in</th>\n",
       "      <th>binom_out</th>\n",
       "      <th>traffic_in</th>\n",
       "      <th>traffic_out</th>\n",
       "      <th>kupiec_in</th>\n",
       "      <th>kupiec_out</th>\n",
       "      <th>independent_in</th>\n",
       "      <th>independent_out</th>\n",
       "    </tr>\n",
       "  </thead>\n",
       "  <tbody>\n",
       "    <tr>\n",
       "      <th>0</th>\n",
       "      <td>0.05</td>\n",
       "      <td>adaptive</td>\n",
       "      <td>numeric</td>\n",
       "      <td>0</td>\n",
       "      <td>0.128174</td>\n",
       "      <td>0.048515</td>\n",
       "      <td>0.044932</td>\n",
       "      <td>0.618006</td>\n",
       "      <td>0.998819</td>\n",
       "      <td>0.708729</td>\n",
       "      <td>0.360869</td>\n",
       "      <td>green</td>\n",
       "      <td>green</td>\n",
       "      <td>0.325765</td>\n",
       "      <td>0.687559</td>\n",
       "      <td>0.507619</td>\n",
       "      <td>0.961090</td>\n",
       "    </tr>\n",
       "    <tr>\n",
       "      <th>1</th>\n",
       "      <td>0.05</td>\n",
       "      <td>adaptive</td>\n",
       "      <td>numeric</td>\n",
       "      <td>1</td>\n",
       "      <td>0.128174</td>\n",
       "      <td>0.048515</td>\n",
       "      <td>0.044932</td>\n",
       "      <td>0.618009</td>\n",
       "      <td>0.998819</td>\n",
       "      <td>0.708729</td>\n",
       "      <td>0.360869</td>\n",
       "      <td>green</td>\n",
       "      <td>green</td>\n",
       "      <td>0.325765</td>\n",
       "      <td>0.687559</td>\n",
       "      <td>0.507619</td>\n",
       "      <td>0.961090</td>\n",
       "    </tr>\n",
       "    <tr>\n",
       "      <th>2</th>\n",
       "      <td>0.05</td>\n",
       "      <td>adaptive</td>\n",
       "      <td>numeric</td>\n",
       "      <td>2</td>\n",
       "      <td>0.128174</td>\n",
       "      <td>0.048515</td>\n",
       "      <td>0.044932</td>\n",
       "      <td>0.618005</td>\n",
       "      <td>0.998819</td>\n",
       "      <td>0.708729</td>\n",
       "      <td>0.360869</td>\n",
       "      <td>green</td>\n",
       "      <td>green</td>\n",
       "      <td>0.325765</td>\n",
       "      <td>0.687559</td>\n",
       "      <td>0.507619</td>\n",
       "      <td>0.961090</td>\n",
       "    </tr>\n",
       "    <tr>\n",
       "      <th>3</th>\n",
       "      <td>0.05</td>\n",
       "      <td>adaptive</td>\n",
       "      <td>numeric</td>\n",
       "      <td>3</td>\n",
       "      <td>0.128174</td>\n",
       "      <td>0.048515</td>\n",
       "      <td>0.044932</td>\n",
       "      <td>0.618007</td>\n",
       "      <td>0.998819</td>\n",
       "      <td>0.708729</td>\n",
       "      <td>0.360869</td>\n",
       "      <td>green</td>\n",
       "      <td>green</td>\n",
       "      <td>0.325765</td>\n",
       "      <td>0.687559</td>\n",
       "      <td>0.507619</td>\n",
       "      <td>0.961090</td>\n",
       "    </tr>\n",
       "    <tr>\n",
       "      <th>4</th>\n",
       "      <td>0.05</td>\n",
       "      <td>adaptive</td>\n",
       "      <td>numeric</td>\n",
       "      <td>4</td>\n",
       "      <td>0.128174</td>\n",
       "      <td>0.048515</td>\n",
       "      <td>0.044932</td>\n",
       "      <td>0.618007</td>\n",
       "      <td>0.998819</td>\n",
       "      <td>0.708729</td>\n",
       "      <td>0.360869</td>\n",
       "      <td>green</td>\n",
       "      <td>green</td>\n",
       "      <td>0.325765</td>\n",
       "      <td>0.687559</td>\n",
       "      <td>0.507619</td>\n",
       "      <td>0.961090</td>\n",
       "    </tr>\n",
       "    <tr>\n",
       "      <th>...</th>\n",
       "      <td>...</td>\n",
       "      <td>...</td>\n",
       "      <td>...</td>\n",
       "      <td>...</td>\n",
       "      <td>...</td>\n",
       "      <td>...</td>\n",
       "      <td>...</td>\n",
       "      <td>...</td>\n",
       "      <td>...</td>\n",
       "      <td>...</td>\n",
       "      <td>...</td>\n",
       "      <td>...</td>\n",
       "      <td>...</td>\n",
       "      <td>...</td>\n",
       "      <td>...</td>\n",
       "      <td>...</td>\n",
       "      <td>...</td>\n",
       "    </tr>\n",
       "    <tr>\n",
       "      <th>235</th>\n",
       "      <td>0.01</td>\n",
       "      <td>igarch</td>\n",
       "      <td>numeric</td>\n",
       "      <td>25</td>\n",
       "      <td>0.034216</td>\n",
       "      <td>0.010339</td>\n",
       "      <td>0.013699</td>\n",
       "      <td>1.000000</td>\n",
       "      <td>0.999996</td>\n",
       "      <td>0.805834</td>\n",
       "      <td>0.124032</td>\n",
       "      <td>green</td>\n",
       "      <td>green</td>\n",
       "      <td>0.165010</td>\n",
       "      <td>0.867313</td>\n",
       "      <td>0.992732</td>\n",
       "      <td>0.647096</td>\n",
       "    </tr>\n",
       "    <tr>\n",
       "      <th>236</th>\n",
       "      <td>0.01</td>\n",
       "      <td>igarch</td>\n",
       "      <td>numeric</td>\n",
       "      <td>26</td>\n",
       "      <td>0.034365</td>\n",
       "      <td>0.011930</td>\n",
       "      <td>0.016438</td>\n",
       "      <td>1.000000</td>\n",
       "      <td>1.000000</td>\n",
       "      <td>0.219858</td>\n",
       "      <td>0.009226</td>\n",
       "      <td>green</td>\n",
       "      <td>green</td>\n",
       "      <td>0.752380</td>\n",
       "      <td>0.988578</td>\n",
       "      <td>0.982801</td>\n",
       "      <td>0.902308</td>\n",
       "    </tr>\n",
       "    <tr>\n",
       "      <th>237</th>\n",
       "      <td>0.01</td>\n",
       "      <td>igarch</td>\n",
       "      <td>numeric</td>\n",
       "      <td>27</td>\n",
       "      <td>0.034268</td>\n",
       "      <td>0.011665</td>\n",
       "      <td>0.015342</td>\n",
       "      <td>0.999993</td>\n",
       "      <td>0.999993</td>\n",
       "      <td>0.287351</td>\n",
       "      <td>0.032771</td>\n",
       "      <td>green</td>\n",
       "      <td>green</td>\n",
       "      <td>0.683292</td>\n",
       "      <td>0.966556</td>\n",
       "      <td>0.984948</td>\n",
       "      <td>0.550668</td>\n",
       "    </tr>\n",
       "    <tr>\n",
       "      <th>238</th>\n",
       "      <td>0.01</td>\n",
       "      <td>igarch</td>\n",
       "      <td>numeric</td>\n",
       "      <td>28</td>\n",
       "      <td>0.034255</td>\n",
       "      <td>0.010870</td>\n",
       "      <td>0.012603</td>\n",
       "      <td>0.999999</td>\n",
       "      <td>0.993784</td>\n",
       "      <td>0.566356</td>\n",
       "      <td>0.239965</td>\n",
       "      <td>green</td>\n",
       "      <td>green</td>\n",
       "      <td>0.403413</td>\n",
       "      <td>0.717211</td>\n",
       "      <td>0.990148</td>\n",
       "      <td>0.705906</td>\n",
       "    </tr>\n",
       "    <tr>\n",
       "      <th>239</th>\n",
       "      <td>0.01</td>\n",
       "      <td>igarch</td>\n",
       "      <td>numeric</td>\n",
       "      <td>29</td>\n",
       "      <td>0.034353</td>\n",
       "      <td>0.011930</td>\n",
       "      <td>0.013699</td>\n",
       "      <td>0.999984</td>\n",
       "      <td>0.991377</td>\n",
       "      <td>0.219858</td>\n",
       "      <td>0.124032</td>\n",
       "      <td>green</td>\n",
       "      <td>green</td>\n",
       "      <td>0.752380</td>\n",
       "      <td>0.867313</td>\n",
       "      <td>0.982801</td>\n",
       "      <td>0.647096</td>\n",
       "    </tr>\n",
       "  </tbody>\n",
       "</table>\n",
       "<p>240 rows × 17 columns</p>\n",
       "</div>"
      ],
      "text/plain": [
       "     quantile     model   method  trial      loss  hit_rate_in  hit_rate_out  \\\n",
       "0        0.05  adaptive  numeric      0  0.128174     0.048515      0.044932   \n",
       "1        0.05  adaptive  numeric      1  0.128174     0.048515      0.044932   \n",
       "2        0.05  adaptive  numeric      2  0.128174     0.048515      0.044932   \n",
       "3        0.05  adaptive  numeric      3  0.128174     0.048515      0.044932   \n",
       "4        0.05  adaptive  numeric      4  0.128174     0.048515      0.044932   \n",
       "..        ...       ...      ...    ...       ...          ...           ...   \n",
       "235      0.01    igarch  numeric     25  0.034216     0.010339      0.013699   \n",
       "236      0.01    igarch  numeric     26  0.034365     0.011930      0.016438   \n",
       "237      0.01    igarch  numeric     27  0.034268     0.011665      0.015342   \n",
       "238      0.01    igarch  numeric     28  0.034255     0.010870      0.012603   \n",
       "239      0.01    igarch  numeric     29  0.034353     0.011930      0.013699   \n",
       "\n",
       "        dq_in    dq_out  binom_in  binom_out traffic_in traffic_out  \\\n",
       "0    0.618006  0.998819  0.708729   0.360869      green       green   \n",
       "1    0.618009  0.998819  0.708729   0.360869      green       green   \n",
       "2    0.618005  0.998819  0.708729   0.360869      green       green   \n",
       "3    0.618007  0.998819  0.708729   0.360869      green       green   \n",
       "4    0.618007  0.998819  0.708729   0.360869      green       green   \n",
       "..        ...       ...       ...        ...        ...         ...   \n",
       "235  1.000000  0.999996  0.805834   0.124032      green       green   \n",
       "236  1.000000  1.000000  0.219858   0.009226      green       green   \n",
       "237  0.999993  0.999993  0.287351   0.032771      green       green   \n",
       "238  0.999999  0.993784  0.566356   0.239965      green       green   \n",
       "239  0.999984  0.991377  0.219858   0.124032      green       green   \n",
       "\n",
       "     kupiec_in  kupiec_out  independent_in  independent_out  \n",
       "0     0.325765    0.687559        0.507619         0.961090  \n",
       "1     0.325765    0.687559        0.507619         0.961090  \n",
       "2     0.325765    0.687559        0.507619         0.961090  \n",
       "3     0.325765    0.687559        0.507619         0.961090  \n",
       "4     0.325765    0.687559        0.507619         0.961090  \n",
       "..         ...         ...             ...              ...  \n",
       "235   0.165010    0.867313        0.992732         0.647096  \n",
       "236   0.752380    0.988578        0.982801         0.902308  \n",
       "237   0.683292    0.966556        0.984948         0.550668  \n",
       "238   0.403413    0.717211        0.990148         0.705906  \n",
       "239   0.752380    0.867313        0.982801         0.647096  \n",
       "\n",
       "[240 rows x 17 columns]"
      ]
     },
     "execution_count": 8,
     "metadata": {},
     "output_type": "execute_result"
    }
   ],
   "source": [
    "pd.DataFrame(stats_df)"
   ]
  },
  {
   "cell_type": "code",
   "execution_count": 9,
   "metadata": {},
   "outputs": [],
   "source": [
    "stats_df = pd.DataFrame(stats_df)\n",
    "beta_stats_df = pd.concat(beta_stats_df)\n",
    "beta_stats_df.index.name = 'beta'"
   ]
  },
  {
   "cell_type": "code",
   "execution_count": 10,
   "metadata": {},
   "outputs": [],
   "source": [
    "stats_df.to_csv('stat_RQ_best_start_no_bound.csv', index=None)\n",
    "beta_stats_df.to_csv('beta_RQ_best_start_no_bound.csv')"
   ]
  },
  {
   "cell_type": "code",
   "execution_count": null,
   "metadata": {},
   "outputs": [],
   "source": []
  }
 ],
 "metadata": {
  "kernelspec": {
   "display_name": "Python 3",
   "language": "python",
   "name": "python3"
  },
  "language_info": {
   "codemirror_mode": {
    "name": "ipython",
    "version": 3
   },
   "file_extension": ".py",
   "mimetype": "text/x-python",
   "name": "python",
   "nbconvert_exporter": "python",
   "pygments_lexer": "ipython3",
   "version": "3.8.5"
  }
 },
 "nbformat": 4,
 "nbformat_minor": 4
}
