{
 "cells": [
  {
   "cell_type": "markdown",
   "metadata": {},
   "source": [
    "Notice that:\n",
    "- best start: set m = 5000 and n = 5 in _quantreg.py\n",
    "- random start: set m = 1 and n = 1 instead"
   ]
  },
  {
   "cell_type": "code",
   "execution_count": null,
   "metadata": {},
   "outputs": [],
   "source": [
    "import sys\n",
    "sys.path.insert(0, '..')"
   ]
  },
  {
   "cell_type": "code",
   "execution_count": null,
   "metadata": {},
   "outputs": [],
   "source": [
    "import numpy as np\n",
    "import pandas as pd\n",
    "import yfinance as yf\n",
    "from caviar import CaviarModel\n",
    "from var_tests import binomial_test, kupiec_pof_test, christoffersen_test, traffic_light_test"
   ]
  },
  {
   "cell_type": "code",
   "execution_count": null,
   "metadata": {},
   "outputs": [],
   "source": [
    "while True:\n",
    "    data = yf.download('SPY', start='2001-01-01')\n",
    "    if data.shape[0] > 0:\n",
    "        break"
   ]
  },
  {
   "cell_type": "code",
   "execution_count": null,
   "metadata": {},
   "outputs": [],
   "source": [
    "log_returns = (data['Close'].apply(np.log).diff() * 100).dropna()\n",
    "in_samples = log_returns[:'2015']\n",
    "out_samples = log_returns['2016':]"
   ]
  },
  {
   "cell_type": "code",
   "execution_count": null,
   "metadata": {},
   "outputs": [],
   "source": [
    "hit_rate = lambda ret, var: np.mean(ret < var)"
   ]
  },
  {
   "cell_type": "code",
   "execution_count": null,
   "metadata": {},
   "outputs": [],
   "source": [
    "quantiles = [.05, .01]\n",
    "methods = ['numeric']\n",
    "models = ['adaptive', 'symmetric', 'asymmetric', 'igarch']"
   ]
  },
  {
   "cell_type": "code",
   "execution_count": null,
   "metadata": {},
   "outputs": [],
   "source": [
    "stats_df = []\n",
    "beta_stats_df = []\n",
    "\n",
    "for q in quantiles:\n",
    "    for model in models:\n",
    "        for method in methods:\n",
    "            print(f'Runing quantile: {q}, model: {model}, method: {method}')\n",
    "            for i in range(30):\n",
    "                caviar_model = CaviarModel(q, model, method)\n",
    "                caviar_model.fit(in_samples)\n",
    "                \n",
    "                # as the last observation is the VaR forecast\n",
    "                in_VaR = caviar_model.predict(in_samples, 'in')[:-1]\n",
    "                out_VaR = caviar_model.predict(out_samples, 'out')[:-1]\n",
    "                \n",
    "                # statistics\n",
    "                stat = {\n",
    "                    'quantile': q,\n",
    "                    'model': model,\n",
    "                    'method': method,\n",
    "                    'trial': i,\n",
    "                    'loss': caviar_model.training_loss,\n",
    "                    'hit_rate_in': hit_rate(in_samples, in_VaR),\n",
    "                    'hit_rate_out': hit_rate(out_samples, out_VaR),\n",
    "                    'dq_in': caviar_model.dq_test(in_samples, 'in'),\n",
    "                    'dq_out': caviar_model.dq_test(out_samples, 'out'),\n",
    "                    'binom_in': binomial_test(in_samples, in_VaR, q),\n",
    "                    'binom_out': binomial_test(out_samples, out_VaR, q),\n",
    "                    'traffic_in': traffic_light_test(in_samples, in_VaR, q)[0],\n",
    "                    'traffic_out': traffic_light_test(out_samples, out_VaR, q)[0],\n",
    "                    'kupiec_in': kupiec_pof_test(in_samples, in_VaR, q),\n",
    "                    'kupiec_out': kupiec_pof_test(out_samples, out_VaR, q),\n",
    "                    'independent_in': christoffersen_test(in_samples, in_VaR),\n",
    "                    'independent_out': christoffersen_test(out_samples, out_VaR)\n",
    "                }\n",
    "                \n",
    "                beta_stat = caviar_model.beta_summary()\n",
    "                beta_stat['quantile'] = q\n",
    "                beta_stat['model'] = model\n",
    "                beta_stat['method'] = method\n",
    "                beta_stat['trial'] = i\n",
    "                \n",
    "                stats_df.append(stat)\n",
    "                beta_stats_df.append(beta_stat)"
   ]
  },
  {
   "cell_type": "code",
   "execution_count": null,
   "metadata": {
    "scrolled": false
   },
   "outputs": [],
   "source": [
    "pd.DataFrame(stats_df)"
   ]
  },
  {
   "cell_type": "code",
   "execution_count": null,
   "metadata": {},
   "outputs": [],
   "source": [
    "stats_df = pd.DataFrame(stats_df)\n",
    "beta_stats_df = pd.concat(beta_stats_df)\n",
    "beta_stats_df.index.name = 'beta'"
   ]
  },
  {
   "cell_type": "code",
   "execution_count": null,
   "metadata": {},
   "outputs": [],
   "source": [
    "stats_df.to_csv('stat_RQ_best_start.csv', index=None)\n",
    "beta_stats_df.to_csv('beta_RQ_best_start.csv')"
   ]
  },
  {
   "cell_type": "code",
   "execution_count": null,
   "metadata": {},
   "outputs": [],
   "source": []
  }
 ],
 "metadata": {
  "kernelspec": {
   "display_name": "Python 3",
   "language": "python",
   "name": "python3"
  },
  "language_info": {
   "codemirror_mode": {
    "name": "ipython",
    "version": 3
   },
   "file_extension": ".py",
   "mimetype": "text/x-python",
   "name": "python",
   "nbconvert_exporter": "python",
   "pygments_lexer": "ipython3",
   "version": "3.8.5"
  }
 },
 "nbformat": 4,
 "nbformat_minor": 4
}
