{
 "cells": [
  {
   "cell_type": "code",
   "execution_count": null,
   "metadata": {},
   "outputs": [],
   "source": [
    "import numpy as np\n",
    "import pandas as pd\n",
    "import seaborn as sns\n",
    "import matplotlib.pyplot as plt\n",
    "from scipy.stats import mannwhitneyu"
   ]
  },
  {
   "cell_type": "markdown",
   "metadata": {},
   "source": [
    "# Analysis of stat"
   ]
  },
  {
   "cell_type": "code",
   "execution_count": null,
   "metadata": {
    "scrolled": false
   },
   "outputs": [],
   "source": [
    "stat_df = pd.read_csv('../result/experiment_rq_mle/stat_mle_RQ.csv')\n",
    "stat_df"
   ]
  },
  {
   "cell_type": "code",
   "execution_count": null,
   "metadata": {
    "scrolled": true
   },
   "outputs": [],
   "source": [
    "stat_to_csv_df = {\n",
    "    'model': [],\n",
    "    'quantile': [],\n",
    "    'loss': [],\n",
    "    'mle\\'s loss': [],\n",
    "    'RQ\\'s loss': [],\n",
    "    'hit_rate_in': [],\n",
    "    'mle\\'s hit_rate_in': [],\n",
    "    'RQ\\'s hit_rate_in': [],\n",
    "    'hit_rate_out': [],\n",
    "    'mle\\'s hit_rate_out': [],\n",
    "    'RQ\\'s hit_rate_out': [],\n",
    "}\n",
    "\n",
    "keys = [key for key in stat_to_csv_df][2:]\n",
    "\n",
    "for q in stat_df['quantile'].unique():\n",
    "    for mod in stat_df['model'].unique():\n",
    "        cond1 = stat_df['quantile']==q\n",
    "        cond2 = stat_df['model']==mod\n",
    "        \n",
    "        stat_to_csv_df['model'].append(mod)\n",
    "        stat_to_csv_df['quantile'].append(q)\n",
    "        \n",
    "        for i, metric in enumerate(stat_df.columns[4:7]):\n",
    "            try:\n",
    "                x = stat_df[(stat_df['method']=='mle')&cond1&cond2][metric]\n",
    "                y = stat_df[(stat_df['method']=='RQ')&cond1&cond2][metric]\n",
    "    #             x = stat_df[(stat_df['method']=='mle')&(stat_df['best_start']==False)&cond1&cond2][metric]\n",
    "    #             y = stat_df[(stat_df['method']=='RQ')&(stat_df['best_start']==False)&cond1&cond2][metric]\n",
    "                if metric=='loss':\n",
    "                    print('loss:', x.mean() < y.mean())\n",
    "                if metric=='hit_rate_in':\n",
    "                    print('hit_rate_in:', abs(0.05 - x.mean()) < abs(0.05 - y.mean()))\n",
    "                if metric=='hit_rate_out':\n",
    "                    print('hit_rate_out:', abs(0.05 - x.mean()) < abs(0.05 - y.mean()))\n",
    "                stat_to_csv_df[keys[i*3]].append('accepted' if mannwhitneyu(x, y)[1] > 0.05 else 'rejected')\n",
    "                stat_to_csv_df[keys[i*3+1]].append(np.round(x.mean(), 6))\n",
    "                stat_to_csv_df[keys[i*3+2]].append(np.round(y.mean(), 6))\n",
    "            except:\n",
    "                # they are exactly the same \n",
    "                stat_to_csv_df[keys[i*3]].append('accepted')\n",
    "                stat_to_csv_df[keys[i*3+1]].append(np.round(x.mean(), 6))\n",
    "                stat_to_csv_df[keys[i*3+2]].append(np.round(y.mean(), 6))"
   ]
  },
  {
   "cell_type": "code",
   "execution_count": null,
   "metadata": {
    "scrolled": true
   },
   "outputs": [],
   "source": [
    "# pd.DataFrame(stat_to_csv_df).T.to_csv('../result/stat_test/stat_mle_RQ_analysis_res.csv')\n",
    "pd.DataFrame(stat_to_csv_df).T"
   ]
  },
  {
   "cell_type": "markdown",
   "metadata": {},
   "source": [
    "# Analysis of beta"
   ]
  },
  {
   "cell_type": "code",
   "execution_count": null,
   "metadata": {},
   "outputs": [],
   "source": [
    "beta_df = pd.read_csv('../result/experiment_rq_mle/beta_mle_RQ.csv')\n",
    "beta_df"
   ]
  },
  {
   "cell_type": "code",
   "execution_count": null,
   "metadata": {
    "scrolled": true
   },
   "outputs": [],
   "source": [
    "for model in beta_df.model.unique():\n",
    "    for q in beta_df['quantile'].unique():\n",
    "        plt.figure()\n",
    "        sns.boxplot(\n",
    "            data=beta_df[(beta_df['model']==model)&(beta_df['quantile']==q)],\n",
    "            x='beta',\n",
    "            y='coefficient',\n",
    "            hue='method'\n",
    "        )\n",
    "        cond1 = beta_df['quantile']==q\n",
    "        cond2 = beta_df['model']==mod\n",
    "        plt.title(f'model: {model} and quantile: {q}')\n",
    "        for beta in beta_df[beta_df['model']==model].beta.unique():\n",
    "            cond3 = beta_df['beta']==beta\n",
    "            x = beta_df[(beta_df['method']=='mle')&cond1&cond2&cond3]['coefficient']\n",
    "            y = beta_df[(beta_df['method']=='RQ')&cond1&cond2&cond3]['coefficient']\n",
    "            print(beta, mannwhitneyu(x, y)[1])        \n",
    "        plt.show()"
   ]
  },
  {
   "cell_type": "code",
   "execution_count": null,
   "metadata": {},
   "outputs": [],
   "source": [
    "beta_df.groupby(\n",
    "    ['model','quantile','beta','method']\n",
    ").mean()"
   ]
  },
  {
   "cell_type": "code",
   "execution_count": null,
   "metadata": {},
   "outputs": [],
   "source": []
  }
 ],
 "metadata": {
  "kernelspec": {
   "display_name": "Python 3",
   "language": "python",
   "name": "python3"
  },
  "language_info": {
   "codemirror_mode": {
    "name": "ipython",
    "version": 3
   },
   "file_extension": ".py",
   "mimetype": "text/x-python",
   "name": "python",
   "nbconvert_exporter": "python",
   "pygments_lexer": "ipython3",
   "version": "3.8.5"
  }
 },
 "nbformat": 4,
 "nbformat_minor": 4
}
