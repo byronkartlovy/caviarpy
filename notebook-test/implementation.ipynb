{
 "cells": [
  {
   "cell_type": "code",
   "execution_count": null,
   "metadata": {},
   "outputs": [],
   "source": [
    "import sys\n",
    "sys.path.insert(0, '..')\n",
    "\n",
    "import numpy as np\n",
    "import pandas as pd\n",
    "import yfinance as yf\n",
    "from caviar import CaviarModel\n",
    "from var_tests import *\n",
    "import matplotlib.pyplot as plt"
   ]
  },
  {
   "cell_type": "code",
   "execution_count": null,
   "metadata": {},
   "outputs": [],
   "source": [
    "df = yf.download(\"AAPL JPM SPY XOM COKE\", start=\"2001-01-01\")"
   ]
  },
  {
   "cell_type": "code",
   "execution_count": null,
   "metadata": {},
   "outputs": [],
   "source": [
    "df_log_ret = df.Close.apply(np.log).diff().dropna() * 100\n",
    "df_log_ret"
   ]
  },
  {
   "cell_type": "markdown",
   "metadata": {},
   "source": [
    "## Emperical Analysis - Implementation (SPY)"
   ]
  },
  {
   "cell_type": "code",
   "execution_count": null,
   "metadata": {},
   "outputs": [],
   "source": [
    "quantiles = [0.01, 0.05]\n",
    "models = ['adaptive', 'asymmetric', 'symmetric', 'igarch']\n",
    "tickers = ['SPY'] # df_log_ret.columns"
   ]
  },
  {
   "cell_type": "code",
   "execution_count": null,
   "metadata": {},
   "outputs": [],
   "source": [
    "out_samples.shape"
   ]
  },
  {
   "cell_type": "code",
   "execution_count": null,
   "metadata": {},
   "outputs": [],
   "source": [
    "stats_df = []\n",
    "beta_stats_df = []\n",
    "\n",
    "save_csv_path = '../result/implementation'\n",
    "save_plot_path = '../result/implementation/plots'\n",
    "\n",
    "for ticker in tickers:\n",
    "    in_samples = df_log_ret.loc[:'2015', ticker]\n",
    "    out_samples = df_log_ret.loc['2016':, ticker]\n",
    "    \n",
    "    for q in quantiles:\n",
    "        for model in models:\n",
    "            caviar_model = CaviarModel(quantile=q, model=model, method='RQ')\n",
    "            caviar_model.fit(in_samples)\n",
    "            \n",
    "            # save plots\n",
    "            fig1 = caviar_model.plot_caviar(in_samples, 'in')\n",
    "            plt.savefig(f'{save_plot_path}/{model}_{int(q*100)}%_plt_caviar_in.jpg')\n",
    "            fig2 = caviar_model.plot_caviar(out_samples, 'out')\n",
    "            plt.savefig(f'{save_plot_path}/{model}_{int(q*100)}%_plt_caviar_out.jpg')\n",
    "            fig3 = caviar_model.plot_news_impact_curve()\n",
    "            plt.savefig(f'{save_plot_path}/{model}_{int(q*100)}%_plt_news_impact_curve.jpg')\n",
    "                        \n",
    "            # as the last prediction is the VaR forecast\n",
    "            in_VaR = caviar_model.predict(in_samples, caviar_model.VaR0_in)[:-1]\n",
    "            out_VaR = caviar_model.predict(out_samples, caviar_model.VaR0_out)[:-1]\n",
    "\n",
    "            # statistics\n",
    "            stat = {\n",
    "                'quantile': q,\n",
    "                'model': model,\n",
    "                'method': 'RQ',\n",
    "                # 'trial': i,\n",
    "                \n",
    "                # insamples\n",
    "                'loss': caviar_model.training_loss,\n",
    "                'hit_rate_in': hit_rate(in_samples, in_VaR),\n",
    "                'binom_in': binomial_test(in_samples, in_VaR, q),\n",
    "                'traffic_in': traffic_light_test(in_samples, in_VaR, q)[0],\n",
    "                'kupiec_in': kupiec_pof_test(in_samples, in_VaR, q),\n",
    "                'independent_in': christoffersen_test(in_samples, in_VaR),\n",
    "                'dq_in': caviar_model.dq_test(in_samples, 'in'),\n",
    "                # outsamples\n",
    "                'hit_rate_out': hit_rate(out_samples, out_VaR),\n",
    "                'binom_out': binomial_test(out_samples, out_VaR, q),\n",
    "                'traffic_out': traffic_light_test(out_samples, out_VaR, q)[0],\n",
    "                'kupiec_out': kupiec_pof_test(out_samples, out_VaR, q),\n",
    "                'independent_out': christoffersen_test(out_samples, out_VaR),\n",
    "                'dq_out': caviar_model.dq_test(out_samples, 'out'),                \n",
    "            }\n",
    "\n",
    "            beta_stat = caviar_model.beta_summary()\n",
    "            beta_stat['quantile'] = q\n",
    "            beta_stat['model'] = model\n",
    "            beta_stat['method'] = 'RQ'\n",
    "            # beta_stat['trial'] = i\n",
    "\n",
    "            stats_df.append(stat)\n",
    "            beta_stats_df.append(beta_stat)\n",
    "\n",
    "            \n",
    "# save data\n",
    "stats_df = pd.DataFrame(stats_df)\n",
    "beta_stats_df = pd.concat(beta_stats_df)\n",
    "beta_stats_df.index.name = 'beta'\n",
    "\n",
    "stats_df.T.to_csv(f'{save_csv_path}/experiment_stat_data_RQ_ppt.csv', header=None)\n",
    "beta_stats_df.T.to_csv(f'{save_csv_path}/experiment_beta_stat_data_ppt.csv')"
   ]
  },
  {
   "cell_type": "code",
   "execution_count": null,
   "metadata": {},
   "outputs": [],
   "source": []
  }
 ],
 "metadata": {
  "kernelspec": {
   "display_name": "Python 3",
   "language": "python",
   "name": "python3"
  },
  "language_info": {
   "codemirror_mode": {
    "name": "ipython",
    "version": 3
   },
   "file_extension": ".py",
   "mimetype": "text/x-python",
   "name": "python",
   "nbconvert_exporter": "python",
   "pygments_lexer": "ipython3",
   "version": "3.8.5"
  }
 },
 "nbformat": 4,
 "nbformat_minor": 5
}
