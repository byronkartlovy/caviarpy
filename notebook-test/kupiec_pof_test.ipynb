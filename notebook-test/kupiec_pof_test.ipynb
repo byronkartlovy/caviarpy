{
 "cells": [
  {
   "cell_type": "markdown",
   "id": "74ff7168",
   "metadata": {},
   "source": [
    "https://ww2.mathworks.cn/help/risk/varbacktest.pof.html"
   ]
  },
  {
   "cell_type": "code",
   "execution_count": 1,
   "id": "5afd6017",
   "metadata": {},
   "outputs": [],
   "source": [
    "import numpy as np\n",
    "from scipy.stats import chi2"
   ]
  },
  {
   "cell_type": "code",
   "execution_count": 51,
   "id": "b1d027b5",
   "metadata": {},
   "outputs": [
    {
     "name": "stdout",
     "output_type": "stream",
     "text": [
      "0.4614663953288556 0.49693944768043563\n",
      "3.511812860706904 0.060932747074577354\n",
      "0.9102302821687545 0.34005332546974004\n",
      "0.22767749990633845 0.6332513002452114\n",
      "0.9102302821687545 0.34005332546974004\n",
      "9.829801504727605 0.0017170687783280788\n"
     ]
    }
   ],
   "source": [
    "# test case\n",
    "failures = [57, 17, 59, 12, 59, 22]\n",
    "var_conf_level = [.95, .99, .95, .99, .95, .99]\n",
    "for n1, conf in zip(failures, var_conf_level):\n",
    "    critical_value = 1 - conf\n",
    "    n = 1043\n",
    "    n0 = 1043-n1\n",
    "    pi_obs = n1/1043\n",
    "\n",
    "    LR = -2 * (\n",
    "        n1 * np.log(critical_value)\n",
    "        + n0 * np.log(1 - critical_value)\n",
    "        - n1 * np.log(pi_obs)\n",
    "        - n0 * np.log(1 - pi_obs)\n",
    "    )\n",
    "\n",
    "    print(LR, chi2.sf(LR, 1))"
   ]
  }
 ],
 "metadata": {
  "kernelspec": {
   "display_name": "Python 3 (ipykernel)",
   "language": "python",
   "name": "python3"
  },
  "language_info": {
   "codemirror_mode": {
    "name": "ipython",
    "version": 3
   },
   "file_extension": ".py",
   "mimetype": "text/x-python",
   "name": "python",
   "nbconvert_exporter": "python",
   "pygments_lexer": "ipython3",
   "version": "3.9.12"
  }
 },
 "nbformat": 4,
 "nbformat_minor": 5
}
