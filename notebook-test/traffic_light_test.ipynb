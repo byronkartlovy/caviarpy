{
 "cells": [
  {
   "cell_type": "markdown",
   "metadata": {},
   "source": [
    "https://ww2.mathworks.cn/help/risk/varbacktest.tl.html#bvaco4s-4"
   ]
  },
  {
   "cell_type": "code",
   "execution_count": 1,
   "metadata": {},
   "outputs": [],
   "source": [
    "import numpy as np\n",
    "import pandas as pd\n",
    "from scipy.stats import binom, norm"
   ]
  },
  {
   "cell_type": "code",
   "execution_count": 8,
   "metadata": {},
   "outputs": [],
   "source": [
    "num_obs = 250\n",
    "var_level = 0.01\n",
    "\n",
    "baseline = 3\n",
    "z_ass = norm.ppf(var_level)"
   ]
  },
  {
   "cell_type": "code",
   "execution_count": 9,
   "metadata": {},
   "outputs": [],
   "source": [
    "df = []\n",
    "\n",
    "for i in range(num_obs):\n",
    "    z_obs = norm.ppf(i/num_obs)\n",
    "    \n",
    "    p = binom.cdf(i, num_obs, var_level)\n",
    "    tl = 'green' if p <= 0.95 else 'yellow' if p <= 0.9999 else 'red'\n",
    "    \n",
    "    scale_factor = baseline * (z_ass/z_obs - 1) if tl == 'yellow' else 0 if tl == 'green' else 1\n",
    "    \n",
    "    df.append({\n",
    "        'Zone': tl,\n",
    "        'Number of violations': i,\n",
    "        'Cummulative probability': np.round(p, 4),\n",
    "        'Increase in scaling factor': np.round(scale_factor, 4)\n",
    "    })\n",
    "    if tl == 'red':\n",
    "        break"
   ]
  },
  {
   "cell_type": "code",
   "execution_count": 10,
   "metadata": {},
   "outputs": [
    {
     "data": {
      "text/html": [
       "<div>\n",
       "<style scoped>\n",
       "    .dataframe tbody tr th:only-of-type {\n",
       "        vertical-align: middle;\n",
       "    }\n",
       "\n",
       "    .dataframe tbody tr th {\n",
       "        vertical-align: top;\n",
       "    }\n",
       "\n",
       "    .dataframe thead th {\n",
       "        text-align: right;\n",
       "    }\n",
       "</style>\n",
       "<table border=\"1\" class=\"dataframe\">\n",
       "  <thead>\n",
       "    <tr style=\"text-align: right;\">\n",
       "      <th></th>\n",
       "      <th></th>\n",
       "      <th></th>\n",
       "      <th></th>\n",
       "    </tr>\n",
       "    <tr>\n",
       "      <th>Zone</th>\n",
       "      <th>Number of violations</th>\n",
       "      <th>Cummulative probability</th>\n",
       "      <th>Increase in scaling factor</th>\n",
       "    </tr>\n",
       "  </thead>\n",
       "  <tbody>\n",
       "    <tr>\n",
       "      <th rowspan=\"5\" valign=\"top\">green</th>\n",
       "      <th>0</th>\n",
       "      <th>0.0811</th>\n",
       "      <th>0.0000</th>\n",
       "    </tr>\n",
       "    <tr>\n",
       "      <th>1</th>\n",
       "      <th>0.2858</th>\n",
       "      <th>0.0000</th>\n",
       "    </tr>\n",
       "    <tr>\n",
       "      <th>2</th>\n",
       "      <th>0.5432</th>\n",
       "      <th>0.0000</th>\n",
       "    </tr>\n",
       "    <tr>\n",
       "      <th>3</th>\n",
       "      <th>0.7581</th>\n",
       "      <th>0.0000</th>\n",
       "    </tr>\n",
       "    <tr>\n",
       "      <th>4</th>\n",
       "      <th>0.8922</th>\n",
       "      <th>0.0000</th>\n",
       "    </tr>\n",
       "    <tr>\n",
       "      <th rowspan=\"5\" valign=\"top\">yellow</th>\n",
       "      <th>5</th>\n",
       "      <th>0.9588</th>\n",
       "      <th>0.3982</th>\n",
       "    </tr>\n",
       "    <tr>\n",
       "      <th>6</th>\n",
       "      <th>0.9863</th>\n",
       "      <th>0.5295</th>\n",
       "    </tr>\n",
       "    <tr>\n",
       "      <th>7</th>\n",
       "      <th>0.9960</th>\n",
       "      <th>0.6520</th>\n",
       "    </tr>\n",
       "    <tr>\n",
       "      <th>8</th>\n",
       "      <th>0.9989</th>\n",
       "      <th>0.7680</th>\n",
       "    </tr>\n",
       "    <tr>\n",
       "      <th>9</th>\n",
       "      <th>0.9997</th>\n",
       "      <th>0.8791</th>\n",
       "    </tr>\n",
       "    <tr>\n",
       "      <th>red</th>\n",
       "      <th>10</th>\n",
       "      <th>0.9999</th>\n",
       "      <th>1.0000</th>\n",
       "    </tr>\n",
       "  </tbody>\n",
       "</table>\n",
       "</div>"
      ],
      "text/plain": [
       "Empty DataFrame\n",
       "Columns: []\n",
       "Index: [(green, 0, 0.0811, 0.0), (green, 1, 0.2858, 0.0), (green, 2, 0.5432, 0.0), (green, 3, 0.7581, 0.0), (green, 4, 0.8922, 0.0), (yellow, 5, 0.9588, 0.3982), (yellow, 6, 0.9863, 0.5295), (yellow, 7, 0.996, 0.652), (yellow, 8, 0.9989, 0.768), (yellow, 9, 0.9997, 0.8791), (red, 10, 0.9999, 1.0)]"
      ]
     },
     "execution_count": 10,
     "metadata": {},
     "output_type": "execute_result"
    }
   ],
   "source": [
    "# for rendering\n",
    "df1 = pd.DataFrame(df).reset_index().groupby([\n",
    "    'Zone', 'Number of violations', 'Cummulative probability', 'Increase in scaling factor'\n",
    "]).mean().drop('red', axis=0)\n",
    "\n",
    "df2 = pd.DataFrame(df).reset_index().groupby([\n",
    "    'Zone', 'Number of violations', 'Cummulative probability', 'Increase in scaling factor'\n",
    "]).mean().drop(['green', 'yellow'], axis=0)\n",
    "\n",
    "pd.concat([df1, df2]).drop('index', axis=1)"
   ]
  },
  {
   "cell_type": "code",
   "execution_count": null,
   "metadata": {},
   "outputs": [],
   "source": []
  }
 ],
 "metadata": {
  "kernelspec": {
   "display_name": "Python 3",
   "language": "python",
   "name": "python3"
  },
  "language_info": {
   "codemirror_mode": {
    "name": "ipython",
    "version": 3
   },
   "file_extension": ".py",
   "mimetype": "text/x-python",
   "name": "python",
   "nbconvert_exporter": "python",
   "pygments_lexer": "ipython3",
   "version": "3.8.5"
  }
 },
 "nbformat": 4,
 "nbformat_minor": 4
}
