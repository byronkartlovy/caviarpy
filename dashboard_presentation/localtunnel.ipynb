{
 "cells": [
  {
   "cell_type": "code",
   "execution_count": null,
   "metadata": {},
   "outputs": [],
   "source": [
    "# First Author: Angus Au-Yeung\n",
    "# Second Author: Lee Yat Shun, Jasper\n",
    "# Copyright (c) 2023 Angus Au-Yeung, Lee Yat Shun, Jasper. All rights reserved."
   ]
  },
  {
   "cell_type": "code",
   "execution_count": null,
   "metadata": {
    "colab": {
     "base_uri": "https://localhost:8080/"
    },
    "collapsed": true,
    "id": "6T_hsoLYpMLp",
    "outputId": "ccd69d0a-266f-4533-932e-b2151c2a183e"
   },
   "outputs": [
    {
     "name": "stdout",
     "output_type": "stream",
     "text": [
      "Archive:  /content/CAViaR-Project-main.zip\n",
      "2ae438f8e0640c8aead2e4ca7699e270ee9feae6\n",
      "   creating: /content/CAViaR-Project-main/CAViaR-Project-main/\n",
      "  inflating: /content/CAViaR-Project-main/CAViaR-Project-main/.gitignore  \n",
      "  inflating: /content/CAViaR-Project-main/CAViaR-Project-main/README.md  \n",
      "   creating: /content/CAViaR-Project-main/CAViaR-Project-main/backtesting/\n",
      "  inflating: /content/CAViaR-Project-main/CAViaR-Project-main/backtesting/__init__.py  \n",
      "  inflating: /content/CAViaR-Project-main/CAViaR-Project-main/backtesting/_backtest.py  \n",
      "   creating: /content/CAViaR-Project-main/CAViaR-Project-main/caviar/\n",
      "  inflating: /content/CAViaR-Project-main/CAViaR-Project-main/caviar/__init__.py  \n",
      "  inflating: /content/CAViaR-Project-main/CAViaR-Project-main/caviar/_arch_model.py  \n",
      "  inflating: /content/CAViaR-Project-main/CAViaR-Project-main/caviar/_bayesian.py  \n",
      "  inflating: /content/CAViaR-Project-main/CAViaR-Project-main/caviar/_caviar_function.py  \n",
      "  inflating: /content/CAViaR-Project-main/CAViaR-Project-main/caviar/_caviar_model.py  \n",
      "  inflating: /content/CAViaR-Project-main/CAViaR-Project-main/caviar/_dq_test.py  \n",
      "  inflating: /content/CAViaR-Project-main/CAViaR-Project-main/caviar/_exceptions.py  \n",
      "  inflating: /content/CAViaR-Project-main/CAViaR-Project-main/caviar/_frequentist.py  \n",
      "  inflating: /content/CAViaR-Project-main/CAViaR-Project-main/caviar/_numeric.py  \n",
      "  inflating: /content/CAViaR-Project-main/CAViaR-Project-main/caviar/_test.py  \n",
      "  inflating: /content/CAViaR-Project-main/CAViaR-Project-main/caviar/_utils.py  \n",
      "   creating: /content/CAViaR-Project-main/CAViaR-Project-main/dashboard/\n",
      "  inflating: /content/CAViaR-Project-main/CAViaR-Project-main/dashboard/Garch_VaR_model_angus.ipynb  \n",
      "  inflating: /content/CAViaR-Project-main/CAViaR-Project-main/dashboard/localtunnel.ipynb  \n",
      "  inflating: /content/CAViaR-Project-main/CAViaR-Project-main/dashboard/steamlit_sample.py  \n",
      "   creating: /content/CAViaR-Project-main/CAViaR-Project-main/doc/\n",
      "  inflating: /content/CAViaR-Project-main/CAViaR-Project-main/doc/README.md  \n",
      " extracting: /content/CAViaR-Project-main/CAViaR-Project-main/doc/backtesting.md  \n",
      "  inflating: /content/CAViaR-Project-main/CAViaR-Project-main/doc/caviar.md  \n",
      "  inflating: /content/CAViaR-Project-main/CAViaR-Project-main/doc/vartest.md  \n",
      "   creating: /content/CAViaR-Project-main/CAViaR-Project-main/papers/\n",
      "  inflating: /content/CAViaR-Project-main/CAViaR-Project-main/papers/Bayesian Time-Varying Quantile Forecasting for Value-at-Risk in Financial Markets.pdf  \n",
      "  inflating: /content/CAViaR-Project-main/CAViaR-Project-main/papers/CAViaR.pdf  \n",
      "  inflating: /content/CAViaR-Project-main/CAViaR-Project-main/papers/Forecasting Value-at-Risk using nonlinear regression quantiles and the intra-day range.pdf  \n",
      "  inflating: /content/CAViaR-Project-main/CAViaR-Project-main/papers/Journal of Forecasting - 2013 - Gerlach - Exponentially Smoothing the Skewed Laplace Distribution for Value‐at‐Risk.pdf  \n",
      "  inflating: /content/CAViaR-Project-main/CAViaR-Project-main/papers/review of backtest for var.pdf  \n",
      " extracting: /content/CAViaR-Project-main/CAViaR-Project-main/personal_access_token.txt  \n",
      "   creating: /content/CAViaR-Project-main/CAViaR-Project-main/test/\n",
      "  inflating: /content/CAViaR-Project-main/CAViaR-Project-main/test/example-baseline.ipynb  \n",
      "  inflating: /content/CAViaR-Project-main/CAViaR-Project-main/test/example-mle.ipynb  \n",
      "  inflating: /content/CAViaR-Project-main/CAViaR-Project-main/test/example-numeric.ipynb  \n",
      "  inflating: /content/CAViaR-Project-main/CAViaR-Project-main/test/gradient_descent.ipynb  \n",
      "  inflating: /content/CAViaR-Project-main/CAViaR-Project-main/test/implementation.ipynb  \n",
      "  inflating: /content/CAViaR-Project-main/CAViaR-Project-main/test/log.csv  \n",
      "  inflating: /content/CAViaR-Project-main/CAViaR-Project-main/test/random_seed_analysis_RQ_MLE.ipynb  \n",
      "  inflating: /content/CAViaR-Project-main/CAViaR-Project-main/test/random_seed_analysis_RQ_best_start.ipynb  \n",
      "  inflating: /content/CAViaR-Project-main/CAViaR-Project-main/test/random_seed_experiment.ipynb  \n",
      "  inflating: /content/CAViaR-Project-main/CAViaR-Project-main/test/random_seed_statistical_test.ipynb  \n",
      "  inflating: /content/CAViaR-Project-main/CAViaR-Project-main/test/res_mle_numeric.csv  \n",
      "  inflating: /content/CAViaR-Project-main/CAViaR-Project-main/test/traffic_light_test.ipynb  \n",
      "   creating: /content/CAViaR-Project-main/CAViaR-Project-main/var_tests/\n",
      "  inflating: /content/CAViaR-Project-main/CAViaR-Project-main/var_tests/__init__.py  \n",
      "  inflating: /content/CAViaR-Project-main/CAViaR-Project-main/var_tests/_test.py  \n"
     ]
    }
   ],
   "source": [
    "!unzip \"/content/CAViaR-Project-main.zip\" -d \"/content/CAViaR-Project-main/\" "
   ]
  },
  {
   "cell_type": "code",
   "execution_count": 35,
   "metadata": {
    "colab": {
     "base_uri": "https://localhost:8080/"
    },
    "collapsed": true,
    "id": "L91sM4IBdEag",
    "outputId": "32ab1719-0cfe-45d9-cfb7-f20ee92ea20b"
   },
   "outputs": [
    {
     "name": "stdout",
     "output_type": "stream",
     "text": [
      "Looking in indexes: https://pypi.org/simple, https://us-python.pkg.dev/colab-wheels/public/simple/\n",
      "Requirement already satisfied: streamlit in /usr/local/lib/python3.9/dist-packages (1.20.0)\n",
      "Requirement already satisfied: importlib-metadata>=1.4 in /usr/local/lib/python3.9/dist-packages (from streamlit) (6.1.0)\n",
      "Requirement already satisfied: altair<5,>=3.2.0 in /usr/local/lib/python3.9/dist-packages (from streamlit) (4.2.2)\n",
      "Requirement already satisfied: python-dateutil in /usr/local/lib/python3.9/dist-packages (from streamlit) (2.8.2)\n",
      "Requirement already satisfied: protobuf<4,>=3.12 in /usr/local/lib/python3.9/dist-packages (from streamlit) (3.20.3)\n",
      "Requirement already satisfied: semver in /usr/local/lib/python3.9/dist-packages (from streamlit) (3.0.0)\n",
      "Requirement already satisfied: numpy in /usr/local/lib/python3.9/dist-packages (from streamlit) (1.22.4)\n",
      "Requirement already satisfied: click>=7.0 in /usr/local/lib/python3.9/dist-packages (from streamlit) (8.1.3)\n",
      "Requirement already satisfied: pillow>=6.2.0 in /usr/local/lib/python3.9/dist-packages (from streamlit) (8.4.0)\n",
      "Requirement already satisfied: tzlocal>=1.1 in /usr/local/lib/python3.9/dist-packages (from streamlit) (4.3)\n",
      "Requirement already satisfied: watchdog in /usr/local/lib/python3.9/dist-packages (from streamlit) (3.0.0)\n",
      "Requirement already satisfied: toml in /usr/local/lib/python3.9/dist-packages (from streamlit) (0.10.2)\n",
      "Requirement already satisfied: requests>=2.4 in /usr/local/lib/python3.9/dist-packages (from streamlit) (2.27.1)\n",
      "Requirement already satisfied: blinker>=1.0.0 in /usr/local/lib/python3.9/dist-packages (from streamlit) (1.6)\n",
      "Requirement already satisfied: cachetools>=4.0 in /usr/local/lib/python3.9/dist-packages (from streamlit) (5.3.0)\n",
      "Requirement already satisfied: pandas<2,>=0.25 in /usr/local/lib/python3.9/dist-packages (from streamlit) (1.4.4)\n",
      "Requirement already satisfied: typing-extensions>=3.10.0.0 in /usr/local/lib/python3.9/dist-packages (from streamlit) (4.5.0)\n",
      "Requirement already satisfied: pydeck>=0.1.dev5 in /usr/local/lib/python3.9/dist-packages (from streamlit) (0.8.0)\n",
      "Requirement already satisfied: pyarrow>=4.0 in /usr/local/lib/python3.9/dist-packages (from streamlit) (9.0.0)\n",
      "Requirement already satisfied: validators>=0.2 in /usr/local/lib/python3.9/dist-packages (from streamlit) (0.20.0)\n",
      "Requirement already satisfied: tornado>=6.0.3 in /usr/local/lib/python3.9/dist-packages (from streamlit) (6.2)\n",
      "Requirement already satisfied: rich>=10.11.0 in /usr/local/lib/python3.9/dist-packages (from streamlit) (13.3.3)\n",
      "Requirement already satisfied: gitpython!=3.1.19 in /usr/local/lib/python3.9/dist-packages (from streamlit) (3.1.31)\n",
      "Requirement already satisfied: packaging>=14.1 in /usr/local/lib/python3.9/dist-packages (from streamlit) (23.0)\n",
      "Requirement already satisfied: pympler>=0.9 in /usr/local/lib/python3.9/dist-packages (from streamlit) (1.0.1)\n",
      "Requirement already satisfied: toolz in /usr/local/lib/python3.9/dist-packages (from altair<5,>=3.2.0->streamlit) (0.12.0)\n",
      "Requirement already satisfied: entrypoints in /usr/local/lib/python3.9/dist-packages (from altair<5,>=3.2.0->streamlit) (0.4)\n",
      "Requirement already satisfied: jsonschema>=3.0 in /usr/local/lib/python3.9/dist-packages (from altair<5,>=3.2.0->streamlit) (4.3.3)\n",
      "Requirement already satisfied: jinja2 in /usr/local/lib/python3.9/dist-packages (from altair<5,>=3.2.0->streamlit) (3.1.2)\n",
      "Requirement already satisfied: gitdb<5,>=4.0.1 in /usr/local/lib/python3.9/dist-packages (from gitpython!=3.1.19->streamlit) (4.0.10)\n",
      "Requirement already satisfied: zipp>=0.5 in /usr/local/lib/python3.9/dist-packages (from importlib-metadata>=1.4->streamlit) (3.15.0)\n",
      "Requirement already satisfied: pytz>=2020.1 in /usr/local/lib/python3.9/dist-packages (from pandas<2,>=0.25->streamlit) (2022.7.1)\n",
      "Requirement already satisfied: six>=1.5 in /usr/local/lib/python3.9/dist-packages (from python-dateutil->streamlit) (1.16.0)\n",
      "Requirement already satisfied: urllib3<1.27,>=1.21.1 in /usr/local/lib/python3.9/dist-packages (from requests>=2.4->streamlit) (1.26.15)\n",
      "Requirement already satisfied: idna<4,>=2.5 in /usr/local/lib/python3.9/dist-packages (from requests>=2.4->streamlit) (3.4)\n",
      "Requirement already satisfied: certifi>=2017.4.17 in /usr/local/lib/python3.9/dist-packages (from requests>=2.4->streamlit) (2022.12.7)\n",
      "Requirement already satisfied: charset-normalizer~=2.0.0 in /usr/local/lib/python3.9/dist-packages (from requests>=2.4->streamlit) (2.0.12)\n",
      "Requirement already satisfied: markdown-it-py<3.0.0,>=2.2.0 in /usr/local/lib/python3.9/dist-packages (from rich>=10.11.0->streamlit) (2.2.0)\n",
      "Requirement already satisfied: pygments<3.0.0,>=2.13.0 in /usr/local/lib/python3.9/dist-packages (from rich>=10.11.0->streamlit) (2.14.0)\n",
      "Requirement already satisfied: pytz-deprecation-shim in /usr/local/lib/python3.9/dist-packages (from tzlocal>=1.1->streamlit) (0.1.0.post0)\n",
      "Requirement already satisfied: decorator>=3.4.0 in /usr/local/lib/python3.9/dist-packages (from validators>=0.2->streamlit) (4.4.2)\n",
      "Requirement already satisfied: smmap<6,>=3.0.1 in /usr/local/lib/python3.9/dist-packages (from gitdb<5,>=4.0.1->gitpython!=3.1.19->streamlit) (5.0.0)\n",
      "Requirement already satisfied: MarkupSafe>=2.0 in /usr/local/lib/python3.9/dist-packages (from jinja2->altair<5,>=3.2.0->streamlit) (2.1.2)\n",
      "Requirement already satisfied: attrs>=17.4.0 in /usr/local/lib/python3.9/dist-packages (from jsonschema>=3.0->altair<5,>=3.2.0->streamlit) (22.2.0)\n",
      "Requirement already satisfied: pyrsistent!=0.17.0,!=0.17.1,!=0.17.2,>=0.14.0 in /usr/local/lib/python3.9/dist-packages (from jsonschema>=3.0->altair<5,>=3.2.0->streamlit) (0.19.3)\n",
      "Requirement already satisfied: mdurl~=0.1 in /usr/local/lib/python3.9/dist-packages (from markdown-it-py<3.0.0,>=2.2.0->rich>=10.11.0->streamlit) (0.1.2)\n",
      "Requirement already satisfied: tzdata in /usr/local/lib/python3.9/dist-packages (from pytz-deprecation-shim->tzlocal>=1.1->streamlit) (2023.3)\n"
     ]
    }
   ],
   "source": [
    "!pip install streamlit"
   ]
  },
  {
   "cell_type": "code",
   "execution_count": null,
   "metadata": {
    "colab": {
     "base_uri": "https://localhost:8080/"
    },
    "collapsed": true,
    "id": "vzHBqD_8vUyP",
    "outputId": "4be34d8d-29b2-4b42-d6a0-093416a89704"
   },
   "outputs": [
    {
     "name": "stdout",
     "output_type": "stream",
     "text": [
      "Looking in indexes: https://pypi.org/simple, https://us-python.pkg.dev/colab-wheels/public/simple/\n",
      "Requirement already satisfied: yfinance in /usr/local/lib/python3.9/dist-packages (0.2.14)\n",
      "Requirement already satisfied: pytz>=2022.5 in /usr/local/lib/python3.9/dist-packages (from yfinance) (2022.7.1)\n",
      "Requirement already satisfied: numpy>=1.16.5 in /usr/local/lib/python3.9/dist-packages (from yfinance) (1.22.4)\n",
      "Requirement already satisfied: pandas>=1.3.0 in /usr/local/lib/python3.9/dist-packages (from yfinance) (1.4.4)\n",
      "Requirement already satisfied: appdirs>=1.4.4 in /usr/local/lib/python3.9/dist-packages (from yfinance) (1.4.4)\n",
      "Requirement already satisfied: cryptography>=3.3.2 in /usr/local/lib/python3.9/dist-packages (from yfinance) (40.0.1)\n",
      "Requirement already satisfied: lxml>=4.9.1 in /usr/local/lib/python3.9/dist-packages (from yfinance) (4.9.2)\n",
      "Requirement already satisfied: html5lib>=1.1 in /usr/local/lib/python3.9/dist-packages (from yfinance) (1.1)\n",
      "Requirement already satisfied: multitasking>=0.0.7 in /usr/local/lib/python3.9/dist-packages (from yfinance) (0.0.11)\n",
      "Requirement already satisfied: frozendict>=2.3.4 in /usr/local/lib/python3.9/dist-packages (from yfinance) (2.3.6)\n",
      "Requirement already satisfied: requests>=2.26 in /usr/local/lib/python3.9/dist-packages (from yfinance) (2.27.1)\n",
      "Requirement already satisfied: beautifulsoup4>=4.11.1 in /usr/local/lib/python3.9/dist-packages (from yfinance) (4.11.2)\n",
      "Requirement already satisfied: soupsieve>1.2 in /usr/local/lib/python3.9/dist-packages (from beautifulsoup4>=4.11.1->yfinance) (2.4)\n",
      "Requirement already satisfied: cffi>=1.12 in /usr/local/lib/python3.9/dist-packages (from cryptography>=3.3.2->yfinance) (1.15.1)\n",
      "Requirement already satisfied: webencodings in /usr/local/lib/python3.9/dist-packages (from html5lib>=1.1->yfinance) (0.5.1)\n",
      "Requirement already satisfied: six>=1.9 in /usr/local/lib/python3.9/dist-packages (from html5lib>=1.1->yfinance) (1.16.0)\n",
      "Requirement already satisfied: python-dateutil>=2.8.1 in /usr/local/lib/python3.9/dist-packages (from pandas>=1.3.0->yfinance) (2.8.2)\n",
      "Requirement already satisfied: charset-normalizer~=2.0.0 in /usr/local/lib/python3.9/dist-packages (from requests>=2.26->yfinance) (2.0.12)\n",
      "Requirement already satisfied: idna<4,>=2.5 in /usr/local/lib/python3.9/dist-packages (from requests>=2.26->yfinance) (3.4)\n",
      "Requirement already satisfied: certifi>=2017.4.17 in /usr/local/lib/python3.9/dist-packages (from requests>=2.26->yfinance) (2022.12.7)\n",
      "Requirement already satisfied: urllib3<1.27,>=1.21.1 in /usr/local/lib/python3.9/dist-packages (from requests>=2.26->yfinance) (1.26.15)\n",
      "Requirement already satisfied: pycparser in /usr/local/lib/python3.9/dist-packages (from cffi>=1.12->cryptography>=3.3.2->yfinance) (2.21)\n"
     ]
    }
   ],
   "source": [
    "!pip install yfinance"
   ]
  },
  {
   "cell_type": "code",
   "execution_count": null,
   "metadata": {
    "colab": {
     "base_uri": "https://localhost:8080/"
    },
    "collapsed": true,
    "id": "VtqXLkOxvYNM",
    "outputId": "b10706d0-c21a-46bf-ac78-b931d632931c"
   },
   "outputs": [
    {
     "name": "stdout",
     "output_type": "stream",
     "text": [
      "Looking in indexes: https://pypi.org/simple, https://us-python.pkg.dev/colab-wheels/public/simple/\n",
      "Collecting stocknews\n",
      "  Downloading stocknews-0.9.11.tar.gz (5.4 kB)\n",
      "  Preparing metadata (setup.py) ... \u001b[?25l\u001b[?25hdone\n",
      "Requirement already satisfied: pandas in /usr/local/lib/python3.9/dist-packages (from stocknews) (1.4.4)\n",
      "Collecting feedparser\n",
      "  Downloading feedparser-6.0.10-py3-none-any.whl (81 kB)\n",
      "\u001b[2K     \u001b[90m━━━━━━━━━━━━━━━━━━━━━━━━━━━━━━━━━━━━━━━━\u001b[0m \u001b[32m81.1/81.1 KB\u001b[0m \u001b[31m3.2 MB/s\u001b[0m eta \u001b[36m0:00:00\u001b[0m\n",
      "\u001b[?25hRequirement already satisfied: nltk in /usr/local/lib/python3.9/dist-packages (from stocknews) (3.8.1)\n",
      "Requirement already satisfied: requests in /usr/local/lib/python3.9/dist-packages (from stocknews) (2.27.1)\n",
      "Requirement already satisfied: numpy in /usr/local/lib/python3.9/dist-packages (from stocknews) (1.22.4)\n",
      "Collecting sgmllib3k\n",
      "  Downloading sgmllib3k-1.0.0.tar.gz (5.8 kB)\n",
      "  Preparing metadata (setup.py) ... \u001b[?25l\u001b[?25hdone\n",
      "Requirement already satisfied: regex>=2021.8.3 in /usr/local/lib/python3.9/dist-packages (from nltk->stocknews) (2022.10.31)\n",
      "Requirement already satisfied: click in /usr/local/lib/python3.9/dist-packages (from nltk->stocknews) (8.1.3)\n",
      "Requirement already satisfied: joblib in /usr/local/lib/python3.9/dist-packages (from nltk->stocknews) (1.1.1)\n",
      "Requirement already satisfied: tqdm in /usr/local/lib/python3.9/dist-packages (from nltk->stocknews) (4.65.0)\n",
      "Requirement already satisfied: python-dateutil>=2.8.1 in /usr/local/lib/python3.9/dist-packages (from pandas->stocknews) (2.8.2)\n",
      "Requirement already satisfied: pytz>=2020.1 in /usr/local/lib/python3.9/dist-packages (from pandas->stocknews) (2022.7.1)\n",
      "Requirement already satisfied: charset-normalizer~=2.0.0 in /usr/local/lib/python3.9/dist-packages (from requests->stocknews) (2.0.12)\n",
      "Requirement already satisfied: urllib3<1.27,>=1.21.1 in /usr/local/lib/python3.9/dist-packages (from requests->stocknews) (1.26.15)\n",
      "Requirement already satisfied: certifi>=2017.4.17 in /usr/local/lib/python3.9/dist-packages (from requests->stocknews) (2022.12.7)\n",
      "Requirement already satisfied: idna<4,>=2.5 in /usr/local/lib/python3.9/dist-packages (from requests->stocknews) (3.4)\n",
      "Requirement already satisfied: six>=1.5 in /usr/local/lib/python3.9/dist-packages (from python-dateutil>=2.8.1->pandas->stocknews) (1.16.0)\n",
      "Building wheels for collected packages: stocknews, sgmllib3k\n",
      "  Building wheel for stocknews (setup.py) ... \u001b[?25l\u001b[?25hdone\n",
      "  Created wheel for stocknews: filename=stocknews-0.9.11-py3-none-any.whl size=5411 sha256=a468aff8fab929efc1c7ff1fe542cb488d4840c0104863584c6c328c172ad576\n",
      "  Stored in directory: /root/.cache/pip/wheels/14/a7/ba/5f7ed589561416ae6d6a162eeab529eb7186b6d6a830d6fc25\n",
      "  Building wheel for sgmllib3k (setup.py) ... \u001b[?25l\u001b[?25hdone\n",
      "  Created wheel for sgmllib3k: filename=sgmllib3k-1.0.0-py3-none-any.whl size=6065 sha256=91ef7cee4fd4ae22cc2800c237bfba709a1b27e55e24d15c88d3bb54598ba5ab\n",
      "  Stored in directory: /root/.cache/pip/wheels/65/7a/a7/78c287f64e401255dff4c13fdbc672fed5efbfd21c530114e1\n",
      "Successfully built stocknews sgmllib3k\n",
      "Installing collected packages: sgmllib3k, feedparser, stocknews\n",
      "Successfully installed feedparser-6.0.10 sgmllib3k-1.0.0 stocknews-0.9.11\n"
     ]
    }
   ],
   "source": [
    "!pip install stocknews"
   ]
  },
  {
   "cell_type": "code",
   "execution_count": null,
   "metadata": {
    "colab": {
     "base_uri": "https://localhost:8080/"
    },
    "collapsed": true,
    "id": "lBr-UEEHuUI_",
    "outputId": "4184c274-7a98-44bf-84f7-ad28eba1b88f"
   },
   "outputs": [
    {
     "name": "stdout",
     "output_type": "stream",
     "text": [
      "Looking in indexes: https://pypi.org/simple, https://us-python.pkg.dev/colab-wheels/public/simple/\n",
      "Collecting plotly-express\n",
      "  Downloading plotly_express-0.4.1-py2.py3-none-any.whl (2.9 kB)\n",
      "Requirement already satisfied: scipy>=0.18 in /usr/local/lib/python3.9/dist-packages (from plotly-express) (1.10.1)\n",
      "Requirement already satisfied: plotly>=4.1.0 in /usr/local/lib/python3.9/dist-packages (from plotly-express) (5.13.1)\n",
      "Requirement already satisfied: pandas>=0.20.0 in /usr/local/lib/python3.9/dist-packages (from plotly-express) (1.4.4)\n",
      "Requirement already satisfied: numpy>=1.11 in /usr/local/lib/python3.9/dist-packages (from plotly-express) (1.22.4)\n",
      "Requirement already satisfied: statsmodels>=0.9.0 in /usr/local/lib/python3.9/dist-packages (from plotly-express) (0.13.5)\n",
      "Requirement already satisfied: patsy>=0.5 in /usr/local/lib/python3.9/dist-packages (from plotly-express) (0.5.3)\n",
      "Requirement already satisfied: pytz>=2020.1 in /usr/local/lib/python3.9/dist-packages (from pandas>=0.20.0->plotly-express) (2022.7.1)\n",
      "Requirement already satisfied: python-dateutil>=2.8.1 in /usr/local/lib/python3.9/dist-packages (from pandas>=0.20.0->plotly-express) (2.8.2)\n",
      "Requirement already satisfied: six in /usr/local/lib/python3.9/dist-packages (from patsy>=0.5->plotly-express) (1.16.0)\n",
      "Requirement already satisfied: tenacity>=6.2.0 in /usr/local/lib/python3.9/dist-packages (from plotly>=4.1.0->plotly-express) (8.2.2)\n",
      "Requirement already satisfied: packaging>=21.3 in /usr/local/lib/python3.9/dist-packages (from statsmodels>=0.9.0->plotly-express) (23.0)\n",
      "Installing collected packages: plotly-express\n",
      "Successfully installed plotly-express-0.4.1\n"
     ]
    }
   ],
   "source": [
    "!pip install plotly-express"
   ]
  },
  {
   "cell_type": "code",
   "execution_count": null,
   "metadata": {
    "colab": {
     "base_uri": "https://localhost:8080/"
    },
    "collapsed": true,
    "id": "QiXRwrO8vf2c",
    "outputId": "31eeaa15-3199-4296-b56e-813b5b0608de"
   },
   "outputs": [
    {
     "name": "stdout",
     "output_type": "stream",
     "text": [
      "Looking in indexes: https://pypi.org/simple, https://us-python.pkg.dev/colab-wheels/public/simple/\n",
      "Collecting alpha-vantage\n",
      "  Downloading alpha_vantage-2.3.1-py3-none-any.whl (31 kB)\n",
      "Requirement already satisfied: requests in /usr/local/lib/python3.9/dist-packages (from alpha-vantage) (2.27.1)\n",
      "Collecting aiohttp\n",
      "  Downloading aiohttp-3.8.4-cp39-cp39-manylinux_2_17_x86_64.manylinux2014_x86_64.whl (1.0 MB)\n",
      "\u001b[2K     \u001b[90m━━━━━━━━━━━━━━━━━━━━━━━━━━━━━━━━━━━━━━━━\u001b[0m \u001b[32m1.0/1.0 MB\u001b[0m \u001b[31m17.2 MB/s\u001b[0m eta \u001b[36m0:00:00\u001b[0m\n",
      "\u001b[?25hRequirement already satisfied: charset-normalizer<4.0,>=2.0 in /usr/local/lib/python3.9/dist-packages (from aiohttp->alpha-vantage) (2.0.12)\n",
      "Requirement already satisfied: attrs>=17.3.0 in /usr/local/lib/python3.9/dist-packages (from aiohttp->alpha-vantage) (22.2.0)\n",
      "Collecting yarl<2.0,>=1.0\n",
      "  Downloading yarl-1.8.2-cp39-cp39-manylinux_2_17_x86_64.manylinux2014_x86_64.whl (264 kB)\n",
      "\u001b[2K     \u001b[90m━━━━━━━━━━━━━━━━━━━━━━━━━━━━━━━━━━━━━━\u001b[0m \u001b[32m264.6/264.6 KB\u001b[0m \u001b[31m18.0 MB/s\u001b[0m eta \u001b[36m0:00:00\u001b[0m\n",
      "\u001b[?25hCollecting multidict<7.0,>=4.5\n",
      "  Downloading multidict-6.0.4-cp39-cp39-manylinux_2_17_x86_64.manylinux2014_x86_64.whl (114 kB)\n",
      "\u001b[2K     \u001b[90m━━━━━━━━━━━━━━━━━━━━━━━━━━━━━━━━━━━━━━\u001b[0m \u001b[32m114.2/114.2 KB\u001b[0m \u001b[31m12.6 MB/s\u001b[0m eta \u001b[36m0:00:00\u001b[0m\n",
      "\u001b[?25hCollecting aiosignal>=1.1.2\n",
      "  Downloading aiosignal-1.3.1-py3-none-any.whl (7.6 kB)\n",
      "Collecting async-timeout<5.0,>=4.0.0a3\n",
      "  Downloading async_timeout-4.0.2-py3-none-any.whl (5.8 kB)\n",
      "Collecting frozenlist>=1.1.1\n",
      "  Downloading frozenlist-1.3.3-cp39-cp39-manylinux_2_5_x86_64.manylinux1_x86_64.manylinux_2_17_x86_64.manylinux2014_x86_64.whl (158 kB)\n",
      "\u001b[2K     \u001b[90m━━━━━━━━━━━━━━━━━━━━━━━━━━━━━━━━━━━━━━\u001b[0m \u001b[32m158.8/158.8 KB\u001b[0m \u001b[31m11.9 MB/s\u001b[0m eta \u001b[36m0:00:00\u001b[0m\n",
      "\u001b[?25hRequirement already satisfied: urllib3<1.27,>=1.21.1 in /usr/local/lib/python3.9/dist-packages (from requests->alpha-vantage) (1.26.15)\n",
      "Requirement already satisfied: certifi>=2017.4.17 in /usr/local/lib/python3.9/dist-packages (from requests->alpha-vantage) (2022.12.7)\n",
      "Requirement already satisfied: idna<4,>=2.5 in /usr/local/lib/python3.9/dist-packages (from requests->alpha-vantage) (3.4)\n",
      "Installing collected packages: multidict, frozenlist, async-timeout, yarl, aiosignal, aiohttp, alpha-vantage\n",
      "Successfully installed aiohttp-3.8.4 aiosignal-1.3.1 alpha-vantage-2.3.1 async-timeout-4.0.2 frozenlist-1.3.3 multidict-6.0.4 yarl-1.8.2\n"
     ]
    }
   ],
   "source": [
    "!pip install alpha-vantage"
   ]
  },
  {
   "cell_type": "code",
   "execution_count": null,
   "metadata": {
    "colab": {
     "base_uri": "https://localhost:8080/"
    },
    "collapsed": true,
    "id": "M-Uw8R2y7AdC",
    "outputId": "a23326c9-daa4-48e6-cb69-e0de1759d35f"
   },
   "outputs": [
    {
     "name": "stdout",
     "output_type": "stream",
     "text": [
      "Looking in indexes: https://pypi.org/simple, https://us-python.pkg.dev/colab-wheels/public/simple/\n",
      "Collecting arch\n",
      "  Downloading arch-5.3.1-cp39-cp39-manylinux_2_17_x86_64.manylinux2014_x86_64.whl (907 kB)\n",
      "\u001b[2K     \u001b[90m━━━━━━━━━━━━━━━━━━━━━━━━━━━━━━━━━━━━━━\u001b[0m \u001b[32m908.0/908.0 KB\u001b[0m \u001b[31m13.6 MB/s\u001b[0m eta \u001b[36m0:00:00\u001b[0m\n",
      "\u001b[?25hRequirement already satisfied: statsmodels>=0.11 in /usr/local/lib/python3.9/dist-packages (from arch) (0.13.5)\n",
      "Requirement already satisfied: pandas>=1.0 in /usr/local/lib/python3.9/dist-packages (from arch) (1.4.4)\n",
      "Requirement already satisfied: numpy>=1.17 in /usr/local/lib/python3.9/dist-packages (from arch) (1.22.4)\n",
      "Requirement already satisfied: scipy>=1.3 in /usr/local/lib/python3.9/dist-packages (from arch) (1.10.1)\n",
      "Collecting property-cached>=1.6.4\n",
      "  Downloading property_cached-1.6.4-py2.py3-none-any.whl (7.8 kB)\n",
      "Requirement already satisfied: pytz>=2020.1 in /usr/local/lib/python3.9/dist-packages (from pandas>=1.0->arch) (2022.7.1)\n",
      "Requirement already satisfied: python-dateutil>=2.8.1 in /usr/local/lib/python3.9/dist-packages (from pandas>=1.0->arch) (2.8.2)\n",
      "Requirement already satisfied: packaging>=21.3 in /usr/local/lib/python3.9/dist-packages (from statsmodels>=0.11->arch) (23.0)\n",
      "Requirement already satisfied: patsy>=0.5.2 in /usr/local/lib/python3.9/dist-packages (from statsmodels>=0.11->arch) (0.5.3)\n",
      "Requirement already satisfied: six in /usr/local/lib/python3.9/dist-packages (from patsy>=0.5.2->statsmodels>=0.11->arch) (1.16.0)\n",
      "Installing collected packages: property-cached, arch\n",
      "Successfully installed arch-5.3.1 property-cached-1.6.4\n"
     ]
    }
   ],
   "source": [
    "!pip install arch"
   ]
  },
  {
   "cell_type": "code",
   "execution_count": null,
   "metadata": {
    "colab": {
     "base_uri": "https://localhost:8080/"
    },
    "collapsed": true,
    "id": "hGdNH5sl7HLM",
    "outputId": "28bc4c4e-1068-4305-a73a-1713e9326f8a"
   },
   "outputs": [
    {
     "name": "stdout",
     "output_type": "stream",
     "text": [
      "Looking in indexes: https://pypi.org/simple, https://us-python.pkg.dev/colab-wheels/public/simple/\n",
      "Collecting vartests\n",
      "  Downloading vartests-0.2.1-py3-none-any.whl (6.8 kB)\n",
      "Requirement already satisfied: tqdm<5.0.0,>=4.62.3 in /usr/local/lib/python3.9/dist-packages (from vartests) (4.65.0)\n",
      "Requirement already satisfied: statsmodels<0.14.0,>=0.13.2 in /usr/local/lib/python3.9/dist-packages (from vartests) (0.13.5)\n",
      "Collecting pygosolnp<2022.0.0,>=2021.5.1\n",
      "  Downloading pygosolnp-2021.5.1-py3-none-any.whl (34 kB)\n",
      "Requirement already satisfied: pandas<2.0.0,>=1.3.4 in /usr/local/lib/python3.9/dist-packages (from vartests) (1.4.4)\n",
      "Requirement already satisfied: arch<6.0.0,>=5.0.1 in /usr/local/lib/python3.9/dist-packages (from vartests) (5.3.1)\n",
      "Requirement already satisfied: property-cached>=1.6.4 in /usr/local/lib/python3.9/dist-packages (from arch<6.0.0,>=5.0.1->vartests) (1.6.4)\n",
      "Requirement already satisfied: numpy>=1.17 in /usr/local/lib/python3.9/dist-packages (from arch<6.0.0,>=5.0.1->vartests) (1.22.4)\n",
      "Requirement already satisfied: scipy>=1.3 in /usr/local/lib/python3.9/dist-packages (from arch<6.0.0,>=5.0.1->vartests) (1.10.1)\n",
      "Requirement already satisfied: pytz>=2020.1 in /usr/local/lib/python3.9/dist-packages (from pandas<2.0.0,>=1.3.4->vartests) (2022.7.1)\n",
      "Requirement already satisfied: python-dateutil>=2.8.1 in /usr/local/lib/python3.9/dist-packages (from pandas<2.0.0,>=1.3.4->vartests) (2.8.2)\n",
      "Collecting pysolnp\n",
      "  Downloading pysolnp-2022.3.13-cp39-cp39-manylinux_2_17_x86_64.manylinux2014_x86_64.whl (916 kB)\n",
      "\u001b[2K     \u001b[90m━━━━━━━━━━━━━━━━━━━━━━━━━━━━━━━━━━━━━━\u001b[0m \u001b[32m916.2/916.2 KB\u001b[0m \u001b[31m16.0 MB/s\u001b[0m eta \u001b[36m0:00:00\u001b[0m\n",
      "\u001b[?25hRequirement already satisfied: packaging>=21.3 in /usr/local/lib/python3.9/dist-packages (from statsmodels<0.14.0,>=0.13.2->vartests) (23.0)\n",
      "Requirement already satisfied: patsy>=0.5.2 in /usr/local/lib/python3.9/dist-packages (from statsmodels<0.14.0,>=0.13.2->vartests) (0.5.3)\n",
      "Requirement already satisfied: six in /usr/local/lib/python3.9/dist-packages (from patsy>=0.5.2->statsmodels<0.14.0,>=0.13.2->vartests) (1.16.0)\n",
      "Installing collected packages: pysolnp, pygosolnp, vartests\n",
      "Successfully installed pygosolnp-2021.5.1 pysolnp-2022.3.13 vartests-0.2.1\n"
     ]
    }
   ],
   "source": [
    "!pip install vartests"
   ]
  },
  {
   "cell_type": "code",
   "execution_count": null,
   "metadata": {
    "colab": {
     "base_uri": "https://localhost:8080/"
    },
    "collapsed": true,
    "id": "3s5oZXpYf1oV",
    "outputId": "48d69923-45a2-4488-96b5-4ecc21c71746"
   },
   "outputs": [
    {
     "name": "stdout",
     "output_type": "stream",
     "text": [
      "Looking in indexes: https://pypi.org/simple, https://us-python.pkg.dev/colab-wheels/public/simple/\n",
      "Collecting deta\n",
      "  Downloading deta-1.1.0-py3-none-any.whl (8.7 kB)\n",
      "Installing collected packages: deta\n",
      "Successfully installed deta-1.1.0\n"
     ]
    }
   ],
   "source": [
    "!pip install deta"
   ]
  },
  {
   "cell_type": "code",
   "execution_count": null,
   "metadata": {
    "colab": {
     "base_uri": "https://localhost:8080/"
    },
    "collapsed": true,
    "id": "0avtYbFTYgd8",
    "outputId": "3d706e35-1c1e-4759-fd95-55300ded1d06"
   },
   "outputs": [
    {
     "name": "stdout",
     "output_type": "stream",
     "text": [
      "Looking in indexes: https://pypi.org/simple, https://us-python.pkg.dev/colab-wheels/public/simple/\n",
      "Collecting streamlit-option-menu\n",
      "  Downloading streamlit_option_menu-0.3.2-py3-none-any.whl (712 kB)\n",
      "\u001b[2K     \u001b[90m━━━━━━━━━━━━━━━━━━━━━━━━━━━━━━━━━━━━━━\u001b[0m \u001b[32m712.3/712.3 KB\u001b[0m \u001b[31m11.5 MB/s\u001b[0m eta \u001b[36m0:00:00\u001b[0m\n",
      "\u001b[?25hRequirement already satisfied: streamlit>=0.63 in /usr/local/lib/python3.9/dist-packages (from streamlit-option-menu) (1.20.0)\n",
      "Requirement already satisfied: numpy in /usr/local/lib/python3.9/dist-packages (from streamlit>=0.63->streamlit-option-menu) (1.22.4)\n",
      "Requirement already satisfied: cachetools>=4.0 in /usr/local/lib/python3.9/dist-packages (from streamlit>=0.63->streamlit-option-menu) (5.3.0)\n",
      "Requirement already satisfied: pympler>=0.9 in /usr/local/lib/python3.9/dist-packages (from streamlit>=0.63->streamlit-option-menu) (1.0.1)\n",
      "Requirement already satisfied: pandas<2,>=0.25 in /usr/local/lib/python3.9/dist-packages (from streamlit>=0.63->streamlit-option-menu) (1.4.4)\n",
      "Requirement already satisfied: validators>=0.2 in /usr/local/lib/python3.9/dist-packages (from streamlit>=0.63->streamlit-option-menu) (0.20.0)\n",
      "Requirement already satisfied: tzlocal>=1.1 in /usr/local/lib/python3.9/dist-packages (from streamlit>=0.63->streamlit-option-menu) (4.3)\n",
      "Requirement already satisfied: toml in /usr/local/lib/python3.9/dist-packages (from streamlit>=0.63->streamlit-option-menu) (0.10.2)\n",
      "Requirement already satisfied: pillow>=6.2.0 in /usr/local/lib/python3.9/dist-packages (from streamlit>=0.63->streamlit-option-menu) (8.4.0)\n",
      "Requirement already satisfied: semver in /usr/local/lib/python3.9/dist-packages (from streamlit>=0.63->streamlit-option-menu) (3.0.0)\n",
      "Requirement already satisfied: pyarrow>=4.0 in /usr/local/lib/python3.9/dist-packages (from streamlit>=0.63->streamlit-option-menu) (9.0.0)\n",
      "Requirement already satisfied: packaging>=14.1 in /usr/local/lib/python3.9/dist-packages (from streamlit>=0.63->streamlit-option-menu) (23.0)\n",
      "Requirement already satisfied: typing-extensions>=3.10.0.0 in /usr/local/lib/python3.9/dist-packages (from streamlit>=0.63->streamlit-option-menu) (4.5.0)\n",
      "Requirement already satisfied: tornado>=6.0.3 in /usr/local/lib/python3.9/dist-packages (from streamlit>=0.63->streamlit-option-menu) (6.2)\n",
      "Requirement already satisfied: blinker>=1.0.0 in /usr/local/lib/python3.9/dist-packages (from streamlit>=0.63->streamlit-option-menu) (1.6)\n",
      "Requirement already satisfied: importlib-metadata>=1.4 in /usr/local/lib/python3.9/dist-packages (from streamlit>=0.63->streamlit-option-menu) (6.1.0)\n",
      "Requirement already satisfied: rich>=10.11.0 in /usr/local/lib/python3.9/dist-packages (from streamlit>=0.63->streamlit-option-menu) (13.3.3)\n",
      "Requirement already satisfied: gitpython!=3.1.19 in /usr/local/lib/python3.9/dist-packages (from streamlit>=0.63->streamlit-option-menu) (3.1.31)\n",
      "Requirement already satisfied: altair<5,>=3.2.0 in /usr/local/lib/python3.9/dist-packages (from streamlit>=0.63->streamlit-option-menu) (4.2.2)\n",
      "Requirement already satisfied: requests>=2.4 in /usr/local/lib/python3.9/dist-packages (from streamlit>=0.63->streamlit-option-menu) (2.27.1)\n",
      "Requirement already satisfied: pydeck>=0.1.dev5 in /usr/local/lib/python3.9/dist-packages (from streamlit>=0.63->streamlit-option-menu) (0.8.0)\n",
      "Requirement already satisfied: python-dateutil in /usr/local/lib/python3.9/dist-packages (from streamlit>=0.63->streamlit-option-menu) (2.8.2)\n",
      "Requirement already satisfied: protobuf<4,>=3.12 in /usr/local/lib/python3.9/dist-packages (from streamlit>=0.63->streamlit-option-menu) (3.20.3)\n",
      "Requirement already satisfied: click>=7.0 in /usr/local/lib/python3.9/dist-packages (from streamlit>=0.63->streamlit-option-menu) (8.1.3)\n",
      "Requirement already satisfied: watchdog in /usr/local/lib/python3.9/dist-packages (from streamlit>=0.63->streamlit-option-menu) (3.0.0)\n",
      "Requirement already satisfied: jsonschema>=3.0 in /usr/local/lib/python3.9/dist-packages (from altair<5,>=3.2.0->streamlit>=0.63->streamlit-option-menu) (4.3.3)\n",
      "Requirement already satisfied: entrypoints in /usr/local/lib/python3.9/dist-packages (from altair<5,>=3.2.0->streamlit>=0.63->streamlit-option-menu) (0.4)\n",
      "Requirement already satisfied: jinja2 in /usr/local/lib/python3.9/dist-packages (from altair<5,>=3.2.0->streamlit>=0.63->streamlit-option-menu) (3.1.2)\n",
      "Requirement already satisfied: toolz in /usr/local/lib/python3.9/dist-packages (from altair<5,>=3.2.0->streamlit>=0.63->streamlit-option-menu) (0.12.0)\n",
      "Requirement already satisfied: gitdb<5,>=4.0.1 in /usr/local/lib/python3.9/dist-packages (from gitpython!=3.1.19->streamlit>=0.63->streamlit-option-menu) (4.0.10)\n",
      "Requirement already satisfied: zipp>=0.5 in /usr/local/lib/python3.9/dist-packages (from importlib-metadata>=1.4->streamlit>=0.63->streamlit-option-menu) (3.15.0)\n",
      "Requirement already satisfied: pytz>=2020.1 in /usr/local/lib/python3.9/dist-packages (from pandas<2,>=0.25->streamlit>=0.63->streamlit-option-menu) (2022.7.1)\n",
      "Requirement already satisfied: six>=1.5 in /usr/local/lib/python3.9/dist-packages (from python-dateutil->streamlit>=0.63->streamlit-option-menu) (1.16.0)\n",
      "Requirement already satisfied: charset-normalizer~=2.0.0 in /usr/local/lib/python3.9/dist-packages (from requests>=2.4->streamlit>=0.63->streamlit-option-menu) (2.0.12)\n",
      "Requirement already satisfied: idna<4,>=2.5 in /usr/local/lib/python3.9/dist-packages (from requests>=2.4->streamlit>=0.63->streamlit-option-menu) (3.4)\n",
      "Requirement already satisfied: certifi>=2017.4.17 in /usr/local/lib/python3.9/dist-packages (from requests>=2.4->streamlit>=0.63->streamlit-option-menu) (2022.12.7)\n",
      "Requirement already satisfied: urllib3<1.27,>=1.21.1 in /usr/local/lib/python3.9/dist-packages (from requests>=2.4->streamlit>=0.63->streamlit-option-menu) (1.26.15)\n",
      "Requirement already satisfied: pygments<3.0.0,>=2.13.0 in /usr/local/lib/python3.9/dist-packages (from rich>=10.11.0->streamlit>=0.63->streamlit-option-menu) (2.14.0)\n",
      "Requirement already satisfied: markdown-it-py<3.0.0,>=2.2.0 in /usr/local/lib/python3.9/dist-packages (from rich>=10.11.0->streamlit>=0.63->streamlit-option-menu) (2.2.0)\n",
      "Requirement already satisfied: pytz-deprecation-shim in /usr/local/lib/python3.9/dist-packages (from tzlocal>=1.1->streamlit>=0.63->streamlit-option-menu) (0.1.0.post0)\n",
      "Requirement already satisfied: decorator>=3.4.0 in /usr/local/lib/python3.9/dist-packages (from validators>=0.2->streamlit>=0.63->streamlit-option-menu) (4.4.2)\n",
      "Requirement already satisfied: smmap<6,>=3.0.1 in /usr/local/lib/python3.9/dist-packages (from gitdb<5,>=4.0.1->gitpython!=3.1.19->streamlit>=0.63->streamlit-option-menu) (5.0.0)\n",
      "Requirement already satisfied: MarkupSafe>=2.0 in /usr/local/lib/python3.9/dist-packages (from jinja2->altair<5,>=3.2.0->streamlit>=0.63->streamlit-option-menu) (2.1.2)\n",
      "Requirement already satisfied: attrs>=17.4.0 in /usr/local/lib/python3.9/dist-packages (from jsonschema>=3.0->altair<5,>=3.2.0->streamlit>=0.63->streamlit-option-menu) (22.2.0)\n",
      "Requirement already satisfied: pyrsistent!=0.17.0,!=0.17.1,!=0.17.2,>=0.14.0 in /usr/local/lib/python3.9/dist-packages (from jsonschema>=3.0->altair<5,>=3.2.0->streamlit>=0.63->streamlit-option-menu) (0.19.3)\n",
      "Requirement already satisfied: mdurl~=0.1 in /usr/local/lib/python3.9/dist-packages (from markdown-it-py<3.0.0,>=2.2.0->rich>=10.11.0->streamlit>=0.63->streamlit-option-menu) (0.1.2)\n",
      "Requirement already satisfied: tzdata in /usr/local/lib/python3.9/dist-packages (from pytz-deprecation-shim->tzlocal>=1.1->streamlit>=0.63->streamlit-option-menu) (2023.3)\n",
      "Installing collected packages: streamlit-option-menu\n",
      "Successfully installed streamlit-option-menu-0.3.2\n"
     ]
    }
   ],
   "source": [
    "!pip install streamlit-option-menu"
   ]
  },
  {
   "cell_type": "code",
   "execution_count": 36,
   "metadata": {
    "id": "Cd2x3vrzvy2s"
   },
   "outputs": [],
   "source": [
    "import pandas as pd\n",
    "import numpy as np\n",
    "import streamlit as st  # pip install streamlit\n",
    "import yfinance as yf   # pip install yfinance\n",
    "from stocknews import StockNews # pip install stocknews\n",
    "import plotly.express as px #!pip install pip install plotly-express\n",
    "from alpha_vantage.fundamentaldata import FundamentalData #pip install alpha-vantage"
   ]
  },
  {
   "cell_type": "code",
   "execution_count": 37,
   "metadata": {
    "id": "5ybb9MZldSLX"
   },
   "outputs": [],
   "source": [
    "import streamlit as st\n",
    "import plotly.graph_objects as go\n",
    "import calendar\n",
    "from datetime import datetime\n",
    "from streamlit_option_menu import option_menu"
   ]
  },
  {
   "cell_type": "code",
   "execution_count": 38,
   "metadata": {
    "id": "wr7MmFK9f8Kv"
   },
   "outputs": [],
   "source": [
    "from datetime import datetime, timedelta \n",
    "import matplotlib.pyplot as plt\n",
    "from scipy.stats import norm\n",
    "from arch import arch_model\n",
    "from statsmodels.graphics.tsaplots import plot_acf, plot_pacf\n",
    "import vartests"
   ]
  },
  {
   "cell_type": "code",
   "execution_count": 39,
   "metadata": {
    "id": "aZCizJHWSrjg"
   },
   "outputs": [],
   "source": [
    "from var_tests import binomial_test, kupiec_pof_test, christoffersen_test, traffic_light_test\n",
    "from caviar import CaviarModel"
   ]
  },
  {
   "cell_type": "code",
   "execution_count": 44,
   "metadata": {
    "colab": {
     "base_uri": "https://localhost:8080/"
    },
    "id": "xHvDJWo8LHzA",
    "outputId": "38121251-bdbe-4ee4-cf6d-777d9f85e696"
   },
   "outputs": [
    {
     "name": "stdout",
     "output_type": "stream",
     "text": [
      "[..................] - fetchMetadata: sill resolveWithNewModule localtunnel@2.0\u001b[0m\u001b[K\n",
      "Collecting usage statistics. To deactivate, set browser.gatherUsageStats to False.\n",
      "\u001b[0m\n",
      "\u001b[0m\n",
      "\u001b[34m\u001b[1m  You can now view your Streamlit app in your browser.\u001b[0m\n",
      "\u001b[0m\n",
      "\u001b[34m  Network URL: \u001b[0m\u001b[1mhttp://172.28.0.12:8501\u001b[0m\n",
      "\u001b[34m  External URL: \u001b[0m\u001b[1mhttp://34.74.251.1:8501\u001b[0m\n",
      "\u001b[0m\n",
      "\u001b[K\u001b[?25hnpx: installed 22 in 3.757s\n",
      "your url is: https://witty-geese-sell-34-74-251-1.loca.lt\n",
      "0.2.1\n",
      "[*********************100%***********************]  0 of 0 completed\n",
      "2023-04-03 11:13:52.457 Uncaught app exception\n",
      "Traceback (most recent call last):\n",
      "  File \"/usr/local/lib/python3.9/dist-packages/yfinance/multi.py\", line 166, in download\n",
      "    data = _pd.concat(shared._DFS.values(), axis=1, sort=True,\n",
      "  File \"/usr/local/lib/python3.9/dist-packages/pandas/util/_decorators.py\", line 311, in wrapper\n",
      "    return func(*args, **kwargs)\n",
      "  File \"/usr/local/lib/python3.9/dist-packages/pandas/core/reshape/concat.py\", line 347, in concat\n",
      "    op = _Concatenator(\n",
      "  File \"/usr/local/lib/python3.9/dist-packages/pandas/core/reshape/concat.py\", line 404, in __init__\n",
      "    raise ValueError(\"No objects to concatenate\")\n",
      "ValueError: No objects to concatenate\n",
      "\n",
      "During handling of the above exception, another exception occurred:\n",
      "\n",
      "Traceback (most recent call last):\n",
      "  File \"/usr/local/lib/python3.9/dist-packages/streamlit/runtime/scriptrunner/script_runner.py\", line 565, in _run_script\n",
      "    exec(code, module.__dict__)\n",
      "  File \"/content/steamlit_sample.py\", line 40, in <module>\n",
      "    data = yf.download(ticker, start=start_date, end=end_date)\n",
      "  File \"/usr/local/lib/python3.9/dist-packages/yfinance/multi.py\", line 170, in download\n",
      "    data = _pd.concat(shared._DFS.values(), axis=1, sort=True,\n",
      "  File \"/usr/local/lib/python3.9/dist-packages/pandas/util/_decorators.py\", line 311, in wrapper\n",
      "    return func(*args, **kwargs)\n",
      "  File \"/usr/local/lib/python3.9/dist-packages/pandas/core/reshape/concat.py\", line 347, in concat\n",
      "    op = _Concatenator(\n",
      "  File \"/usr/local/lib/python3.9/dist-packages/pandas/core/reshape/concat.py\", line 404, in __init__\n",
      "    raise ValueError(\"No objects to concatenate\")\n",
      "ValueError: No objects to concatenate\n",
      "[*********************100%***********************]  1 of 1 completed\n",
      "Final loss: 0.18786824350463333\n",
      "Time taken(s): 0.30\n",
      "\u001b[34m  Stopping...\u001b[0m\n",
      "^C\n"
     ]
    }
   ],
   "source": [
    "# change the file name to run\n",
    "!streamlit run steamlit_sample.py & npx localtunnel --port 8501"
   ]
  }
 ],
 "metadata": {
  "colab": {
   "provenance": []
  },
  "kernelspec": {
   "display_name": "Python 3",
   "language": "python",
   "name": "python3"
  },
  "language_info": {
   "codemirror_mode": {
    "name": "ipython",
    "version": 3
   },
   "file_extension": ".py",
   "mimetype": "text/x-python",
   "name": "python",
   "nbconvert_exporter": "python",
   "pygments_lexer": "ipython3",
   "version": "3.8.5"
  }
 },
 "nbformat": 4,
 "nbformat_minor": 5
}
