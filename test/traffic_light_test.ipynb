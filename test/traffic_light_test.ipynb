{
 "cells": [
  {
   "cell_type": "markdown",
   "metadata": {},
   "source": [
    "https://ww2.mathworks.cn/help/risk/varbacktest.tl.html#bvaco4s-4"
   ]
  },
  {
   "cell_type": "code",
   "execution_count": 24,
   "metadata": {},
   "outputs": [],
   "source": [
    "import numpy as np\n",
    "from scipy.stats import binom, norm"
   ]
  },
  {
   "cell_type": "code",
   "execution_count": 42,
   "metadata": {},
   "outputs": [],
   "source": [
    "num_obs = 2000\n",
    "var_level = 0.05\n",
    "\n",
    "baseline = 3\n",
    "z_ass = norm.ppf(var_level)"
   ]
  },
  {
   "cell_type": "code",
   "execution_count": 43,
   "metadata": {},
   "outputs": [
    {
     "name": "stdout",
     "output_type": "stream",
     "text": [
      "green 0 0.0 0\n",
      "green 1 0.0 0\n",
      "green 2 0.0 0\n",
      "green 3 0.0 0\n",
      "green 4 0.0 0\n",
      "green 5 0.0 0\n",
      "green 6 0.0 0\n",
      "green 7 0.0 0\n",
      "green 8 0.0 0\n",
      "green 9 0.0 0\n",
      "green 10 0.0 0\n",
      "green 11 0.0 0\n",
      "green 12 0.0 0\n",
      "green 13 0.0 0\n",
      "green 14 0.0 0\n",
      "green 15 0.0 0\n",
      "green 16 0.0 0\n",
      "green 17 0.0 0\n",
      "green 18 0.0 0\n",
      "green 19 0.0 0\n",
      "green 20 0.0 0\n",
      "green 21 0.0 0\n",
      "green 22 0.0 0\n",
      "green 23 0.0 0\n",
      "green 24 0.0 0\n",
      "green 25 0.0 0\n",
      "green 26 0.0 0\n",
      "green 27 0.0 0\n",
      "green 28 0.0 0\n",
      "green 29 0.0 0\n",
      "green 30 0.0 0\n",
      "green 31 0.0 0\n",
      "green 32 0.0 0\n",
      "green 33 0.0 0\n",
      "green 34 0.0 0\n",
      "green 35 0.0 0\n",
      "green 36 0.0 0\n",
      "green 37 0.0 0\n",
      "green 38 0.0 0\n",
      "green 39 0.0 0\n",
      "green 40 0.0 0\n",
      "green 41 0.0 0\n",
      "green 42 0.0 0\n",
      "green 43 0.0 0\n",
      "green 44 0.0 0\n",
      "green 45 0.0 0\n",
      "green 46 0.0 0\n",
      "green 47 0.0 0\n",
      "green 48 0.0 0\n",
      "green 49 0.0 0\n",
      "green 50 0.0 0\n",
      "green 51 0.0 0\n",
      "green 52 0.0 0\n",
      "green 53 0.0 0\n",
      "green 54 0.0 0\n",
      "green 55 0.0 0\n",
      "green 56 0.0 0\n",
      "green 57 0.0 0\n",
      "green 58 0.0 0\n",
      "green 59 0.0 0\n",
      "green 60 1e-05 0\n",
      "green 61 1e-05 0\n",
      "green 62 2e-05 0\n",
      "green 63 3e-05 0\n",
      "green 64 5e-05 0\n",
      "green 65 9e-05 0\n",
      "green 66 0.00014 0\n",
      "green 67 0.00022 0\n",
      "green 68 0.00033 0\n",
      "green 69 0.00051 0\n",
      "green 70 0.00076 0\n",
      "green 71 0.00111 0\n",
      "green 72 0.00162 0\n",
      "green 73 0.00232 0\n",
      "green 74 0.00328 0\n",
      "green 75 0.00458 0\n",
      "green 76 0.00631 0\n",
      "green 77 0.00858 0\n",
      "green 78 0.01153 0\n",
      "green 79 0.01531 0\n",
      "green 80 0.02009 0\n",
      "green 81 0.02605 0\n",
      "green 82 0.03339 0\n",
      "green 83 0.04231 0\n",
      "green 84 0.05304 0\n",
      "green 85 0.06576 0\n",
      "green 86 0.08067 0\n",
      "green 87 0.09793 0\n",
      "green 88 0.11768 0\n",
      "green 89 0.14001 0\n",
      "green 90 0.16497 0\n",
      "green 91 0.19254 0\n",
      "green 92 0.22265 0\n",
      "green 93 0.25517 0\n",
      "green 94 0.28988 0\n",
      "green 95 0.32654 0\n",
      "green 96 0.36482 0\n",
      "green 97 0.40438 0\n",
      "green 98 0.4448 0\n",
      "green 99 0.48567 0\n",
      "green 100 0.52657 0\n",
      "green 101 0.56706 0\n",
      "green 102 0.60674 0\n",
      "green 103 0.64522 0\n",
      "green 104 0.68216 0\n",
      "green 105 0.71727 0\n",
      "green 106 0.7503 0\n",
      "green 107 0.78108 0\n",
      "green 108 0.80947 0\n",
      "green 109 0.83541 0\n",
      "green 110 0.85888 0\n",
      "green 111 0.87991 0\n",
      "green 112 0.89858 0\n",
      "green 113 0.91499 0\n",
      "green 114 0.92929 0\n",
      "green 115 0.94164 0\n",
      "yellow 116 0.9522 0.1395\n",
      "yellow 117 0.96115 0.1481\n",
      "yellow 118 0.96866 0.1567\n",
      "yellow 119 0.97492 0.1652\n",
      "yellow 120 0.98008 0.1738\n",
      "yellow 121 0.9843 0.1824\n",
      "yellow 122 0.98772 0.1909\n",
      "yellow 123 0.99047 0.1995\n",
      "yellow 124 0.99266 0.208\n",
      "yellow 125 0.99439 0.2165\n",
      "yellow 126 0.99574 0.2251\n",
      "yellow 127 0.99679 0.2336\n",
      "yellow 128 0.99761 0.2421\n",
      "yellow 129 0.99822 0.2506\n",
      "yellow 130 0.99869 0.2591\n",
      "yellow 131 0.99905 0.2676\n",
      "yellow 132 0.99931 0.276\n",
      "yellow 133 0.9995 0.2845\n",
      "yellow 134 0.99964 0.293\n",
      "yellow 135 0.99975 0.3014\n",
      "yellow 136 0.99982 0.3099\n",
      "yellow 137 0.99988 0.3183\n",
      "red 138 0.99991 1\n"
     ]
    }
   ],
   "source": [
    "for i in range(num_obs):\n",
    "    z_obs = norm.ppf(i/num_obs)\n",
    "    \n",
    "    p = binom.cdf(i, num_obs, var_level)\n",
    "    tl = 'green' if p <= 0.95 else 'yellow' if p <= 0.9999 else 'red'\n",
    "    \n",
    "    scale_factor = baseline * (z_ass/z_obs - 1) if tl == 'yellow' else 0 if tl == 'green' else 1\n",
    "    \n",
    "    print(tl, i, np.round(p, 5), np.round(scale_factor, 4))\n",
    "    if tl == 'red':\n",
    "        break"
   ]
  },
  {
   "cell_type": "code",
   "execution_count": 37,
   "metadata": {},
   "outputs": [],
   "source": [
    "abc = np.array([-5, -4, -3, -2, -1, 0, 1, 2, 3, 4, 5])\n",
    "edf = np.zeros_like(abc)"
   ]
  },
  {
   "cell_type": "code",
   "execution_count": 40,
   "metadata": {},
   "outputs": [
    {
     "data": {
      "text/plain": [
       "array([0])"
      ]
     },
     "execution_count": 40,
     "metadata": {},
     "output_type": "execute_result"
    }
   ],
   "source": [
    "edf[abc == edf]"
   ]
  },
  {
   "cell_type": "code",
   "execution_count": null,
   "metadata": {},
   "outputs": [],
   "source": []
  }
 ],
 "metadata": {
  "kernelspec": {
   "display_name": "Python 3",
   "language": "python",
   "name": "python3"
  },
  "language_info": {
   "codemirror_mode": {
    "name": "ipython",
    "version": 3
   },
   "file_extension": ".py",
   "mimetype": "text/x-python",
   "name": "python",
   "nbconvert_exporter": "python",
   "pygments_lexer": "ipython3",
   "version": "3.8.5"
  }
 },
 "nbformat": 4,
 "nbformat_minor": 4
}
