{
 "cells": [
  {
   "cell_type": "code",
   "execution_count": 1,
   "metadata": {},
   "outputs": [],
   "source": [
    "import numpy as np\n",
    "import pandas as pd\n",
    "from arch import arch_model\n",
    "from models import ArchModel\n",
    "import statsmodels.api as sm"
   ]
  },
  {
   "cell_type": "code",
   "execution_count": 2,
   "metadata": {},
   "outputs": [
    {
     "data": {
      "text/html": [
       "<div>\n",
       "<style scoped>\n",
       "    .dataframe tbody tr th:only-of-type {\n",
       "        vertical-align: middle;\n",
       "    }\n",
       "\n",
       "    .dataframe tbody tr th {\n",
       "        vertical-align: top;\n",
       "    }\n",
       "\n",
       "    .dataframe thead th {\n",
       "        text-align: right;\n",
       "    }\n",
       "</style>\n",
       "<table border=\"1\" class=\"dataframe\">\n",
       "  <thead>\n",
       "    <tr style=\"text-align: right;\">\n",
       "      <th></th>\n",
       "      <th>Date</th>\n",
       "      <th>PX_LAST</th>\n",
       "      <th>Change</th>\n",
       "      <th>% Change</th>\n",
       "      <th>PX_OPEN</th>\n",
       "      <th>Change</th>\n",
       "      <th>% Change</th>\n",
       "      <th>PX_HIGH</th>\n",
       "      <th>Change</th>\n",
       "      <th>% Change</th>\n",
       "      <th>PX_LOW</th>\n",
       "      <th>Change</th>\n",
       "      <th>% Change</th>\n",
       "      <th>Log Return</th>\n",
       "    </tr>\n",
       "  </thead>\n",
       "  <tbody>\n",
       "    <tr>\n",
       "      <th>0</th>\n",
       "      <td>2010-11-17 00:00:00</td>\n",
       "      <td>25.3909</td>\n",
       "      <td>NaN</td>\n",
       "      <td>NaN</td>\n",
       "      <td>25.3909</td>\n",
       "      <td>NaN</td>\n",
       "      <td>NaN</td>\n",
       "      <td>25.3909</td>\n",
       "      <td>NaN</td>\n",
       "      <td>NaN</td>\n",
       "      <td>25.3909</td>\n",
       "      <td>NaN</td>\n",
       "      <td>NaN</td>\n",
       "      <td>NaN</td>\n",
       "    </tr>\n",
       "    <tr>\n",
       "      <th>1</th>\n",
       "      <td>2010-11-18 00:00:00</td>\n",
       "      <td>26.3066</td>\n",
       "      <td>NaN</td>\n",
       "      <td>NaN</td>\n",
       "      <td>26.9298</td>\n",
       "      <td>NaN</td>\n",
       "      <td>NaN</td>\n",
       "      <td>27.6915</td>\n",
       "      <td>NaN</td>\n",
       "      <td>NaN</td>\n",
       "      <td>26.0757</td>\n",
       "      <td>NaN</td>\n",
       "      <td>NaN</td>\n",
       "      <td>0.035429</td>\n",
       "    </tr>\n",
       "    <tr>\n",
       "      <th>2</th>\n",
       "      <td>2010-11-19 00:00:00</td>\n",
       "      <td>26.3604</td>\n",
       "      <td>NaN</td>\n",
       "      <td>NaN</td>\n",
       "      <td>26.2758</td>\n",
       "      <td>NaN</td>\n",
       "      <td>NaN</td>\n",
       "      <td>26.5451</td>\n",
       "      <td>NaN</td>\n",
       "      <td>NaN</td>\n",
       "      <td>25.4756</td>\n",
       "      <td>NaN</td>\n",
       "      <td>NaN</td>\n",
       "      <td>0.002043</td>\n",
       "    </tr>\n",
       "    <tr>\n",
       "      <th>3</th>\n",
       "      <td>2010-11-22 00:00:00</td>\n",
       "      <td>26.2219</td>\n",
       "      <td>NaN</td>\n",
       "      <td>NaN</td>\n",
       "      <td>26.3142</td>\n",
       "      <td>NaN</td>\n",
       "      <td>NaN</td>\n",
       "      <td>26.5297</td>\n",
       "      <td>NaN</td>\n",
       "      <td>NaN</td>\n",
       "      <td>26.0142</td>\n",
       "      <td>NaN</td>\n",
       "      <td>NaN</td>\n",
       "      <td>-0.005268</td>\n",
       "    </tr>\n",
       "    <tr>\n",
       "      <th>4</th>\n",
       "      <td>2010-11-23 00:00:00</td>\n",
       "      <td>25.5833</td>\n",
       "      <td>NaN</td>\n",
       "      <td>NaN</td>\n",
       "      <td>26.1219</td>\n",
       "      <td>NaN</td>\n",
       "      <td>NaN</td>\n",
       "      <td>26.1527</td>\n",
       "      <td>NaN</td>\n",
       "      <td>NaN</td>\n",
       "      <td>25.5371</td>\n",
       "      <td>NaN</td>\n",
       "      <td>NaN</td>\n",
       "      <td>-0.024655</td>\n",
       "    </tr>\n",
       "  </tbody>\n",
       "</table>\n",
       "</div>"
      ],
      "text/plain": [
       "                  Date  PX_LAST Change % Change  PX_OPEN Change % Change  \\\n",
       "0  2010-11-17 00:00:00  25.3909    NaN      NaN  25.3909    NaN      NaN   \n",
       "1  2010-11-18 00:00:00  26.3066    NaN      NaN  26.9298    NaN      NaN   \n",
       "2  2010-11-19 00:00:00  26.3604    NaN      NaN  26.2758    NaN      NaN   \n",
       "3  2010-11-22 00:00:00  26.2219    NaN      NaN  26.3142    NaN      NaN   \n",
       "4  2010-11-23 00:00:00  25.5833    NaN      NaN  26.1219    NaN      NaN   \n",
       "\n",
       "   PX_HIGH Change % Change   PX_LOW Change % Change  Log Return  \n",
       "0  25.3909    NaN      NaN  25.3909    NaN      NaN         NaN  \n",
       "1  27.6915    NaN      NaN  26.0757    NaN      NaN    0.035429  \n",
       "2  26.5451    NaN      NaN  25.4756    NaN      NaN    0.002043  \n",
       "3  26.5297    NaN      NaN  26.0142    NaN      NaN   -0.005268  \n",
       "4  26.1527    NaN      NaN  25.5371    NaN      NaN   -0.024655  "
      ]
     },
     "execution_count": 2,
     "metadata": {},
     "output_type": "execute_result"
    }
   ],
   "source": [
    "df = pd.read_excel('../CAViaR project/data/GM Equity.xlsx')\n",
    "df.columns = df.iloc[5].values\n",
    "df = df.iloc[6:].iloc[::-1].reset_index(drop=True)\n",
    "df['Log Return'] = df.PX_LAST.apply(lambda x: np.log(x)).diff()\n",
    "df.head()"
   ]
  },
  {
   "cell_type": "code",
   "execution_count": 3,
   "metadata": {},
   "outputs": [],
   "source": [
    "log_ret_100x = 100 * (df['Log Return'].dropna() - df['Log Return'].dropna().mean()).reset_index(drop=True)"
   ]
  },
  {
   "cell_type": "code",
   "execution_count": 4,
   "metadata": {},
   "outputs": [],
   "source": [
    "arch = ArchModel(9)"
   ]
  },
  {
   "cell_type": "code",
   "execution_count": 5,
   "metadata": {},
   "outputs": [],
   "source": [
    "cus_res = arch.fit(log_ret_100x)"
   ]
  },
  {
   "cell_type": "code",
   "execution_count": 6,
   "metadata": {},
   "outputs": [
    {
     "data": {
      "text/plain": [
       "      fun: -25544.56962265682\n",
       " hess_inv: <10x10 LbfgsInvHessProduct with dtype=float64>\n",
       "      jac: array([ 0.       , -0.0003638, -0.0003638, -0.0003638, -0.0003638,\n",
       "       -0.0003638, -0.0003638, -0.0003638, -0.0003638, -0.0003638])\n",
       "  message: b'CONVERGENCE: NORM_OF_PROJECTED_GRADIENT_<=_PGTOL'\n",
       "     nfev: 352\n",
       "      nit: 30\n",
       "     njev: 32\n",
       "   status: 0\n",
       "  success: True\n",
       "        x: array([1.77224126e+07, 1.00000000e+00, 1.00000000e+00, 1.00000000e+00,\n",
       "       1.00000000e+00, 1.00000000e+00, 1.00000000e+00, 1.00000000e+00,\n",
       "       1.00000000e+00, 1.00000000e+00])"
      ]
     },
     "execution_count": 6,
     "metadata": {},
     "output_type": "execute_result"
    }
   ],
   "source": [
    "cus_res"
   ]
  },
  {
   "cell_type": "code",
   "execution_count": 7,
   "metadata": {},
   "outputs": [
    {
     "data": {
      "text/plain": [
       "      fun: 6423.789372214314\n",
       " hess_inv: <10x10 LbfgsInvHessProduct with dtype=float64>\n",
       "      jac: array([-7.36690713e-03,  1.00953912e-02,  1.68729457e+00,  7.54880602e-03,\n",
       "        3.11956683e-02,  1.93722372e-02,  1.15505827e-02, -6.09361450e-03,\n",
       "        1.65528036e-02,  1.63709046e-03])\n",
       "  message: b'CONVERGENCE: REL_REDUCTION_OF_F_<=_FACTR*EPSMCH'\n",
       "     nfev: 242\n",
       "      nit: 17\n",
       "     njev: 22\n",
       "   status: 0\n",
       "  success: True\n",
       "        x: array([1.80299281, 0.06383229, 0.        , 0.03106833, 0.07271849,\n",
       "       0.06842066, 0.06925327, 0.03982586, 0.11416383, 0.14832313])"
      ]
     },
     "execution_count": 7,
     "metadata": {},
     "output_type": "execute_result"
    }
   ],
   "source": [
    "cus_res"
   ]
  },
  {
   "cell_type": "code",
   "execution_count": 8,
   "metadata": {},
   "outputs": [],
   "source": [
    "am = arch_model(log_ret_100x, vol='ARCH', p=9)"
   ]
  },
  {
   "cell_type": "code",
   "execution_count": 9,
   "metadata": {},
   "outputs": [
    {
     "name": "stdout",
     "output_type": "stream",
     "text": [
      "Iteration:      1,   Func. Count:     13,   Neg. LLF: 12914.669666422396\n",
      "Iteration:      2,   Func. Count:     28,   Neg. LLF: 474994.93057286204\n",
      "Iteration:      3,   Func. Count:     41,   Neg. LLF: 711847.5978756085\n",
      "Iteration:      4,   Func. Count:     55,   Neg. LLF: 6948.0606166662\n",
      "Iteration:      5,   Func. Count:     69,   Neg. LLF: 6866.975308577372\n",
      "Iteration:      6,   Func. Count:     83,   Neg. LLF: 6845.506703461275\n",
      "Iteration:      7,   Func. Count:     97,   Neg. LLF: 6885.91996803865\n",
      "Iteration:      8,   Func. Count:    111,   Neg. LLF: 6614.752816457122\n",
      "Iteration:      9,   Func. Count:    124,   Neg. LLF: 6696.86940482588\n",
      "Iteration:     10,   Func. Count:    138,   Neg. LLF: 6556.214295523846\n",
      "Iteration:     11,   Func. Count:    151,   Neg. LLF: 6451.893242881393\n",
      "Iteration:     12,   Func. Count:    164,   Neg. LLF: 6516.460923757972\n",
      "Iteration:     13,   Func. Count:    178,   Neg. LLF: 6450.7484071110875\n",
      "Iteration:     14,   Func. Count:    191,   Neg. LLF: 6510.687417924852\n",
      "Iteration:     15,   Func. Count:    205,   Neg. LLF: 6440.754392535953\n",
      "Iteration:     16,   Func. Count:    217,   Neg. LLF: 6441.413815364564\n",
      "Iteration:     17,   Func. Count:    230,   Neg. LLF: 6474.840295268239\n",
      "Iteration:     18,   Func. Count:    244,   Neg. LLF: 6440.5688917371535\n",
      "Iteration:     19,   Func. Count:    256,   Neg. LLF: 6440.565086447446\n",
      "Iteration:     20,   Func. Count:    268,   Neg. LLF: 6440.565038527897\n",
      "Iteration:     21,   Func. Count:    280,   Neg. LLF: 6440.565033168967\n",
      "Iteration:     22,   Func. Count:    291,   Neg. LLF: 6440.565033168524\n",
      "Optimization terminated successfully    (Exit mode 0)\n",
      "            Current function value: 6440.565033168967\n",
      "            Iterations: 22\n",
      "            Function evaluations: 291\n",
      "            Gradient evaluations: 22\n"
     ]
    }
   ],
   "source": [
    "res = am.fit()"
   ]
  },
  {
   "cell_type": "code",
   "execution_count": null,
   "metadata": {},
   "outputs": [],
   "source": [
    "print(res.summary())"
   ]
  },
  {
   "cell_type": "code",
   "execution_count": null,
   "metadata": {},
   "outputs": [],
   "source": [
    "y_df = pd.concat([(log_ret_100x/100) ** 2, ((log_ret_100x/100) ** 2).shift(1)], axis=1)\n",
    "y_df.columns = ['t', 't-1']\n",
    "y_df = y_df.dropna()\n",
    "y_df"
   ]
  },
  {
   "cell_type": "code",
   "execution_count": null,
   "metadata": {},
   "outputs": [],
   "source": [
    "mod = sm.OLS(y_df['t'], sm.add_constant(y_df['t-1']))"
   ]
  },
  {
   "cell_type": "code",
   "execution_count": null,
   "metadata": {},
   "outputs": [],
   "source": [
    "ols_res = mod.fit()"
   ]
  },
  {
   "cell_type": "code",
   "execution_count": null,
   "metadata": {},
   "outputs": [],
   "source": [
    "print(ols_res.summary())"
   ]
  },
  {
   "cell_type": "code",
   "execution_count": null,
   "metadata": {},
   "outputs": [],
   "source": []
  }
 ],
 "metadata": {
  "kernelspec": {
   "display_name": "Python 3",
   "language": "python",
   "name": "python3"
  },
  "language_info": {
   "codemirror_mode": {
    "name": "ipython",
    "version": 3
   },
   "file_extension": ".py",
   "mimetype": "text/x-python",
   "name": "python",
   "nbconvert_exporter": "python",
   "pygments_lexer": "ipython3",
   "version": "3.8.5"
  }
 },
 "nbformat": 4,
 "nbformat_minor": 4
}
