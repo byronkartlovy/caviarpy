{
 "cells": [
  {
   "cell_type": "code",
   "execution_count": 43,
   "metadata": {},
   "outputs": [],
   "source": [
    "import numpy as np\n",
    "import pandas as pd\n",
    "import matplotlib.pyplot as plt\n",
    "from scipy.optimize import minimize"
   ]
  },
  {
   "cell_type": "code",
   "execution_count": 45,
   "metadata": {
    "scrolled": true
   },
   "outputs": [
    {
     "data": {
      "text/html": [
       "<div>\n",
       "<style scoped>\n",
       "    .dataframe tbody tr th:only-of-type {\n",
       "        vertical-align: middle;\n",
       "    }\n",
       "\n",
       "    .dataframe tbody tr th {\n",
       "        vertical-align: top;\n",
       "    }\n",
       "\n",
       "    .dataframe thead th {\n",
       "        text-align: right;\n",
       "    }\n",
       "</style>\n",
       "<table border=\"1\" class=\"dataframe\">\n",
       "  <thead>\n",
       "    <tr style=\"text-align: right;\">\n",
       "      <th></th>\n",
       "      <th>Date</th>\n",
       "      <th>PX_LAST</th>\n",
       "      <th>Change</th>\n",
       "      <th>% Change</th>\n",
       "      <th>PX_OPEN</th>\n",
       "      <th>Change</th>\n",
       "      <th>% Change</th>\n",
       "      <th>PX_HIGH</th>\n",
       "      <th>Change</th>\n",
       "      <th>% Change</th>\n",
       "      <th>PX_LOW</th>\n",
       "      <th>Change</th>\n",
       "      <th>% Change</th>\n",
       "      <th>Log Return</th>\n",
       "    </tr>\n",
       "  </thead>\n",
       "  <tbody>\n",
       "    <tr>\n",
       "      <th>0</th>\n",
       "      <td>1993-01-29 00:00:00</td>\n",
       "      <td>25.2238</td>\n",
       "      <td>NaN</td>\n",
       "      <td>NaN</td>\n",
       "      <td>25.2417</td>\n",
       "      <td>NaN</td>\n",
       "      <td>NaN</td>\n",
       "      <td>25.2417</td>\n",
       "      <td>NaN</td>\n",
       "      <td>NaN</td>\n",
       "      <td>25.1161</td>\n",
       "      <td>NaN</td>\n",
       "      <td>NaN</td>\n",
       "      <td>NaN</td>\n",
       "    </tr>\n",
       "    <tr>\n",
       "      <th>1</th>\n",
       "      <td>1993-02-01 00:00:00</td>\n",
       "      <td>25.4032</td>\n",
       "      <td>NaN</td>\n",
       "      <td>NaN</td>\n",
       "      <td>25.2417</td>\n",
       "      <td>NaN</td>\n",
       "      <td>NaN</td>\n",
       "      <td>25.4032</td>\n",
       "      <td>NaN</td>\n",
       "      <td>NaN</td>\n",
       "      <td>25.2417</td>\n",
       "      <td>NaN</td>\n",
       "      <td>NaN</td>\n",
       "      <td>0.007087</td>\n",
       "    </tr>\n",
       "    <tr>\n",
       "      <th>2</th>\n",
       "      <td>1993-02-02 00:00:00</td>\n",
       "      <td>25.457</td>\n",
       "      <td>NaN</td>\n",
       "      <td>NaN</td>\n",
       "      <td>25.3852</td>\n",
       "      <td>NaN</td>\n",
       "      <td>NaN</td>\n",
       "      <td>25.4749</td>\n",
       "      <td>NaN</td>\n",
       "      <td>NaN</td>\n",
       "      <td>25.3314</td>\n",
       "      <td>NaN</td>\n",
       "      <td>NaN</td>\n",
       "      <td>0.002116</td>\n",
       "    </tr>\n",
       "    <tr>\n",
       "      <th>3</th>\n",
       "      <td>1993-02-03 00:00:00</td>\n",
       "      <td>25.7261</td>\n",
       "      <td>NaN</td>\n",
       "      <td>NaN</td>\n",
       "      <td>25.4929</td>\n",
       "      <td>NaN</td>\n",
       "      <td>NaN</td>\n",
       "      <td>25.744</td>\n",
       "      <td>NaN</td>\n",
       "      <td>NaN</td>\n",
       "      <td>25.4749</td>\n",
       "      <td>NaN</td>\n",
       "      <td>NaN</td>\n",
       "      <td>0.010515</td>\n",
       "    </tr>\n",
       "    <tr>\n",
       "      <th>4</th>\n",
       "      <td>1993-02-04 00:00:00</td>\n",
       "      <td>25.8337</td>\n",
       "      <td>NaN</td>\n",
       "      <td>NaN</td>\n",
       "      <td>25.8158</td>\n",
       "      <td>NaN</td>\n",
       "      <td>NaN</td>\n",
       "      <td>25.8876</td>\n",
       "      <td>NaN</td>\n",
       "      <td>NaN</td>\n",
       "      <td>25.762</td>\n",
       "      <td>NaN</td>\n",
       "      <td>NaN</td>\n",
       "      <td>0.004174</td>\n",
       "    </tr>\n",
       "  </tbody>\n",
       "</table>\n",
       "</div>"
      ],
      "text/plain": [
       "                  Date  PX_LAST Change % Change  PX_OPEN Change % Change  \\\n",
       "0  1993-01-29 00:00:00  25.2238    NaN      NaN  25.2417    NaN      NaN   \n",
       "1  1993-02-01 00:00:00  25.4032    NaN      NaN  25.2417    NaN      NaN   \n",
       "2  1993-02-02 00:00:00   25.457    NaN      NaN  25.3852    NaN      NaN   \n",
       "3  1993-02-03 00:00:00  25.7261    NaN      NaN  25.4929    NaN      NaN   \n",
       "4  1993-02-04 00:00:00  25.8337    NaN      NaN  25.8158    NaN      NaN   \n",
       "\n",
       "   PX_HIGH Change % Change   PX_LOW Change % Change  Log Return  \n",
       "0  25.2417    NaN      NaN  25.1161    NaN      NaN         NaN  \n",
       "1  25.4032    NaN      NaN  25.2417    NaN      NaN    0.007087  \n",
       "2  25.4749    NaN      NaN  25.3314    NaN      NaN    0.002116  \n",
       "3   25.744    NaN      NaN  25.4749    NaN      NaN    0.010515  \n",
       "4  25.8876    NaN      NaN   25.762    NaN      NaN    0.004174  "
      ]
     },
     "execution_count": 45,
     "metadata": {},
     "output_type": "execute_result"
    }
   ],
   "source": [
    "df = pd.read_excel('../data/SPY.xlsx')\n",
    "df.columns = df.iloc[5].values\n",
    "df = df.iloc[6:].iloc[::-1].reset_index(drop=True)\n",
    "df['Log Return'] = df.PX_LAST.apply(lambda x: np.log(x)).diff()\n",
    "df.head()"
   ]
  },
  {
   "cell_type": "code",
   "execution_count": 46,
   "metadata": {},
   "outputs": [],
   "source": [
    "log_ret_100x = 100 * (df['Log Return'].dropna() - df['Log Return'].dropna().mean()).reset_index(drop=True)"
   ]
  },
  {
   "cell_type": "code",
   "execution_count": 53,
   "metadata": {},
   "outputs": [],
   "source": [
    "returns = np.array(log_ret_100x[-2000:])"
   ]
  },
  {
   "cell_type": "code",
   "execution_count": 56,
   "metadata": {
    "scrolled": true
   },
   "outputs": [],
   "source": [
    "betas = initialize_betas(returns, n=1000, m=10)"
   ]
  },
  {
   "cell_type": "code",
   "execution_count": 57,
   "metadata": {
    "scrolled": true
   },
   "outputs": [
    {
     "data": {
      "text/plain": [
       "[{'loss': 757.9706945846904,\n",
       "  'beta': array([0.00945801, 0.45767256, 0.02787627, 0.27997814])},\n",
       " {'loss': 758.3464549921638,\n",
       "  'beta': array([0.04356074, 0.06856659, 0.02229334, 0.33521124])},\n",
       " {'loss': 758.3679640840822,\n",
       "  'beta': array([0.0163062 , 0.10517646, 0.04424806, 0.00792445])},\n",
       " {'loss': 760.0548434882917,\n",
       "  'beta': array([0.02201972, 0.69165416, 0.01814776, 0.26183346])},\n",
       " {'loss': 766.7583783425619,\n",
       "  'beta': array([0.0415094 , 0.51687817, 0.06848729, 0.87910629])},\n",
       " {'loss': 769.4407017074499,\n",
       "  'beta': array([0.00150438, 0.67464233, 0.12348359, 0.24535134])},\n",
       " {'loss': 773.5839465518716,\n",
       "  'beta': array([0.01367957, 0.18240731, 0.15982512, 0.80127409])},\n",
       " {'loss': 776.4987687899102,\n",
       "  'beta': array([0.14317561, 0.14376127, 0.07372389, 0.33802223])},\n",
       " {'loss': 779.8695019944882,\n",
       "  'beta': array([0.06661839, 0.46691186, 0.12910607, 0.64347537])}]"
      ]
     },
     "execution_count": 57,
     "metadata": {},
     "output_type": "execute_result"
    }
   ],
   "source": [
    "betas"
   ]
  },
  {
   "cell_type": "code",
   "execution_count": 70,
   "metadata": {},
   "outputs": [
    {
     "name": "stderr",
     "output_type": "stream",
     "text": [
      "<ipython-input-66-658e2b38378d>:14: RuntimeWarning: overflow encountered in double_scalars\n",
      "  sigmas[t] = b1 + b2 * sigmas[t-1] + max(b3 * returns[t-1], 0) + b4 * min(b3 * returns[t-1], 0)\n"
     ]
    }
   ],
   "source": [
    "beta = optimize(betas, tol=1e-10)"
   ]
  },
  {
   "cell_type": "code",
   "execution_count": 71,
   "metadata": {},
   "outputs": [],
   "source": [
    "sigmas = asymmetric_slope(returns, beta)"
   ]
  },
  {
   "cell_type": "code",
   "execution_count": 79,
   "metadata": {},
   "outputs": [],
   "source": [
    "plt_returns = log_ret_100x[-2000:]"
   ]
  },
  {
   "cell_type": "code",
   "execution_count": 84,
   "metadata": {
    "scrolled": true
   },
   "outputs": [
    {
     "data": {
      "text/plain": [
       "[<matplotlib.lines.Line2D at 0x2070a2af400>]"
      ]
     },
     "execution_count": 84,
     "metadata": {},
     "output_type": "execute_result"
    },
    {
     "data": {
      "image/png": "[encoded data removed]",
      "text/plain": [
       "<Figure size 432x288 with 1 Axes>"
      ]
     },
     "metadata": {
      "needs_background": "light"
     },
     "output_type": "display_data"
    }
   ],
   "source": [
    "plt.plot(returns)\n",
    "plt.plot(sigmas)"
   ]
  },
  {
   "cell_type": "code",
   "execution_count": 77,
   "metadata": {},
   "outputs": [
    {
     "data": {
      "text/plain": [
       "0.05"
      ]
     },
     "execution_count": 77,
     "metadata": {},
     "output_type": "execute_result"
    }
   ],
   "source": [
    "np.sum(returns<=sigmas)/2000"
   ]
  },
  {
   "cell_type": "code",
   "execution_count": 66,
   "metadata": {},
   "outputs": [],
   "source": [
    "def get_empirical_quantile(returns, until_first=300, quantile=0.05):\n",
    "    return np.quantile(returns[:until_first], quantile)\n",
    "\n",
    "def asymmetric_slope(returns, betas):\n",
    "    \"\"\"\n",
    "    :param: returns (array): a series of daily returns\n",
    "    :param: betas (array): a series of coefficients\n",
    "    :returns: VaR\n",
    "    \"\"\"\n",
    "    b1, b2, b3, b4 = betas\n",
    "    sigmas = np.zeros_like(returns)\n",
    "    sigmas[0] = get_empirical_quantile(returns) # np.std(returns) # im not sure\n",
    "    for t in range(1, len(sigmas)):\n",
    "        sigmas[t] = b1 + b2 * sigmas[t-1] + max(b3 * returns[t-1], 0) + b4 * min(b3 * returns[t-1], 0)\n",
    "    return sigmas"
   ]
  },
  {
   "cell_type": "code",
   "execution_count": 67,
   "metadata": {},
   "outputs": [],
   "source": [
    "def obj(betas, returns, quantile=0.05):\n",
    "    sigmas = asymmetric_slope(returns, betas)\n",
    "    dev = returns - sigmas\n",
    "    e = np.where(dev<0, (quantile - 1) * dev, quantile * dev)\n",
    "    return np.sum(e)"
   ]
  },
  {
   "cell_type": "code",
   "execution_count": 68,
   "metadata": {},
   "outputs": [],
   "source": [
    "def initialize_betas(returns, n=1000, m=10):\n",
    "    \"\"\"\n",
    "    :param: n (int): We generated n vectors using a uniform random number generator between 0 and 1.\n",
    "    :param: m (int): We computed the regression quantile (RQ) function for each of these vectors and\n",
    "                     selected the m vectors that produced the lowest RQ criterion as initial values\n",
    "                     for the optimization routine\n",
    "    \"\"\"\n",
    "    betas = np.random.uniform(0, 1, (n, 4))\n",
    "\n",
    "    best_initial_betas = []\n",
    "\n",
    "    for i in range(n):\n",
    "        loss = obj(betas[i], returns)\n",
    "\n",
    "        best_initial_betas.append(\n",
    "            {'loss': loss, 'beta': betas[i]}\n",
    "        )\n",
    "\n",
    "        best_initial_betas = sorted(best_initial_betas, key=lambda x: x['loss'])\n",
    "\n",
    "        if len(best_initial_betas)==m:\n",
    "               best_initial_betas.pop()\n",
    "    \n",
    "    return best_initial_betas"
   ]
  },
  {
   "cell_type": "code",
   "execution_count": 69,
   "metadata": {},
   "outputs": [],
   "source": [
    "def initialize_betas(returns, n=1000, m=10):\n",
    "    \"\"\"\n",
    "    :param: n (int): We generated n vectors using a uniform random number generator between 0 and 1.\n",
    "    :param: m (int): We computed the regression quantile (RQ) function for each of these vectors and\n",
    "                     selected the m vectors that produced the lowest RQ criterion as initial values\n",
    "                     for the optimization routine\n",
    "    \"\"\"\n",
    "    betas = np.random.uniform(0, 1, (n, 4))\n",
    "\n",
    "    best_initial_betas = []\n",
    "\n",
    "    for i in range(n):\n",
    "        loss = obj(betas[i], returns)\n",
    "\n",
    "        best_initial_betas.append(\n",
    "            {'loss': loss, 'beta': betas[i]}\n",
    "        )\n",
    "\n",
    "        best_initial_betas = sorted(best_initial_betas, key=lambda x: x['loss'])\n",
    "\n",
    "        if len(best_initial_betas)==m:\n",
    "               best_initial_betas.pop()\n",
    "    \n",
    "    return best_initial_betas\n",
    "def optimize(initial_beta, tol=1e-10):\n",
    "    beta_new = initial_beta['beta']\n",
    "    current_loss = initial_beta['loss']\n",
    "\n",
    "    while True:\n",
    "        # Minimize the function using the Nelder-Mead algorithm\n",
    "        res = minimize(obj, beta_new, args=(returns, ), method='Nelder-Mead')\n",
    "        beta_new = res.x\n",
    "\n",
    "        loss = res.fun\n",
    "\n",
    "        if current_loss - loss < tol:\n",
    "            break\n",
    "        else:\n",
    "            current_loss = loss\n",
    "\n",
    "        # Minimize the function using the BFGS algorithm\n",
    "        res = minimize(obj, beta_new, args=(returns, ), method='BFGS')\n",
    "        beta_new = res.x\n",
    "\n",
    "        loss = res.fun\n",
    "\n",
    "        if current_loss - loss < tol:\n",
    "            break\n",
    "        else:\n",
    "            current_loss = loss\n",
    "    \n",
    "    return beta_new"
   ]
  },
  {
   "cell_type": "code",
   "execution_count": 27,
   "metadata": {},
   "outputs": [],
   "source": [
    "for i in range(100):\n",
    "    loss = obj(betas[i], returns)\n",
    "    \n",
    "    best_10.append(\n",
    "        {'loss': loss, 'beta': betas[i]}\n",
    "    )\n",
    "    \n",
    "    best_10 = sorted(best_10, key=lambda x: x['loss'])\n",
    "    \n",
    "    if len(best_10)==10:\n",
    "           best_10.pop()"
   ]
  },
  {
   "cell_type": "code",
   "execution_count": 40,
   "metadata": {},
   "outputs": [],
   "source": [
    "tol = 1e-10\n",
    "\n",
    "beta_new = best_10[0]['beta']\n",
    "current_loss = best_10[0]['loss']\n",
    "\n",
    "while True:\n",
    "    # Minimize the function using the Nelder-Mead algorithm\n",
    "    res = minimize(obj, beta_new, args=(returns, ), method='Nelder-Mead')\n",
    "    beta_new = res.x\n",
    "    \n",
    "    loss = res.fun\n",
    "    \n",
    "    if current_loss - loss < tol:\n",
    "        break\n",
    "    else:\n",
    "        current_loss = loss\n",
    "\n",
    "    # Minimize the function using the BFGS algorithm\n",
    "    res = minimize(obj, beta_new, args=(returns, ), method='BFGS')\n",
    "    beta_new = res.x\n",
    "    \n",
    "    loss = res.fun\n",
    "    \n",
    "    if current_loss - loss < tol:\n",
    "        break\n",
    "    else:\n",
    "        current_loss = loss"
   ]
  },
  {
   "cell_type": "code",
   "execution_count": null,
   "metadata": {},
   "outputs": [],
   "source": [
    "class CaviarModel:\n",
    "    def __init__(self, quantile, model='asymmetric'):\n",
    "        \"\"\"\n",
    "        :param: quantile (float): between 0 and 1 exclusively\n",
    "        :param: model (str): type of CAViaR model\n",
    "        :param: G (int): some positive number for the smoothen version of indicator function\n",
    "        \"\"\"\n",
    "        if quantile > 0 and quantile < 1:\n",
    "            self.quantile = quantile\n",
    "        else:\n",
    "            raise ValueError('Quantile must be within 0, 1 exclusively.')\n",
    "        \n",
    "        if model in ['adaptive', 'symmetric', 'asymmetric', 'igarch']:\n",
    "            self.model = model\n",
    "        else:\n",
    "            raise ValueError('Model must be one of {\"adaptive\", \"symmetric\", \"asymmetric\", \"igarch\"}')\n",
    "        \n",
    "\n",
    "\n",
    "    def neg_log_likelihood(self, params, returns, caviar_func):\n",
    "        \"\"\"\n",
    "        :param: returns (array): a series of daily returns\n",
    "        :param: betas (array): a series of coefficients\n",
    "        :param: caviar_func (callable function): a CAViaR function that returns VaR\n",
    "        :returns: negative log likelihood\n",
    "        \"\"\"\n",
    "        T = len(returns)\n",
    "        \n",
    "        tau = params[0]\n",
    "        betas = params[1:]\n",
    "\n",
    "        sigmas = caviar_func(returns, betas)\n",
    "\n",
    "        llh = (1 - T) * np.log(tau)\n",
    "        for t in range(1, T):\n",
    "            llh -= 1 / tau * max((self.quantile - 1) * (returns[t] - sigmas[t]),\n",
    "                                 self.quantile * (returns[t] - sigmas[t]))\n",
    "\n",
    "        return -llh\n",
    "    \n"
   ]
  }
 ],
 "metadata": {
  "kernelspec": {
   "display_name": "Python 3",
   "language": "python",
   "name": "python3"
  },
  "language_info": {
   "codemirror_mode": {
    "name": "ipython",
    "version": 3
   },
   "file_extension": ".py",
   "mimetype": "text/x-python",
   "name": "python",
   "nbconvert_exporter": "python",
   "pygments_lexer": "ipython3",
   "version": "3.8.5"
  }
 },
 "nbformat": 4,
 "nbformat_minor": 4
}
