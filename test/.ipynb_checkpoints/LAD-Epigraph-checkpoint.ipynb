{
 "cells": [
  {
   "cell_type": "code",
   "execution_count": 6,
   "metadata": {},
   "outputs": [],
   "source": [
    "import numpy as np\n",
    "from scipy.optimize import linprog"
   ]
  },
  {
   "cell_type": "code",
   "execution_count": null,
   "metadata": {},
   "outputs": [],
   "source": [
    "\"\"\"\n",
    "Given that the true DGP: b = Ax + epsilon,\n",
    "we want to estimate the x by minimizing the\n",
    "sum of absolute deviation.\n",
    "\n",
    "1. Version 1\n",
    "min. ||Ax - b||_1 = Σabs(aTx - b)_i\n",
    "\n",
    "2. Version 2\n",
    "min. 1Tt\n",
    "s.t. -t <= Ax - b <= t\n",
    "\n",
    "3. Final Version\n",
    "min. 1Tt\n",
    "s.t. Ax - b <= t\n",
    "     -(Ax - b) <= t\n",
    "     \n",
    "given that unknown x and t\n",
    "\"\"\""
   ]
  },
  {
   "cell_type": "code",
   "execution_count": 45,
   "metadata": {},
   "outputs": [],
   "source": [
    "X = np.random.normal(0, 5, size=(100, 5))\n",
    "beta = np.array([1, 2, 3, 4, 5])\n",
    "y = X @ beta + np.random.normal(0, 1, 100)"
   ]
  },
  {
   "cell_type": "code",
   "execution_count": 46,
   "metadata": {},
   "outputs": [],
   "source": [
    "\n",
    "c = np.ones(100)"
   ]
  },
  {
   "cell_type": "code",
   "execution_count": 47,
   "metadata": {
    "scrolled": true
   },
   "outputs": [],
   "source": [
    "tol = 1e-8\n",
    "loss = np.inf\n",
    "\n",
    "beta_hat = np.random.normal(0, 1, 5)\n",
    "while True:\n",
    "    lowers = X @ beta_hat - y\n",
    "    bounds = [(max(lb, -lb), None) for lb in lowers]\n",
    "\n",
    "    res = linprog(c, bounds=bounds)\n",
    "    t = res.x\n",
    "    beta_hat = np.linalg.pinv(X) @ (t + y)\n",
    "    \n",
    "    if loss - res.fun <= tol:\n",
    "        break\n",
    "    loss = res.fun"
   ]
  },
  {
   "cell_type": "code",
   "execution_count": 48,
   "metadata": {},
   "outputs": [
    {
     "data": {
      "text/plain": [
       "array([0.99943453, 2.01065287, 3.01534149, 3.99645564, 5.01046659])"
      ]
     },
     "execution_count": 48,
     "metadata": {},
     "output_type": "execute_result"
    }
   ],
   "source": [
    "beta_hat"
   ]
  },
  {
   "cell_type": "code",
   "execution_count": null,
   "metadata": {},
   "outputs": [],
   "source": []
  }
 ],
 "metadata": {
  "kernelspec": {
   "display_name": "Python 3 (ipykernel)",
   "language": "python",
   "name": "python3"
  },
  "language_info": {
   "codemirror_mode": {
    "name": "ipython",
    "version": 3
   },
   "file_extension": ".py",
   "mimetype": "text/x-python",
   "name": "python",
   "nbconvert_exporter": "python",
   "pygments_lexer": "ipython3",
   "version": "3.8.11"
  }
 },
 "nbformat": 4,
 "nbformat_minor": 4
}
