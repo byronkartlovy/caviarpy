{
 "cells": [
  {
   "cell_type": "code",
   "execution_count": 5,
   "metadata": {},
   "outputs": [],
   "source": [
    "import numpy as np\n",
    "import cvxpy as cp\n",
    "from scipy.optimize import linprog\n",
    "from sklearn.linear_model import QuantileRegressor"
   ]
  },
  {
   "cell_type": "code",
   "execution_count": 6,
   "metadata": {},
   "outputs": [],
   "source": [
    "X = np.c_[np.ones(100), np.random.normal(0, 5, size=(100, 5))]\n",
    "beta = np.array([10, 1, 2, 3, 4, 5])\n",
    "y = X @ beta + np.random.normal(0, 1, 100)"
   ]
  },
  {
   "cell_type": "code",
   "execution_count": 19,
   "metadata": {
    "scrolled": true
   },
   "outputs": [
    {
     "name": "stdout",
     "output_type": "stream",
     "text": [
      "['ECOS', 'ECOS_BB', 'MOSEK', 'OSQP', 'SCIPY', 'SCS']\n"
     ]
    }
   ],
   "source": [
    "print (cp.installed_solvers())"
   ]
  },
  {
   "cell_type": "code",
   "execution_count": 40,
   "metadata": {},
   "outputs": [],
   "source": [
    "class QuantileRegression:\n",
    "    \"\"\"\n",
    "    Original form:\n",
    "        \n",
    "        min. Σ max[(q-1) * (y - yhat)_i, q * (y - yhat)_i]\n",
    "    \n",
    "    where y_hat can be estimated by 4 CAViaR functions:\n",
    "    1. Adaptive:     f(B1)_t = f(B1)_t-1 + B1 * {[1 + exp(G * [y_t-1 - f(B1)_t-1])]^-1 - q}\n",
    "    2. Symmetric:    f(B)_t = B1 + B2 f(B)_t-1 + B3 |y_t-1|\n",
    "    3. Assymmetric:  f(B)_t = B1 + B2 f(B)_t-1 + B3 max(y_t-1, 0) + B4 min(y_t-1, 0)\n",
    "    4. IGRACH(1, 1): f(B)_t = (B1 + B2 f(B)_t-1**2 + B3 y_t-1**2)**0.5\n",
    "    \"\"\"\n",
    "    def __init__(self, theta, tol=1e-10):\n",
    "        self.theta = theta # theta-quantile\n",
    "        self.tol = tol # tolerance for loss to break the loop\n",
    "    \n",
    "    def fit(self, X, y, fit_intercept=False, autoregressive=False):  \n",
    "        # data preparation\n",
    "        self.n, self.p = X.shape\n",
    "        \n",
    "        # if data itself doesnt contain intercept term\n",
    "        if fit_intercept:\n",
    "            self.p += 1\n",
    "            X = np.c_[np.ones(self.n), X]\n",
    "            \n",
    "        # initialize the params to recursively fit the data\n",
    "        loss = np.inf\n",
    "        beta_hat = cp.Variable(self.p)\n",
    "        \n",
    "        loss_fct = cp.sum(cp.maximum(self.theta*(y - X @ beta_hat), (self.theta - 1)*(y - X @ beta_hat)))\n",
    "        prob = cp.Problem(cp.Minimize(loss_fct))\n",
    "        prob.solve(solver='ECOS')\n",
    "        \n",
    "        self.params = beta_hat.value\n",
    "        \n",
    "#         if loss - prob.value < self.tol:\n",
    "#             break\n",
    "#         loss = prob.value\n",
    "        \n",
    "            \n",
    "    def fit_LP(self, X, y, fit_intercept=True):\n",
    "        \"\"\"\n",
    "        Epigraph form (LP):\n",
    "\n",
    "            min. 1Tt\n",
    "            s.t. max[(q-1) * (y - yhat), q * (y - yhat)]_i <= ti\n",
    "        \n",
    "        let mxi == max[(q-1) * (y - yhat), q * (y - yhat)]_i\n",
    "        since mxi is always a positive value, it implies mxi <= ti only\n",
    "        \n",
    "        if y - y_hat positive => q; else q - 1\n",
    "        \"\"\"       \n",
    "        # data preparation\n",
    "        self.n, self.p = X.shape\n",
    "        \n",
    "        # if data itself doesnt contain intercept term\n",
    "        if fit_intercept:\n",
    "            self.p += 1\n",
    "            X = np.c_[np.ones(self.n), X]\n",
    "            \n",
    "        # initialize the params to recursively fit the data\n",
    "        self.params = np.random.uniform(0, 1, self.p)\n",
    "        \n",
    "        # fit the data\n",
    "        loss = np.inf\n",
    "        \n",
    "        for i in range(10000):\n",
    "            # calculate the deviations\n",
    "            y_hat = X @ self.params\n",
    "            dev = y - y_hat\n",
    "            \n",
    "            # the lower bounds of t\n",
    "            lowers = np.maximum((self.theta-1) * (dev), self.theta * (dev))\n",
    "            bounds = [(lb, None) for lb in lowers]\n",
    "            \n",
    "            # solve the above LP\n",
    "            res = linprog(np.ones_like(y), bounds=bounds)\n",
    "            if loss - res.fun <= self.tol:\n",
    "                break\n",
    "            loss = res.fun\n",
    "            \n",
    "            # update the betas\n",
    "            t = res.x\n",
    "            q_indicator = np.where(dev>0, self.theta, self.theta-1)\n",
    "            self.params = np.linalg.pinv(X) @ (y - t / q_indicator)\n",
    "        \n",
    "    def loss(self, y, y_hat):\n",
    "        # sum of absolute error\n",
    "        dev = y - y_hat\n",
    "        return np.sum(np.maximum(self.theta * dev, (self.theta - 1) * dev))\n",
    "\n",
    "    def asymmetric_slope(self, returns, params):\n",
    "        b1, b2, b3, b4 = params\n",
    "        sigmas = np.zeros(returns.shape[0]+1)\n",
    "        sigmas[0] = np.std(returns) # im not sure\n",
    "        for t in range(1, len(sigmas)):\n",
    "            sigmas[t] = b1 + b2 * sigmas[t-1] + max(b3 * returns[t-1], 0) + b4 * min(b3 * returns[t-1], 0)\n",
    "        return sigmas"
   ]
  },
  {
   "cell_type": "code",
   "execution_count": 60,
   "metadata": {},
   "outputs": [],
   "source": [
    "X = np.c_[np.ones(100), np.random.normal(0, 5, size=(100, 5))]\n",
    "beta = np.array([100, -1, 2, -3, 4, -5])\n",
    "y = X @ beta + np.random.normal(0, 1, 100)"
   ]
  },
  {
   "cell_type": "code",
   "execution_count": 66,
   "metadata": {},
   "outputs": [],
   "source": [
    "qr = QuantileRegression(0.1)"
   ]
  },
  {
   "cell_type": "code",
   "execution_count": 67,
   "metadata": {},
   "outputs": [],
   "source": [
    "qr.fit(X, y, fit_intercept=False)"
   ]
  },
  {
   "cell_type": "code",
   "execution_count": 68,
   "metadata": {},
   "outputs": [
    {
     "data": {
      "text/plain": [
       "array([101.30569465,  -1.00604275,   1.98753922,  -3.08468733,\n",
       "         3.95859128,  -4.99153418])"
      ]
     },
     "execution_count": 68,
     "metadata": {},
     "output_type": "execute_result"
    }
   ],
   "source": [
    "qr.params"
   ]
  },
  {
   "cell_type": "code",
   "execution_count": null,
   "metadata": {},
   "outputs": [],
   "source": []
  }
 ],
 "metadata": {
  "kernelspec": {
   "display_name": "Python 3 (ipykernel)",
   "language": "python",
   "name": "python3"
  },
  "language_info": {
   "codemirror_mode": {
    "name": "ipython",
    "version": 3
   },
   "file_extension": ".py",
   "mimetype": "text/x-python",
   "name": "python",
   "nbconvert_exporter": "python",
   "pygments_lexer": "ipython3",
   "version": "3.8.11"
  }
 },
 "nbformat": 4,
 "nbformat_minor": 4
}
