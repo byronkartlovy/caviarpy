{
 "cells": [
  {
   "cell_type": "code",
   "execution_count": null,
   "id": "c3d58fc6",
   "metadata": {},
   "outputs": [],
   "source": [
    "import numpy as np"
   ]
  },
  {
   "cell_type": "markdown",
   "id": "7acbc012",
   "metadata": {},
   "source": [
    "Hit'X * inv(MM') * X'Hit / THETA*(1-THETA), where M = X' - inv(T)*(X'*H * grad(f)) * inv(D) * grad(f)'"
   ]
  },
  {
   "cell_type": "code",
   "execution_count": null,
   "id": "d1cc37eb",
   "metadata": {},
   "outputs": [],
   "source": [
    "X = np.zeros((T, p))\n",
    "Hit = np.zeros((T, p))"
   ]
  },
  {
   "cell_type": "code",
   "execution_count": null,
   "id": "380a5d5f",
   "metadata": {},
   "outputs": [],
   "source": [
    "gradient = np.array([])\n",
    "\n",
    "dev = y - y_hat\n",
    "idx = np.where(np.abs(dev) < bandwidth)\n",
    "\n",
    "D = np.sum(gradient[idx] * gradient[idx])\n",
    "D *= 1 / (2 * T * bandwidth)\n",
    "\n",
    "M = X.T - (np.sum(X[idx] * gradient[idx]) / (2 * T * bandwidth)) @ np.linalg.inv(D) @ gradient.T"
   ]
  },
  {
   "cell_type": "code",
   "execution_count": null,
   "id": "c9f4a4e2",
   "metadata": {},
   "outputs": [],
   "source": []
  },
  {
   "cell_type": "code",
   "execution_count": null,
   "id": "a9e1beb2",
   "metadata": {},
   "outputs": [],
   "source": [
    "(Hit.T @ X * np.linalg.inv(M @ M.T) * X.T * Hit) / (theta * (1 - theta)) # follows Chi-square"
   ]
  }
 ],
 "metadata": {
  "kernelspec": {
   "display_name": "Python 3 (ipykernel)",
   "language": "python",
   "name": "python3"
  },
  "language_info": {
   "codemirror_mode": {
    "name": "ipython",
    "version": 3
   },
   "file_extension": ".py",
   "mimetype": "text/x-python",
   "name": "python",
   "nbconvert_exporter": "python",
   "pygments_lexer": "ipython3",
   "version": "3.9.12"
  }
 },
 "nbformat": 4,
 "nbformat_minor": 5
}
