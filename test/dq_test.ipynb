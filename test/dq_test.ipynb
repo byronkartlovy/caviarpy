{
 "cells": [
  {
   "cell_type": "code",
   "execution_count": null,
   "id": "c3d58fc6",
   "metadata": {},
   "outputs": [],
   "source": [
    "import numpy as np"
   ]
  },
  {
   "cell_type": "code",
   "execution_count": null,
   "id": "4ac7b130",
   "metadata": {},
   "outputs": [],
   "source": [
    "def variance_covariance(beta, model, T, returns, quantile, sigmas):\n",
    "    \"\"\"\n",
    "    Use Manganelli's matlab code as a reference\n",
    "    \n",
    "    :param: beta (np.array)\n",
    "    :param: model (str)\n",
    "    :param: T (int): number of in-sample obs.\n",
    "    :param: returns (np.array): returns\n",
    "    :param: quantile (float)\n",
    "    :param: sigma (np.array): VaR\n",
    "    \"\"\"\n",
    "    # Compute the quantile residuals\n",
    "    residuals = returns - sigmas\n",
    "    \n",
    "    # Set up the bandwidth for the KNN algorithm\n",
    "    sorted_result = np.sort(residuals)\n",
    "    k = 40 if quantile == 0.01 else 60\n",
    "    bandwidth = sorted_result[40]\n",
    "    t = 0\n",
    "    \n",
    "    # initialize vectors\n",
    "    derivative1 = np.zeros((T, 1))\n",
    "    derivative2 = np.zeros((T, 1))\n",
    "    derivative3 = np.zeros((T, 1))\n",
    "    derivative4 = np.zeros((T, 1))\n",
    "    \n",
    "    D = np.zeros(beta.shape[0])\n",
    "    A = D\n",
    "    \n",
    "    if model == 'adaptive':\n",
    "        gradient = np.zeros((T, 1))\n",
    "        pass\n",
    "    elif model == 'asymmetric':\n",
    "        gradient = np.zeros((T, 4))\n",
    "        pass\n",
    "    elif model == 'symmetric':\n",
    "        gradient = np.zeros((T, 3))\n",
    "        \n",
    "        for i in range(1, T):\n",
    "            derivative1[i] = 1 + beta[1] * derivative1[i-1]\n",
    "            derivative2[i] = sigmas[i-1] + beta[1] * derivative2[i-1]\n",
    "            derivative3[i] = beta[1] * derivative3[i-1] + abs(returns[i-1])\n",
    "            \n",
    "            gradient[i, 0] = derivative1[i]\n",
    "            gradient[i, 1] = derivative2[i]\n",
    "            gradient[i, 2] = derivative3[i]\n",
    "            \n",
    "            A = A + gradient[i, :].T @ gradient[i, :] # this one should be a matrix\n",
    "            \n",
    "            if abs(residuals[i]) <= bandwidth:\n",
    "                t += 1\n",
    "                D = D + gradient[i, :].T @ gradient[i, :] # this one should be a matrix\n",
    "                \n",
    "    elif model == 'igarch':\n",
    "        gradient = np.zeros((T, 3))\n",
    "        pass\n",
    "    else:\n",
    "        raise ValueError('Wrong model!')\n",
    "        \n",
    "    t_std_err = t # check the bandwidth\n",
    "    A = A / T\n",
    "    D = D / (2 * bandwidth * T)\n",
    "    \n",
    "    inv_D = np.linalg.inv(D)\n",
    "    vc_matrix = (quantile * (1 - quantile) / T) * (inv_D @ A @ inv_D)\n",
    "    \n",
    "    return vc_matrix, D, gradient"
   ]
  },
  {
   "cell_type": "code",
   "execution_count": null,
   "id": "f014c800",
   "metadata": {},
   "outputs": [],
   "source": [
    "vc_matrix, D, gradient = variance_covariance(beta, model, T, y ,quantile, sigma)"
   ]
  },
  {
   "cell_type": "code",
   "execution_count": null,
   "id": "2a18c258",
   "metadata": {},
   "outputs": [],
   "source": [
    "standard_error = np.sqrt(np.diag(vc_matrix))\n",
    "# coefficient_pval = normcdf(-abs(beta))"
   ]
  },
  {
   "cell_type": "code",
   "execution_count": null,
   "id": "cd3dbcb7",
   "metadata": {},
   "outputs": [],
   "source": []
  },
  {
   "cell_type": "code",
   "execution_count": null,
   "id": "34f0a34b",
   "metadata": {},
   "outputs": [],
   "source": []
  },
  {
   "cell_type": "markdown",
   "id": "7acbc012",
   "metadata": {},
   "source": [
    "Hit'X * inv(MM') * X'Hit / THETA*(1-THETA), where M = X' - inv(T)*(X'*H * grad(f)) * inv(D) * grad(f)'"
   ]
  },
  {
   "cell_type": "code",
   "execution_count": null,
   "id": "d1cc37eb",
   "metadata": {},
   "outputs": [],
   "source": [
    "X = np.zeros((T, p))\n",
    "Hit = np.zeros((T, p))"
   ]
  },
  {
   "cell_type": "code",
   "execution_count": null,
   "id": "380a5d5f",
   "metadata": {},
   "outputs": [],
   "source": [
    "gradient = np.array([])\n",
    "\n",
    "dev = y - y_hat\n",
    "idx = np.where(np.abs(dev) < bandwidth)\n",
    "\n",
    "D = np.sum(gradient[idx] * gradient[idx])\n",
    "D *= 1 / (2 * T * bandwidth)\n",
    "\n",
    "M = X.T - (np.sum(X[idx] * gradient[idx]) / (2 * T * bandwidth)) @ np.linalg.inv(D) @ gradient.T"
   ]
  },
  {
   "cell_type": "code",
   "execution_count": null,
   "id": "c9f4a4e2",
   "metadata": {},
   "outputs": [],
   "source": []
  },
  {
   "cell_type": "code",
   "execution_count": null,
   "id": "a9e1beb2",
   "metadata": {},
   "outputs": [],
   "source": [
    "(Hit.T @ X * np.linalg.inv(M @ M.T) * X.T * Hit) / (theta * (1 - theta)) # follows Chi-square"
   ]
  }
 ],
 "metadata": {
  "kernelspec": {
   "display_name": "Python 3 (ipykernel)",
   "language": "python",
   "name": "python3"
  },
  "language_info": {
   "codemirror_mode": {
    "name": "ipython",
    "version": 3
   },
   "file_extension": ".py",
   "mimetype": "text/x-python",
   "name": "python",
   "nbconvert_exporter": "python",
   "pygments_lexer": "ipython3",
   "version": "3.9.12"
  }
 },
 "nbformat": 4,
 "nbformat_minor": 5
}
