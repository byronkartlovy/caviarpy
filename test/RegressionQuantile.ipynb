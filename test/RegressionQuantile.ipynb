{
 "cells": [
  {
   "cell_type": "code",
   "execution_count": 2,
   "metadata": {},
   "outputs": [],
   "source": [
    "import numpy as np"
   ]
  },
  {
   "cell_type": "code",
   "execution_count": 154,
   "metadata": {},
   "outputs": [],
   "source": [
    "class QuantileRegression:\n",
    "    def __init__(self, theta, size):\n",
    "        self.theta = theta\n",
    "        self.params = np.random.uniform(0, 1, size)\n",
    "        \n",
    "    def fit(self, ):\n",
    "        pass\n",
    "    \n",
    "    def sum_abs_loss(self, y, y_hat, theta):\n",
    "        dev = y - y_hat\n",
    "        return np.sum(np.maximum(theta * dev, (theta - 1) * dev))\n",
    "\n",
    "    def gradient(self, X, y, params, theta):\n",
    "        y_hat = X @ params\n",
    "        print(f'{self.count}/10000:', self.sum_abs_loss(y, y_hat))\n",
    "        \n",
    "        dev = y - y_hat\n",
    "        grads = np.zeros_like(params)\n",
    "        \n",
    "        # this gradient for sum(|y - xb|) only\n",
    "        for i in range(len(grads)):\n",
    "            grads[i] = np.sum(np.where(dev > 0,\n",
    "                                       - theta * np.sign(X[:, i] * params[i]),\n",
    "                                       (1 - theta) * np.sign(X[:, i] * params[i])))\n",
    "        return grads\n",
    "\n",
    "    def gradient_descent(self, X, y, num_iter=10000, learning_rate=0.001):\n",
    "        p = X.shape[1]\n",
    "        self.count = 0\n",
    "\n",
    "        for i in range(num_iter):\n",
    "            grads = gradient(X, y, self.params)\n",
    "            params -= grads * learning_rate\n",
    "            self.count += 1\n",
    "\n",
    "        return params"
   ]
  },
  {
   "cell_type": "code",
   "execution_count": null,
   "metadata": {},
   "outputs": [],
   "source": []
  }
 ],
 "metadata": {
  "kernelspec": {
   "display_name": "Python 3",
   "language": "python",
   "name": "python3"
  },
  "language_info": {
   "codemirror_mode": {
    "name": "ipython",
    "version": 3
   },
   "file_extension": ".py",
   "mimetype": "text/x-python",
   "name": "python",
   "nbconvert_exporter": "python",
   "pygments_lexer": "ipython3",
   "version": "3.8.5"
  }
 },
 "nbformat": 4,
 "nbformat_minor": 4
}
